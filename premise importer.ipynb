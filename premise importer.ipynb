{
 "cells": [
  {
   "cell_type": "code",
   "execution_count": 3,
   "id": "cef22a0e-6e82-4fe0-ac4c-02dd2604a683",
   "metadata": {},
   "outputs": [],
   "source": [
    "import brightway2 as bw\n",
    "import numpy as np\n",
    "from pathlib import Path\n"
   ]
  },
  {
   "cell_type": "code",
   "execution_count": null,
   "id": "60b1c80c-9e17-453a-89c8-6f1adb26aea6",
   "metadata": {},
   "outputs": [],
   "source": [
    "bw.projects.delete_project(\"moeschpond1\", delete_dir=True)"
   ]
  },
  {
   "cell_type": "code",
   "execution_count": 6,
   "id": "c6668fa3-0f29-4977-ad3b-57b85eadc3d9",
   "metadata": {},
   "outputs": [
    {
     "name": "stdout",
     "output_type": "stream",
     "text": [
      "Restoring project backup archive - this could take a few minutes...\n"
     ]
    }
   ],
   "source": [
    "\n",
    "# if 'ei38-teaching-25' not in bd.projects:\n",
    "    # bi.restore_project_directory(\"/srv/data/projects/ecoinvent38-25.tar.gz\")\n",
    "# bd.projects.delete_project(\"moeschpond1\", delete_dir=True)\n",
    "if 'moeschpond1' not in bw.projects:    \n",
    "    premise_path = \"/srv/scratch/u.2/brightway2-project-moeschpond1-backup.27-October-2022-12-53PM.tar.gz\"\n",
    "    bw.restore_project_directory(premise_path)\n",
    "bw.projects.set_current('moeschpond1')\n",
    "# bd.projects.set_current('ei38-teaching-25')\n"
   ]
  },
  {
   "cell_type": "code",
   "execution_count": 5,
   "id": "3dccedfc-12fb-4edb-893b-3c2bd502b070",
   "metadata": {},
   "outputs": [
    {
     "data": {
      "text/plain": [
       "'default'"
      ]
     },
     "execution_count": 5,
     "metadata": {},
     "output_type": "execute_result"
    }
   ],
   "source": []
  },
  {
   "cell_type": "code",
   "execution_count": 7,
   "id": "654ecd1e-2c5d-408c-9035-8731e16aafc9",
   "metadata": {},
   "outputs": [
    {
     "data": {
      "text/plain": [
       "Databases dictionary with 10 object(s):\n",
       "\tEI 3.8 cutoff image SSP2-Base 2050\n",
       "\tEI 3.8 cutoff image SSP2-RCP19 2050\n",
       "\tEI 3.8 cutoff image SSP2-RCP26 2050\n",
       "\tEI 3.8 cutoff remind SSP2-Base 2050\n",
       "\tEI 3.8 cutoff remind SSP2-PkBudg1150 2050\n",
       "\tEI 3.8 cutoff remind SSP2-PkBudg500 2050\n",
       "\tbiosphere3\n",
       "\tei 3.8 cutoff\n",
       "\tsuper_db_2022-10-26\n",
       "\tsuper_db_2022-10-27"
      ]
     },
     "execution_count": 7,
     "metadata": {},
     "output_type": "execute_result"
    }
   ],
   "source": [
    "bw.projects.set_current('moeschpond1')\n",
    "bw.databases"
   ]
  },
  {
   "cell_type": "code",
   "execution_count": 6,
   "id": "727b0795-c36a-40d4-8a9b-9103e10b1706",
   "metadata": {},
   "outputs": [
    {
     "data": {
      "text/plain": [
       "'default'"
      ]
     },
     "execution_count": 6,
     "metadata": {},
     "output_type": "execute_result"
    }
   ],
   "source": [
    "bw.projects.current"
   ]
  },
  {
   "cell_type": "code",
   "execution_count": null,
   "id": "a9d3e7ef-9404-46d3-911f-3dfb75ed0de9",
   "metadata": {},
   "outputs": [],
   "source": []
  }
 ],
 "metadata": {
  "kernelspec": {
   "display_name": "Python [conda env:bw]",
   "language": "python",
   "name": "conda-env-bw-py"
  },
  "language_info": {
   "codemirror_mode": {
    "name": "ipython",
    "version": 3
   },
   "file_extension": ".py",
   "mimetype": "text/x-python",
   "name": "python",
   "nbconvert_exporter": "python",
   "pygments_lexer": "ipython3",
   "version": "3.10.6"
  }
 },
 "nbformat": 4,
 "nbformat_minor": 5
}
