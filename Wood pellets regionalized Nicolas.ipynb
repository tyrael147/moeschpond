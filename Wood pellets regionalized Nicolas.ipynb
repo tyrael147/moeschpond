{
 "cells": [
  {
   "cell_type": "code",
   "execution_count": 1,
   "id": "71fca2ae-a851-4ff6-9c72-07c845dc3fdf",
   "metadata": {},
   "outputs": [],
   "source": [
    "import bw2data as bd\n",
    "import bw2calc as bc\n",
    "import bw2io as bi\n",
    "import bw_processing as bwp\n",
    "import bw2analyzer as ba\n",
    "import numpy as np"
   ]
  },
  {
   "cell_type": "code",
   "execution_count": 2,
   "id": "16627ef2-0b3f-46a5-84ad-5af3c4d95f4e",
   "metadata": {},
   "outputs": [
    {
     "name": "stdout",
     "output_type": "stream",
     "text": [
      "Restoring project backup archive - this could take a few minutes...\n"
     ]
    },
    {
     "data": {
      "text/plain": [
       "'ei38-teaching-25'"
      ]
     },
     "execution_count": 2,
     "metadata": {},
     "output_type": "execute_result"
    }
   ],
   "source": [
    "bi.restore_project_directory(\"/srv/data/projects/ecoinvent38-25.tar.gz\")"
   ]
  },
  {
   "cell_type": "code",
   "execution_count": 3,
   "id": "71736820-8b21-4382-80b0-e5a8e682c5cc",
   "metadata": {},
   "outputs": [],
   "source": [
    "bd.projects.set_current('ei38-teaching-25')"
   ]
  },
  {
   "cell_type": "code",
   "execution_count": 4,
   "id": "27c7262a-3e13-442c-b1bf-d31b128fbbff",
   "metadata": {},
   "outputs": [
    {
     "data": {
      "text/plain": [
       "Databases dictionary with 2 object(s):\n",
       "\tbiosphere3\n",
       "\tei 3.8 cutoff"
      ]
     },
     "execution_count": 4,
     "metadata": {},
     "output_type": "execute_result"
    }
   ],
   "source": [
    "bd.databases"
   ]
  },
  {
   "cell_type": "code",
   "execution_count": 7,
   "id": "296c7ead-66ff-4870-81c1-51b3f376f87b",
   "metadata": {},
   "outputs": [],
   "source": [
    "wood_pellets_heat = bd.get_node(database=\"ei 3.8 cutoff\", name='wood pellets, burned in stirling heat and power co-generation unit, 3kW electrical, future', unit='megajoule')"
   ]
  },
  {
   "cell_type": "code",
   "execution_count": 8,
   "id": "4d0abe56-faa3-4427-8f8d-dbf25465f0db",
   "metadata": {},
   "outputs": [],
   "source": [
    "ipcc = ('IPCC 2013', 'climate change', 'GWP 100a')"
   ]
  },
  {
   "cell_type": "code",
   "execution_count": 9,
   "id": "31b29392-33f4-4a0d-a2bc-4ecc4bc79549",
   "metadata": {},
   "outputs": [],
   "source": [
    "wood_pellets_market = bd.get_node(database=\"ei 3.8 cutoff\", name = \"market for wood pellet, measured as dry mass\", location = \"RER\")"
   ]
  },
  {
   "cell_type": "code",
   "execution_count": 10,
   "id": "65fbdea4-b273-4191-af2b-fd24186bc1d4",
   "metadata": {},
   "outputs": [],
   "source": [
    "wood_pellets_prod_RER = bd.get_node(database=\"ei 3.8 cutoff\", name = \"wood pellet production\", location = \"RER\")"
   ]
  },
  {
   "cell_type": "code",
   "execution_count": 11,
   "id": "0a8bc3b2-73a6-4a1c-90e2-05ba341998d9",
   "metadata": {},
   "outputs": [],
   "source": [
    "if \"Regionalized pellets\" in bd.databases:\n",
    "    del bd.databases[\"Regionalized pellets\"]"
   ]
  },
  {
   "cell_type": "code",
   "execution_count": 12,
   "id": "de1d3f7b-56f8-4961-9548-984945c32da8",
   "metadata": {},
   "outputs": [],
   "source": [
    "DB_pellets = bd.Database(\"Regionalized pellets\", backend = \"iotable\")"
   ]
  },
  {
   "cell_type": "code",
   "execution_count": 13,
   "id": "7e153beb-2fdb-4bd4-96ad-f4db4060216f",
   "metadata": {},
   "outputs": [],
   "source": [
    "DB_pellets.write({})"
   ]
  },
  {
   "cell_type": "code",
   "execution_count": 14,
   "id": "07e2163a-cda1-4120-9bd1-ca5477b98d5e",
   "metadata": {},
   "outputs": [
    {
     "data": {
      "text/plain": [
       "Databases dictionary with 3 object(s):\n",
       "\tRegionalized pellets\n",
       "\tbiosphere3\n",
       "\tei 3.8 cutoff"
      ]
     },
     "execution_count": 14,
     "metadata": {},
     "output_type": "execute_result"
    }
   ],
   "source": [
    "bd.databases"
   ]
  },
  {
   "cell_type": "code",
   "execution_count": 15,
   "id": "a6a08de9-c5e1-42e6-801c-84a8428a67e5",
   "metadata": {},
   "outputs": [],
   "source": [
    "new_wood_pellets_heat = DB_pellets.new_node(code=\"pellets-heat\", name=\"wood pellets, burned in stirling heat and power co-generation unit, 3kW electrical, future - regionalized\", location=\"CH\", unit=\"megajoule\")\n",
    "new_wood_pellets_heat.save()"
   ]
  },
  {
   "cell_type": "code",
   "execution_count": 16,
   "id": "745c2d6d-90b4-46c4-9a6a-ef2873c4249d",
   "metadata": {},
   "outputs": [],
   "source": [
    "new_wood_pellets_market = DB_pellets.new_node(code=\"pellets-market\", name=\"market for wood pellet, measured as dry mass\", location=\"CH\", unit=\"kilogram\")\n",
    "new_wood_pellets_market.save()"
   ]
  },
  {
   "cell_type": "code",
   "execution_count": 17,
   "id": "2e9d60a4-422e-4b4e-b54e-08f1d9974689",
   "metadata": {},
   "outputs": [],
   "source": [
    "new_pellets_prod = DB_pellets.new_node(code=\"pellets-prod\", name=\"wood pellet production\", location=\"CH\", unit=\"kilogram\")\n",
    "new_pellets_prod.save()"
   ]
  },
  {
   "cell_type": "code",
   "execution_count": 19,
   "id": "951db5c1-0e13-4eb1-8447-5bd6d21bdff2",
   "metadata": {},
   "outputs": [],
   "source": [
    "from collections import defaultdict\n",
    "\n",
    "new_pellets_tech = defaultdict(float)\n",
    "\n",
    "for exc in wood_pellets_prod_RER.technosphere():\n",
    "    new_pellets_tech[bd.get_node(\n",
    "        database = \"ei 3.8 cutoff\",\n",
    "        name = exc.input['name'],\n",
    "        location = exc.input['location']\n",
    "    )] += exc['amount']"
   ]
  },
  {
   "cell_type": "code",
   "execution_count": 20,
   "id": "27b9ac34-cec7-4f14-9ecd-22889a5f1b06",
   "metadata": {},
   "outputs": [],
   "source": [
    "tech_edges = [\n",
    "    {\"row\": new_wood_pellets_heat.id, \"col\": new_wood_pellets_heat.id, \"amount\":1},\n",
    "    {\"row\": wood_pellets_heat.id, \"col\": new_wood_pellets_heat.id, \"amount\":1, \"flip\":True},\n",
    "    {\"row\": new_wood_pellets_market.id, \"col\": new_wood_pellets_heat.id, \"amount\":0.0229911254795743, \"flip\":True},\n",
    "    {\"row\": wood_pellets_market.id, \"col\": new_wood_pellets_heat.id, \"amount\": 0.0229911254795743},\n",
    "] + [\n",
    "    {\"row\": new_wood_pellets_market.id, \"col\": new_wood_pellets_market.id, \"amount\":1},\n",
    "    {\"row\": wood_pellets_market.id, \"col\": new_wood_pellets_market.id, \"amount\":1, \"flip\":True},\n",
    "    {\"row\": new_pellets_prod.id, \"col\": new_wood_pellets_market.id, \"amount\": 1, \"flip\":True},\n",
    "    {\"row\": wood_pellets_prod_RER.id, \"col\": new_wood_pellets_market.id, \"amount\": 1},\n",
    "] + [\n",
    "    {\"row\": new_pellets_prod.id, \"col\": new_pellets_prod.id, \"amount\": 1},\n",
    "    {\"row\": wood_pellets_prod_RER.id, \"col\": new_pellets_prod.id, \"amount\": 1, \"flip\":True},\n",
    "    {\n",
    "        \"row\": bd.get_activity(\n",
    "            database=\"ei 3.8 cutoff\", \n",
    "            name='market group for electricity, medium voltage',\n",
    "            location='RER'\n",
    "        ).id, \n",
    "        \"col\": new_pellets_prod.id, \n",
    "        \"amount\": 0.096\n",
    "    },\n",
    "] + [\n",
    "    {\"row\": key.id, \"col\": new_pellets_prod.id, \"amount\": value}\n",
    "    for key, value in new_pellets_tech.items() if key['location']==\"Europe without Switzerland\"\n",
    "] + [\n",
    "    {\n",
    "        \"row\": bd.get_activity(\n",
    "            database=\"ei 3.8 cutoff\", \n",
    "            name='market for electricity, medium voltage',\n",
    "            location='CH'\n",
    "        ).id, \n",
    "        \"col\": new_pellets_prod.id, \n",
    "        \"amount\": 0.096,\n",
    "        \"flip\":True\n",
    "    },\n",
    "] + [\n",
    "    {\"row\": bd.get_activity(database=\"ei 3.8 cutoff\", name=key['name'], location=\"CH\").id, \n",
    "      \"col\": new_pellets_prod.id, \"amount\": value, \"flip\":True}\n",
    "    for key, value in new_pellets_tech.items() if key['location']==\"Europe without Switzerland\"\n",
    "\n",
    "]"
   ]
  },
  {
   "cell_type": "code",
   "execution_count": 21,
   "id": "5ed932c7-a9f9-442b-9b73-7af258d3c1cb",
   "metadata": {},
   "outputs": [
    {
     "name": "stdout",
     "output_type": "stream",
     "text": [
      "Starting IO table write\n",
      "Adding technosphere matrix\n",
      "Adding biosphere matrix\n",
      "Finalizing serialization\n"
     ]
    }
   ],
   "source": [
    "DB_pellets.write_exchanges(tech_edges, [], [\"ei 3.8 cutoff\"])"
   ]
  },
  {
   "cell_type": "code",
   "execution_count": 22,
   "id": "1b564a0c-0705-4458-a59a-95dbf99e1cf2",
   "metadata": {},
   "outputs": [],
   "source": [
    "wood_pellets_heat.new_edge(input=new_wood_pellets_heat, amount=0, type=\"technosphere\").save()"
   ]
  },
  {
   "cell_type": "code",
   "execution_count": 23,
   "id": "ebe23643-58d5-4392-ba6a-d6b834cf5766",
   "metadata": {},
   "outputs": [],
   "source": [
    "_, data_objs, _ = bd.prepare_lca_inputs({wood_pellets_heat: 1}, ipcc)"
   ]
  },
  {
   "cell_type": "code",
   "execution_count": 24,
   "id": "3b2de655-46c9-45c1-9e05-4fe3cefbe7f8",
   "metadata": {},
   "outputs": [
    {
     "data": {
      "text/plain": [
       "0.004655632602942414"
      ]
     },
     "execution_count": 24,
     "metadata": {},
     "output_type": "execute_result"
    }
   ],
   "source": [
    "lca = bc.LCA({wood_pellets_heat.id: 1}, data_objs=data_objs)\n",
    "lca.lci()\n",
    "lca.lcia()\n",
    "lca.score"
   ]
  },
  {
   "cell_type": "code",
   "execution_count": 25,
   "id": "ee2baead-fb1b-4353-bbf2-b42372385f76",
   "metadata": {},
   "outputs": [
    {
     "data": {
      "text/plain": [
       "0.003645551616133234"
      ]
     },
     "execution_count": 25,
     "metadata": {},
     "output_type": "execute_result"
    }
   ],
   "source": [
    "lca.lcia({new_wood_pellets_heat.id: 1})\n",
    "lca.score"
   ]
  },
  {
   "cell_type": "code",
   "execution_count": null,
   "id": "2bdde6ff-7acb-4f66-a1e7-e58ad66c7790",
   "metadata": {},
   "outputs": [],
   "source": []
  }
 ],
 "metadata": {
  "kernelspec": {
   "display_name": "Python [conda env:bw25]",
   "language": "python",
   "name": "conda-env-bw25-py"
  },
  "language_info": {
   "codemirror_mode": {
    "name": "ipython",
    "version": 3
   },
   "file_extension": ".py",
   "mimetype": "text/x-python",
   "name": "python",
   "nbconvert_exporter": "python",
   "pygments_lexer": "ipython3",
   "version": "3.10.6"
  }
 },
 "nbformat": 4,
 "nbformat_minor": 5
}
