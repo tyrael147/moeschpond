{
 "cells": [
  {
   "cell_type": "markdown",
   "id": "5f128ce5-5f1a-4e5c-aa35-762e3f874046",
   "metadata": {},
   "source": [
    "# Model builder\n",
    "## Life Cycle Assessment of ``{Operational Energy Moerschberg for 1 year: 1}``\n",
    "###[CONTEXT]\n",
    "The model relies on datapackages to ensure replicability of the calculation.\n"
   ]
  },
  {
   "cell_type": "code",
   "execution_count": null,
   "id": "f3cb0d20-9543-482a-a7d7-c0ac2222de82",
   "metadata": {},
   "outputs": [],
   "source": [
    "# \"combinatorial\"\n",
    "# \"sequential\""
   ]
  },
  {
   "cell_type": "code",
   "execution_count": 146,
   "id": "57462c24-dee0-47d9-8f2d-a3006e9f242d",
   "metadata": {},
   "outputs": [
    {
     "data": {
      "text/plain": [
       "'default'"
      ]
     },
     "execution_count": 146,
     "metadata": {},
     "output_type": "execute_result"
    }
   ],
   "source": [
    "###Uncomment to restore everything\n",
    "\n",
    "# bd.projects.delete_project('ei38-teaching-25', delete_dir=True)"
   ]
  },
  {
   "cell_type": "code",
   "execution_count": 6,
   "id": "7e22fc51-9461-4602-925d-dd285769602a",
   "metadata": {},
   "outputs": [
    {
     "name": "stdout",
     "output_type": "stream",
     "text": [
      "Restoring project backup archive - this could take a few minutes...\n"
     ]
    }
   ],
   "source": [
    "import bw2data as bd\n",
    "import bw2calc as bc\n",
    "import bw2io as bi\n",
    "import bw_processing as bwp\n",
    "import numpy as np\n",
    "from pathlib import Path\n",
    "\n",
    "\n",
    "# if 'ei38-teaching-25' not in bd.projects:\n",
    "    # bi.restore_project_directory(\"/srv/data/projects/ecoinvent38-25.tar.gz\")\n",
    "# bd.projects.delete_project(\"moeschpond1\", delete_dir=True)\n",
    "if 'moeschpond1' not in bd.projects:    \n",
    "    premise_path = \"/srv/scratch/u.2/brightway2-project-moeschpond1-backup.27-October-2022-12-53PM.tar.gz\"\n",
    "    bi.restore_project_directory(premise_path)\n",
    "bd.projects.set_current('moeschpond1')\n",
    "# bd.projects.set_current('ei38-teaching-25')\n"
   ]
  },
  {
   "cell_type": "code",
   "execution_count": 8,
   "id": "a860b466-7e06-4a65-a4a6-b24d476de79e",
   "metadata": {},
   "outputs": [
    {
     "data": {
      "text/plain": [
       "'moeschpond1'"
      ]
     },
     "execution_count": 8,
     "metadata": {},
     "output_type": "execute_result"
    }
   ],
   "source": [
    "bd.projects.current"
   ]
  },
  {
   "cell_type": "code",
   "execution_count": 363,
   "id": "603d5dee-160b-4f30-a0c7-ebb210ff0293",
   "metadata": {},
   "outputs": [
    {
     "data": {
      "text/plain": [
       "'default'"
      ]
     },
     "execution_count": 363,
     "metadata": {},
     "output_type": "execute_result"
    }
   ],
   "source": [
    "# bd.projects.delete_project(\"ei38-teaching-25\")"
   ]
  },
  {
   "cell_type": "code",
   "execution_count": 7,
   "id": "70bf5428-1c20-4cc6-801c-fede8a3c6eca",
   "metadata": {
    "tags": []
   },
   "outputs": [
    {
     "data": {
      "text/plain": [
       "Databases dictionary with 0 objects"
      ]
     },
     "execution_count": 7,
     "metadata": {},
     "output_type": "execute_result"
    }
   ],
   "source": [
    "bd.databases"
   ]
  },
  {
   "cell_type": "code",
   "execution_count": null,
   "id": "e24ca6a7-d866-47fe-ae57-d96028ef967e",
   "metadata": {},
   "outputs": [],
   "source": []
  },
  {
   "cell_type": "code",
   "execution_count": 366,
   "id": "35105b06-6eff-4bcc-b45c-ce3e0219fbdd",
   "metadata": {
    "tags": []
   },
   "outputs": [
    {
     "name": "stdout",
     "output_type": "stream",
     "text": [
      "Extracted 1 worksheets in 0.01 seconds\n",
      "Applying strategy: csv_restore_tuples\n",
      "Applying strategy: csv_restore_booleans\n",
      "Applying strategy: csv_numerize\n",
      "Applying strategy: csv_drop_unknown\n",
      "Applying strategy: csv_add_missing_exchanges_section\n",
      "Applying strategy: normalize_units\n",
      "Applying strategy: normalize_biosphere_categories\n",
      "Applying strategy: normalize_biosphere_names\n",
      "Applying strategy: strip_biosphere_exc_locations\n",
      "Applying strategy: set_code_by_activity_hash\n",
      "Applying strategy: link_iterable_by_fields\n",
      "Applying strategy: assign_only_product_as_production\n",
      "Applying strategy: link_technosphere_by_activity_hash\n",
      "Applying strategy: drop_falsey_uncertainty_fields_but_keep_zeros\n",
      "Applying strategy: convert_uncertainty_types_to_integers\n",
      "Applying strategy: convert_activity_parameters_to_list\n",
      "Applied 16 strategies in 7.64 seconds\n",
      "Applying strategy: link_iterable_by_fields\n",
      "Applying strategy: link_iterable_by_fields\n",
      "5 datasets\n",
      "18 exchanges\n",
      "0 unlinked exchanges\n",
      "  \n",
      "Warning: No valid output stream.\n",
      "Title: Writing activities to SQLite3 database:\n",
      "  Started: 10/27/2022 16:17:09\n",
      "  Finished: 10/27/2022 16:17:09\n",
      "  Total time elapsed: 00:00:00\n",
      "  CPU %: 0.00\n",
      "  Memory %: 0.62\n",
      "Created database: energy_moeschberg\n"
     ]
    }
   ],
   "source": [
    "# if \"foreground\" in bd.databases:\n",
    "#     del bd.databases[\"foreground\"]\n",
    "    \n",
    "foreground_importer = bi.ExcelImporter(\"./data/inputs/lci_moeschberg.xlsx\")\n",
    "# for act in foreground_importer.data:\n",
    "#     # print(act[\"name\"])\n",
    "#     for exc in act[\"exchanges\"]:\n",
    "#         if \"classifications\" in exc:\n",
    "#             exc.pop(\"classifications\")\n",
    "#         if \"properties\" in exc:\n",
    "#             exc.pop(\"properties\")   \n",
    "foreground_importer.apply_strategies()\n",
    "foreground_importer.match_database(\"biosphere3\", fields=(\"name\", \"unit\", \"categories\"))\n",
    "foreground_importer.match_database(\"ei 3.8 cutoff\", fields=(\"name\", \"unit\", \"location\"))\n",
    "foreground_importer.statistics()\n",
    "foreground_importer.write_database()"
   ]
  },
  {
   "cell_type": "code",
   "execution_count": 4,
   "id": "84f7e120-6cdc-4063-b599-69732eb92995",
   "metadata": {
    "tags": []
   },
   "outputs": [
    {
     "name": "stdout",
     "output_type": "stream",
     "text": [
      "Extracted 3 worksheets in 0.05 seconds\n",
      "Applying strategy: csv_restore_tuples\n",
      "Applying strategy: csv_restore_booleans\n",
      "Applying strategy: csv_numerize\n",
      "Applying strategy: csv_drop_unknown\n",
      "Applying strategy: csv_add_missing_exchanges_section\n",
      "Applying strategy: normalize_units\n",
      "Applying strategy: normalize_biosphere_categories\n",
      "Applying strategy: normalize_biosphere_names\n",
      "Applying strategy: strip_biosphere_exc_locations\n",
      "Applying strategy: set_code_by_activity_hash\n",
      "Applying strategy: link_iterable_by_fields\n",
      "Applying strategy: assign_only_product_as_production\n",
      "Applying strategy: link_technosphere_by_activity_hash\n",
      "Applying strategy: drop_falsey_uncertainty_fields_but_keep_zeros\n",
      "Applying strategy: convert_uncertainty_types_to_integers\n",
      "Applying strategy: convert_activity_parameters_to_list\n",
      "Applied 16 strategies in 6.97 seconds\n",
      "Applying strategy: link_iterable_by_fields\n",
      "Applying strategy: link_iterable_by_fields\n",
      "24 datasets\n",
      "426 exchanges\n",
      "11 unlinked exchanges\n",
      "  Type technosphere: 7 unique unlinked exchanges\n",
      "Not able to determine geocollections for all datasets. This database is not ready for regionalization.\n",
      "Warning: No valid output stream.\n"
     ]
    },
    {
     "ename": "InvalidExchange",
     "evalue": "",
     "output_type": "error",
     "traceback": [
      "\u001b[0;31m---------------------------------------------------------------------------\u001b[0m",
      "\u001b[0;31mInvalidExchange\u001b[0m                           Traceback (most recent call last)",
      "Cell \u001b[0;32mIn [4], line 13\u001b[0m\n\u001b[1;32m     11\u001b[0m foreground_importer\u001b[38;5;241m.\u001b[39mmatch_database(\u001b[38;5;124m\"\u001b[39m\u001b[38;5;124mei 3.8 cutoff\u001b[39m\u001b[38;5;124m\"\u001b[39m, fields\u001b[38;5;241m=\u001b[39m(\u001b[38;5;124m\"\u001b[39m\u001b[38;5;124mname\u001b[39m\u001b[38;5;124m\"\u001b[39m, \u001b[38;5;124m\"\u001b[39m\u001b[38;5;124munit\u001b[39m\u001b[38;5;124m\"\u001b[39m, \u001b[38;5;124m\"\u001b[39m\u001b[38;5;124mlocation\u001b[39m\u001b[38;5;124m\"\u001b[39m))\n\u001b[1;32m     12\u001b[0m foreground_importer\u001b[38;5;241m.\u001b[39mstatistics()\n\u001b[0;32m---> 13\u001b[0m foreground_importer\u001b[38;5;241m.\u001b[39mwrite_database()\n",
      "File \u001b[0;32m/opt/tljh/user/envs/bw25/lib/python3.10/site-packages/bw2io/importers/excel.py:283\u001b[0m, in \u001b[0;36mExcelImporter.write_database\u001b[0;34m(self, **kwargs)\u001b[0m\n\u001b[1;32m    281\u001b[0m \u001b[38;5;124;03m\"\"\"Same as base ``write_database`` method, but ``activate_parameters`` is True by default.\"\"\"\u001b[39;00m\n\u001b[1;32m    282\u001b[0m kwargs[\u001b[38;5;124m\"\u001b[39m\u001b[38;5;124mactivate_parameters\u001b[39m\u001b[38;5;124m\"\u001b[39m] \u001b[38;5;241m=\u001b[39m kwargs\u001b[38;5;241m.\u001b[39mget(\u001b[38;5;124m\"\u001b[39m\u001b[38;5;124mactivate_parameters\u001b[39m\u001b[38;5;124m\"\u001b[39m, \u001b[38;5;28;01mTrue\u001b[39;00m)\n\u001b[0;32m--> 283\u001b[0m \u001b[38;5;28;43msuper\u001b[39;49m\u001b[43m(\u001b[49m\u001b[43mExcelImporter\u001b[49m\u001b[43m,\u001b[49m\u001b[43m \u001b[49m\u001b[38;5;28;43mself\u001b[39;49m\u001b[43m)\u001b[49m\u001b[38;5;241;43m.\u001b[39;49m\u001b[43mwrite_database\u001b[49m\u001b[43m(\u001b[49m\u001b[38;5;241;43m*\u001b[39;49m\u001b[38;5;241;43m*\u001b[39;49m\u001b[43mkwargs\u001b[49m\u001b[43m)\u001b[49m\n",
      "File \u001b[0;32m/opt/tljh/user/envs/bw25/lib/python3.10/site-packages/bw2io/importers/base_lci.py:276\u001b[0m, in \u001b[0;36mLCIImporter.write_database\u001b[0;34m(self, data, delete_existing, backend, activate_parameters, db_name, **kwargs)\u001b[0m\n\u001b[1;32m    273\u001b[0m \u001b[38;5;28mself\u001b[39m\u001b[38;5;241m.\u001b[39mwrite_database_parameters(activate_parameters, delete_existing)\n\u001b[1;32m    275\u001b[0m existing\u001b[38;5;241m.\u001b[39mupdate(data)\n\u001b[0;32m--> 276\u001b[0m \u001b[43mdb\u001b[49m\u001b[38;5;241;43m.\u001b[39;49m\u001b[43mwrite\u001b[49m\u001b[43m(\u001b[49m\u001b[43mexisting\u001b[49m\u001b[43m)\u001b[49m\n\u001b[1;32m    278\u001b[0m \u001b[38;5;28;01mif\u001b[39;00m activate_parameters:\n\u001b[1;32m    279\u001b[0m     \u001b[38;5;28mself\u001b[39m\u001b[38;5;241m.\u001b[39m_write_activity_parameters(activity_parameters)\n",
      "File \u001b[0;32m/opt/tljh/user/envs/bw25/lib/python3.10/site-packages/bw2data/project.py:446\u001b[0m, in \u001b[0;36mwritable_project\u001b[0;34m(wrapped, instance, args, kwargs)\u001b[0m\n\u001b[1;32m    444\u001b[0m \u001b[38;5;28;01mif\u001b[39;00m projects\u001b[38;5;241m.\u001b[39mread_only:\n\u001b[1;32m    445\u001b[0m     \u001b[38;5;28;01mraise\u001b[39;00m ReadOnlyProject(READ_ONLY_PROJECT)\n\u001b[0;32m--> 446\u001b[0m \u001b[38;5;28;01mreturn\u001b[39;00m \u001b[43mwrapped\u001b[49m\u001b[43m(\u001b[49m\u001b[38;5;241;43m*\u001b[39;49m\u001b[43margs\u001b[49m\u001b[43m,\u001b[49m\u001b[43m \u001b[49m\u001b[38;5;241;43m*\u001b[39;49m\u001b[38;5;241;43m*\u001b[39;49m\u001b[43mkwargs\u001b[49m\u001b[43m)\u001b[49m\n",
      "File \u001b[0;32m/opt/tljh/user/envs/bw25/lib/python3.10/site-packages/bw2data/backends/base.py:524\u001b[0m, in \u001b[0;36mSQLiteBackend.write\u001b[0;34m(self, data, process)\u001b[0m\n\u001b[1;32m    522\u001b[0m \u001b[38;5;28;01mif\u001b[39;00m data:\n\u001b[1;32m    523\u001b[0m     \u001b[38;5;28;01mtry\u001b[39;00m:\n\u001b[0;32m--> 524\u001b[0m         \u001b[38;5;28;43mself\u001b[39;49m\u001b[38;5;241;43m.\u001b[39;49m\u001b[43m_efficient_write_many_data\u001b[49m\u001b[43m(\u001b[49m\u001b[43mdata\u001b[49m\u001b[43m)\u001b[49m\n\u001b[1;32m    525\u001b[0m     \u001b[38;5;28;01mexcept\u001b[39;00m:\n\u001b[1;32m    526\u001b[0m         \u001b[38;5;66;03m# Purge all data from database, then reraise\u001b[39;00m\n\u001b[1;32m    527\u001b[0m         \u001b[38;5;28mself\u001b[39m\u001b[38;5;241m.\u001b[39mdelete(warn\u001b[38;5;241m=\u001b[39m\u001b[38;5;28;01mFalse\u001b[39;00m)\n",
      "File \u001b[0;32m/opt/tljh/user/envs/bw25/lib/python3.10/site-packages/bw2data/backends/base.py:461\u001b[0m, in \u001b[0;36mSQLiteBackend._efficient_write_many_data\u001b[0;34m(self, data, indices)\u001b[0m\n\u001b[1;32m    454\u001b[0m     \u001b[38;5;28mself\u001b[39m\u001b[38;5;241m.\u001b[39mpbar \u001b[38;5;241m=\u001b[39m pyprind\u001b[38;5;241m.\u001b[39mProgBar(\n\u001b[1;32m    455\u001b[0m         \u001b[38;5;28mlen\u001b[39m(data),\n\u001b[1;32m    456\u001b[0m         title\u001b[38;5;241m=\u001b[39m\u001b[38;5;124m\"\u001b[39m\u001b[38;5;124mWriting activities to SQLite3 database:\u001b[39m\u001b[38;5;124m\"\u001b[39m,\n\u001b[1;32m    457\u001b[0m         monitor\u001b[38;5;241m=\u001b[39m\u001b[38;5;28;01mTrue\u001b[39;00m,\n\u001b[1;32m    458\u001b[0m     )\n\u001b[1;32m    460\u001b[0m \u001b[38;5;28;01mfor\u001b[39;00m index, (key, ds) \u001b[38;5;129;01min\u001b[39;00m \u001b[38;5;28menumerate\u001b[39m(data\u001b[38;5;241m.\u001b[39mitems()):\n\u001b[0;32m--> 461\u001b[0m     exchanges, activities \u001b[38;5;241m=\u001b[39m \u001b[38;5;28;43mself\u001b[39;49m\u001b[38;5;241;43m.\u001b[39;49m\u001b[43m_efficient_write_dataset\u001b[49m\u001b[43m(\u001b[49m\n\u001b[1;32m    462\u001b[0m \u001b[43m        \u001b[49m\u001b[43mindex\u001b[49m\u001b[43m,\u001b[49m\u001b[43m \u001b[49m\u001b[43mkey\u001b[49m\u001b[43m,\u001b[49m\u001b[43m \u001b[49m\u001b[43mds\u001b[49m\u001b[43m,\u001b[49m\u001b[43m \u001b[49m\u001b[43mexchanges\u001b[49m\u001b[43m,\u001b[49m\u001b[43m \u001b[49m\u001b[43mactivities\u001b[49m\n\u001b[1;32m    463\u001b[0m \u001b[43m    \u001b[49m\u001b[43m)\u001b[49m\n\u001b[1;32m    465\u001b[0m \u001b[38;5;28;01mif\u001b[39;00m \u001b[38;5;129;01mnot\u001b[39;00m \u001b[38;5;28mgetattr\u001b[39m(config, \u001b[38;5;124m\"\u001b[39m\u001b[38;5;124mis_test\u001b[39m\u001b[38;5;124m\"\u001b[39m, \u001b[38;5;28;01mNone\u001b[39;00m):\n\u001b[1;32m    466\u001b[0m     \u001b[38;5;28mprint\u001b[39m(\u001b[38;5;28mself\u001b[39m\u001b[38;5;241m.\u001b[39mpbar)\n",
      "File \u001b[0;32m/opt/tljh/user/envs/bw25/lib/python3.10/site-packages/bw2data/backends/base.py:413\u001b[0m, in \u001b[0;36mSQLiteBackend._efficient_write_dataset\u001b[0;34m(self, index, key, ds, exchanges, activities)\u001b[0m\n\u001b[1;32m    411\u001b[0m \u001b[38;5;28;01mfor\u001b[39;00m exchange \u001b[38;5;129;01min\u001b[39;00m ds\u001b[38;5;241m.\u001b[39mget(\u001b[38;5;124m\"\u001b[39m\u001b[38;5;124mexchanges\u001b[39m\u001b[38;5;124m\"\u001b[39m, []):\n\u001b[1;32m    412\u001b[0m     \u001b[38;5;28;01mif\u001b[39;00m \u001b[38;5;124m\"\u001b[39m\u001b[38;5;124minput\u001b[39m\u001b[38;5;124m\"\u001b[39m \u001b[38;5;129;01mnot\u001b[39;00m \u001b[38;5;129;01min\u001b[39;00m exchange \u001b[38;5;129;01mor\u001b[39;00m \u001b[38;5;124m\"\u001b[39m\u001b[38;5;124mamount\u001b[39m\u001b[38;5;124m\"\u001b[39m \u001b[38;5;129;01mnot\u001b[39;00m \u001b[38;5;129;01min\u001b[39;00m exchange:\n\u001b[0;32m--> 413\u001b[0m         \u001b[38;5;28;01mraise\u001b[39;00m InvalidExchange\n\u001b[1;32m    414\u001b[0m     \u001b[38;5;28;01mif\u001b[39;00m \u001b[38;5;124m\"\u001b[39m\u001b[38;5;124mtype\u001b[39m\u001b[38;5;124m\"\u001b[39m \u001b[38;5;129;01mnot\u001b[39;00m \u001b[38;5;129;01min\u001b[39;00m exchange:\n\u001b[1;32m    415\u001b[0m         \u001b[38;5;28;01mraise\u001b[39;00m UntypedExchange\n",
      "\u001b[0;31mInvalidExchange\u001b[0m: "
     ]
    }
   ],
   "source": [
    "\n",
    "    \n",
    "foreground_importer = bi.ExcelImporter(\"./data/inputs/lci_solarpv_huimin_masterthesis.xlsx\")\n",
    "# for act in foreground_importer.data:\n",
    "#     # print(act[\"name\"])\n",
    "#     for exc in act[\"exchanges\"]:\n",
    "#         if \"classifications\" in exc:\n",
    "#             exc.pop(\"classifications\")\n",
    "#         if \"properties\" in exc:\n",
    "#             exc.pop(\"properties\")   \n",
    "foreground_importer.apply_strategies()\n",
    "foreground_importer.match_database(\"biosphere3\", fields=(\"name\", \"unit\", \"categories\"))\n",
    "foreground_importer.match_database(\"ei 3.8 cutoff\", fields=(\"name\", \"unit\", \"location\"))\n",
    "foreground_importer.statistics()\n",
    "foreground_importer.write_database()"
   ]
  },
  {
   "cell_type": "code",
   "execution_count": 5,
   "id": "14fb1de2-63ee-4196-a8c2-0940a54698fa",
   "metadata": {},
   "outputs": [
    {
     "data": {
      "text/plain": [
       "[{'name': 'market for copper',\n",
       "  'amount': 0.10339,\n",
       "  'unit': 'kilogram',\n",
       "  'database': 'ecoinvent 3.6 cutoff',\n",
       "  'location': 'GLO',\n",
       "  'type': 'technosphere'},\n",
       " {'name': 'market for EUR-flat pallet',\n",
       "  'amount': 0.05,\n",
       "  'unit': 'unit',\n",
       "  'database': 'ecoinvent 3.6 cutoff',\n",
       "  'location': 'GLO',\n",
       "  'type': 'technosphere'},\n",
       " {'name': 'market for phosphoryl chloride',\n",
       "  'amount': 0.0133,\n",
       "  'unit': 'kilogram',\n",
       "  'database': 'ecoinvent 3.6 cutoff',\n",
       "  'location': 'RoW',\n",
       "  'type': 'technosphere'},\n",
       " {'name': 'market for ammonia, liquid',\n",
       "  'amount': 0.0219,\n",
       "  'unit': 'kilogram',\n",
       "  'database': 'ecoinvent 3.6 cutoff',\n",
       "  'location': 'RoW',\n",
       "  'type': 'technosphere'},\n",
       " {'name': 'market for phosphoric acid, fertiliser grade, without water, in 70% solution state',\n",
       "  'amount': 0.00863,\n",
       "  'unit': 'kilogram',\n",
       "  'database': 'ei 3.8 cutoff',\n",
       "  'location': 'GLO',\n",
       "  'type': 'technosphere'},\n",
       " {'name': 'market for ammonium sulfate, as N',\n",
       "  'amount': 0.021,\n",
       "  'unit': 'kilogram',\n",
       "  'database': 'ei 3.8 cutoff',\n",
       "  'location': 'GLO',\n",
       "  'type': 'technosphere'},\n",
       " {'name': 'copper production, primary',\n",
       "  'amount': -0.024817363934426236,\n",
       "  'unit': 'kilogram',\n",
       "  'database': 'ecoinvent 3.6 cutoff',\n",
       "  'location': 'RER',\n",
       "  'type': 'technosphere'}]"
      ]
     },
     "execution_count": 5,
     "metadata": {},
     "output_type": "execute_result"
    }
   ],
   "source": [
    "list(foreground_importer.unlinked)"
   ]
  },
  {
   "cell_type": "code",
   "execution_count": 367,
   "id": "0803ee24-8670-424a-949e-350069d38e5c",
   "metadata": {},
   "outputs": [],
   "source": [
    "fu = {bd.get_activity(database=\"energy_moeschberg\", name = \"energy demand, operational, Hotel Moeschberg\"):1}"
   ]
  },
  {
   "cell_type": "code",
   "execution_count": 355,
   "id": "2d6a61ff-cf7d-4d05-8c67-d2ae8e9ceadf",
   "metadata": {},
   "outputs": [
    {
     "data": {
      "text/plain": [
       "'electricity production, photovoltaic, 3kWp slanted-roof installation, multi-Si, panel, mounted' (kilowatt hour, CH, None)"
      ]
     },
     "execution_count": 355,
     "metadata": {},
     "output_type": "execute_result"
    }
   ],
   "source": [
    "bd.get_activity(id=18352)"
   ]
  },
  {
   "cell_type": "code",
   "execution_count": 356,
   "id": "9ba80c61-6b12-40fd-9e83-11a77144fb56",
   "metadata": {},
   "outputs": [],
   "source": [
    "# ## Creating datapackage for each method\n",
    "# method_hint = \"IPCC\"\n",
    "# data_objs_methods = []\n",
    "# methods = [method for method in bd.methods if method_hint in method[0]]\n",
    "# for method in methods:\n",
    "#     _, objs, __ = bd.prepare_lca_inputs(method=method)\n",
    "#     data_objs_methods += objs"
   ]
  },
  {
   "cell_type": "code",
   "execution_count": 368,
   "id": "31ad6b25-ce0c-419f-8bce-2b469f9e939d",
   "metadata": {
    "tags": []
   },
   "outputs": [],
   "source": [
    "### it returns functional_unit, data_objects, and a mapping dictionary\n",
    "fu, objects, remapping_dicts = bd.prepare_lca_inputs(fu, method=('IPCC 2013', 'climate change', 'GWP 100a'))\n"
   ]
  },
  {
   "cell_type": "code",
   "execution_count": 358,
   "id": "bd56dcaf-5ecf-432d-b2a0-ab224d473715",
   "metadata": {},
   "outputs": [
    {
     "name": "stdout",
     "output_type": "stream",
     "text": [
      "biosphere3\n",
      "ei_3.8_cutoff\n",
      "energy_moeschberg\n",
      "ipcc-2013cg.bd5af3f67229a1cc291b8ecb7f316fcf.zip\n"
     ]
    }
   ],
   "source": [
    "for obj in objects:\n",
    "    print(obj.metadata[\"name\"])"
   ]
  },
  {
   "cell_type": "code",
   "execution_count": 369,
   "id": "bd08fce5-37e2-4b0d-b8df-54b86cd92628",
   "metadata": {},
   "outputs": [],
   "source": [
    "data, _ = objects[2].get_resource(\"energy_moeschberg_technosphere_matrix.data\")\n",
    "indices, _ = objects[2].get_resource(\"energy_moeschberg_technosphere_matrix.indices\")\n",
    "flip, _ = objects[2].get_resource(\"energy_moeschberg_technosphere_matrix.flip\")\n",
    "unique_indices = set([a for b in indices for a in b])\n",
    "mapping_act=dict.fromkeys(int(i) for i in unique_indices) #json accepts only int not int32\n",
    "for i in unique_indices:\n",
    "    mapping_act[i]=bd.get_activity(i)['name']\n",
    "rows = [tup[0] for tup in indices]\n",
    "cols = [tup[1] for tup in indices]"
   ]
  },
  {
   "cell_type": "code",
   "execution_count": 361,
   "id": "4b150d99-094c-4d8a-8bf5-ebfc0ce17402",
   "metadata": {},
   "outputs": [
    {
     "data": {
      "text/plain": [
       "array([( 6599, 24005), ( 6599, 24006), ( 8302, 24007), (10319, 24006),\n",
       "       (18352, 24004), (18352, 24005), (18352, 24006), (20079, 24006),\n",
       "       (23758, 24007), (24004, 24004), (24004, 24008), (24005, 24004),\n",
       "       (24005, 24005), (24006, 24005), (24006, 24006), (24007, 24007),\n",
       "       (24007, 24008), (24008, 24008)],\n",
       "      dtype=[('row', '<i4'), ('col', '<i4')])"
      ]
     },
     "execution_count": 361,
     "metadata": {},
     "output_type": "execute_result"
    }
   ],
   "source": [
    "indices"
   ]
  },
  {
   "cell_type": "code",
   "execution_count": 370,
   "id": "e9bf8ce2-f8c1-4a74-8701-795689e48e2d",
   "metadata": {
    "tags": []
   },
   "outputs": [
    {
     "data": {
      "text/html": [
       "<div>\n",
       "<style scoped>\n",
       "    .dataframe tbody tr th:only-of-type {\n",
       "        vertical-align: middle;\n",
       "    }\n",
       "\n",
       "    .dataframe tbody tr th {\n",
       "        vertical-align: top;\n",
       "    }\n",
       "\n",
       "    .dataframe thead th {\n",
       "        text-align: right;\n",
       "    }\n",
       "</style>\n",
       "<table border=\"1\" class=\"dataframe\">\n",
       "  <thead>\n",
       "    <tr style=\"text-align: right;\">\n",
       "      <th></th>\n",
       "      <th>row</th>\n",
       "      <th>col</th>\n",
       "      <th>from</th>\n",
       "      <th>to</th>\n",
       "      <th>data</th>\n",
       "    </tr>\n",
       "  </thead>\n",
       "  <tbody>\n",
       "    <tr>\n",
       "      <th>0</th>\n",
       "      <td>6599</td>\n",
       "      <td>23994</td>\n",
       "      <td>electricity production, hydro, run-of-river</td>\n",
       "      <td>electricity supply, Energie Grosshoechstetten ...</td>\n",
       "      <td>0.907000</td>\n",
       "    </tr>\n",
       "    <tr>\n",
       "      <th>1</th>\n",
       "      <td>6599</td>\n",
       "      <td>23995</td>\n",
       "      <td>electricity production, hydro, run-of-river</td>\n",
       "      <td>electricity, subsidised, 2021</td>\n",
       "      <td>0.320000</td>\n",
       "    </tr>\n",
       "    <tr>\n",
       "      <th>2</th>\n",
       "      <td>8302</td>\n",
       "      <td>23996</td>\n",
       "      <td>operation, solar collector system, Cu flat pla...</td>\n",
       "      <td>heat supply, Hotel Moeschberg, 2021</td>\n",
       "      <td>0.004668</td>\n",
       "    </tr>\n",
       "    <tr>\n",
       "      <th>3</th>\n",
       "      <td>10319</td>\n",
       "      <td>23995</td>\n",
       "      <td>electricity production, wind, 1-3MW turbine, o...</td>\n",
       "      <td>electricity, subsidised, 2021</td>\n",
       "      <td>0.020000</td>\n",
       "    </tr>\n",
       "    <tr>\n",
       "      <th>4</th>\n",
       "      <td>18352</td>\n",
       "      <td>23993</td>\n",
       "      <td>electricity production, photovoltaic, 3kWp sla...</td>\n",
       "      <td>electricity supply, Hotel Moeschberg, 2021</td>\n",
       "      <td>0.440600</td>\n",
       "    </tr>\n",
       "    <tr>\n",
       "      <th>5</th>\n",
       "      <td>18352</td>\n",
       "      <td>23994</td>\n",
       "      <td>electricity production, photovoltaic, 3kWp sla...</td>\n",
       "      <td>electricity supply, Energie Grosshoechstetten ...</td>\n",
       "      <td>0.026000</td>\n",
       "    </tr>\n",
       "    <tr>\n",
       "      <th>6</th>\n",
       "      <td>18352</td>\n",
       "      <td>23995</td>\n",
       "      <td>electricity production, photovoltaic, 3kWp sla...</td>\n",
       "      <td>electricity, subsidised, 2021</td>\n",
       "      <td>0.460000</td>\n",
       "    </tr>\n",
       "    <tr>\n",
       "      <th>7</th>\n",
       "      <td>20079</td>\n",
       "      <td>23995</td>\n",
       "      <td>heat and power co-generation, wood chips, 6667...</td>\n",
       "      <td>electricity, subsidised, 2021</td>\n",
       "      <td>0.200000</td>\n",
       "    </tr>\n",
       "    <tr>\n",
       "      <th>8</th>\n",
       "      <td>23758</td>\n",
       "      <td>23996</td>\n",
       "      <td>heat production, wood pellet, at furnace 25kW,...</td>\n",
       "      <td>heat supply, Hotel Moeschberg, 2021</td>\n",
       "      <td>0.995300</td>\n",
       "    </tr>\n",
       "    <tr>\n",
       "      <th>9</th>\n",
       "      <td>23993</td>\n",
       "      <td>23993</td>\n",
       "      <td>electricity supply, Hotel Moeschberg, 2021</td>\n",
       "      <td>electricity supply, Hotel Moeschberg, 2021</td>\n",
       "      <td>1.000000</td>\n",
       "    </tr>\n",
       "    <tr>\n",
       "      <th>10</th>\n",
       "      <td>23993</td>\n",
       "      <td>23997</td>\n",
       "      <td>electricity supply, Hotel Moeschberg, 2021</td>\n",
       "      <td>energy demand, operational, Hotel Moeschberg</td>\n",
       "      <td>32179.000000</td>\n",
       "    </tr>\n",
       "    <tr>\n",
       "      <th>11</th>\n",
       "      <td>23994</td>\n",
       "      <td>23993</td>\n",
       "      <td>electricity supply, Energie Grosshoechstetten ...</td>\n",
       "      <td>electricity supply, Hotel Moeschberg, 2021</td>\n",
       "      <td>0.559400</td>\n",
       "    </tr>\n",
       "    <tr>\n",
       "      <th>12</th>\n",
       "      <td>23994</td>\n",
       "      <td>23994</td>\n",
       "      <td>electricity supply, Energie Grosshoechstetten ...</td>\n",
       "      <td>electricity supply, Energie Grosshoechstetten ...</td>\n",
       "      <td>1.000000</td>\n",
       "    </tr>\n",
       "    <tr>\n",
       "      <th>13</th>\n",
       "      <td>23995</td>\n",
       "      <td>23994</td>\n",
       "      <td>electricity, subsidised, 2021</td>\n",
       "      <td>electricity supply, Energie Grosshoechstetten ...</td>\n",
       "      <td>0.067000</td>\n",
       "    </tr>\n",
       "    <tr>\n",
       "      <th>14</th>\n",
       "      <td>23995</td>\n",
       "      <td>23995</td>\n",
       "      <td>electricity, subsidised, 2021</td>\n",
       "      <td>electricity, subsidised, 2021</td>\n",
       "      <td>1.000000</td>\n",
       "    </tr>\n",
       "    <tr>\n",
       "      <th>15</th>\n",
       "      <td>23996</td>\n",
       "      <td>23996</td>\n",
       "      <td>heat supply, Hotel Moeschberg, 2021</td>\n",
       "      <td>heat supply, Hotel Moeschberg, 2021</td>\n",
       "      <td>1.000000</td>\n",
       "    </tr>\n",
       "    <tr>\n",
       "      <th>16</th>\n",
       "      <td>23996</td>\n",
       "      <td>23997</td>\n",
       "      <td>heat supply, Hotel Moeschberg, 2021</td>\n",
       "      <td>energy demand, operational, Hotel Moeschberg</td>\n",
       "      <td>655489.000000</td>\n",
       "    </tr>\n",
       "    <tr>\n",
       "      <th>17</th>\n",
       "      <td>23997</td>\n",
       "      <td>23997</td>\n",
       "      <td>energy demand, operational, Hotel Moeschberg</td>\n",
       "      <td>energy demand, operational, Hotel Moeschberg</td>\n",
       "      <td>1.000000</td>\n",
       "    </tr>\n",
       "  </tbody>\n",
       "</table>\n",
       "</div>"
      ],
      "text/plain": [
       "      row    col                                               from  \\\n",
       "0    6599  23994        electricity production, hydro, run-of-river   \n",
       "1    6599  23995        electricity production, hydro, run-of-river   \n",
       "2    8302  23996  operation, solar collector system, Cu flat pla...   \n",
       "3   10319  23995  electricity production, wind, 1-3MW turbine, o...   \n",
       "4   18352  23993  electricity production, photovoltaic, 3kWp sla...   \n",
       "5   18352  23994  electricity production, photovoltaic, 3kWp sla...   \n",
       "6   18352  23995  electricity production, photovoltaic, 3kWp sla...   \n",
       "7   20079  23995  heat and power co-generation, wood chips, 6667...   \n",
       "8   23758  23996  heat production, wood pellet, at furnace 25kW,...   \n",
       "9   23993  23993         electricity supply, Hotel Moeschberg, 2021   \n",
       "10  23993  23997         electricity supply, Hotel Moeschberg, 2021   \n",
       "11  23994  23993  electricity supply, Energie Grosshoechstetten ...   \n",
       "12  23994  23994  electricity supply, Energie Grosshoechstetten ...   \n",
       "13  23995  23994                      electricity, subsidised, 2021   \n",
       "14  23995  23995                      electricity, subsidised, 2021   \n",
       "15  23996  23996                heat supply, Hotel Moeschberg, 2021   \n",
       "16  23996  23997                heat supply, Hotel Moeschberg, 2021   \n",
       "17  23997  23997       energy demand, operational, Hotel Moeschberg   \n",
       "\n",
       "                                                   to           data  \n",
       "0   electricity supply, Energie Grosshoechstetten ...       0.907000  \n",
       "1                       electricity, subsidised, 2021       0.320000  \n",
       "2                 heat supply, Hotel Moeschberg, 2021       0.004668  \n",
       "3                       electricity, subsidised, 2021       0.020000  \n",
       "4          electricity supply, Hotel Moeschberg, 2021       0.440600  \n",
       "5   electricity supply, Energie Grosshoechstetten ...       0.026000  \n",
       "6                       electricity, subsidised, 2021       0.460000  \n",
       "7                       electricity, subsidised, 2021       0.200000  \n",
       "8                 heat supply, Hotel Moeschberg, 2021       0.995300  \n",
       "9          electricity supply, Hotel Moeschberg, 2021       1.000000  \n",
       "10       energy demand, operational, Hotel Moeschberg   32179.000000  \n",
       "11         electricity supply, Hotel Moeschberg, 2021       0.559400  \n",
       "12  electricity supply, Energie Grosshoechstetten ...       1.000000  \n",
       "13  electricity supply, Energie Grosshoechstetten ...       0.067000  \n",
       "14                      electricity, subsidised, 2021       1.000000  \n",
       "15                heat supply, Hotel Moeschberg, 2021       1.000000  \n",
       "16       energy demand, operational, Hotel Moeschberg  655489.000000  \n",
       "17       energy demand, operational, Hotel Moeschberg       1.000000  "
      ]
     },
     "execution_count": 370,
     "metadata": {},
     "output_type": "execute_result"
    }
   ],
   "source": [
    "import pandas as pd\n",
    "matrix_raw = pd.DataFrame({\"row\":rows, \n",
    "                           \"col\":cols, \n",
    "                           \"from\":[mapping_act[idx] for idx in rows], \n",
    "                           \"to\":[mapping_act[idx] for idx in cols],\n",
    "                           \"data\":data\n",
    "                          })\n",
    "matrix = matrix_raw.pivot(index='row',columns='col', values='data').fillna(0)\n",
    "# mapping\n",
    "matrix_raw"
   ]
  },
  {
   "cell_type": "code",
   "execution_count": null,
   "id": "c6e514ba-4e56-4a26-a994-87582a04288f",
   "metadata": {},
   "outputs": [],
   "source": []
  },
  {
   "cell_type": "code",
   "execution_count": 371,
   "id": "809397e2-f1a9-4a99-aef1-bb7e425d5e81",
   "metadata": {
    "tags": []
   },
   "outputs": [
    {
     "data": {
      "text/plain": [
       "{(6599, 23994): [0.907, True],\n",
       " (6599, 23995): [0.32, True],\n",
       " (8302, 23996): [0.004668, True],\n",
       " (10319, 23995): [0.02, True],\n",
       " (18352, 23993): [0.4406, True],\n",
       " (18352, 23994): [0.026, True],\n",
       " (18352, 23995): [0.46, True],\n",
       " (20079, 23995): [0.2, True],\n",
       " (23758, 23996): [0.9953, True],\n",
       " (23993, 23993): [1.0, False],\n",
       " (23993, 23997): [32179.0, True],\n",
       " (23994, 23993): [0.5594, True],\n",
       " (23994, 23994): [1.0, False],\n",
       " (23995, 23994): [0.067, True],\n",
       " (23995, 23995): [1.0, False],\n",
       " (23996, 23996): [1.0, False],\n",
       " (23996, 23997): [655489.0, True],\n",
       " (23997, 23997): [1.0, False]}"
      ]
     },
     "execution_count": 371,
     "metadata": {},
     "output_type": "execute_result"
    }
   ],
   "source": [
    "objects[2].metadata[\"name\"]\n",
    "# dp_dict = dict(zip(indices.astype(\"object\"),list(zip(data,flip))))\n",
    "\n",
    "dp_dict = dict(\n",
    "        zip(indices.astype(\"object\"),[[tup[0], tup[1]] for tup in zip(data,flip)])\n",
    "                )\n",
    "dp_dict\n"
   ]
  },
  {
   "cell_type": "code",
   "execution_count": 305,
   "id": "64938ed9-dc0a-4eed-bb95-c7c281297fd7",
   "metadata": {},
   "outputs": [],
   "source": [
    "new_data = np.array([val[0] for val in dp_dict.items()])"
   ]
  },
  {
   "cell_type": "code",
   "execution_count": 379,
   "id": "902f6c47-b020-49e7-bdd6-745c339d8140",
   "metadata": {},
   "outputs": [],
   "source": [
    "new_arrays = {\n",
    "    (18352,23993): [0.4406,1], #PV becomes the unique elec source\n",
    "    (23994,23993): [0.5594,0],\n",
    "    (23758,23996): [0.995300,0], #wood pellets are replaced by solar thermal\n",
    "    (8302,23996): [0.004668,1],\n",
    "            }\n",
    "def modify_w_arrays(data_object,new_arrays):\n",
    "    n = 1\n",
    "    for k,v in new_arrays.items():\n",
    "        n = len(v)        \n",
    "\n",
    "    data, _ = data_object.get_resource(f\"{data_object.metadata['name']}_technosphere_matrix.data\")\n",
    "    indices, _ = data_object.get_resource(f\"{data_object.metadata['name']}_technosphere_matrix.indices\")\n",
    "    flip, _ = data_object.get_resource(f\"{data_object.metadata['name']}_technosphere_matrix.flip\")\n",
    "    dp_dict = dict(\n",
    "        zip(indices.astype(\"object\"),[[tup[0], tup[1]] for tup in zip(data,flip)])\n",
    "                        )\n",
    "    for key, value in new_arrays.items():\n",
    "        dp_dict[key][0] = value\n",
    "    \n",
    "    new_foreground = bwp.create_datapackage(\n",
    "    fs = bwp.generic_zipfile_filesystem(dirpath=Path(\"./data/inputs\"), filename=f\"{data_object.metadata['name']}.zip\", write=True),\n",
    "    # combinatorial=True,\n",
    "    sequential=True,\n",
    "    )\n",
    "\n",
    "    for row_col, data_flip in dp_dict.items():\n",
    "        if not isinstance(data_flip[0], np.ndarray):\n",
    "            new_array = np.full((n,), fill_value = data_flip[0])\n",
    "            dp_dict[row_col][0] = new_array\n",
    "            \n",
    "    new_data = np.array([val[0] for val in dp_dict.items()])\n",
    "                   \n",
    "    new_foreground.add_persistent_array(\n",
    "    matrix=\"technosphere_matrix\",\n",
    "    data_array=new_data,\n",
    "    indices_array=indices.astype(bwp.INDICES_DTYPE),\n",
    "    flip_array=flip,\n",
    "    name=data_object.metadata['name'],\n",
    ")\n",
    "\n",
    "    # return dp_dict\n",
    "    return new_foreground"
   ]
  },
  {
   "cell_type": "code",
   "execution_count": 380,
   "id": "eb895418-84bc-4db0-a95b-3bd91531eaa9",
   "metadata": {},
   "outputs": [],
   "source": [
    "aa = modify_w_arrays(objects[2], new_arrays)"
   ]
  },
  {
   "cell_type": "code",
   "execution_count": 385,
   "id": "0ac424f6-9b20-4250-92c7-0058b800c6b8",
   "metadata": {},
   "outputs": [
    {
     "data": {
      "text/plain": [
       "[0.2469761531596589,\n",
       " 0.33116044116494214,\n",
       " 0.2469761531596589,\n",
       " 0.33116044116494214,\n",
       " 0.2469761531596589,\n",
       " 0.33116044116494214,\n",
       " 0.2469761531596589,\n",
       " 0.33116044116494214,\n",
       " 0.2469761531596589,\n",
       " 0.33116044116494214]"
      ]
     },
     "execution_count": 385,
     "metadata": {},
     "output_type": "execute_result"
    }
   ],
   "source": [
    "lca_b = bc.LCA(\n",
    "    demand=fu,\n",
    "    data_objs=objects + [aa],\n",
    "    use_distributions=False,\n",
    "    use_arrays=True,\n",
    "#     seed_override=42,  # Seed should not be used\n",
    ")\n",
    "lca_b.lci()\n",
    "lca_b.lcia()\n",
    "lca_b.keep_first_iteration()\n",
    "iterations = 10\n",
    "scores_b = [lca_b.score for _ in zip(range(iterations), lca_b)]\n",
    "scores_b"
   ]
  }
 ],
 "metadata": {
  "kernelspec": {
   "display_name": "Python [conda env:bw25]",
   "language": "python",
   "name": "conda-env-bw25-py"
  },
  "language_info": {
   "codemirror_mode": {
    "name": "ipython",
    "version": 3
   },
   "file_extension": ".py",
   "mimetype": "text/x-python",
   "name": "python",
   "nbconvert_exporter": "python",
   "pygments_lexer": "ipython3",
   "version": "3.10.6"
  }
 },
 "nbformat": 4,
 "nbformat_minor": 5
}
