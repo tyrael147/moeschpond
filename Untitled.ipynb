{
 "cells": [
  {
   "cell_type": "code",
   "execution_count": 9,
   "id": "c6668fa3-0f29-4977-ad3b-57b85eadc3d9",
   "metadata": {},
   "outputs": [
    {
     "name": "stdout",
     "output_type": "stream",
     "text": [
      "Restoring project backup archive - this could take a few minutes...\n"
     ]
    }
   ],
   "source": [
    "# import bw2data as bd\n",
    "# import bw2calc as bc\n",
    "# import bw2io as bi\n",
    "# import bw_processing as bwp\n",
    "import brightway2 as bw\n",
    "import numpy as np\n",
    "from pathlib import Path\n",
    "\n",
    "\n",
    "# if 'ei38-teaching-25' not in bd.projects:\n",
    "    # bi.restore_project_directory(\"/srv/data/projects/ecoinvent38-25.tar.gz\")\n",
    "bw.projects.delete_project(\"moeschpond1\", delete_dir=True)\n",
    "if 'moeschpond1' not in bw.projects:    \n",
    "    backup=\"brightway2-project-moeschpond1-backup.27-October-2022-09-50AM.tar.gz\"\n",
    "    premise_path  = \"/srv/scratch/u.2/\" + backup\n",
    "    bw.restore_project_directory(premise_path)\n",
    "# bd.projects.set_current('moeschpond1')\n",
    "# bd.projects.set_current('ei38-teaching-25')\n"
   ]
  },
  {
   "cell_type": "code",
   "execution_count": 10,
   "id": "654ecd1e-2c5d-408c-9035-8731e16aafc9",
   "metadata": {},
   "outputs": [
    {
     "data": {
      "text/plain": [
       "Databases dictionary with 4 object(s):\n",
       "\tbiosphere3\n",
       "\tei 3.8 cutoff\n",
       "\tsuper_db_2022-10-26\n",
       "\tsuper_db_2022-10-27"
      ]
     },
     "execution_count": 10,
     "metadata": {},
     "output_type": "execute_result"
    }
   ],
   "source": [
    "bw.projects.set_current('moeschpond1')\n",
    "bw.databases"
   ]
  },
  {
   "cell_type": "code",
   "execution_count": 6,
   "id": "727b0795-c36a-40d4-8a9b-9103e10b1706",
   "metadata": {},
   "outputs": [
    {
     "data": {
      "text/plain": [
       "'default'"
      ]
     },
     "execution_count": 6,
     "metadata": {},
     "output_type": "execute_result"
    }
   ],
   "source": [
    "bw.projects.current"
   ]
  },
  {
   "cell_type": "code",
   "execution_count": null,
   "id": "a9d3e7ef-9404-46d3-911f-3dfb75ed0de9",
   "metadata": {},
   "outputs": [],
   "source": []
  }
 ],
 "metadata": {
  "kernelspec": {
   "display_name": "Python [conda env:bw]",
   "language": "python",
   "name": "conda-env-bw-py"
  },
  "language_info": {
   "codemirror_mode": {
    "name": "ipython",
    "version": 3
   },
   "file_extension": ".py",
   "mimetype": "text/x-python",
   "name": "python",
   "nbconvert_exporter": "python",
   "pygments_lexer": "ipython3",
   "version": "3.10.6"
  }
 },
 "nbformat": 4,
 "nbformat_minor": 5
}
