{
 "cells": [
  {
   "cell_type": "markdown",
   "id": "5f128ce5-5f1a-4e5c-aa35-762e3f874046",
   "metadata": {},
   "source": [
    "# Model builder\n",
    "## Life Cycle Assessment of ``{Operational Energy Moerschberg for 1 year: 1}``\n",
    "###[CONTEXT]\n",
    "The model relies on datapackages to ensure replicability of the calculation.\n"
   ]
  },
  {
   "cell_type": "code",
   "execution_count": null,
   "id": "f3cb0d20-9543-482a-a7d7-c0ac2222de82",
   "metadata": {},
   "outputs": [],
   "source": [
    "# \"combinatorial\"\n",
    "# \"sequential\""
   ]
  },
  {
   "cell_type": "code",
   "execution_count": 146,
   "id": "57462c24-dee0-47d9-8f2d-a3006e9f242d",
   "metadata": {},
   "outputs": [
    {
     "data": {
      "text/plain": [
       "'default'"
      ]
     },
     "execution_count": 146,
     "metadata": {},
     "output_type": "execute_result"
    }
   ],
   "source": [
    "###Uncomment to restore everything\n",
    "\n",
    "# bd.projects.delete_project('ei38-teaching-25', delete_dir=True)"
   ]
  },
  {
   "cell_type": "code",
   "execution_count": 189,
   "id": "7e22fc51-9461-4602-925d-dd285769602a",
   "metadata": {},
   "outputs": [],
   "source": [
    "import bw2data as bd\n",
    "import bw2calc as bc\n",
    "import bw2io as bi\n",
    "import bw_processing as bwp\n",
    "import numpy as np\n",
    "from pathlib import Path\n",
    "\n",
    "\n",
    "if 'ei38-teaching-25' not in bd.projects:\n",
    "    bi.restore_project_directory(\"/srv/data/projects/ecoinvent38-25.tar.gz\")\n",
    "# bd.projects.delete_project(\"moeschpond1\", delete_dir=True)\n",
    "# if 'moeschpond1' not in bd.projects:    \n",
    "#     backup=\"brightway2-project-moeschpond1-backup.27-October-2022-09-50AM.tar.gz\"\n",
    "#     premise_path  = \"/srv/scratch/u.2/\" + backup\n",
    "#     bi.restore_project_directory(premise_path)\n",
    "# bd.projects.set_current('moeschpond1')\n",
    "bd.projects.set_current('ei38-teaching-25')\n"
   ]
  },
  {
   "cell_type": "code",
   "execution_count": 172,
   "id": "70bf5428-1c20-4cc6-801c-fede8a3c6eca",
   "metadata": {
    "tags": []
   },
   "outputs": [
    {
     "data": {
      "text/plain": [
       "Databases dictionary with 3 object(s):\n",
       "\tbiosphere3\n",
       "\tei 3.8 cutoff\n",
       "\tforeground"
      ]
     },
     "execution_count": 172,
     "metadata": {},
     "output_type": "execute_result"
    }
   ],
   "source": [
    "bd.databases"
   ]
  },
  {
   "cell_type": "code",
   "execution_count": 190,
   "id": "35105b06-6eff-4bcc-b45c-ce3e0219fbdd",
   "metadata": {
    "collapsed": true,
    "jupyter": {
     "outputs_hidden": true
    },
    "tags": []
   },
   "outputs": [
    {
     "name": "stdout",
     "output_type": "stream",
     "text": [
      "Extracted 1 worksheets in 0.01 seconds\n",
      "Applying strategy: csv_restore_tuples\n",
      "Applying strategy: csv_restore_booleans\n",
      "Applying strategy: csv_numerize\n",
      "Applying strategy: csv_drop_unknown\n",
      "Applying strategy: csv_add_missing_exchanges_section\n",
      "Applying strategy: normalize_units\n",
      "Applying strategy: normalize_biosphere_categories\n",
      "Applying strategy: normalize_biosphere_names\n",
      "Applying strategy: strip_biosphere_exc_locations\n",
      "Applying strategy: set_code_by_activity_hash\n",
      "Applying strategy: link_iterable_by_fields\n",
      "Applying strategy: assign_only_product_as_production\n",
      "Applying strategy: link_technosphere_by_activity_hash\n",
      "Applying strategy: drop_falsey_uncertainty_fields_but_keep_zeros\n",
      "Applying strategy: convert_uncertainty_types_to_integers\n",
      "Applying strategy: convert_activity_parameters_to_list\n",
      "Applied 16 strategies in 7.27 seconds\n",
      "Applying strategy: link_iterable_by_fields\n",
      "Applying strategy: link_iterable_by_fields\n",
      "5 datasets\n",
      "18 exchanges\n",
      "0 unlinked exchanges\n",
      "  \n",
      "Warning: No valid output stream.\n",
      "Title: Writing activities to SQLite3 database:\n",
      "  Started: 10/27/2022 14:01:02\n",
      "  Finished: 10/27/2022 14:01:02\n",
      "  Total time elapsed: 00:00:00\n",
      "  CPU %: 0.00\n",
      "  Memory %: 0.54\n",
      "Created database: energy_moeschberg\n"
     ]
    }
   ],
   "source": [
    "# if \"foreground\" in bd.databases:\n",
    "#     del bd.databases[\"foreground\"]\n",
    "    \n",
    "foreground_importer = bi.ExcelImporter(\"./data/inputs/lci_moeschberg.xlsx\")\n",
    "for act in foreground_importer.data:\n",
    "    # print(act[\"name\"])\n",
    "    for exc in act[\"exchanges\"]:\n",
    "        if \"classifications\" in exc:\n",
    "            exc.pop(\"classifications\")\n",
    "        if \"properties\" in exc:\n",
    "            exc.pop(\"properties\")   \n",
    "foreground_importer.apply_strategies()\n",
    "foreground_importer.match_database(\"biosphere3\", fields=(\"name\", \"unit\", \"categories\"))\n",
    "foreground_importer.match_database(\"ei 3.8 cutoff\", fields=(\"name\", \"unit\", \"location\"))\n",
    "foreground_importer.statistics()\n",
    "foreground_importer.write_database()"
   ]
  },
  {
   "cell_type": "code",
   "execution_count": 221,
   "id": "84f7e120-6cdc-4063-b599-69732eb92995",
   "metadata": {},
   "outputs": [
    {
     "name": "stdout",
     "output_type": "stream",
     "text": [
      "Extracted 1 worksheets in 0.02 seconds\n"
     ]
    },
    {
     "ename": "AssertionError",
     "evalue": "Must provide valid name for metadata section (got 'None')",
     "output_type": "error",
     "traceback": [
      "\u001b[0;31m---------------------------------------------------------------------------\u001b[0m",
      "\u001b[0;31mAssertionError\u001b[0m                            Traceback (most recent call last)",
      "Cell \u001b[0;32mIn [221], line 1\u001b[0m\n\u001b[0;32m----> 1\u001b[0m foreground_importer \u001b[38;5;241m=\u001b[39m bi\u001b[38;5;241m.\u001b[39mExcelImporter(\u001b[38;5;124m\"\u001b[39m\u001b[38;5;124m./data/inputs/layered oxide cathode type_HC anode SIB .xlsx\u001b[39m\u001b[38;5;124m\"\u001b[39m)\n\u001b[1;32m      2\u001b[0m \u001b[38;5;66;03m# for act in foreground_importer.data:\u001b[39;00m\n\u001b[1;32m      3\u001b[0m \u001b[38;5;66;03m#     # print(act[\"name\"])\u001b[39;00m\n\u001b[1;32m      4\u001b[0m \u001b[38;5;66;03m#     for exc in act[\"exchanges\"]:\u001b[39;00m\n\u001b[0;32m   (...)\u001b[0m\n\u001b[1;32m      7\u001b[0m \u001b[38;5;66;03m#         if \"properties\" in exc:\u001b[39;00m\n\u001b[1;32m      8\u001b[0m \u001b[38;5;66;03m#             exc.pop(\"properties\")   \u001b[39;00m\n\u001b[1;32m      9\u001b[0m foreground_importer\u001b[38;5;241m.\u001b[39mapply_strategies()\n",
      "File \u001b[0;32m/opt/tljh/user/envs/bw25/lib/python3.10/site-packages/bw2io/importers/excel.py:118\u001b[0m, in \u001b[0;36mExcelImporter.__init__\u001b[0;34m(self, filepath)\u001b[0m\n\u001b[1;32m    112\u001b[0m \u001b[38;5;28mprint\u001b[39m(\n\u001b[1;32m    113\u001b[0m     \u001b[38;5;124m\"\u001b[39m\u001b[38;5;124mExtracted \u001b[39m\u001b[38;5;132;01m{}\u001b[39;00m\u001b[38;5;124m worksheets in \u001b[39m\u001b[38;5;132;01m{:.2f}\u001b[39;00m\u001b[38;5;124m seconds\u001b[39m\u001b[38;5;124m\"\u001b[39m\u001b[38;5;241m.\u001b[39mformat(\n\u001b[1;32m    114\u001b[0m         \u001b[38;5;28mlen\u001b[39m(data), time() \u001b[38;5;241m-\u001b[39m start\n\u001b[1;32m    115\u001b[0m     )\n\u001b[1;32m    116\u001b[0m )\n\u001b[1;32m    117\u001b[0m \u001b[38;5;28;01mif\u001b[39;00m data \u001b[38;5;129;01mand\u001b[39;00m \u001b[38;5;28many\u001b[39m(line \u001b[38;5;28;01mfor\u001b[39;00m line \u001b[38;5;129;01min\u001b[39;00m data):\n\u001b[0;32m--> 118\u001b[0m     \u001b[38;5;28mself\u001b[39m\u001b[38;5;241m.\u001b[39mdb_name, \u001b[38;5;28mself\u001b[39m\u001b[38;5;241m.\u001b[39mmetadata \u001b[38;5;241m=\u001b[39m \u001b[38;5;28;43mself\u001b[39;49m\u001b[38;5;241;43m.\u001b[39;49m\u001b[43mget_database\u001b[49m\u001b[43m(\u001b[49m\u001b[43mdata\u001b[49m\u001b[43m)\u001b[49m\n\u001b[1;32m    119\u001b[0m     \u001b[38;5;28mself\u001b[39m\u001b[38;5;241m.\u001b[39mproject_parameters \u001b[38;5;241m=\u001b[39m \u001b[38;5;28mself\u001b[39m\u001b[38;5;241m.\u001b[39mget_project_parameters(data)\n\u001b[1;32m    120\u001b[0m     \u001b[38;5;28mself\u001b[39m\u001b[38;5;241m.\u001b[39mdatabase_parameters \u001b[38;5;241m=\u001b[39m \u001b[38;5;28mself\u001b[39m\u001b[38;5;241m.\u001b[39mget_database_parameters(data)\n",
      "File \u001b[0;32m/opt/tljh/user/envs/bw25/lib/python3.10/site-packages/bw2io/importers/excel.py:133\u001b[0m, in \u001b[0;36mExcelImporter.get_database\u001b[0;34m(self, data)\u001b[0m\n\u001b[1;32m    131\u001b[0m             \u001b[38;5;28;01mif\u001b[39;00m found:\n\u001b[1;32m    132\u001b[0m                 \u001b[38;5;28;01mraise\u001b[39;00m \u001b[38;5;167;01mValueError\u001b[39;00m(\u001b[38;5;124m\"\u001b[39m\u001b[38;5;124mMultiple `database` sections found\u001b[39m\u001b[38;5;124m\"\u001b[39m)\n\u001b[0;32m--> 133\u001b[0m             results\u001b[38;5;241m.\u001b[39mappend(\u001b[38;5;28;43mself\u001b[39;49m\u001b[38;5;241;43m.\u001b[39;49m\u001b[43mget_metadata_section\u001b[49m\u001b[43m(\u001b[49m\u001b[43msn\u001b[49m\u001b[43m,\u001b[49m\u001b[43m \u001b[49m\u001b[43mws\u001b[49m\u001b[43m,\u001b[49m\u001b[43m \u001b[49m\u001b[43mindex\u001b[49m\u001b[43m)\u001b[49m)\n\u001b[1;32m    134\u001b[0m             found \u001b[38;5;241m=\u001b[39m \u001b[38;5;28;01mTrue\u001b[39;00m\n\u001b[1;32m    136\u001b[0m \u001b[38;5;28;01mif\u001b[39;00m \u001b[38;5;129;01mnot\u001b[39;00m results:\n",
      "File \u001b[0;32m/opt/tljh/user/envs/bw25/lib/python3.10/site-packages/bw2io/importers/excel.py:219\u001b[0m, in \u001b[0;36mExcelImporter.get_metadata_section\u001b[0;34m(self, sn, ws, index, transform)\u001b[0m\n\u001b[1;32m    216\u001b[0m ws \u001b[38;5;241m=\u001b[39m ws[index:]\n\u001b[1;32m    218\u001b[0m name \u001b[38;5;241m=\u001b[39m ws[\u001b[38;5;241m0\u001b[39m][\u001b[38;5;241m1\u001b[39m]\n\u001b[0;32m--> 219\u001b[0m \u001b[38;5;28;01massert\u001b[39;00m name, \u001b[38;5;124m\"\u001b[39m\u001b[38;5;124mMust provide valid name for metadata section (got \u001b[39m\u001b[38;5;124m'\u001b[39m\u001b[38;5;132;01m{}\u001b[39;00m\u001b[38;5;124m'\u001b[39m\u001b[38;5;124m)\u001b[39m\u001b[38;5;124m\"\u001b[39m\u001b[38;5;241m.\u001b[39mformat(\n\u001b[1;32m    220\u001b[0m     name\n\u001b[1;32m    221\u001b[0m )\n\u001b[1;32m    223\u001b[0m \u001b[38;5;28;01mfor\u001b[39;00m row \u001b[38;5;129;01min\u001b[39;00m ws[\u001b[38;5;241m1\u001b[39m:]:\n\u001b[1;32m    224\u001b[0m     \u001b[38;5;28;01mif\u001b[39;00m is_empty_line(row):\n",
      "\u001b[0;31mAssertionError\u001b[0m: Must provide valid name for metadata section (got 'None')"
     ]
    }
   ],
   "source": [
    "foreground_importer = bi.ExcelImporter(\"./data/inputs/layered oxide cathode type_HC anode SIB .xlsx\")\n",
    "# for act in foreground_importer.data:\n",
    "#     # print(act[\"name\"])\n",
    "#     for exc in act[\"exchanges\"]:\n",
    "#         if \"classifications\" in exc:\n",
    "#             exc.pop(\"classifications\")\n",
    "#         if \"properties\" in exc:\n",
    "#             exc.pop(\"properties\")   \n",
    "foreground_importer.apply_strategies()\n",
    "foreground_importer.match_database(\"biosphere3\", fields=(\"name\", \"unit\", \"categories\"))\n",
    "foreground_importer.match_database(\"ei 3.8 cutoff\", fields=(\"name\", \"unit\", \"location\"))\n",
    "foreground_importer.statistics()\n",
    "foreground_importer.write_database()"
   ]
  },
  {
   "cell_type": "code",
   "execution_count": 151,
   "id": "0803ee24-8670-424a-949e-350069d38e5c",
   "metadata": {},
   "outputs": [],
   "source": [
    "fu = {bd.get_activity(database=\"foreground\", name = \"Operationnal energy demand\"):1}"
   ]
  },
  {
   "cell_type": "code",
   "execution_count": 5,
   "id": "9ba80c61-6b12-40fd-9e83-11a77144fb56",
   "metadata": {},
   "outputs": [],
   "source": [
    "# ## Creating datapackage for each method\n",
    "# method_hint = \"IPCC\"\n",
    "# data_objs_methods = []\n",
    "# methods = [method for method in bd.methods if method_hint in method[0]]\n",
    "# for method in methods:\n",
    "#     _, objs, __ = bd.prepare_lca_inputs(method=method)\n",
    "#     data_objs_methods += objs"
   ]
  },
  {
   "cell_type": "code",
   "execution_count": 152,
   "id": "31ad6b25-ce0c-419f-8bce-2b469f9e939d",
   "metadata": {
    "tags": []
   },
   "outputs": [],
   "source": [
    "### it returns functional_unit, data_objects, and a mapping dictionary\n",
    "fu, objects, remapping_dicts = bd.prepare_lca_inputs(fu, method=('IPCC 2013', 'climate change', 'GWP 100a'))\n"
   ]
  },
  {
   "cell_type": "code",
   "execution_count": 158,
   "id": "bd56dcaf-5ecf-432d-b2a0-ab224d473715",
   "metadata": {},
   "outputs": [
    {
     "name": "stdout",
     "output_type": "stream",
     "text": [
      "biosphere3\n",
      "ei_3.8_cutoff\n",
      "foreground\n",
      "ipcc-2013cg.bd5af3f67229a1cc291b8ecb7f316fcf.zip\n"
     ]
    }
   ],
   "source": [
    "for obj in objects:\n",
    "    print(obj.metadata[\"name\"])"
   ]
  },
  {
   "cell_type": "code",
   "execution_count": 203,
   "id": "bd08fce5-37e2-4b0d-b8df-54b86cd92628",
   "metadata": {},
   "outputs": [],
   "source": [
    "data, _ = objects[2].get_resource(\"foreground_technosphere_matrix.data\")\n",
    "indices, _ = objects[2].get_resource(\"foreground_technosphere_matrix.indices\")\n",
    "flip, _ = objects[2].get_resource(\"foreground_technosphere_matrix.flip\")"
   ]
  },
  {
   "cell_type": "code",
   "execution_count": 210,
   "id": "87a30b88-8baa-4227-8678-73e370e2331a",
   "metadata": {
    "collapsed": true,
    "jupyter": {
     "outputs_hidden": true
    },
    "tags": []
   },
   "outputs": [
    {
     "data": {
      "text/plain": [
       "array([ 8.41493666e-01,  6.52073431e-05,  1.67130008e-02,  5.77309227e-04,\n",
       "        2.76869803e-12,  1.48235602e-08, -5.21658731e-05,  1.25166290e-02,\n",
       "        8.07284957e-13,  8.28303914e-09,  5.15020020e-06,  2.29911264e-02,\n",
       "        1.69746158e-07, -5.11808639e-06,  1.27233844e-03,  1.48235602e-08,\n",
       "        9.30397437e-05,  1.71038636e-07, -1.25166289e-05,  8.28303914e-09,\n",
       "       -7.56000009e-06, -4.66942147e-05, -5.21658731e-05,  8.28303914e-09,\n",
       "        5.11808647e-03,  5.21658740e-06,  1.30414691e-07,  1.15793810e-05,\n",
       "        2.39540259e-06,  7.56000009e-06,  4.66942147e-05,  5.21658731e-05,\n",
       "       -8.41333717e-03, -1.14600196e-04,  1.00000000e+00,  3.21790000e+04,\n",
       "        5.59400022e-01,  1.00000000e+00,  1.00000000e+00,  6.55489000e+05,\n",
       "        1.00000000e+00,  9.07000005e-01,  1.00000000e+00,  4.86999989e-01,\n",
       "        4.40600008e-01,  2.60000005e-02,  1.00000000e+00,  6.90999985e-01,\n",
       "        1.00000000e+00,  2.99999993e-02,  1.00000000e+00,  3.07000011e-01,\n",
       "        4.66800015e-03,  1.00000000e+00,  6.70000017e-02,  1.00000000e+00,\n",
       "        9.95299995e-01,  1.00000000e+00], dtype=float32)"
      ]
     },
     "execution_count": 210,
     "metadata": {},
     "output_type": "execute_result"
    }
   ],
   "source": [
    "data"
   ]
  },
  {
   "cell_type": "code",
   "execution_count": 215,
   "id": "4b150d99-094c-4d8a-8bf5-ebfc0ce17402",
   "metadata": {},
   "outputs": [],
   "source": [
    "rows = [tup[0] for tup in indices]\n",
    "cols = [tup[1] for tup in indices]"
   ]
  },
  {
   "cell_type": "code",
   "execution_count": 207,
   "id": "f51d20b0-2175-46b0-8493-ff94e5caabf8",
   "metadata": {
    "tags": []
   },
   "outputs": [],
   "source": [
    "### some code in here to modify data\n",
    "# aa = dict(zip(indices.astype(\"object\"), data))"
   ]
  },
  {
   "cell_type": "code",
   "execution_count": 220,
   "id": "e9bf8ce2-f8c1-4a74-8701-795689e48e2d",
   "metadata": {
    "tags": []
   },
   "outputs": [],
   "source": [
    "import pandas as pd\n",
    "matrix_raw = pd.DataFrame({\"row\":rows, \"col\":cols, \"data\":data})\n",
    "matrix = matrix_raw.pivot(index='row',columns='col', values='data').fillna(0)"
   ]
  },
  {
   "cell_type": "code",
   "execution_count": null,
   "id": "902f6c47-b020-49e7-bdd6-745c339d8140",
   "metadata": {},
   "outputs": [],
   "source": [
    "def introduce_array(data_object, row, ):\n",
    "    "
   ]
  },
  {
   "cell_type": "code",
   "execution_count": 176,
   "id": "8bf1fcab-64a0-4a57-89d9-3c4f8357a879",
   "metadata": {},
   "outputs": [],
   "source": [
    "## Creating the node representing \"Operational Energy Moerschberg for 1 year\"\n",
    "new_foreground = bwp.create_datapackage(\n",
    "fs = bwp.generic_zipfile_filesystem(dirpath=Path(\"./data/inputs\"), filename=\"foreground.zip\", write=True),\n",
    "    combinatorial=True,\n",
    "    sequential=True,\n",
    ")\n",
    "\n",
    "new_foreground.add_persistent_vector(\n",
    "    matrix=\"technosphere_matrix\",\n",
    "    data_array=data,\n",
    "    indices_array=indices,\n",
    "    flip_array=flip,\n",
    "    name=\"example\",\n",
    ")\n",
    "\n"
   ]
  },
  {
   "cell_type": "code",
   "execution_count": 191,
   "id": "4c5c3f97-9b93-42ce-9c26-30b7f7c89495",
   "metadata": {
    "tags": []
   },
   "outputs": [],
   "source": [
    "# database_name = \"ei 3.8 cutoff\"\n",
    "# wood_pellet = bd.get_activity(\n",
    "#     database=database_name, \n",
    "#     name='wood pellets, burned in stirling heat and power co-generation unit, 3kW electrical, future', \n",
    "#     unit = \"megajoule\"\n",
    "#     )\n",
    "# wood_pellet.id"
   ]
  },
  {
   "cell_type": "code",
   "execution_count": 193,
   "id": "9df01484",
   "metadata": {
    "collapsed": false,
    "jupyter": {
     "outputs_hidden": false
    },
    "pycharm": {
     "name": "#%%\n"
    }
   },
   "outputs": [
    {
     "data": {
      "text/plain": [
       "'wood pellets, burned in stirling heat and power co-generation unit, 3kW electrical, future' (megajoule, CH, None)"
      ]
     },
     "execution_count": 193,
     "metadata": {},
     "output_type": "execute_result"
    }
   ],
   "source": [
    "# bd.get_activity(\n",
    "#     id=19364\n",
    "#     )"
   ]
  },
  {
   "cell_type": "code",
   "execution_count": 197,
   "id": "2fa78685-a274-47f4-b568-39bff88d04ef",
   "metadata": {},
   "outputs": [
    {
     "name": "stderr",
     "output_type": "stream",
     "text": [
      "/tmp/ipykernel_685444/945257468.py:2: VisibleDeprecationWarning: Creating an ndarray from ragged nested sequences (which is a list-or-tuple of lists-or-tuples-or ndarrays with different lengths or shapes) is deprecated. If you meant to do this, you must specify 'dtype=object' when creating the ndarray.\n",
      "  my_node = np.array([\n"
     ]
    }
   ],
   "source": [
    "my_id =1_000_000\n",
    "my_node = np.array([\n",
    "    [(my_id,my_id), 1, False], \n",
    "    [(19364,my_id), [21,21], True],\n",
    "    [(8302,my_id), [14], True],   \n",
    "    # [(18352,my_id), 51, True],   \n",
    "    # [(10319,my_id), 61, True],   \n",
    "    # [(6599,my_id), 17, True],   \n",
    "    # [(20079,my_id), 17, True],   \n",
    "              ])\n",
    "\n",
    "indices = my_node[:,0].astype(bwp.INDICES_DTYPE)\n",
    "data = my_node[:,1]\n",
    "flip = my_node[:,2]"
   ]
  },
  {
   "cell_type": "code",
   "execution_count": 19,
   "id": "986e8bd6",
   "metadata": {
    "collapsed": false,
    "jupyter": {
     "outputs_hidden": false
    },
    "pycharm": {
     "name": "#%%\n"
    }
   },
   "outputs": [
    {
     "ename": "NameError",
     "evalue": "name 'dp' is not defined",
     "output_type": "error",
     "traceback": [
      "\u001b[0;31m---------------------------------------------------------------------------\u001b[0m",
      "\u001b[0;31mNameError\u001b[0m                                 Traceback (most recent call last)",
      "Input \u001b[0;32mIn [19]\u001b[0m, in \u001b[0;36m<cell line: 1>\u001b[0;34m()\u001b[0m\n\u001b[0;32m----> 1\u001b[0m lca \u001b[38;5;241m=\u001b[39m bc\u001b[38;5;241m.\u001b[39mLCA({my_id: \u001b[38;5;241m1\u001b[39m}, data_objs\u001b[38;5;241m=\u001b[39m[data_objs_ei38] \u001b[38;5;241m+\u001b[39m method_test \u001b[38;5;241m+\u001b[39m [\u001b[43mdp\u001b[49m])\n\u001b[1;32m      2\u001b[0m lca\u001b[38;5;241m.\u001b[39mlci()\n\u001b[1;32m      3\u001b[0m lca\u001b[38;5;241m.\u001b[39mlcia()\n",
      "\u001b[0;31mNameError\u001b[0m: name 'dp' is not defined"
     ]
    }
   ],
   "source": [
    "lca = bc.LCA({my_id: 1}, data_objs=[data_objs_ei38] + method_test + [dp])\n",
    "lca.lci()\n",
    "lca.lcia()\n",
    "lca.score"
   ]
  },
  {
   "cell_type": "code",
   "execution_count": 37,
   "id": "91a6df3d-f440-40a8-837d-40c26ca1cb37",
   "metadata": {},
   "outputs": [
    {
     "data": {
      "text/plain": [
       "0.004655632602942411"
      ]
     },
     "execution_count": 37,
     "metadata": {},
     "output_type": "execute_result"
    }
   ],
   "source": [
    "# lca = bc.LCA({19364: 1}, data_objs=[data_objs_ei38] + method_test)\n",
    "# lca.lci()\n",
    "# lca.lcia()\n",
    "# lca.score"
   ]
  },
  {
   "cell_type": "code",
   "execution_count": 55,
   "id": "93daa62b-69ba-43a3-8702-00b5c520ac89",
   "metadata": {
    "pycharm": {
     "name": "#%%\n"
    }
   },
   "outputs": [],
   "source": [
    "foreground.finalize_serialization()"
   ]
  }
 ],
 "metadata": {
  "kernelspec": {
   "display_name": "Python [conda env:bw25]",
   "language": "python",
   "name": "conda-env-bw25-py"
  },
  "language_info": {
   "codemirror_mode": {
    "name": "ipython",
    "version": 3
   },
   "file_extension": ".py",
   "mimetype": "text/x-python",
   "name": "python",
   "nbconvert_exporter": "python",
   "pygments_lexer": "ipython3",
   "version": "3.10.6"
  }
 },
 "nbformat": 4,
 "nbformat_minor": 5
}
