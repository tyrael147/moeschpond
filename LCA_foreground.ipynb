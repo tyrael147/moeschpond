{
 "cells": [
  {
   "cell_type": "markdown",
   "id": "5f128ce5-5f1a-4e5c-aa35-762e3f874046",
   "metadata": {},
   "source": [
    "# Model builder\n",
    "## Life Cycle Assessment of ``{Operational Energy Moerschberg for 1 year: 1}``\n",
    "###[CONTEXT]\n",
    "The model relies on datapackages to ensure replicability of the calculation.\n"
   ]
  },
  {
   "cell_type": "code",
   "execution_count": null,
   "id": "f3cb0d20-9543-482a-a7d7-c0ac2222de82",
   "metadata": {},
   "outputs": [],
   "source": [
    "\"combinatorial\"\n",
    "\"sequential\""
   ]
  },
  {
   "cell_type": "code",
   "execution_count": null,
   "id": "57462c24-dee0-47d9-8f2d-a3006e9f242d",
   "metadata": {},
   "outputs": [],
   "source": []
  },
  {
   "cell_type": "code",
   "execution_count": 83,
   "id": "7e22fc51-9461-4602-925d-dd285769602a",
   "metadata": {},
   "outputs": [],
   "source": [
    "import bw2data as bd\n",
    "import bw2calc as bc\n",
    "import bw2io as bi\n",
    "import bw_processing as bwp\n",
    "import numpy as np\n",
    "from pathlib import Path\n",
    "\n",
    "\n",
    "if 'ei38-teaching-25' not in bd.projects:\n",
    "    bi.restore_project_directory(\"/srv/data/projects/ecoinvent38-25.tar.gz\")\n",
    "# bd.projects.delete_project(\"moeschpond1\", delete_dir=True)\n",
    "# if 'moeschpond1' not in bd.projects:    \n",
    "#     backup=\"brightway2-project-moeschpond1-backup.27-October-2022-09-50AM.tar.gz\"\n",
    "#     premise_path  = \"/srv/scratch/u.2/\" + backup\n",
    "#     bi.restore_project_directory(premise_path)\n",
    "# bd.projects.set_current('moeschpond1')\n",
    "bd.projects.set_current('ei38-teaching-25')\n"
   ]
  },
  {
   "cell_type": "code",
   "execution_count": 44,
   "id": "a03ed050-9331-41ba-83e6-f9d9b2b4db35",
   "metadata": {},
   "outputs": [
    {
     "name": "stdout",
     "output_type": "stream",
     "text": [
      "Applying automatic update: 4.0 migrations filename change\n",
      "Applying automatic update: 4.0 new processed format\n",
      "Updating all LCIA methods\n",
      "Warning: No valid output stream.\n",
      "Title: Brightway2 LCIA methods objects:\n",
      "  Started: 10/27/2022 10:05:25\n",
      "  Finished: 10/27/2022 10:06:20\n",
      "  Total time elapsed: 00:00:54\n",
      "  CPU %: 99.80\n",
      "  Memory %: 0.18\n",
      "Updating all LCI databases\n",
      "Warning: No valid output stream.\n",
      "Title: Brightway2 LCI databases objects:\n",
      "  Started: 10/27/2022 10:06:20\n",
      "  Finished: 10/27/2022 10:06:43\n",
      "  Total time elapsed: 00:00:22\n",
      "  CPU %: 100.00\n",
      "  Memory %: 0.19\n"
     ]
    }
   ],
   "source": [
    "bd.projects.set_current('moeschpond1')"
   ]
  },
  {
   "cell_type": "code",
   "execution_count": 86,
   "id": "70bf5428-1c20-4cc6-801c-fede8a3c6eca",
   "metadata": {},
   "outputs": [
    {
     "data": {
      "text/plain": [
       "Databases dictionary with 6 object(s):\n",
       "\tEXIOBASE 3.8.1 2017 monetary\n",
       "\tEXIOBASE 3.8.1 2017 monetary biosphere\n",
       "\tKorean Motors Chaebol\n",
       "\tbiosphere3\n",
       "\tei 3.8 cutoff\n",
       "\t강한 국가를 위한 영광스러운 구리"
      ]
     },
     "execution_count": 86,
     "metadata": {},
     "output_type": "execute_result"
    }
   ],
   "source": [
    "bd.databases"
   ]
  },
  {
   "cell_type": "code",
   "execution_count": 64,
   "id": "ba587a1a-e911-4b53-94a5-096c4b92a81b",
   "metadata": {},
   "outputs": [],
   "source": [
    "db_pre = bd.Database(\"super_db_2022-10-27\")\n",
    "dd = db_pre.random()"
   ]
  },
  {
   "cell_type": "code",
   "execution_count": 65,
   "id": "a0a0e09b-a1f3-407b-82a3-44172afe298b",
   "metadata": {},
   "outputs": [
    {
     "data": {
      "text/plain": [
       "55237"
      ]
     },
     "execution_count": 65,
     "metadata": {},
     "output_type": "execute_result"
    }
   ],
   "source": [
    "dd.id"
   ]
  },
  {
   "cell_type": "code",
   "execution_count": 87,
   "id": "35105b06-6eff-4bcc-b45c-ce3e0219fbdd",
   "metadata": {},
   "outputs": [
    {
     "name": "stdout",
     "output_type": "stream",
     "text": [
      "Extracted 1 worksheets in 0.03 seconds\n",
      "Applying strategy: csv_restore_tuples\n",
      "Applying strategy: csv_restore_booleans\n",
      "Applying strategy: csv_numerize\n",
      "Applying strategy: csv_drop_unknown\n",
      "Applying strategy: csv_add_missing_exchanges_section\n",
      "Applying strategy: normalize_units\n",
      "Applying strategy: normalize_biosphere_categories\n",
      "Applying strategy: normalize_biosphere_names\n",
      "Applying strategy: strip_biosphere_exc_locations\n",
      "Applying strategy: set_code_by_activity_hash\n",
      "Applying strategy: link_iterable_by_fields\n",
      "Applying strategy: assign_only_product_as_production\n",
      "Applying strategy: link_technosphere_by_activity_hash\n",
      "Applying strategy: drop_falsey_uncertainty_fields_but_keep_zeros\n",
      "Applying strategy: convert_uncertainty_types_to_integers\n",
      "Applying strategy: convert_activity_parameters_to_list\n",
      "Applied 16 strategies in 7.03 seconds\n",
      "Applying strategy: link_iterable_by_fields\n",
      "Applying strategy: link_iterable_by_fields\n",
      "Couldn't apply strategy link_iterable_by_fields:\n",
      "\tObject in source database can't be uniquely linked to target database.\n",
      "Problematic dataset is:\n",
      "{'categories': '(missing)',\n",
      " 'filename': '(missing)',\n",
      " 'name': 'hydropower plant construction, run-of-river',\n",
      " 'unit': 'unit'}\n",
      "Possible targets include (at least one not shown):\n",
      "[{'categories': '(missing)',\n",
      "  'filename': '2762ffb2-04ca-4fd8-baf6-9c9428506cc6_2d180733-aa7a-429b-90ef-c3f56f2252f0.spold',\n",
      "  'name': 'hydropower plant construction, run-of-river',\n",
      "  'unit': 'unit'},\n",
      " {'categories': '(missing)',\n",
      "  'filename': 'd4275f89-98aa-441a-9e02-15b877085438_2d180733-aa7a-429b-90ef-c3f56f2252f0.spold',\n",
      "  'name': 'hydropower plant construction, run-of-river',\n",
      "  'unit': 'unit'},\n",
      " {'categories': '(missing)',\n",
      "  'filename': 'b5056072-26cb-4e8c-9c68-ce0fdc03e360_2d180733-aa7a-429b-90ef-c3f56f2252f0.spold',\n",
      "  'name': 'hydropower plant construction, run-of-river',\n",
      "  'unit': 'unit'}]\n",
      "11 datasets\n",
      "151 exchanges\n",
      "34 unlinked exchanges\n",
      "  Type technosphere: 28 unique unlinked exchanges\n"
     ]
    },
    {
     "data": {
      "text/plain": [
       "(11, 151, 34)"
      ]
     },
     "execution_count": 87,
     "metadata": {},
     "output_type": "execute_result"
    }
   ],
   "source": [
    "# 1. Specify filepath to your foreground inventories.\n",
    "#     water_path = \"/srv/data/Water_database_38.xlsx\"\n",
    "#     # 2. Create an instance of a class that contains basic methods for importing a database from an excel file.\n",
    "#     water = bi.ExcelImporter(water_path)  \n",
    "#     # 3. `apply_strategies` is one of such basic methods, it makes sure units, locations, etc are in correct format.\n",
    "#     water.apply_strategies()\n",
    "#     # 4. Next step is to link your foreground exchanges to existing databases by matching relevant exchanges fields.\n",
    "#     water.match_database(\"biosphere3\", fields=(\"name\", \"unit\", \"categories\"))\n",
    "#     water.match_database(\"ecoinvent 3.8 cutoff\", fields=(\"name\", \"location\", \"unit\"))\n",
    "#     water.metadata.pop(None)  # Remove metadata None entry. TODO\n",
    "#     # 5. If everything is linked, write database so that it is saved in your project.\n",
    "#     if water.all_linked:\n",
    "#         water.write_database()\n",
    "\n",
    "dum = bi.ExcelImporter(\"./data/inputs/foreground.xlsx\")\n",
    "# for act in dum.data:\n",
    "#     # print(act[\"name\"])\n",
    "#     for exc in act[\"exchanges\"]:\n",
    "#         if exc[\"database\"]==\"Ecoinvent3.8_cutoff\":\n",
    "#             exc[\"database\"] == \"ei 3.8 cutoff\"\n",
    "dum.apply_strategies()\n",
    "dum.match_database(\"biosphere3\", fields=(\"name\", \"unit\", \"categories\"))\n",
    "dum.match_database(\"ei 3.8 cutoff\", fields=(\"name\", \"unit\", \"categories\"))\n",
    "dum.statistics()"
   ]
  },
  {
   "cell_type": "code",
   "execution_count": 88,
   "id": "555c09fe-aa2a-4af2-ab74-26aae33c7992",
   "metadata": {},
   "outputs": [
    {
     "name": "stdout",
     "output_type": "stream",
     "text": [
      "Wrote matching file to:\n",
      "/home/jupyter-gustavo.larrea/.local/share/Brightway3/ei38-teaching-25.993d09bf/output/db-matching-foreground.xlsx\n"
     ]
    },
    {
     "data": {
      "text/plain": [
       "'/home/jupyter-gustavo.larrea/.local/share/Brightway3/ei38-teaching-25.993d09bf/output/db-matching-foreground.xlsx'"
      ]
     },
     "execution_count": 88,
     "metadata": {},
     "output_type": "execute_result"
    }
   ],
   "source": [
    "dum.write_excel()"
   ]
  },
  {
   "cell_type": "code",
   "execution_count": 89,
   "id": "fd41e456-7eed-4fa8-a093-38bc8b9d6c78",
   "metadata": {},
   "outputs": [],
   "source": [
    "!cp /home/jupyter-gustavo.larrea/.local/share/Brightway3/ei38-teaching-25.993d09bf/output/db-matching-foreground.xlsx /home/jupyter-gustavo.larrea/moeschpond/data/inputs/\n"
   ]
  },
  {
   "cell_type": "code",
   "execution_count": 17,
   "id": "329a74ff-044b-4112-ae61-653174a5fa74",
   "metadata": {},
   "outputs": [
    {
     "data": {
      "text/plain": [
       "'default'"
      ]
     },
     "execution_count": 17,
     "metadata": {},
     "output_type": "execute_result"
    }
   ],
   "source": [
    "bd.projects.delete_project(\"moeschpond1\", delete_dir=True)"
   ]
  },
  {
   "cell_type": "code",
   "execution_count": 18,
   "id": "3140b0d8-6eeb-40b1-b537-e167b2e4bf7b",
   "metadata": {},
   "outputs": [
    {
     "data": {
      "text/plain": [
       "Databases dictionary with 0 objects"
      ]
     },
     "execution_count": 18,
     "metadata": {},
     "output_type": "execute_result"
    }
   ],
   "source": [
    "bd.databases"
   ]
  },
  {
   "cell_type": "code",
   "execution_count": 2,
   "id": "0803ee24-8670-424a-949e-350069d38e5c",
   "metadata": {},
   "outputs": [
    {
     "data": {
      "text/plain": [
       "'/srv/scratch/u.2/brightway2-project-moeschpond1-backup.27-October-2022-08-40AM.tar.gz'"
      ]
     },
     "execution_count": 2,
     "metadata": {},
     "output_type": "execute_result"
    }
   ],
   "source": [
    "bd.get_activity(database=\"\")"
   ]
  },
  {
   "cell_type": "code",
   "execution_count": 2,
   "id": "c73bb9a2-10ee-40d9-93bd-ee5b95bff91f",
   "metadata": {
    "tags": []
   },
   "outputs": [
    {
     "data": {
      "text/plain": [
       "Databases dictionary with 3 object(s):\n",
       "\tbiosphere3\n",
       "\tei 3.8 cutoff\n",
       "\tterrible_example"
      ]
     },
     "execution_count": 2,
     "metadata": {},
     "output_type": "execute_result"
    }
   ],
   "source": [
    "bd.databases"
   ]
  },
  {
   "cell_type": "code",
   "execution_count": 3,
   "id": "1ccef73f-70da-4bec-b001-c51747229861",
   "metadata": {},
   "outputs": [],
   "source": [
    "db = bd.Database(\"ei 3.8 cutoff\")"
   ]
  },
  {
   "cell_type": "code",
   "execution_count": 4,
   "id": "0d0c0767-badb-4615-9440-ffaa952a7456",
   "metadata": {},
   "outputs": [],
   "source": [
    "#ecoinvent datapackage\n",
    "data_objs_ei38 = db.datapackage()"
   ]
  },
  {
   "cell_type": "code",
   "execution_count": 5,
   "id": "9ba80c61-6b12-40fd-9e83-11a77144fb56",
   "metadata": {},
   "outputs": [],
   "source": [
    "## Creating datapackage for each method\n",
    "method_hint = \"IPCC\"\n",
    "data_objs_methods = []\n",
    "methods = [method for method in bd.methods if method_hint in method[0]]\n",
    "for method in methods:\n",
    "    _, objs, __ = bd.prepare_lca_inputs(method=method)\n",
    "    data_objs_methods += objs"
   ]
  },
  {
   "cell_type": "code",
   "execution_count": 6,
   "id": "31ad6b25-ce0c-419f-8bce-2b469f9e939d",
   "metadata": {
    "tags": []
   },
   "outputs": [],
   "source": [
    "_,method_test,__ = bd.prepare_lca_inputs(method=('IPCC 2013', 'climate change', 'GWP 100a'))\n"
   ]
  },
  {
   "cell_type": "code",
   "execution_count": 7,
   "id": "4c5c3f97-9b93-42ce-9c26-30b7f7c89495",
   "metadata": {
    "tags": []
   },
   "outputs": [],
   "source": [
    "database_name = \"ei 3.8 cutoff\"\n",
    "wood_pellet = bd.get_activity(\n",
    "    database=database_name, \n",
    "    name='wood pellets, burned in stirling heat and power co-generation unit, 3kW electrical, future', \n",
    "    unit = \"megajoule\"\n",
    "    )"
   ]
  },
  {
   "cell_type": "code",
   "execution_count": 8,
   "id": "203a5d25-9bf3-4fe8-9939-eb61791be847",
   "metadata": {},
   "outputs": [
    {
     "data": {
      "text/plain": [
       "19364"
      ]
     },
     "execution_count": 8,
     "metadata": {},
     "output_type": "execute_result"
    }
   ],
   "source": [
    "wood_pellet.id"
   ]
  },
  {
   "cell_type": "code",
   "execution_count": 9,
   "id": "9df01484",
   "metadata": {
    "collapsed": false,
    "jupyter": {
     "outputs_hidden": false
    },
    "pycharm": {
     "name": "#%%\n"
    }
   },
   "outputs": [
    {
     "data": {
      "text/plain": [
       "'wood pellets, burned in stirling heat and power co-generation unit, 3kW electrical, future' (megajoule, CH, None)"
      ]
     },
     "execution_count": 9,
     "metadata": {},
     "output_type": "execute_result"
    }
   ],
   "source": [
    "bd.get_activity(\n",
    "    id=19364\n",
    "    )"
   ]
  },
  {
   "cell_type": "code",
   "execution_count": 10,
   "id": "0ace061e-5e6f-4a89-a4a5-772347df7920",
   "metadata": {},
   "outputs": [],
   "source": [
    "import json\n",
    "with open(\"data/inputs/dict_id.json\") as data:\n",
    "    dicto = json.load(data)"
   ]
  },
  {
   "cell_type": "code",
   "execution_count": 11,
   "id": "502e5012-5702-481e-bddb-d698d0bb1a90",
   "metadata": {},
   "outputs": [
    {
     "data": {
      "text/plain": [
       "{'wood pellets, burned in stirling heat and power co-generation unit, 3kW electrical, future': 19364,\n",
       " 'operation, solar collector system, Cu flat plate collector, one-family house, for hot water': 8302,\n",
       " 'electricity production, photovoltaic, 3kWp slanted-roof installation, multi-Si, panel, mounted': 18352,\n",
       " 'electricity production, wind, 1-3MW turbine, onshore': 10319,\n",
       " 'electricity production, hydro, run-of-river': 6599,\n",
       " 'heat and power co-generation, wood chips, 6667 kW, state-of-the-art 2014': 20079}"
      ]
     },
     "execution_count": 11,
     "metadata": {},
     "output_type": "execute_result"
    }
   ],
   "source": [
    "dicto"
   ]
  },
  {
   "cell_type": "code",
   "execution_count": 12,
   "id": "2fa78685-a274-47f4-b568-39bff88d04ef",
   "metadata": {},
   "outputs": [
    {
     "name": "stderr",
     "output_type": "stream",
     "text": [
      "/tmp/ipykernel_32564/2455489822.py:2: VisibleDeprecationWarning: Creating an ndarray from ragged nested sequences (which is a list-or-tuple of lists-or-tuples-or ndarrays with different lengths or shapes) is deprecated. If you meant to do this, you must specify 'dtype=object' when creating the ndarray.\n",
      "  my_node = np.array([\n"
     ]
    }
   ],
   "source": [
    "my_id =1_000_000\n",
    "my_node = np.array([\n",
    "    [(my_id,my_id), 1, False], \n",
    "    [(19364,my_id), 1, True],\n",
    "    [(8302,my_id), 1, True],   \n",
    "    [(18352,my_id), 1, True],   \n",
    "    [(10319,my_id), 1, True],   \n",
    "    [(6599,my_id), 1, True],   \n",
    "    [(20079,my_id), 1, True],   \n",
    "              ])\n",
    "\n",
    "indices = my_node[:,0].astype(bwp.INDICES_DTYPE)\n",
    "data = my_node[:,1].astype(float)\n",
    "flip = my_node[:,2].astype(bool)"
   ]
  },
  {
   "cell_type": "code",
   "execution_count": 13,
   "id": "d15c3a36-8b9a-4dad-afa9-307f40f9f5ef",
   "metadata": {},
   "outputs": [],
   "source": [
    "## Creating the node representing \"Operational Energy Moerschberg for 1 year\"\n",
    "foreground = bwp.create_datapackage(\n",
    "fs = bwp.generic_zipfile_filesystem(dirpath=Path(\"./data/inputs\"), filename=\"foreground.zip\", write=True)\n",
    ")\n",
    "\n",
    "foreground.add_persistent_vector(\n",
    "    matrix=\"technosphere_matrix\",\n",
    "    data_array=data,\n",
    "    indices_array=indices,\n",
    "    flip_array=flip,\n",
    "    name=\"example\",\n",
    ")"
   ]
  },
  {
   "cell_type": "code",
   "execution_count": 14,
   "id": "9620f4b0",
   "metadata": {
    "collapsed": false,
    "jupyter": {
     "outputs_hidden": false
    },
    "pycharm": {
     "name": "#%%\n"
    }
   },
   "outputs": [],
   "source": [
    "resource=foreground.resources[0]\n",
    "if resource[\"matrix\"] == \"technosphere_matrix\" and resource[\"kind\"]==\"indices\":\n",
    "    indices,_ = foreground.get_resource(resource[\"name\"])\n",
    "    unique_indices = set([a for b in indices for a in b])"
   ]
  },
  {
   "cell_type": "code",
   "execution_count": 15,
   "id": "c4413f39",
   "metadata": {
    "collapsed": false,
    "jupyter": {
     "outputs_hidden": false
    },
    "pycharm": {
     "name": "#%%\n"
    }
   },
   "outputs": [
    {
     "data": {
      "text/plain": [
       "{6599, 8302, 10319, 18352, 19364, 20079, 1000000}"
      ]
     },
     "execution_count": 15,
     "metadata": {},
     "output_type": "execute_result"
    }
   ],
   "source": [
    "unique_indices"
   ]
  },
  {
   "cell_type": "code",
   "execution_count": 16,
   "id": "0368d67c",
   "metadata": {
    "collapsed": false,
    "jupyter": {
     "outputs_hidden": false
    },
    "pycharm": {
     "name": "#%%\n"
    }
   },
   "outputs": [],
   "source": [
    "from utils import database_creator\n",
    "dict_metadata = {\n",
    "    100000:{\n",
    "        \"name\":\"Production of example\",\n",
    "        \"code\":\"Production of example\".replace(\" \",\"_\"),\n",
    "        \"location\":\"CH\",\n",
    "        \"unit\":\"kg\"\n",
    "\n",
    "    }\n",
    "}\n",
    "database_creator(db_name=\"terrible_example\",data_objs=[foreground], dict_metadata=dict_metadata)"
   ]
  },
  {
   "cell_type": "code",
   "execution_count": 17,
   "id": "a842e054",
   "metadata": {
    "collapsed": false,
    "jupyter": {
     "outputs_hidden": false
    },
    "pycharm": {
     "name": "#%%\n"
    }
   },
   "outputs": [
    {
     "data": {
      "text/plain": [
       "Databases dictionary with 3 object(s):\n",
       "\tbiosphere3\n",
       "\tei 3.8 cutoff\n",
       "\tterrible_example"
      ]
     },
     "execution_count": 17,
     "metadata": {},
     "output_type": "execute_result"
    }
   ],
   "source": [
    "bd.databases"
   ]
  },
  {
   "cell_type": "code",
   "execution_count": 20,
   "id": "45d80b2a",
   "metadata": {
    "collapsed": false,
    "jupyter": {
     "outputs_hidden": false
    },
    "pycharm": {
     "name": "#%%\n"
    }
   },
   "outputs": [
    {
     "data": {
      "text/plain": [
       "[]"
      ]
     },
     "execution_count": 20,
     "metadata": {},
     "output_type": "execute_result"
    }
   ],
   "source": [
    "list(bd.Database(\"terrible_example\"))"
   ]
  },
  {
   "cell_type": "code",
   "execution_count": 19,
   "id": "986e8bd6",
   "metadata": {
    "collapsed": false,
    "jupyter": {
     "outputs_hidden": false
    },
    "pycharm": {
     "name": "#%%\n"
    }
   },
   "outputs": [
    {
     "ename": "NameError",
     "evalue": "name 'dp' is not defined",
     "output_type": "error",
     "traceback": [
      "\u001b[0;31m---------------------------------------------------------------------------\u001b[0m",
      "\u001b[0;31mNameError\u001b[0m                                 Traceback (most recent call last)",
      "Input \u001b[0;32mIn [19]\u001b[0m, in \u001b[0;36m<cell line: 1>\u001b[0;34m()\u001b[0m\n\u001b[0;32m----> 1\u001b[0m lca \u001b[38;5;241m=\u001b[39m bc\u001b[38;5;241m.\u001b[39mLCA({my_id: \u001b[38;5;241m1\u001b[39m}, data_objs\u001b[38;5;241m=\u001b[39m[data_objs_ei38] \u001b[38;5;241m+\u001b[39m method_test \u001b[38;5;241m+\u001b[39m [\u001b[43mdp\u001b[49m])\n\u001b[1;32m      2\u001b[0m lca\u001b[38;5;241m.\u001b[39mlci()\n\u001b[1;32m      3\u001b[0m lca\u001b[38;5;241m.\u001b[39mlcia()\n",
      "\u001b[0;31mNameError\u001b[0m: name 'dp' is not defined"
     ]
    }
   ],
   "source": [
    "lca = bc.LCA({my_id: 1}, data_objs=[data_objs_ei38] + method_test + [dp])\n",
    "lca.lci()\n",
    "lca.lcia()\n",
    "lca.score"
   ]
  },
  {
   "cell_type": "code",
   "execution_count": 37,
   "id": "91a6df3d-f440-40a8-837d-40c26ca1cb37",
   "metadata": {},
   "outputs": [
    {
     "data": {
      "text/plain": [
       "0.004655632602942411"
      ]
     },
     "execution_count": 37,
     "metadata": {},
     "output_type": "execute_result"
    }
   ],
   "source": [
    "# lca = bc.LCA({19364: 1}, data_objs=[data_objs_ei38] + method_test)\n",
    "# lca.lci()\n",
    "# lca.lcia()\n",
    "# lca.score"
   ]
  },
  {
   "cell_type": "code",
   "execution_count": 55,
   "id": "93daa62b-69ba-43a3-8702-00b5c520ac89",
   "metadata": {
    "pycharm": {
     "name": "#%%\n"
    }
   },
   "outputs": [],
   "source": [
    "foreground.finalize_serialization()"
   ]
  }
 ],
 "metadata": {
  "kernelspec": {
   "display_name": "Python [conda env:bw25]",
   "language": "python",
   "name": "conda-env-bw25-py"
  },
  "language_info": {
   "codemirror_mode": {
    "name": "ipython",
    "version": 3
   },
   "file_extension": ".py",
   "mimetype": "text/x-python",
   "name": "python",
   "nbconvert_exporter": "python",
   "pygments_lexer": "ipython3",
   "version": "3.10.6"
  }
 },
 "nbformat": 4,
 "nbformat_minor": 5
}
