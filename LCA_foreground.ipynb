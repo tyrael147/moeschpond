{
 "cells": [
  {
   "cell_type": "markdown",
   "id": "5f128ce5-5f1a-4e5c-aa35-762e3f874046",
   "metadata": {},
   "source": [
    "# Model builder\n",
    "## Life Cycle Assessment of ``{Operational Energy Moerschberg for 1 year: 1}``\n",
    "###[CONTEXT]\n",
    "The model relies on datapackages to ensure replicability of the calculation.\n"
   ]
  },
  {
   "cell_type": "code",
   "execution_count": 1,
   "id": "7e22fc51-9461-4602-925d-dd285769602a",
   "metadata": {},
   "outputs": [],
   "source": [
    "import bw2data as bd\n",
    "import bw2calc as bc\n",
    "import bw2io as bi\n",
    "import bw_processing as bwp\n",
    "import numpy as np\n",
    "from pathlib import Path\n",
    "from datapackage import Package\n",
    "\n",
    "if 'ei38-teaching-25' not in bd.projects:\n",
    "    bi.restore_project_directory(\"/srv/data/projects/ecoinvent38-25.tar.gz\")\n",
    "    \n",
    "bd.projects.set_current('ei38-teaching-25')"
   ]
  },
  {
   "cell_type": "code",
   "execution_count": 2,
   "id": "c73bb9a2-10ee-40d9-93bd-ee5b95bff91f",
   "metadata": {
    "tags": []
   },
   "outputs": [
    {
     "data": {
      "text/plain": [
       "Databases dictionary with 4 object(s):\n",
       "\tEXIOBASE 3.8.1 2017 monetary\n",
       "\tEXIOBASE 3.8.1 2017 monetary biosphere\n",
       "\tbiosphere3\n",
       "\tei 3.8 cutoff"
      ]
     },
     "execution_count": 2,
     "metadata": {},
     "output_type": "execute_result"
    }
   ],
   "source": [
    "bd.databases"
   ]
  },
  {
   "cell_type": "code",
   "execution_count": null,
   "id": "28a6c0ad-eb95-4f06-b8ac-3539ad9e798f",
   "metadata": {},
   "outputs": [],
   "source": []
  },
  {
   "cell_type": "code",
   "execution_count": 3,
   "id": "1ccef73f-70da-4bec-b001-c51747229861",
   "metadata": {},
   "outputs": [],
   "source": [
    "db = bd.Database(\"ei 3.8 cutoff\")\n"
   ]
  },
  {
   "cell_type": "code",
   "execution_count": 4,
   "id": "0d0c0767-badb-4615-9440-ffaa952a7456",
   "metadata": {},
   "outputs": [],
   "source": [
    "#ecoinvent datapackage\n",
    "data_objs_ei38 = db.datapackage()"
   ]
  },
  {
   "cell_type": "code",
   "execution_count": 5,
   "id": "9ba80c61-6b12-40fd-9e83-11a77144fb56",
   "metadata": {},
   "outputs": [],
   "source": [
    "## Creating datapackage for each method\n",
    "method_hint = \"IPCC\"\n",
    "data_objs_methods = []\n",
    "methods = [method for method in bd.methods if method_hint in method[0]]\n",
    "for method in methods:\n",
    "    _, objs, __ = bd.prepare_lca_inputs(method=method)\n",
    "    data_objs_methods += objs"
   ]
  },
  {
   "cell_type": "code",
   "execution_count": 6,
   "id": "31ad6b25-ce0c-419f-8bce-2b469f9e939d",
   "metadata": {
    "tags": []
   },
   "outputs": [],
   "source": [
    "_,method_test,__ = bd.prepare_lca_inputs(method=('IPCC 2013', 'climate change', 'GWP 100a'))\n"
   ]
  },
  {
   "cell_type": "code",
   "execution_count": 7,
   "id": "4c5c3f97-9b93-42ce-9c26-30b7f7c89495",
   "metadata": {
    "tags": []
   },
   "outputs": [],
   "source": [
    "database_name = \"ei 3.8 cutoff\"\n",
    "wood_pellet = bd.get_activity(\n",
    "    database=database_name, \n",
    "    name='wood pellets, burned in stirling heat and power co-generation unit, 3kW electrical, future', \n",
    "    unit = \"megajoule\"\n",
    "    )"
   ]
  },
  {
   "cell_type": "code",
   "execution_count": 8,
   "id": "203a5d25-9bf3-4fe8-9939-eb61791be847",
   "metadata": {},
   "outputs": [
    {
     "data": {
      "text/plain": [
       "19364"
      ]
     },
     "execution_count": 8,
     "metadata": {},
     "output_type": "execute_result"
    }
   ],
   "source": [
    "wood_pellet.id"
   ]
  },
  {
   "cell_type": "code",
   "execution_count": 9,
   "id": "0ace061e-5e6f-4a89-a4a5-772347df7920",
   "metadata": {},
   "outputs": [],
   "source": [
    "import json\n",
    "with open(\"data/inputs/dict_id.json\") as data:\n",
    "    dicto = json.load(data)"
   ]
  },
  {
   "cell_type": "code",
   "execution_count": 10,
   "id": "502e5012-5702-481e-bddb-d698d0bb1a90",
   "metadata": {},
   "outputs": [
    {
     "data": {
      "text/plain": [
       "{'wood pellets, burned in stirling heat and power co-generation unit, 3kW electrical, future': 19364,\n",
       " 'operation, solar collector system, Cu flat plate collector, one-family house, for hot water': 8302,\n",
       " 'electricity production, photovoltaic, 3kWp slanted-roof installation, multi-Si, panel, mounted': 18352,\n",
       " 'electricity production, wind, 1-3MW turbine, onshore': 10319,\n",
       " 'electricity production, hydro, run-of-river': 6599,\n",
       " 'heat and power co-generation, wood chips, 6667 kW, state-of-the-art 2014': 20079}"
      ]
     },
     "execution_count": 10,
     "metadata": {},
     "output_type": "execute_result"
    }
   ],
   "source": [
    "dicto"
   ]
  },
  {
   "cell_type": "code",
   "execution_count": 11,
   "id": "2fa78685-a274-47f4-b568-39bff88d04ef",
   "metadata": {},
   "outputs": [
    {
     "name": "stderr",
     "output_type": "stream",
     "text": [
      "/tmp/ipykernel_666913/1019873038.py:2: VisibleDeprecationWarning: Creating an ndarray from ragged nested sequences (which is a list-or-tuple of lists-or-tuples-or ndarrays with different lengths or shapes) is deprecated. If you meant to do this, you must specify 'dtype=object' when creating the ndarray.\n",
      "  my_node = np.array([\n"
     ]
    }
   ],
   "source": [
    "my_id =1_000_000\n",
    "my_node = np.array([\n",
    "    [(my_id,my_id), 1, False], \n",
    "    [(19364,my_id), 1, True],\n",
    "    [(8302,my_id), 1, True],   \n",
    "    [(18352,my_id), 1, True],   \n",
    "    [(10319,my_id), 1, True],   \n",
    "    [(6599,my_id), 1, True],   \n",
    "    [(20079,my_id), 1, True],   \n",
    "              ])\n",
    "\n",
    "indices = my_node[:,0].astype(bwp.INDICES_DTYPE)\n",
    "data = my_node[:,1].astype(float)\n",
    "flip = my_node[:,2].astype(bool)"
   ]
  },
  {
   "cell_type": "code",
   "execution_count": 12,
   "id": "d15c3a36-8b9a-4dad-afa9-307f40f9f5ef",
   "metadata": {},
   "outputs": [],
   "source": [
    "## Creating the node representing \"Operational Energy Moerschberg for 1 year\"\n",
    "dp = bwp.create_datapackage(\n",
    "fs = bwp.generic_zipfile_filesystem(dirpath=Path(\"/home/jupyter-gustavo.larrea/moeschpond\"), filename=\"exercise.zip\", write=True)\n",
    ")\n",
    "\n",
    "dp.add_persistent_vector(\n",
    "    matrix=\"technosphere_matrix\",\n",
    "    data_array=data,\n",
    "    indices_array=indices,\n",
    "    flip_array=flip,\n",
    "    name=\"example\",\n",
    ")"
   ]
  },
  {
   "cell_type": "code",
   "execution_count": null,
   "id": "47f2bd85-cb6a-453c-8c4a-6a796a3f21da",
   "metadata": {},
   "outputs": [],
   "source": []
  },
  {
   "cell_type": "code",
   "execution_count": 13,
   "id": "7fd3b7a7-9497-4485-950c-aaa3b9625ce7",
   "metadata": {},
   "outputs": [
    {
     "data": {
      "text/plain": [
       "0.16850424417978982"
      ]
     },
     "execution_count": 13,
     "metadata": {},
     "output_type": "execute_result"
    }
   ],
   "source": [
    "lca = bc.LCA({my_id: 1}, data_objs=[data_objs_ei38] + method_test + [dp])\n",
    "lca.lci()\n",
    "lca.lcia()\n",
    "lca.score"
   ]
  },
  {
   "cell_type": "code",
   "execution_count": 37,
   "id": "91a6df3d-f440-40a8-837d-40c26ca1cb37",
   "metadata": {},
   "outputs": [
    {
     "data": {
      "text/plain": [
       "0.004655632602942411"
      ]
     },
     "execution_count": 37,
     "metadata": {},
     "output_type": "execute_result"
    }
   ],
   "source": [
    "# lca = bc.LCA({19364: 1}, data_objs=[data_objs_ei38] + method_test)\n",
    "# lca.lci()\n",
    "# lca.lcia()\n",
    "# lca.score"
   ]
  },
  {
   "cell_type": "code",
   "execution_count": 38,
   "id": "93daa62b-69ba-43a3-8702-00b5c520ac89",
   "metadata": {},
   "outputs": [],
   "source": [
    "# dp.finalize_serialization()"
   ]
  },
  {
   "cell_type": "code",
   "execution_count": null,
   "id": "87427411-7f98-4f9b-8cb6-5e0475182ae3",
   "metadata": {},
   "outputs": [],
   "source": []
  }
 ],
 "metadata": {
  "kernelspec": {
   "display_name": "Python [conda env:bw25]",
   "language": "python",
   "name": "conda-env-bw25-py"
  },
  "language_info": {
   "codemirror_mode": {
    "name": "ipython",
    "version": 3
   },
   "file_extension": ".py",
   "mimetype": "text/x-python",
   "name": "python",
   "nbconvert_exporter": "python",
   "pygments_lexer": "ipython3",
   "version": "3.10.6"
  }
 },
 "nbformat": 4,
 "nbformat_minor": 5
}
