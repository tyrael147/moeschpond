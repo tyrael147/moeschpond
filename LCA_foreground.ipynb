{
 "cells": [
  {
   "cell_type": "markdown",
   "id": "5f128ce5-5f1a-4e5c-aa35-762e3f874046",
   "metadata": {},
   "source": [
    "# Model builder\n",
    "## Life Cycle Assessment of ``{Operational Energy Moerschberg for 1 year: 1}``\n",
    "###[CONTEXT]\n",
    "The model relies on datapackages to ensure replicability of the calculation.\n"
   ]
  },
  {
   "cell_type": "code",
   "execution_count": 13,
   "id": "7e22fc51-9461-4602-925d-dd285769602a",
   "metadata": {
    "tags": []
   },
   "outputs": [],
   "source": [
    "import bw2data as bd\n",
    "import bw2calc as bc\n",
    "import bw2io as bi\n",
    "import bw_processing as bwp\n",
    "import numpy as np\n",
    "from pathlib import Path\n",
    "import pandas as pd\n",
    "bd.projects.set_current('moeschpond1')\n"
   ]
  },
  {
   "cell_type": "code",
   "execution_count": 18,
   "id": "c3db0364-46b8-4ac1-8d31-dcb2f602ed25",
   "metadata": {},
   "outputs": [
    {
     "name": "stdout",
     "output_type": "stream",
     "text": [
      "Updating all LCIA methods\n",
      "Warning: No valid output stream.\n",
      "Title: Brightway2 LCIA methods objects:\n",
      "  Started: 10/27/2022 19:37:03\n",
      "  Finished: 10/27/2022 19:37:55\n",
      "  Total time elapsed: 00:00:52\n",
      "  CPU %: 99.90\n",
      "  Memory %: 0.25\n",
      "Updating all LCI databases\n",
      "Warning: No valid output stream.\n",
      "Title: Brightway2 LCI databases objects:\n",
      "  Started: 10/27/2022 19:37:55\n",
      "  Finished: 10/27/2022 19:38:52\n",
      "  Total time elapsed: 00:00:56\n",
      "  CPU %: 100.00\n",
      "  Memory %: 0.27\n"
     ]
    }
   ],
   "source": [
    "# bd.projects.migrate_project_25()"
   ]
  },
  {
   "cell_type": "code",
   "execution_count": 43,
   "id": "70bf5428-1c20-4cc6-801c-fede8a3c6eca",
   "metadata": {
    "tags": []
   },
   "outputs": [
    {
     "data": {
      "text/plain": [
       "Databases dictionary with 11 object(s):\n",
       "\tEI 3.8 cutoff image SSP2-Base 2050\n",
       "\tEI 3.8 cutoff image SSP2-RCP19 2050\n",
       "\tEI 3.8 cutoff image SSP2-RCP26 2050\n",
       "\tEI 3.8 cutoff remind SSP2-Base 2050\n",
       "\tEI 3.8 cutoff remind SSP2-PkBudg1150 2050\n",
       "\tEI 3.8 cutoff remind SSP2-PkBudg500 2050\n",
       "\tbiosphere3\n",
       "\tei 3.8 cutoff\n",
       "\tenergy_moeschberg\n",
       "\tsuper_db_2022-10-26\n",
       "\tsuper_db_2022-10-27"
      ]
     },
     "execution_count": 43,
     "metadata": {},
     "output_type": "execute_result"
    }
   ],
   "source": [
    "bd.databases"
   ]
  },
  {
   "cell_type": "code",
   "execution_count": 101,
   "id": "e24ca6a7-d866-47fe-ae57-d96028ef967e",
   "metadata": {},
   "outputs": [],
   "source": [
    "# bg_base = \"EI 3.8 cutoff image SSP2-Base 2050\"\n",
    "# bg_19 = \"EI 3.8 cutoff image SSP2-RCP19 2050\"\n",
    "\n",
    "sce_names_dict={\"id_ei38\":\"ei 3.8 cutoff\",\n",
    "\"id_pre_base\":\"EI 3.8 cutoff image SSP2-Base 2050\",\n",
    " \"id_pre_19\":\"EI 3.8 cutoff image SSP2-RCP19 2050\",\n",
    " \"id_pre_26\":\"EI 3.8 cutoff image SSP2-RCP26 2050\",\n",
    "\"id_re_base\":\"EI 3.8 cutoff remind SSP2-Base 2050\",\n",
    "\"id_re_1150\":\"EI 3.8 cutoff remind SSP2-PkBudg1150 2050\",\n",
    "\"id_re_1150\":\"EI 3.8 cutoff remind SSP2-PkBudg500 2050\"\n",
    "}\n",
    "\n",
    "# bgs = [bg_base, bg_19]"
   ]
  },
  {
   "cell_type": "code",
   "execution_count": 106,
   "id": "22df8f5e-0468-46ea-bb00-5a98c50139b9",
   "metadata": {},
   "outputs": [
    {
     "name": "stdout",
     "output_type": "stream",
     "text": [
      "Extracted 1 worksheets in 0.02 seconds\n",
      "Applying strategy: csv_restore_tuples\n",
      "Applying strategy: csv_restore_booleans\n",
      "Applying strategy: csv_numerize\n",
      "Applying strategy: csv_drop_unknown\n",
      "Applying strategy: csv_add_missing_exchanges_section\n",
      "Applying strategy: normalize_units\n",
      "Applying strategy: normalize_biosphere_categories\n",
      "Applying strategy: normalize_biosphere_names\n",
      "Applying strategy: strip_biosphere_exc_locations\n",
      "Applying strategy: set_code_by_activity_hash\n",
      "Applying strategy: link_iterable_by_fields\n",
      "Applying strategy: assign_only_product_as_production\n",
      "Applying strategy: link_technosphere_by_activity_hash\n",
      "Applying strategy: drop_falsey_uncertainty_fields_but_keep_zeros\n",
      "Applying strategy: convert_uncertainty_types_to_integers\n",
      "Applying strategy: convert_activity_parameters_to_list\n",
      "Applied 16 strategies in 7.04 seconds\n",
      "Applying strategy: link_iterable_by_fields\n",
      "Applying strategy: link_iterable_by_fields\n",
      "14 datasets\n",
      "140 exchanges\n",
      "0 unlinked exchanges\n",
      "  \n",
      "Wrote matching file to:\n",
      "/home/jupyter-gustavo.larrea/.local/share/Brightway3/moeschpond1.44c2433ffc9e60996c8aca4470383e5a/output/db-matching-sib_shan-unlinked.xlsx\n",
      "Warning: No valid output stream.\n",
      "Title: Writing activities to SQLite3 database:\n",
      "  Started: 10/28/2022 08:52:47\n",
      "  Finished: 10/28/2022 08:52:47\n",
      "  Total time elapsed: 00:00:00\n",
      "  CPU %: 0.00\n",
      "  Memory %: 0.78\n",
      "Created database: sib_shan\n"
     ]
    }
   ],
   "source": [
    "imp = bi.ExcelImporter('./data/inputs/SIB inventory_v2_working.xlsx')\n",
    "imp.apply_strategies()\n",
    "imp.match_database(\"ei 3.8 cutoff\", fields=('name','unit','location', 'reference product'))\n",
    "#imp.match_database(\"ecoinvent_remind_SSP2-Base_2020\", fields=('name','unit','location','reference product'))\n",
    "imp.match_database(fields=('name', 'unit', 'location'))\n",
    "imp.statistics()\n",
    "imp.write_excel(only_unlinked=True)\n",
    "list(imp.unlinked)\n",
    "\n",
    "imp.write_database()\n"
   ]
  },
  {
   "cell_type": "code",
   "execution_count": null,
   "id": "c143563f-02fd-4d9b-ab7c-b618ee81cdfc",
   "metadata": {},
   "outputs": [],
   "source": [
    "imp = ExcelImporter(r'C:\\Users\\treyer_k\\Documents\\GitHub\\moeschpond\\data\\inputs\\lci_solarpv_huimin_masterthesis_combined.xlsx')\n",
    "imp.apply_strategies()\n",
    "imp.match_database(\"ei 3.8 cutoff\", fields=('name','unit','location'))\n",
    "#imp.match_database(\"ecoinvent_remind_SSP2-Base_2020\", fields=('name','unit','location','reference product'))\n",
    "imp.match_database(fields=('name', 'unit', 'location'))\n",
    "imp.statistics()\n",
    "imp.write_excel(only_unlinked=True)\n",
    "list(imp.unlinked)\n",
    "\n",
    "imp.write_database()\n"
   ]
  },
  {
   "cell_type": "code",
   "execution_count": 45,
   "id": "35105b06-6eff-4bcc-b45c-ce3e0219fbdd",
   "metadata": {
    "tags": []
   },
   "outputs": [],
   "source": [
    "# if \"foreground\" in bd.databases:\n",
    "#     del bd.databases[\"foreground\"]\n",
    "    \n",
    "foreground_importer = bi.ExcelImporter(\"./data/inputs/lci_moeschberg.xlsx\")\n",
    "foreground_importer.apply_strategies()\n",
    "foreground_importer.match_database(\"biosphere3\", fields=(\"name\", \"unit\", \"categories\"))\n",
    "foreground_importer.match_database(\"ei 3.8 cutoff\", fields=(\"name\", \"unit\", \"location\"))\n",
    "foreground_importer.statistics()\n",
    "foreground_importer.write_database()"
   ]
  },
  {
   "cell_type": "code",
   "execution_count": 46,
   "id": "0803ee24-8670-424a-949e-350069d38e5c",
   "metadata": {},
   "outputs": [],
   "source": [
    "fu = {bd.get_activity(database=\"energy_moeschberg\", name = \"energy demand, operational, Hotel Moeschberg\"):1}"
   ]
  },
  {
   "cell_type": "code",
   "execution_count": 47,
   "id": "2d6a61ff-cf7d-4d05-8c67-d2ae8e9ceadf",
   "metadata": {},
   "outputs": [
    {
     "data": {
      "text/plain": [
       "'electricity production, photovoltaic, 3kWp slanted-roof installation, multi-Si, panel, mounted' (kilowatt hour, CH, None)"
      ]
     },
     "execution_count": 47,
     "metadata": {},
     "output_type": "execute_result"
    }
   ],
   "source": [
    "bd.get_activity(id=18352)"
   ]
  },
  {
   "cell_type": "code",
   "execution_count": 48,
   "id": "31ad6b25-ce0c-419f-8bce-2b469f9e939d",
   "metadata": {
    "tags": []
   },
   "outputs": [],
   "source": [
    "### it returns functional_unit, data_objects, and a mapping dictionary\n",
    "fu = {bd.get_activity(database=\"energy_moeschberg\", name = \"energy demand, operational, Hotel Moeschberg\"):1}\n",
    "fu, objects, remapping_dicts = bd.prepare_lca_inputs(fu, method=('IPCC 2013', 'climate change', 'GWP 100a'))"
   ]
  },
  {
   "cell_type": "code",
   "execution_count": 49,
   "id": "bd56dcaf-5ecf-432d-b2a0-ab224d473715",
   "metadata": {},
   "outputs": [
    {
     "name": "stdout",
     "output_type": "stream",
     "text": [
      "biosphere3\n",
      "ei_3.8_cutoff\n",
      "energy_moeschberg\n",
      "ipcc-2013cg.bd5af3f67229a1cc291b8ecb7f316fcf.zip\n"
     ]
    }
   ],
   "source": [
    "for obj in objects:\n",
    "    print(obj.metadata[\"name\"])"
   ]
  },
  {
   "cell_type": "code",
   "execution_count": 50,
   "id": "bd08fce5-37e2-4b0d-b8df-54b86cd92628",
   "metadata": {},
   "outputs": [],
   "source": [
    "data, _ = objects[2].get_resource(\"energy_moeschberg_technosphere_matrix.data\")\n",
    "indices, _ = objects[2].get_resource(\"energy_moeschberg_technosphere_matrix.indices\")\n",
    "flip, _ = objects[2].get_resource(\"energy_moeschberg_technosphere_matrix.flip\")\n",
    "unique_indices = set([a for b in indices for a in b])\n",
    "mapping_act=dict.fromkeys(int(i) for i in unique_indices) #json accepts only int not int32\n",
    "for i in unique_indices:\n",
    "    mapping_act[i]=bd.get_activity(i)['name']\n",
    "rows = [tup[0] for tup in indices]\n",
    "cols = [tup[1] for tup in indices]"
   ]
  },
  {
   "cell_type": "code",
   "execution_count": 51,
   "id": "d96bf827-74e0-4e8e-9ea7-3d0bf2275726",
   "metadata": {},
   "outputs": [],
   "source": [
    "df = pd.DataFrame(columns=['id','name','location','reference product'],index=np.arange(len(unique_indices)))\n",
    "n=0\n",
    "for i in unique_indices: \n",
    "    df['id'][n]=(i)\n",
    "    df['name'][n]=(bd.get_activity(i)['name'])\n",
    "    df['location'][n]=(bd.get_activity(i)['location'])\n",
    "    df['reference product'][n]=(bd.get_activity(i)['reference product'])\n",
    "    n += 1"
   ]
  },
  {
   "cell_type": "code",
   "execution_count": 52,
   "id": "8802cbdc-d978-43d7-93b1-398092d3fb65",
   "metadata": {},
   "outputs": [
    {
     "data": {
      "text/html": [
       "<div>\n",
       "<style scoped>\n",
       "    .dataframe tbody tr th:only-of-type {\n",
       "        vertical-align: middle;\n",
       "    }\n",
       "\n",
       "    .dataframe tbody tr th {\n",
       "        vertical-align: top;\n",
       "    }\n",
       "\n",
       "    .dataframe thead th {\n",
       "        text-align: right;\n",
       "    }\n",
       "</style>\n",
       "<table border=\"1\" class=\"dataframe\">\n",
       "  <thead>\n",
       "    <tr style=\"text-align: right;\">\n",
       "      <th></th>\n",
       "      <th>id</th>\n",
       "      <th>name</th>\n",
       "      <th>location</th>\n",
       "      <th>reference product</th>\n",
       "    </tr>\n",
       "  </thead>\n",
       "  <tbody>\n",
       "    <tr>\n",
       "      <th>0</th>\n",
       "      <td>6599</td>\n",
       "      <td>electricity production, hydro, run-of-river</td>\n",
       "      <td>CH</td>\n",
       "      <td>electricity, high voltage</td>\n",
       "    </tr>\n",
       "    <tr>\n",
       "      <th>1</th>\n",
       "      <td>8302</td>\n",
       "      <td>operation, solar collector system, Cu flat pla...</td>\n",
       "      <td>CH</td>\n",
       "      <td>heat, central or small-scale, other than natur...</td>\n",
       "    </tr>\n",
       "    <tr>\n",
       "      <th>2</th>\n",
       "      <td>10319</td>\n",
       "      <td>electricity production, wind, 1-3MW turbine, o...</td>\n",
       "      <td>CH</td>\n",
       "      <td>electricity, high voltage</td>\n",
       "    </tr>\n",
       "    <tr>\n",
       "      <th>3</th>\n",
       "      <td>18352</td>\n",
       "      <td>electricity production, photovoltaic, 3kWp sla...</td>\n",
       "      <td>CH</td>\n",
       "      <td>electricity, low voltage</td>\n",
       "    </tr>\n",
       "    <tr>\n",
       "      <th>4</th>\n",
       "      <td>20079</td>\n",
       "      <td>heat and power co-generation, wood chips, 6667...</td>\n",
       "      <td>CH</td>\n",
       "      <td>electricity, high voltage</td>\n",
       "    </tr>\n",
       "    <tr>\n",
       "      <th>5</th>\n",
       "      <td>23758</td>\n",
       "      <td>heat production, wood pellet, at furnace 25kW,...</td>\n",
       "      <td>CH</td>\n",
       "      <td>heat, central or small-scale, other than natur...</td>\n",
       "    </tr>\n",
       "    <tr>\n",
       "      <th>6</th>\n",
       "      <td>213909</td>\n",
       "      <td>electricity supply, Hotel Moeschberg, 2021</td>\n",
       "      <td>CH</td>\n",
       "      <td>electricity, low voltage</td>\n",
       "    </tr>\n",
       "    <tr>\n",
       "      <th>7</th>\n",
       "      <td>213910</td>\n",
       "      <td>electricity supply, Energie Grosshoechstetten ...</td>\n",
       "      <td>CH</td>\n",
       "      <td>electricity, low voltage</td>\n",
       "    </tr>\n",
       "    <tr>\n",
       "      <th>8</th>\n",
       "      <td>213911</td>\n",
       "      <td>electricity, subsidised, 2021</td>\n",
       "      <td>CH</td>\n",
       "      <td>electricity, low voltage</td>\n",
       "    </tr>\n",
       "    <tr>\n",
       "      <th>9</th>\n",
       "      <td>213912</td>\n",
       "      <td>heat supply, Hotel Moeschberg, 2021</td>\n",
       "      <td>CH</td>\n",
       "      <td>heat, Hotel Moeschberg</td>\n",
       "    </tr>\n",
       "    <tr>\n",
       "      <th>10</th>\n",
       "      <td>213913</td>\n",
       "      <td>energy demand, operational, Hotel Moeschberg</td>\n",
       "      <td>CH</td>\n",
       "      <td>energy demand, operational, Hotel Moeschberg</td>\n",
       "    </tr>\n",
       "  </tbody>\n",
       "</table>\n",
       "</div>"
      ],
      "text/plain": [
       "        id                                               name location  \\\n",
       "0     6599        electricity production, hydro, run-of-river       CH   \n",
       "1     8302  operation, solar collector system, Cu flat pla...       CH   \n",
       "2    10319  electricity production, wind, 1-3MW turbine, o...       CH   \n",
       "3    18352  electricity production, photovoltaic, 3kWp sla...       CH   \n",
       "4    20079  heat and power co-generation, wood chips, 6667...       CH   \n",
       "5    23758  heat production, wood pellet, at furnace 25kW,...       CH   \n",
       "6   213909         electricity supply, Hotel Moeschberg, 2021       CH   \n",
       "7   213910  electricity supply, Energie Grosshoechstetten ...       CH   \n",
       "8   213911                      electricity, subsidised, 2021       CH   \n",
       "9   213912                heat supply, Hotel Moeschberg, 2021       CH   \n",
       "10  213913       energy demand, operational, Hotel Moeschberg       CH   \n",
       "\n",
       "                                    reference product  \n",
       "0                           electricity, high voltage  \n",
       "1   heat, central or small-scale, other than natur...  \n",
       "2                           electricity, high voltage  \n",
       "3                            electricity, low voltage  \n",
       "4                           electricity, high voltage  \n",
       "5   heat, central or small-scale, other than natur...  \n",
       "6                            electricity, low voltage  \n",
       "7                            electricity, low voltage  \n",
       "8                            electricity, low voltage  \n",
       "9                              heat, Hotel Moeschberg  \n",
       "10       energy demand, operational, Hotel Moeschberg  "
      ]
     },
     "execution_count": 52,
     "metadata": {},
     "output_type": "execute_result"
    }
   ],
   "source": [
    "df"
   ]
  },
  {
   "cell_type": "code",
   "execution_count": 53,
   "id": "b614de6c-46ce-4eb4-8e3e-4422e4788538",
   "metadata": {},
   "outputs": [
    {
     "data": {
      "text/plain": [
       "140945"
      ]
     },
     "execution_count": 53,
     "metadata": {},
     "output_type": "execute_result"
    }
   ],
   "source": [
    "bd.get_activity(database = bg_19,\n",
    "                name=\"electricity production, hydro, run-of-river\",\n",
    "                location=\"CH\", \n",
    "                product = \"electricity, high voltage\").id"
   ]
  },
  {
   "cell_type": "code",
   "execution_count": null,
   "id": "97a57a6b-647f-4a93-b175-a6149e33e395",
   "metadata": {},
   "outputs": [],
   "source": [
    "import pandas as pd\n",
    "\n",
    "#initialize a dataframe\n",
    "df = pd.DataFrame(\n",
    "\t[[21, 'Amol', 72, 67],\n",
    "\t[23, 'Lini', 78, 69],\n",
    "\t[32, 'Kiku', 74, 56],\n",
    "\t[52, 'Ajit', 54, 76]],\n",
    "\tcolumns=['rollno', 'name', 'physics', 'botony'])\n",
    "\n",
    "print('DataFrame with default index\\n', df)\n",
    "\n",
    "#set multiple columns as index\n",
    "df = df.set_index(['rollno','name'])\n",
    "\n",
    "print('\\nDataFrame with MultiIndex\\n',df)"
   ]
  },
  {
   "cell_type": "code",
   "execution_count": 102,
   "id": "4b150d99-094c-4d8a-8bf5-ebfc0ce17402",
   "metadata": {
    "tags": []
   },
   "outputs": [
    {
     "data": {
      "text/html": [
       "<div>\n",
       "<style scoped>\n",
       "    .dataframe tbody tr th:only-of-type {\n",
       "        vertical-align: middle;\n",
       "    }\n",
       "\n",
       "    .dataframe tbody tr th {\n",
       "        vertical-align: top;\n",
       "    }\n",
       "\n",
       "    .dataframe thead th {\n",
       "        text-align: right;\n",
       "    }\n",
       "</style>\n",
       "<table border=\"1\" class=\"dataframe\">\n",
       "  <thead>\n",
       "    <tr style=\"text-align: right;\">\n",
       "      <th></th>\n",
       "      <th>name</th>\n",
       "      <th>id_ei38</th>\n",
       "      <th>id_pre_base</th>\n",
       "      <th>id_pre_19</th>\n",
       "      <th>id_pre_26</th>\n",
       "      <th>id_re_base</th>\n",
       "      <th>id_re_1150</th>\n",
       "    </tr>\n",
       "    <tr>\n",
       "      <th>id_ei38</th>\n",
       "      <th></th>\n",
       "      <th></th>\n",
       "      <th></th>\n",
       "      <th></th>\n",
       "      <th></th>\n",
       "      <th></th>\n",
       "      <th></th>\n",
       "    </tr>\n",
       "  </thead>\n",
       "  <tbody>\n",
       "    <tr>\n",
       "      <th>6599</th>\n",
       "      <td>electricity production, hydro, run-of-river</td>\n",
       "      <td>6599</td>\n",
       "      <td>92881</td>\n",
       "      <td>140945</td>\n",
       "      <td>116913</td>\n",
       "      <td>164977</td>\n",
       "      <td>209765</td>\n",
       "    </tr>\n",
       "    <tr>\n",
       "      <th>8302</th>\n",
       "      <td>operation, solar collector system, Cu flat pla...</td>\n",
       "      <td>8302</td>\n",
       "      <td>89605</td>\n",
       "      <td>137669</td>\n",
       "      <td>113637</td>\n",
       "      <td>161701</td>\n",
       "      <td>206489</td>\n",
       "    </tr>\n",
       "    <tr>\n",
       "      <th>10319</th>\n",
       "      <td>electricity production, wind, 1-3MW turbine, o...</td>\n",
       "      <td>10319</td>\n",
       "      <td>91387</td>\n",
       "      <td>139451</td>\n",
       "      <td>115419</td>\n",
       "      <td>163483</td>\n",
       "      <td>208271</td>\n",
       "    </tr>\n",
       "    <tr>\n",
       "      <th>18352</th>\n",
       "      <td>electricity production, photovoltaic, 3kWp sla...</td>\n",
       "      <td>18352</td>\n",
       "      <td>92843</td>\n",
       "      <td>140907</td>\n",
       "      <td>116875</td>\n",
       "      <td>164939</td>\n",
       "      <td>209727</td>\n",
       "    </tr>\n",
       "    <tr>\n",
       "      <th>20079</th>\n",
       "      <td>heat and power co-generation, wood chips, 6667...</td>\n",
       "      <td>20079</td>\n",
       "      <td>89007</td>\n",
       "      <td>137071</td>\n",
       "      <td>113039</td>\n",
       "      <td>161103</td>\n",
       "      <td>205891</td>\n",
       "    </tr>\n",
       "    <tr>\n",
       "      <th>23758</th>\n",
       "      <td>heat production, wood pellet, at furnace 25kW,...</td>\n",
       "      <td>23758</td>\n",
       "      <td>87162</td>\n",
       "      <td>135226</td>\n",
       "      <td>111194</td>\n",
       "      <td>159258</td>\n",
       "      <td>204046</td>\n",
       "    </tr>\n",
       "    <tr>\n",
       "      <th>213909</th>\n",
       "      <td>electricity supply, Hotel Moeschberg, 2021</td>\n",
       "      <td>213909</td>\n",
       "      <td>213909</td>\n",
       "      <td>213909</td>\n",
       "      <td>213909</td>\n",
       "      <td>213909</td>\n",
       "      <td>213909</td>\n",
       "    </tr>\n",
       "    <tr>\n",
       "      <th>213910</th>\n",
       "      <td>electricity supply, Energie Grosshoechstetten ...</td>\n",
       "      <td>213910</td>\n",
       "      <td>213910</td>\n",
       "      <td>213910</td>\n",
       "      <td>213910</td>\n",
       "      <td>213910</td>\n",
       "      <td>213910</td>\n",
       "    </tr>\n",
       "    <tr>\n",
       "      <th>213911</th>\n",
       "      <td>electricity, subsidised, 2021</td>\n",
       "      <td>213911</td>\n",
       "      <td>213911</td>\n",
       "      <td>213911</td>\n",
       "      <td>213911</td>\n",
       "      <td>213911</td>\n",
       "      <td>213911</td>\n",
       "    </tr>\n",
       "    <tr>\n",
       "      <th>213912</th>\n",
       "      <td>heat supply, Hotel Moeschberg, 2021</td>\n",
       "      <td>213912</td>\n",
       "      <td>213912</td>\n",
       "      <td>213912</td>\n",
       "      <td>213912</td>\n",
       "      <td>213912</td>\n",
       "      <td>213912</td>\n",
       "    </tr>\n",
       "    <tr>\n",
       "      <th>213913</th>\n",
       "      <td>energy demand, operational, Hotel Moeschberg</td>\n",
       "      <td>213913</td>\n",
       "      <td>213913</td>\n",
       "      <td>213913</td>\n",
       "      <td>213913</td>\n",
       "      <td>213913</td>\n",
       "      <td>213913</td>\n",
       "    </tr>\n",
       "  </tbody>\n",
       "</table>\n",
       "</div>"
      ],
      "text/plain": [
       "                                                      name  id_ei38  \\\n",
       "id_ei38                                                               \n",
       "6599           electricity production, hydro, run-of-river     6599   \n",
       "8302     operation, solar collector system, Cu flat pla...     8302   \n",
       "10319    electricity production, wind, 1-3MW turbine, o...    10319   \n",
       "18352    electricity production, photovoltaic, 3kWp sla...    18352   \n",
       "20079    heat and power co-generation, wood chips, 6667...    20079   \n",
       "23758    heat production, wood pellet, at furnace 25kW,...    23758   \n",
       "213909          electricity supply, Hotel Moeschberg, 2021   213909   \n",
       "213910   electricity supply, Energie Grosshoechstetten ...   213910   \n",
       "213911                       electricity, subsidised, 2021   213911   \n",
       "213912                 heat supply, Hotel Moeschberg, 2021   213912   \n",
       "213913        energy demand, operational, Hotel Moeschberg   213913   \n",
       "\n",
       "         id_pre_base  id_pre_19  id_pre_26  id_re_base  id_re_1150  \n",
       "id_ei38                                                             \n",
       "6599           92881     140945     116913      164977      209765  \n",
       "8302           89605     137669     113637      161701      206489  \n",
       "10319          91387     139451     115419      163483      208271  \n",
       "18352          92843     140907     116875      164939      209727  \n",
       "20079          89007     137071     113039      161103      205891  \n",
       "23758          87162     135226     111194      159258      204046  \n",
       "213909        213909     213909     213909      213909      213909  \n",
       "213910        213910     213910     213910      213910      213910  \n",
       "213911        213911     213911     213911      213911      213911  \n",
       "213912        213912     213912     213912      213912      213912  \n",
       "213913        213913     213913     213913      213913      213913  "
      ]
     },
     "execution_count": 102,
     "metadata": {},
     "output_type": "execute_result"
    }
   ],
   "source": [
    "import pandas as pd \n",
    "id_all = []\n",
    "\n",
    "sce_names_dict={\"id_ei38\":\"ei 3.8 cutoff\",\n",
    "\"id_pre_base\":\"EI 3.8 cutoff image SSP2-Base 2050\",\n",
    " \"id_pre_19\":\"EI 3.8 cutoff image SSP2-RCP19 2050\",\n",
    " \"id_pre_26\":\"EI 3.8 cutoff image SSP2-RCP26 2050\",\n",
    "\"id_re_base\":\"EI 3.8 cutoff remind SSP2-Base 2050\",\n",
    "\"id_re_1150\":\"EI 3.8 cutoff remind SSP2-PkBudg1150 2050\",\n",
    "\"id_re_1150\":\"EI 3.8 cutoff remind SSP2-PkBudg500 2050\"\n",
    "}\n",
    "for idx, row in df.iterrows():\n",
    "    act_name = row[\"name\"]\n",
    "    act_location = row[\"location\"]\n",
    "    act_ref = row[\"reference product\"]\n",
    "    row_for_df = {\"name\":row[\"name\"]}\n",
    "    \n",
    "    for name_short, name_long in sce_names_dict.items():\n",
    "        try:\n",
    "            act_bg_id = bd.get_activity(database = name_long,name=act_name,location=act_location, product = act_ref).id\n",
    "        except:\n",
    "            act_bg_id =row[\"id\"]\n",
    "        row_for_df[name_short] = act_bg_id\n",
    "\n",
    "        \n",
    "    id_all.append(row_for_df)\n",
    "scenarios_ids=pd.DataFrame(id_all)    \n",
    "scenarios_ids = scenarios_ids.set_index(\"id_ei38\", drop=False)\n",
    "scenarios_ids"
   ]
  },
  {
   "cell_type": "code",
   "execution_count": 65,
   "id": "e9bf8ce2-f8c1-4a74-8701-795689e48e2d",
   "metadata": {
    "tags": []
   },
   "outputs": [],
   "source": [
    "import pandas as pd\n",
    "matrix_raw = pd.DataFrame({\"row\":rows, \n",
    "                           \"col\":cols, \n",
    "                           \"from\":[mapping_act[idx] for idx in rows], \n",
    "                           \"to\":[mapping_act[idx] for idx in cols],\n",
    "                           \"data\":data\n",
    "                          })\n",
    "matrix = matrix_raw.pivot(index='row',columns='col', values='data').fillna(0)\n",
    "# mapping\n",
    "# matrix_raw"
   ]
  },
  {
   "cell_type": "code",
   "execution_count": 66,
   "id": "809397e2-f1a9-4a99-aef1-bb7e425d5e81",
   "metadata": {
    "collapsed": true,
    "jupyter": {
     "outputs_hidden": true
    },
    "tags": []
   },
   "outputs": [
    {
     "data": {
      "text/plain": [
       "{(6599, 213910): [0.907, True],\n",
       " (6599, 213911): [0.32, True],\n",
       " (8302, 213912): [0.004668, True],\n",
       " (10319, 213911): [0.02, True],\n",
       " (18352, 213909): [0.4406, True],\n",
       " (18352, 213910): [0.026, True],\n",
       " (18352, 213911): [0.46, True],\n",
       " (20079, 213911): [0.2, True],\n",
       " (23758, 213912): [0.9953, True],\n",
       " (213909, 213909): [1.0, False],\n",
       " (213909, 213913): [32179.0, True],\n",
       " (213910, 213909): [0.5594, True],\n",
       " (213910, 213910): [1.0, False],\n",
       " (213911, 213910): [0.067, True],\n",
       " (213911, 213911): [1.0, False],\n",
       " (213912, 213912): [1.0, False],\n",
       " (213912, 213913): [655489.0, True],\n",
       " (213913, 213913): [1.0, False]}"
      ]
     },
     "execution_count": 66,
     "metadata": {},
     "output_type": "execute_result"
    }
   ],
   "source": [
    "# objects[2].metadata[\"name\"]\n",
    "# dp_dict = dict(\n",
    "#         zip(indices.astype(\"object\"),[[tup[0], tup[1]] for tup in zip(data,flip)])\n",
    "#                 )\n",
    "# dp_dict"
   ]
  },
  {
   "cell_type": "code",
   "execution_count": 22,
   "id": "64938ed9-dc0a-4eed-bb95-c7c281297fd7",
   "metadata": {},
   "outputs": [],
   "source": [
    "new_data = np.array([val[0] for val in dp_dict.items()])"
   ]
  },
  {
   "cell_type": "code",
   "execution_count": 23,
   "id": "fadb37b3-8227-4882-b1ee-3f2eb56250b3",
   "metadata": {
    "collapsed": true,
    "jupyter": {
     "outputs_hidden": true
    },
    "tags": []
   },
   "outputs": [
    {
     "data": {
      "text/plain": [
       "{6599: 'electricity production, hydro, run-of-river',\n",
       " 8302: 'operation, solar collector system, Cu flat plate collector, one-family house, for hot water',\n",
       " 10319: 'electricity production, wind, 1-3MW turbine, onshore',\n",
       " 18352: 'electricity production, photovoltaic, 3kWp slanted-roof installation, multi-Si, panel, mounted',\n",
       " 20079: 'heat and power co-generation, wood chips, 6667 kW, state-of-the-art 2014',\n",
       " 23758: 'heat production, wood pellet, at furnace 25kW, state-of-the-art 2014',\n",
       " 213909: 'electricity supply, Hotel Moeschberg, 2021',\n",
       " 213910: 'electricity supply, Energie Grosshoechstetten AG, 2021, guarantees of origin',\n",
       " 213911: 'electricity, subsidised, 2021',\n",
       " 213912: 'heat supply, Hotel Moeschberg, 2021',\n",
       " 213913: 'energy demand, operational, Hotel Moeschberg'}"
      ]
     },
     "execution_count": 23,
     "metadata": {},
     "output_type": "execute_result"
    }
   ],
   "source": [
    "mapping_act"
   ]
  },
  {
   "cell_type": "code",
   "execution_count": 95,
   "id": "db66971b-7c5e-49f8-b3ea-7d91da4825f9",
   "metadata": {},
   "outputs": [],
   "source": [
    "bg_base = \"EI 3.8 cutoff image SSP2-Base 2050\"\n",
    "bg_19 = \"EI 3.8 cutoff image SSP2-RCP19 2050\"\n",
    "bgs = [bg_base, bg_19]\n",
    "db=bd.Database(bg_base)"
   ]
  },
  {
   "cell_type": "code",
   "execution_count": 97,
   "id": "e5dad8f4-e948-4f46-8e39-ce14f2eeb7a5",
   "metadata": {},
   "outputs": [
    {
     "data": {
      "text/plain": [
       "<bw_processing.datapackage.Datapackage at 0x7fbb0c14d990>"
      ]
     },
     "execution_count": 97,
     "metadata": {},
     "output_type": "execute_result"
    }
   ],
   "source": []
  },
  {
   "cell_type": "code",
   "execution_count": 91,
   "id": "9cbfa18b-3499-40e0-82d4-a5c50c68d0ae",
   "metadata": {},
   "outputs": [],
   "source": [
    "\n",
    "def modify_w_arrays(data_object, new_arrays, new_indices_dict):\n",
    "    n = 1\n",
    "    for k,v in new_arrays.items():\n",
    "        n = len(v)        \n",
    "\n",
    "    data, _ = data_object.get_resource(f\"{data_object.metadata['name']}_technosphere_matrix.data\")\n",
    "    indices, _ = data_object.get_resource(f\"{data_object.metadata['name']}_technosphere_matrix.indices\")\n",
    "    flip, _ = data_object.get_resource(f\"{data_object.metadata['name']}_technosphere_matrix.flip\")\n",
    "    \n",
    "    \n",
    "    dp_dict = dict(\n",
    "        zip(indices.astype(\"object\"),[[tup[0], tup[1]] for tup in zip(data,flip)])\n",
    "                        )\n",
    "    for key, value in new_arrays.items():\n",
    "        dp_dict[key][0] = value\n",
    "    \n",
    "    new_foreground = bwp.create_datapackage(\n",
    "    fs = bwp.generic_zipfile_filesystem(dirpath=Path(\"./data/inputs\"), filename=f\"{data_object.metadata['name']}.zip\", write=True),\n",
    "    # combinatorial=True,\n",
    "    sequential=True,\n",
    "    )\n",
    "\n",
    "    for row_col, data_flip in dp_dict.items():\n",
    "        if not isinstance(data_flip[0], np.ndarray):\n",
    "            new_array = np.full((n,), fill_value = data_flip[0])\n",
    "            dp_dict[row_col][0] = new_array\n",
    "            \n",
    "    new_data = np.array([val[0] for val in dp_dict.items()])\n",
    "    \n",
    "    new_indices=[]\n",
    "    for row, col in indices:\n",
    "        new_indices.append((new_indices_dict[row], col))\n",
    "               \n",
    "        \n",
    "    new_foreground.add_persistent_array(\n",
    "    matrix=\"technosphere_matrix\",\n",
    "    data_array=new_data,\n",
    "    indices_array=np.array(new_indices, dtype=bwp.INDICES_DTYPE),  \n",
    "    flip_array=flip,\n",
    "    name=data_object.metadata['name'],\n",
    ")\n",
    "\n",
    "    # return dp_dict\n",
    "    return new_foreground"
   ]
  },
  {
   "cell_type": "code",
   "execution_count": 92,
   "id": "6f70cc2a-c578-42ad-b26b-6a80148f503b",
   "metadata": {},
   "outputs": [
    {
     "data": {
      "text/plain": [
       "{6599: 6599,\n",
       " 8302: 8302,\n",
       " 10319: 10319,\n",
       " 18352: 18352,\n",
       " 20079: 20079,\n",
       " 23758: 23758,\n",
       " 213909: 213909,\n",
       " 213910: 213910,\n",
       " 213911: 213911,\n",
       " 213912: 213912,\n",
       " 213913: 213913}"
      ]
     },
     "execution_count": 92,
     "metadata": {},
     "output_type": "execute_result"
    }
   ],
   "source": [
    "new_ind_dict"
   ]
  },
  {
   "cell_type": "code",
   "execution_count": 103,
   "id": "902f6c47-b020-49e7-bdd6-745c339d8140",
   "metadata": {},
   "outputs": [
    {
     "name": "stderr",
     "output_type": "stream",
     "text": [
      "/tmp/ipykernel_765224/2229086869.py:10: FutureWarning: iteritems is deprecated and will be removed in a future version. Use .items instead.\n",
      "  for col in scenarios_ids.iteritems():\n"
     ]
    },
    {
     "name": "stdout",
     "output_type": "stream",
     "text": [
      "###################################################################################################\n",
      "SCENARIO CALCULATION:  id_ei38\n",
      "###################################################################################################\n",
      "RESULTS [0.027706061564151483, 0.33116044116494214, 0.027706061564151483, 0.33116044116494214]\n",
      "###################################################################################################\n",
      "SCENARIO CALCULATION:  id_pre_base\n",
      "###################################################################################################\n",
      "RESULTS [0.03214454703542381, 0.370111332696073, 0.03214454703542381, 0.370111332696073]\n",
      "###################################################################################################\n",
      "SCENARIO CALCULATION:  id_pre_19\n",
      "###################################################################################################\n",
      "RESULTS [0.02375386848858267, 0.2730573120844077, 0.02375386848858267, 0.2730573120844077]\n",
      "###################################################################################################\n",
      "SCENARIO CALCULATION:  id_pre_26\n",
      "###################################################################################################\n",
      "RESULTS [0.02537896462068675, 0.2914023783530232, 0.02537896462068675, 0.2914023783530232]\n",
      "###################################################################################################\n",
      "SCENARIO CALCULATION:  id_re_base\n",
      "###################################################################################################\n",
      "RESULTS [0.014816984292810151, 0.1795755980623736, 0.014816984292810151, 0.1795755980623736]\n",
      "###################################################################################################\n",
      "SCENARIO CALCULATION:  id_re_1150\n",
      "###################################################################################################\n",
      "RESULTS [0.013050725540178106, 0.15800790306881393, 0.013050725540178106, 0.15800790306881393]\n"
     ]
    }
   ],
   "source": [
    "# bg_base = \"EI 3.8 cutoff image SSP2-Base 2050\"\n",
    "# bg_19 = \"EI 3.8 cutoff image SSP2-RCP19 2050\"\n",
    "# bgs = [bg_base, bg_19]\n",
    "\n",
    "\n",
    "\n",
    "fu = {bd.get_activity(database=\"energy_moeschberg\", name = \"energy demand, operational, Hotel Moeschberg\"):1}\n",
    "fu, objects, remapping_dicts = bd.prepare_lca_inputs(fu, method=('IPCC 2013', 'climate change', 'GWP 100a'))\n",
    "\n",
    "for col in scenarios_ids.iteritems():\n",
    "    scenario_name = col[0]\n",
    "    if \"name\" not in scenario_name: \n",
    "        print(\"###################################################################################################\")\n",
    "        print(\"SCENARIO CALCULATION: \", scenario_name)\n",
    "        print(\"###################################################################################################\")\n",
    "        new_ind_dict= {}\n",
    "        for idx, row in scenarios_ids.iterrows():\n",
    "            original_id = idx\n",
    "            new_id = row[scenario_name]\n",
    "            new_ind_dict[original_id]=new_id\n",
    "            \n",
    "            new_arrays = {\n",
    "                        (213912,213913): [655489,655489*0.5], #PV becomes the unique elec source\n",
    "                        (213909,213913): [32179,32179*1.5],\n",
    "            }\n",
    "        new_foreground = modify_w_arrays(objects[2], new_arrays, new_ind_dict)\n",
    "        db=bd.Database(sce_names_dict[scenario_name])\n",
    "        db_dp = db.datapackage()\n",
    "        \n",
    "        \n",
    "        lca_b = bc.LCA(\n",
    "        demand=fu,\n",
    "        data_objs=objects + [db_dp] + [new_foreground],\n",
    "        use_distributions=False,\n",
    "        use_arrays=True,\n",
    "        )\n",
    "        lca_b.lci()\n",
    "        lca_b.lcia()\n",
    "        lca_b.keep_first_iteration()\n",
    "        iterations = 4\n",
    "        scores_b = [lca_b.score for _ in zip(range(iterations), lca_b)]\n",
    "        print(\"RESULTS\", scores_b)\n"
   ]
  },
  {
   "cell_type": "code",
   "execution_count": 32,
   "id": "eb895418-84bc-4db0-a95b-3bd91531eaa9",
   "metadata": {},
   "outputs": [],
   "source": [
    "aa = modify_w_arrays(objects[2], new_arrays)"
   ]
  },
  {
   "cell_type": "code",
   "execution_count": 62,
   "id": "da5be03c-a627-4fe3-8a42-052d5c8ff143",
   "metadata": {
    "collapsed": true,
    "jupyter": {
     "outputs_hidden": true
    },
    "tags": []
   },
   "outputs": [
    {
     "name": "stdout",
     "output_type": "stream",
     "text": [
      "0           electricity production, hydro, run-of-river\n",
      "1     operation, solar collector system, Cu flat pla...\n",
      "2     electricity production, wind, 1-3MW turbine, o...\n",
      "3     electricity production, photovoltaic, 3kWp sla...\n",
      "4     heat and power co-generation, wood chips, 6667...\n",
      "5     heat production, wood pellet, at furnace 25kW,...\n",
      "6            electricity supply, Hotel Moeschberg, 2021\n",
      "7     electricity supply, Energie Grosshoechstetten ...\n",
      "8                         electricity, subsidised, 2021\n",
      "9                   heat supply, Hotel Moeschberg, 2021\n",
      "10         energy demand, operational, Hotel Moeschberg\n",
      "Name: name, dtype: object\n",
      "0       6599\n",
      "1       8302\n",
      "2      10319\n",
      "3      18352\n",
      "4      20079\n",
      "5      23758\n",
      "6     213909\n",
      "7     213910\n",
      "8     213911\n",
      "9     213912\n",
      "10    213913\n",
      "Name: id_ei38, dtype: int32\n",
      "0      92881\n",
      "1      89605\n",
      "2      91387\n",
      "3      92843\n",
      "4      89007\n",
      "5      87162\n",
      "6     213909\n",
      "7     213910\n",
      "8     213911\n",
      "9     213912\n",
      "10    213913\n",
      "Name: id_pre_base, dtype: int64\n",
      "0     140945\n",
      "1     137669\n",
      "2     139451\n",
      "3     140907\n",
      "4     137071\n",
      "5     135226\n",
      "6     213909\n",
      "7     213910\n",
      "8     213911\n",
      "9     213912\n",
      "10    213913\n",
      "Name: id_pre_19, dtype: int64\n"
     ]
    },
    {
     "name": "stderr",
     "output_type": "stream",
     "text": [
      "/tmp/ipykernel_747396/1499316733.py:1: FutureWarning: iteritems is deprecated and will be removed in a future version. Use .items instead.\n",
      "  for idx, col in scenarios_ids.iteritems():\n"
     ]
    }
   ],
   "source": [
    "for idx, col in scenarios_ids.iteritems():\n",
    "    print(col)"
   ]
  },
  {
   "cell_type": "code",
   "execution_count": 33,
   "id": "0ac424f6-9b20-4250-92c7-0058b800c6b8",
   "metadata": {},
   "outputs": [
    {
     "data": {
      "text/plain": [
       "[0.027706061564151483,\n",
       " 0.33116044116494214,\n",
       " 0.027706061564151483,\n",
       " 0.33116044116494214,\n",
       " 0.027706061564151483,\n",
       " 0.33116044116494214,\n",
       " 0.027706061564151483,\n",
       " 0.33116044116494214,\n",
       " 0.027706061564151483,\n",
       " 0.33116044116494214]"
      ]
     },
     "execution_count": 33,
     "metadata": {},
     "output_type": "execute_result"
    }
   ],
   "source": [
    "for idx, col in scenarios_ids.iteritems()\n",
    "\n",
    "    lca_b = bc.LCA(\n",
    "        demand=fu,\n",
    "        data_objs=objects + [aa],\n",
    "        use_distributions=False,\n",
    "        use_arrays=True,\n",
    "    #     seed_override=42,  # Seed should not be used\n",
    "    )\n",
    "    lca_b.lci()\n",
    "    lca_b.lcia()\n",
    "    lca_b.keep_first_iteration()\n",
    "    iterations = 2\n",
    "    scores_b = [lca_b.score for _ in zip(range(iterations), lca_b)]\n",
    "    print(\"SCENARIO CALC\", scores_b)"
   ]
  },
  {
   "cell_type": "code",
   "execution_count": null,
   "id": "3ae53705-0a6e-4187-a549-a539b7cb9b06",
   "metadata": {},
   "outputs": [],
   "source": []
  }
 ],
 "metadata": {
  "kernelspec": {
   "display_name": "Python [conda env:bw25]",
   "language": "python",
   "name": "conda-env-bw25-py"
  },
  "language_info": {
   "codemirror_mode": {
    "name": "ipython",
    "version": 3
   },
   "file_extension": ".py",
   "mimetype": "text/x-python",
   "name": "python",
   "nbconvert_exporter": "python",
   "pygments_lexer": "ipython3",
   "version": "3.10.6"
  }
 },
 "nbformat": 4,
 "nbformat_minor": 5
}
