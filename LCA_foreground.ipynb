{
 "cells": [
  {
   "cell_type": "markdown",
   "id": "5f128ce5-5f1a-4e5c-aa35-762e3f874046",
   "metadata": {},
   "source": [
    "# Model builder\n",
    "## Life Cycle Assessment of ``{Operational Energy Moerschberg for 1 year: 1}``\n",
    "###[CONTEXT]\n",
    "The model relies on datapackages to ensure replicability of the calculation.\n"
   ]
  },
  {
   "cell_type": "code",
   "execution_count": null,
   "id": "f3cb0d20-9543-482a-a7d7-c0ac2222de82",
   "metadata": {},
   "outputs": [],
   "source": [
    "\"combinatorial\"\n",
    "\"sequential\""
   ]
  },
  {
   "cell_type": "code",
   "execution_count": 146,
   "id": "57462c24-dee0-47d9-8f2d-a3006e9f242d",
   "metadata": {},
   "outputs": [
    {
     "data": {
      "text/plain": [
       "'default'"
      ]
     },
     "execution_count": 146,
     "metadata": {},
     "output_type": "execute_result"
    }
   ],
   "source": [
    "##Uncomment to restore everything\n",
    "\n",
    "# bd.projects.delete_project('ei38-teaching-25', delete_dir=True)"
   ]
  },
  {
   "cell_type": "code",
   "execution_count": 148,
   "id": "7e22fc51-9461-4602-925d-dd285769602a",
   "metadata": {},
   "outputs": [
    {
     "name": "stdout",
     "output_type": "stream",
     "text": [
      "Restoring project backup archive - this could take a few minutes...\n"
     ]
    }
   ],
   "source": [
    "import bw2data as bd\n",
    "import bw2calc as bc\n",
    "import bw2io as bi\n",
    "import bw_processing as bwp\n",
    "import numpy as np\n",
    "from pathlib import Path\n",
    "\n",
    "\n",
    "if 'ei38-teaching-25' not in bd.projects:\n",
    "    bi.restore_project_directory(\"/srv/data/projects/ecoinvent38-25.tar.gz\")\n",
    "# bd.projects.delete_project(\"moeschpond1\", delete_dir=True)\n",
    "# if 'moeschpond1' not in bd.projects:    \n",
    "#     backup=\"brightway2-project-moeschpond1-backup.27-October-2022-09-50AM.tar.gz\"\n",
    "#     premise_path  = \"/srv/scratch/u.2/\" + backup\n",
    "#     bi.restore_project_directory(premise_path)\n",
    "# bd.projects.set_current('moeschpond1')\n",
    "bd.projects.set_current('ei38-teaching-25')\n"
   ]
  },
  {
   "cell_type": "code",
   "execution_count": 149,
   "id": "70bf5428-1c20-4cc6-801c-fede8a3c6eca",
   "metadata": {
    "tags": []
   },
   "outputs": [
    {
     "data": {
      "text/plain": [
       "Databases dictionary with 2 object(s):\n",
       "\tbiosphere3\n",
       "\tei 3.8 cutoff"
      ]
     },
     "execution_count": 149,
     "metadata": {},
     "output_type": "execute_result"
    }
   ],
   "source": [
    "bd.databases"
   ]
  },
  {
   "cell_type": "code",
   "execution_count": 150,
   "id": "35105b06-6eff-4bcc-b45c-ce3e0219fbdd",
   "metadata": {
    "tags": []
   },
   "outputs": [
    {
     "name": "stdout",
     "output_type": "stream",
     "text": [
      "Extracted 1 worksheets in 0.02 seconds\n",
      "Applying strategy: csv_restore_tuples\n",
      "Applying strategy: csv_restore_booleans\n",
      "Applying strategy: csv_numerize\n",
      "Applying strategy: csv_drop_unknown\n",
      "Applying strategy: csv_add_missing_exchanges_section\n",
      "Applying strategy: normalize_units\n",
      "Applying strategy: normalize_biosphere_categories\n",
      "Applying strategy: normalize_biosphere_names\n",
      "Applying strategy: strip_biosphere_exc_locations\n",
      "Applying strategy: set_code_by_activity_hash\n",
      "Applying strategy: link_iterable_by_fields\n",
      "Applying strategy: assign_only_product_as_production\n",
      "Applying strategy: link_technosphere_by_activity_hash\n",
      "Applying strategy: drop_falsey_uncertainty_fields_but_keep_zeros\n",
      "Applying strategy: convert_uncertainty_types_to_integers\n",
      "Applying strategy: convert_activity_parameters_to_list\n",
      "Applied 16 strategies in 7.26 seconds\n",
      "Applying strategy: link_iterable_by_fields\n",
      "Applying strategy: link_iterable_by_fields\n",
      "11 datasets\n",
      "151 exchanges\n",
      "0 unlinked exchanges\n",
      "  \n",
      "Warning: No valid output stream.\n",
      "Title: Writing activities to SQLite3 database:\n",
      "  Started: 10/27/2022 12:52:50\n",
      "  Finished: 10/27/2022 12:52:50\n",
      "  Total time elapsed: 00:00:00\n",
      "  CPU %: 109.00\n",
      "  Memory %: 0.52\n",
      "Created database: foreground\n"
     ]
    }
   ],
   "source": [
    "# if \"foreground\" in bd.databases:\n",
    "#     del bd.databases[\"foreground\"]\n",
    "    \n",
    "foreground_importer = bi.ExcelImporter(\"./data/inputs/foreground.xlsx\")\n",
    "for act in foreground_importer.data:\n",
    "    # print(act[\"name\"])\n",
    "    for exc in act[\"exchanges\"]:\n",
    "        if \"classifications\" in exc:\n",
    "            exc.pop(\"classifications\")\n",
    "        if \"properties\" in exc:\n",
    "            exc.pop(\"properties\")   \n",
    "foreground_importer.apply_strategies()\n",
    "foreground_importer.match_database(\"biosphere3\", fields=(\"name\", \"unit\", \"categories\"))\n",
    "foreground_importer.match_database(\"ei 3.8 cutoff\", fields=(\"name\", \"unit\", \"location\"))\n",
    "foreground_importer.statistics()\n",
    "foreground_importer.write_database()"
   ]
  },
  {
   "cell_type": "code",
   "execution_count": 151,
   "id": "0803ee24-8670-424a-949e-350069d38e5c",
   "metadata": {},
   "outputs": [],
   "source": [
    "fu = {bd.get_activity(database=\"foreground\", name = \"Operationnal energy demand\"):1}"
   ]
  },
  {
   "cell_type": "code",
   "execution_count": 5,
   "id": "9ba80c61-6b12-40fd-9e83-11a77144fb56",
   "metadata": {},
   "outputs": [],
   "source": [
    "# ## Creating datapackage for each method\n",
    "# method_hint = \"IPCC\"\n",
    "# data_objs_methods = []\n",
    "# methods = [method for method in bd.methods if method_hint in method[0]]\n",
    "# for method in methods:\n",
    "#     _, objs, __ = bd.prepare_lca_inputs(method=method)\n",
    "#     data_objs_methods += objs"
   ]
  },
  {
   "cell_type": "code",
   "execution_count": 152,
   "id": "31ad6b25-ce0c-419f-8bce-2b469f9e939d",
   "metadata": {
    "tags": []
   },
   "outputs": [],
   "source": [
    "### it returns functional_unit, data_objects, and a mapping dictionary\n",
    "fu, objects, remapping_dicts = bd.prepare_lca_inputs(fu, method=('IPCC 2013', 'climate change', 'GWP 100a'))\n"
   ]
  },
  {
   "cell_type": "code",
   "execution_count": 158,
   "id": "bd56dcaf-5ecf-432d-b2a0-ab224d473715",
   "metadata": {},
   "outputs": [
    {
     "name": "stdout",
     "output_type": "stream",
     "text": [
      "biosphere3\n",
      "ei_3.8_cutoff\n",
      "foreground\n",
      "ipcc-2013cg.bd5af3f67229a1cc291b8ecb7f316fcf.zip\n"
     ]
    }
   ],
   "source": [
    "for obj in objects:\n",
    "    print(obj.metadata[\"name\"])"
   ]
  },
  {
   "cell_type": "code",
   "execution_count": 164,
   "id": "8bf1fcab-64a0-4a57-89d9-3c4f8357a879",
   "metadata": {},
   "outputs": [],
   "source": [
    "data, _ = objects[2].get_resource(\"foreground_technosphere_matrix.data\")\n",
    "indices, _ = objects[2].get_resource(\"foreground_technosphere_matrix.indices\")\n",
    "flip, _ = objects[2].get_resource(\"foreground_technosphere_matrix.flip\")\n",
    "\n"
   ]
  },
  {
   "cell_type": "code",
   "execution_count": 168,
   "id": "cfd6a210-5959-4623-a093-8e9d132c7a96",
   "metadata": {},
   "outputs": [
    {
     "data": {
      "text/plain": [
       "'Silicon, in ground' (kilogram, None, ('natural resource', 'in ground'))"
      ]
     },
     "execution_count": 168,
     "metadata": {},
     "output_type": "execute_result"
    }
   ],
   "source": []
  },
  {
   "cell_type": "code",
   "execution_count": 7,
   "id": "4c5c3f97-9b93-42ce-9c26-30b7f7c89495",
   "metadata": {
    "tags": []
   },
   "outputs": [],
   "source": [
    "database_name = \"ei 3.8 cutoff\"\n",
    "wood_pellet = bd.get_activity(\n",
    "    database=database_name, \n",
    "    name='wood pellets, burned in stirling heat and power co-generation unit, 3kW electrical, future', \n",
    "    unit = \"megajoule\"\n",
    "    )"
   ]
  },
  {
   "cell_type": "code",
   "execution_count": 8,
   "id": "203a5d25-9bf3-4fe8-9939-eb61791be847",
   "metadata": {},
   "outputs": [
    {
     "data": {
      "text/plain": [
       "19364"
      ]
     },
     "execution_count": 8,
     "metadata": {},
     "output_type": "execute_result"
    }
   ],
   "source": [
    "wood_pellet.id"
   ]
  },
  {
   "cell_type": "code",
   "execution_count": 9,
   "id": "9df01484",
   "metadata": {
    "collapsed": false,
    "jupyter": {
     "outputs_hidden": false
    },
    "pycharm": {
     "name": "#%%\n"
    }
   },
   "outputs": [
    {
     "data": {
      "text/plain": [
       "'wood pellets, burned in stirling heat and power co-generation unit, 3kW electrical, future' (megajoule, CH, None)"
      ]
     },
     "execution_count": 9,
     "metadata": {},
     "output_type": "execute_result"
    }
   ],
   "source": [
    "bd.get_activity(\n",
    "    id=19364\n",
    "    )"
   ]
  },
  {
   "cell_type": "code",
   "execution_count": 10,
   "id": "0ace061e-5e6f-4a89-a4a5-772347df7920",
   "metadata": {},
   "outputs": [],
   "source": [
    "import json\n",
    "with open(\"data/inputs/dict_id.json\") as data:\n",
    "    dicto = json.load(data)"
   ]
  },
  {
   "cell_type": "code",
   "execution_count": 11,
   "id": "502e5012-5702-481e-bddb-d698d0bb1a90",
   "metadata": {},
   "outputs": [
    {
     "data": {
      "text/plain": [
       "{'wood pellets, burned in stirling heat and power co-generation unit, 3kW electrical, future': 19364,\n",
       " 'operation, solar collector system, Cu flat plate collector, one-family house, for hot water': 8302,\n",
       " 'electricity production, photovoltaic, 3kWp slanted-roof installation, multi-Si, panel, mounted': 18352,\n",
       " 'electricity production, wind, 1-3MW turbine, onshore': 10319,\n",
       " 'electricity production, hydro, run-of-river': 6599,\n",
       " 'heat and power co-generation, wood chips, 6667 kW, state-of-the-art 2014': 20079}"
      ]
     },
     "execution_count": 11,
     "metadata": {},
     "output_type": "execute_result"
    }
   ],
   "source": [
    "dicto"
   ]
  },
  {
   "cell_type": "code",
   "execution_count": 12,
   "id": "2fa78685-a274-47f4-b568-39bff88d04ef",
   "metadata": {},
   "outputs": [
    {
     "name": "stderr",
     "output_type": "stream",
     "text": [
      "/tmp/ipykernel_32564/2455489822.py:2: VisibleDeprecationWarning: Creating an ndarray from ragged nested sequences (which is a list-or-tuple of lists-or-tuples-or ndarrays with different lengths or shapes) is deprecated. If you meant to do this, you must specify 'dtype=object' when creating the ndarray.\n",
      "  my_node = np.array([\n"
     ]
    }
   ],
   "source": [
    "my_id =1_000_000\n",
    "my_node = np.array([\n",
    "    [(my_id,my_id), 1, False], \n",
    "    [(19364,my_id), 1, True],\n",
    "    [(8302,my_id), 1, True],   \n",
    "    [(18352,my_id), 1, True],   \n",
    "    [(10319,my_id), 1, True],   \n",
    "    [(6599,my_id), 1, True],   \n",
    "    [(20079,my_id), 1, True],   \n",
    "              ])\n",
    "\n",
    "indices = my_node[:,0].astype(bwp.INDICES_DTYPE)\n",
    "data = my_node[:,1].astype(float)\n",
    "flip = my_node[:,2].astype(bool)"
   ]
  },
  {
   "cell_type": "code",
   "execution_count": 13,
   "id": "d15c3a36-8b9a-4dad-afa9-307f40f9f5ef",
   "metadata": {},
   "outputs": [],
   "source": [
    "## Creating the node representing \"Operational Energy Moerschberg for 1 year\"\n",
    "foreground = bwp.create_datapackage(\n",
    "fs = bwp.generic_zipfile_filesystem(dirpath=Path(\"./data/inputs\"), filename=\"foreground.zip\", write=True)\n",
    ")\n",
    "\n",
    "foreground.add_persistent_vector(\n",
    "    matrix=\"technosphere_matrix\",\n",
    "    data_array=data,\n",
    "    indices_array=indices,\n",
    "    flip_array=flip,\n",
    "    name=\"example\",\n",
    ")"
   ]
  },
  {
   "cell_type": "code",
   "execution_count": 14,
   "id": "9620f4b0",
   "metadata": {
    "collapsed": false,
    "jupyter": {
     "outputs_hidden": false
    },
    "pycharm": {
     "name": "#%%\n"
    }
   },
   "outputs": [],
   "source": [
    "resource=foreground.resources[0]\n",
    "if resource[\"matrix\"] == \"technosphere_matrix\" and resource[\"kind\"]==\"indices\":\n",
    "    indices,_ = foreground.get_resource(resource[\"name\"])\n",
    "    unique_indices = set([a for b in indices for a in b])"
   ]
  },
  {
   "cell_type": "code",
   "execution_count": 15,
   "id": "c4413f39",
   "metadata": {
    "collapsed": false,
    "jupyter": {
     "outputs_hidden": false
    },
    "pycharm": {
     "name": "#%%\n"
    }
   },
   "outputs": [
    {
     "data": {
      "text/plain": [
       "{6599, 8302, 10319, 18352, 19364, 20079, 1000000}"
      ]
     },
     "execution_count": 15,
     "metadata": {},
     "output_type": "execute_result"
    }
   ],
   "source": [
    "unique_indices"
   ]
  },
  {
   "cell_type": "code",
   "execution_count": 16,
   "id": "0368d67c",
   "metadata": {
    "collapsed": false,
    "jupyter": {
     "outputs_hidden": false
    },
    "pycharm": {
     "name": "#%%\n"
    }
   },
   "outputs": [],
   "source": [
    "from utils import database_creator\n",
    "dict_metadata = {\n",
    "    100000:{\n",
    "        \"name\":\"Production of example\",\n",
    "        \"code\":\"Production of example\".replace(\" \",\"_\"),\n",
    "        \"location\":\"CH\",\n",
    "        \"unit\":\"kg\"\n",
    "\n",
    "    }\n",
    "}\n",
    "database_creator(db_name=\"terrible_example\",data_objs=[foreground], dict_metadata=dict_metadata)"
   ]
  },
  {
   "cell_type": "code",
   "execution_count": 17,
   "id": "a842e054",
   "metadata": {
    "collapsed": false,
    "jupyter": {
     "outputs_hidden": false
    },
    "pycharm": {
     "name": "#%%\n"
    }
   },
   "outputs": [
    {
     "data": {
      "text/plain": [
       "Databases dictionary with 3 object(s):\n",
       "\tbiosphere3\n",
       "\tei 3.8 cutoff\n",
       "\tterrible_example"
      ]
     },
     "execution_count": 17,
     "metadata": {},
     "output_type": "execute_result"
    }
   ],
   "source": [
    "bd.databases"
   ]
  },
  {
   "cell_type": "code",
   "execution_count": 20,
   "id": "45d80b2a",
   "metadata": {
    "collapsed": false,
    "jupyter": {
     "outputs_hidden": false
    },
    "pycharm": {
     "name": "#%%\n"
    }
   },
   "outputs": [
    {
     "data": {
      "text/plain": [
       "[]"
      ]
     },
     "execution_count": 20,
     "metadata": {},
     "output_type": "execute_result"
    }
   ],
   "source": [
    "list(bd.Database(\"terrible_example\"))"
   ]
  },
  {
   "cell_type": "code",
   "execution_count": 19,
   "id": "986e8bd6",
   "metadata": {
    "collapsed": false,
    "jupyter": {
     "outputs_hidden": false
    },
    "pycharm": {
     "name": "#%%\n"
    }
   },
   "outputs": [
    {
     "ename": "NameError",
     "evalue": "name 'dp' is not defined",
     "output_type": "error",
     "traceback": [
      "\u001b[0;31m---------------------------------------------------------------------------\u001b[0m",
      "\u001b[0;31mNameError\u001b[0m                                 Traceback (most recent call last)",
      "Input \u001b[0;32mIn [19]\u001b[0m, in \u001b[0;36m<cell line: 1>\u001b[0;34m()\u001b[0m\n\u001b[0;32m----> 1\u001b[0m lca \u001b[38;5;241m=\u001b[39m bc\u001b[38;5;241m.\u001b[39mLCA({my_id: \u001b[38;5;241m1\u001b[39m}, data_objs\u001b[38;5;241m=\u001b[39m[data_objs_ei38] \u001b[38;5;241m+\u001b[39m method_test \u001b[38;5;241m+\u001b[39m [\u001b[43mdp\u001b[49m])\n\u001b[1;32m      2\u001b[0m lca\u001b[38;5;241m.\u001b[39mlci()\n\u001b[1;32m      3\u001b[0m lca\u001b[38;5;241m.\u001b[39mlcia()\n",
      "\u001b[0;31mNameError\u001b[0m: name 'dp' is not defined"
     ]
    }
   ],
   "source": [
    "lca = bc.LCA({my_id: 1}, data_objs=[data_objs_ei38] + method_test + [dp])\n",
    "lca.lci()\n",
    "lca.lcia()\n",
    "lca.score"
   ]
  },
  {
   "cell_type": "code",
   "execution_count": 37,
   "id": "91a6df3d-f440-40a8-837d-40c26ca1cb37",
   "metadata": {},
   "outputs": [
    {
     "data": {
      "text/plain": [
       "0.004655632602942411"
      ]
     },
     "execution_count": 37,
     "metadata": {},
     "output_type": "execute_result"
    }
   ],
   "source": [
    "# lca = bc.LCA({19364: 1}, data_objs=[data_objs_ei38] + method_test)\n",
    "# lca.lci()\n",
    "# lca.lcia()\n",
    "# lca.score"
   ]
  },
  {
   "cell_type": "code",
   "execution_count": 55,
   "id": "93daa62b-69ba-43a3-8702-00b5c520ac89",
   "metadata": {
    "pycharm": {
     "name": "#%%\n"
    }
   },
   "outputs": [],
   "source": [
    "foreground.finalize_serialization()"
   ]
  }
 ],
 "metadata": {
  "kernelspec": {
   "display_name": "Python [conda env:bw25]",
   "language": "python",
   "name": "conda-env-bw25-py"
  },
  "language_info": {
   "codemirror_mode": {
    "name": "ipython",
    "version": 3
   },
   "file_extension": ".py",
   "mimetype": "text/x-python",
   "name": "python",
   "nbconvert_exporter": "python",
   "pygments_lexer": "ipython3",
   "version": "3.10.6"
  }
 },
 "nbformat": 4,
 "nbformat_minor": 5
}
