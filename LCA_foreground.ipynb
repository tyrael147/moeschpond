{
 "cells": [
  {
   "cell_type": "markdown",
   "id": "5f128ce5-5f1a-4e5c-aa35-762e3f874046",
   "metadata": {},
   "source": [
    "# Model builder\n",
    "## Life Cycle Assessment of ``{Operational Energy Moerschberg for 1 year: 1}``\n",
    "###[CONTEXT]\n",
    "The model relies on datapackages to ensure replicability of the calculation.\n"
   ]
  },
  {
   "cell_type": "code",
   "execution_count": null,
   "id": "f3cb0d20-9543-482a-a7d7-c0ac2222de82",
   "metadata": {},
   "outputs": [],
   "source": [
    "# \"combinatorial\"\n",
    "# \"sequential\""
   ]
  },
  {
   "cell_type": "code",
   "execution_count": 146,
   "id": "57462c24-dee0-47d9-8f2d-a3006e9f242d",
   "metadata": {},
   "outputs": [
    {
     "data": {
      "text/plain": [
       "'default'"
      ]
     },
     "execution_count": 146,
     "metadata": {},
     "output_type": "execute_result"
    }
   ],
   "source": [
    "###Uncomment to restore everything\n",
    "\n",
    "# bd.projects.delete_project('ei38-teaching-25', delete_dir=True)"
   ]
  },
  {
   "cell_type": "code",
   "execution_count": 364,
   "id": "7e22fc51-9461-4602-925d-dd285769602a",
   "metadata": {},
   "outputs": [
    {
     "name": "stdout",
     "output_type": "stream",
     "text": [
      "Restoring project backup archive - this could take a few minutes...\n"
     ]
    }
   ],
   "source": [
    "import bw2data as bd\n",
    "import bw2calc as bc\n",
    "import bw2io as bi\n",
    "import bw_processing as bwp\n",
    "import numpy as np\n",
    "from pathlib import Path\n",
    "\n",
    "\n",
    "if 'ei38-teaching-25' not in bd.projects:\n",
    "    bi.restore_project_directory(\"/srv/data/projects/ecoinvent38-25.tar.gz\")\n",
    "# bd.projects.delete_project(\"moeschpond1\", delete_dir=True)\n",
    "# if 'moeschpond1' not in bd.projects:    \n",
    "#     backup=\"brightway2-project-moeschpond1-backup.27-October-2022-09-50AM.tar.gz\"\n",
    "#     premise_path  = \"/srv/scratch/u.2/\" + backup\n",
    "#     bi.restore_project_directory(premise_path)\n",
    "# bd.projects.set_current('moeschpond1')\n",
    "bd.projects.set_current('ei38-teaching-25')\n"
   ]
  },
  {
   "cell_type": "code",
   "execution_count": 363,
   "id": "603d5dee-160b-4f30-a0c7-ebb210ff0293",
   "metadata": {},
   "outputs": [
    {
     "data": {
      "text/plain": [
       "'default'"
      ]
     },
     "execution_count": 363,
     "metadata": {},
     "output_type": "execute_result"
    }
   ],
   "source": [
    "bd.projects.delete_project(\"ei38-teaching-25\")"
   ]
  },
  {
   "cell_type": "code",
   "execution_count": 365,
   "id": "70bf5428-1c20-4cc6-801c-fede8a3c6eca",
   "metadata": {
    "tags": []
   },
   "outputs": [
    {
     "data": {
      "text/plain": [
       "Databases dictionary with 2 object(s):\n",
       "\tbiosphere3\n",
       "\tei 3.8 cutoff"
      ]
     },
     "execution_count": 365,
     "metadata": {},
     "output_type": "execute_result"
    }
   ],
   "source": [
    "bd.databases"
   ]
  },
  {
   "cell_type": "code",
   "execution_count": 366,
   "id": "35105b06-6eff-4bcc-b45c-ce3e0219fbdd",
   "metadata": {
    "tags": []
   },
   "outputs": [
    {
     "name": "stdout",
     "output_type": "stream",
     "text": [
      "Extracted 1 worksheets in 0.01 seconds\n",
      "Applying strategy: csv_restore_tuples\n",
      "Applying strategy: csv_restore_booleans\n",
      "Applying strategy: csv_numerize\n",
      "Applying strategy: csv_drop_unknown\n",
      "Applying strategy: csv_add_missing_exchanges_section\n",
      "Applying strategy: normalize_units\n",
      "Applying strategy: normalize_biosphere_categories\n",
      "Applying strategy: normalize_biosphere_names\n",
      "Applying strategy: strip_biosphere_exc_locations\n",
      "Applying strategy: set_code_by_activity_hash\n",
      "Applying strategy: link_iterable_by_fields\n",
      "Applying strategy: assign_only_product_as_production\n",
      "Applying strategy: link_technosphere_by_activity_hash\n",
      "Applying strategy: drop_falsey_uncertainty_fields_but_keep_zeros\n",
      "Applying strategy: convert_uncertainty_types_to_integers\n",
      "Applying strategy: convert_activity_parameters_to_list\n",
      "Applied 16 strategies in 7.64 seconds\n",
      "Applying strategy: link_iterable_by_fields\n",
      "Applying strategy: link_iterable_by_fields\n",
      "5 datasets\n",
      "18 exchanges\n",
      "0 unlinked exchanges\n",
      "  \n",
      "Warning: No valid output stream.\n",
      "Title: Writing activities to SQLite3 database:\n",
      "  Started: 10/27/2022 16:17:09\n",
      "  Finished: 10/27/2022 16:17:09\n",
      "  Total time elapsed: 00:00:00\n",
      "  CPU %: 0.00\n",
      "  Memory %: 0.62\n",
      "Created database: energy_moeschberg\n"
     ]
    }
   ],
   "source": [
    "# if \"foreground\" in bd.databases:\n",
    "#     del bd.databases[\"foreground\"]\n",
    "    \n",
    "foreground_importer = bi.ExcelImporter(\"./data/inputs/lci_moeschberg.xlsx\")\n",
    "# for act in foreground_importer.data:\n",
    "#     # print(act[\"name\"])\n",
    "#     for exc in act[\"exchanges\"]:\n",
    "#         if \"classifications\" in exc:\n",
    "#             exc.pop(\"classifications\")\n",
    "#         if \"properties\" in exc:\n",
    "#             exc.pop(\"properties\")   \n",
    "foreground_importer.apply_strategies()\n",
    "foreground_importer.match_database(\"biosphere3\", fields=(\"name\", \"unit\", \"categories\"))\n",
    "foreground_importer.match_database(\"ei 3.8 cutoff\", fields=(\"name\", \"unit\", \"location\"))\n",
    "foreground_importer.statistics()\n",
    "foreground_importer.write_database()"
   ]
  },
  {
   "cell_type": "code",
   "execution_count": 323,
   "id": "84f7e120-6cdc-4063-b599-69732eb92995",
   "metadata": {
    "collapsed": true,
    "jupyter": {
     "outputs_hidden": true
    },
    "tags": []
   },
   "outputs": [
    {
     "name": "stdout",
     "output_type": "stream",
     "text": [
      "Extracted 1 worksheets in 0.01 seconds\n",
      "Applying strategy: csv_restore_tuples\n",
      "Applying strategy: csv_restore_booleans\n",
      "Applying strategy: csv_numerize\n",
      "Applying strategy: csv_drop_unknown\n",
      "Applying strategy: csv_add_missing_exchanges_section\n",
      "Applying strategy: normalize_units\n",
      "Applying strategy: normalize_biosphere_categories\n",
      "Applying strategy: normalize_biosphere_names\n",
      "Applying strategy: strip_biosphere_exc_locations\n",
      "Applying strategy: set_code_by_activity_hash\n",
      "Applying strategy: link_iterable_by_fields\n"
     ]
    },
    {
     "ename": "KeyboardInterrupt",
     "evalue": "",
     "output_type": "error",
     "traceback": [
      "\u001b[0;31m---------------------------------------------------------------------------\u001b[0m",
      "\u001b[0;31mKeyboardInterrupt\u001b[0m                         Traceback (most recent call last)",
      "Cell \u001b[0;32mIn [323], line 9\u001b[0m\n\u001b[1;32m      1\u001b[0m foreground_importer \u001b[38;5;241m=\u001b[39m bi\u001b[38;5;241m.\u001b[39mExcelImporter(\u001b[38;5;124m\"\u001b[39m\u001b[38;5;124m./data/inputs/layered oxide cathode type_HC anode SIB .xlsx\u001b[39m\u001b[38;5;124m\"\u001b[39m)\n\u001b[1;32m      2\u001b[0m \u001b[38;5;66;03m# for act in foreground_importer.data:\u001b[39;00m\n\u001b[1;32m      3\u001b[0m \u001b[38;5;66;03m#     # print(act[\"name\"])\u001b[39;00m\n\u001b[1;32m      4\u001b[0m \u001b[38;5;66;03m#     for exc in act[\"exchanges\"]:\u001b[39;00m\n\u001b[0;32m   (...)\u001b[0m\n\u001b[1;32m      7\u001b[0m \u001b[38;5;66;03m#         if \"properties\" in exc:\u001b[39;00m\n\u001b[1;32m      8\u001b[0m \u001b[38;5;66;03m#             exc.pop(\"properties\")   \u001b[39;00m\n\u001b[0;32m----> 9\u001b[0m foreground_importer\u001b[38;5;241m.\u001b[39mapply_strategies()\n\u001b[1;32m     10\u001b[0m foreground_importer\u001b[38;5;241m.\u001b[39mmatch_database(\u001b[38;5;124m\"\u001b[39m\u001b[38;5;124mbiosphere3\u001b[39m\u001b[38;5;124m\"\u001b[39m, fields\u001b[38;5;241m=\u001b[39m(\u001b[38;5;124m\"\u001b[39m\u001b[38;5;124mname\u001b[39m\u001b[38;5;124m\"\u001b[39m, \u001b[38;5;124m\"\u001b[39m\u001b[38;5;124munit\u001b[39m\u001b[38;5;124m\"\u001b[39m, \u001b[38;5;124m\"\u001b[39m\u001b[38;5;124mcategories\u001b[39m\u001b[38;5;124m\"\u001b[39m))\n\u001b[1;32m     11\u001b[0m foreground_importer\u001b[38;5;241m.\u001b[39mmatch_database(\u001b[38;5;124m\"\u001b[39m\u001b[38;5;124mei 3.8 cutoff\u001b[39m\u001b[38;5;124m\"\u001b[39m, fields\u001b[38;5;241m=\u001b[39m(\u001b[38;5;124m\"\u001b[39m\u001b[38;5;124mname\u001b[39m\u001b[38;5;124m\"\u001b[39m, \u001b[38;5;124m\"\u001b[39m\u001b[38;5;124munit\u001b[39m\u001b[38;5;124m\"\u001b[39m, \u001b[38;5;124m\"\u001b[39m\u001b[38;5;124mlocation\u001b[39m\u001b[38;5;124m\"\u001b[39m))\n",
      "File \u001b[0;32m/opt/tljh/user/envs/bw25/lib/python3.10/site-packages/bw2io/importers/base.py:69\u001b[0m, in \u001b[0;36mImportBase.apply_strategies\u001b[0;34m(self, strategies, verbose)\u001b[0m\n\u001b[1;32m     67\u001b[0m total \u001b[38;5;241m=\u001b[39m \u001b[38;5;28mlen\u001b[39m(func_list)\n\u001b[1;32m     68\u001b[0m \u001b[38;5;28;01mfor\u001b[39;00m i, func \u001b[38;5;129;01min\u001b[39;00m \u001b[38;5;28menumerate\u001b[39m(func_list):\n\u001b[0;32m---> 69\u001b[0m     \u001b[38;5;28;43mself\u001b[39;49m\u001b[38;5;241;43m.\u001b[39;49m\u001b[43mapply_strategy\u001b[49m\u001b[43m(\u001b[49m\u001b[43mfunc\u001b[49m\u001b[43m,\u001b[49m\u001b[43m \u001b[49m\u001b[43mverbose\u001b[49m\u001b[43m)\u001b[49m\n\u001b[1;32m     70\u001b[0m     \u001b[38;5;28;01mif\u001b[39;00m \u001b[38;5;28mhasattr\u001b[39m(\u001b[38;5;28mself\u001b[39m, \u001b[38;5;124m\"\u001b[39m\u001b[38;5;124msignal\u001b[39m\u001b[38;5;124m\"\u001b[39m) \u001b[38;5;129;01mand\u001b[39;00m \u001b[38;5;28mhasattr\u001b[39m(\u001b[38;5;28mself\u001b[39m\u001b[38;5;241m.\u001b[39msignal, \u001b[38;5;124m\"\u001b[39m\u001b[38;5;124memit\u001b[39m\u001b[38;5;124m\"\u001b[39m):\n\u001b[1;32m     71\u001b[0m         \u001b[38;5;28mself\u001b[39m\u001b[38;5;241m.\u001b[39msignal\u001b[38;5;241m.\u001b[39memit(i \u001b[38;5;241m+\u001b[39m \u001b[38;5;241m1\u001b[39m, total)\n",
      "File \u001b[0;32m/opt/tljh/user/envs/bw25/lib/python3.10/site-packages/bw2io/importers/base.py:48\u001b[0m, in \u001b[0;36mImportBase.apply_strategy\u001b[0;34m(self, strategy, verbose)\u001b[0m\n\u001b[1;32m     46\u001b[0m     \u001b[38;5;28mprint\u001b[39m(\u001b[38;5;124m\"\u001b[39m\u001b[38;5;124mApplying strategy: \u001b[39m\u001b[38;5;132;01m{}\u001b[39;00m\u001b[38;5;124m\"\u001b[39m\u001b[38;5;241m.\u001b[39mformat(func_name))\n\u001b[1;32m     47\u001b[0m \u001b[38;5;28;01mtry\u001b[39;00m:\n\u001b[0;32m---> 48\u001b[0m     \u001b[38;5;28mself\u001b[39m\u001b[38;5;241m.\u001b[39mdata \u001b[38;5;241m=\u001b[39m \u001b[43mstrategy\u001b[49m\u001b[43m(\u001b[49m\u001b[38;5;28;43mself\u001b[39;49m\u001b[38;5;241;43m.\u001b[39;49m\u001b[43mdata\u001b[49m\u001b[43m)\u001b[49m\n\u001b[1;32m     49\u001b[0m     \u001b[38;5;28mself\u001b[39m\u001b[38;5;241m.\u001b[39mapplied_strategies\u001b[38;5;241m.\u001b[39mappend(func_name)\n\u001b[1;32m     50\u001b[0m \u001b[38;5;28;01mexcept\u001b[39;00m StrategyError \u001b[38;5;28;01mas\u001b[39;00m err:\n",
      "File \u001b[0;32m/opt/tljh/user/envs/bw25/lib/python3.10/site-packages/bw2io/strategies/generic.py:53\u001b[0m, in \u001b[0;36mlink_iterable_by_fields\u001b[0;34m(unlinked, other, fields, kind, internal, relink)\u001b[0m\n\u001b[1;32m     50\u001b[0m \u001b[38;5;28;01mtry\u001b[39;00m:\n\u001b[1;32m     51\u001b[0m     \u001b[38;5;66;03m# Other can be a generator, so a bit convoluted\u001b[39;00m\n\u001b[1;32m     52\u001b[0m     \u001b[38;5;28;01mfor\u001b[39;00m ds \u001b[38;5;129;01min\u001b[39;00m other:\n\u001b[0;32m---> 53\u001b[0m         key \u001b[38;5;241m=\u001b[39m \u001b[43mactivity_hash\u001b[49m\u001b[43m(\u001b[49m\u001b[43mds\u001b[49m\u001b[43m,\u001b[49m\u001b[43m \u001b[49m\u001b[43mfields\u001b[49m\u001b[43m)\u001b[49m\n\u001b[1;32m     54\u001b[0m         \u001b[38;5;28;01mif\u001b[39;00m key \u001b[38;5;129;01min\u001b[39;00m candidates:\n\u001b[1;32m     55\u001b[0m             duplicates\u001b[38;5;241m.\u001b[39msetdefault(key, [])\u001b[38;5;241m.\u001b[39mappend(ds)\n",
      "File \u001b[0;32m/opt/tljh/user/envs/bw25/lib/python3.10/site-packages/bw2io/utils.py:46\u001b[0m, in \u001b[0;36mactivity_hash\u001b[0;34m(data, fields, case_insensitive)\u001b[0m\n\u001b[1;32m     43\u001b[0m         \u001b[38;5;28;01mreturn\u001b[39;00m lower(data\u001b[38;5;241m.\u001b[39mget(field) \u001b[38;5;129;01mor\u001b[39;00m \u001b[38;5;124m\"\u001b[39m\u001b[38;5;124m\"\u001b[39m)\n\u001b[1;32m     45\u001b[0m fields \u001b[38;5;241m=\u001b[39m fields \u001b[38;5;129;01mor\u001b[39;00m DEFAULT_FIELDS\n\u001b[0;32m---> 46\u001b[0m string \u001b[38;5;241m=\u001b[39m \u001b[38;5;124mu\u001b[39m\u001b[38;5;124m\"\u001b[39m\u001b[38;5;124m\"\u001b[39m\u001b[38;5;241m.\u001b[39mjoin([get_value(data, field) \u001b[38;5;28;01mfor\u001b[39;00m field \u001b[38;5;129;01min\u001b[39;00m fields])\n\u001b[1;32m     47\u001b[0m \u001b[38;5;28;01mreturn\u001b[39;00m \u001b[38;5;28mstr\u001b[39m(hashlib\u001b[38;5;241m.\u001b[39mmd5(string\u001b[38;5;241m.\u001b[39mencode(\u001b[38;5;124m\"\u001b[39m\u001b[38;5;124mutf-8\u001b[39m\u001b[38;5;124m\"\u001b[39m))\u001b[38;5;241m.\u001b[39mhexdigest())\n",
      "File \u001b[0;32m/opt/tljh/user/envs/bw25/lib/python3.10/site-packages/bw2io/utils.py:46\u001b[0m, in \u001b[0;36m<listcomp>\u001b[0;34m(.0)\u001b[0m\n\u001b[1;32m     43\u001b[0m         \u001b[38;5;28;01mreturn\u001b[39;00m lower(data\u001b[38;5;241m.\u001b[39mget(field) \u001b[38;5;129;01mor\u001b[39;00m \u001b[38;5;124m\"\u001b[39m\u001b[38;5;124m\"\u001b[39m)\n\u001b[1;32m     45\u001b[0m fields \u001b[38;5;241m=\u001b[39m fields \u001b[38;5;129;01mor\u001b[39;00m DEFAULT_FIELDS\n\u001b[0;32m---> 46\u001b[0m string \u001b[38;5;241m=\u001b[39m \u001b[38;5;124mu\u001b[39m\u001b[38;5;124m\"\u001b[39m\u001b[38;5;124m\"\u001b[39m\u001b[38;5;241m.\u001b[39mjoin([\u001b[43mget_value\u001b[49m\u001b[43m(\u001b[49m\u001b[43mdata\u001b[49m\u001b[43m,\u001b[49m\u001b[43m \u001b[49m\u001b[43mfield\u001b[49m\u001b[43m)\u001b[49m \u001b[38;5;28;01mfor\u001b[39;00m field \u001b[38;5;129;01min\u001b[39;00m fields])\n\u001b[1;32m     47\u001b[0m \u001b[38;5;28;01mreturn\u001b[39;00m \u001b[38;5;28mstr\u001b[39m(hashlib\u001b[38;5;241m.\u001b[39mmd5(string\u001b[38;5;241m.\u001b[39mencode(\u001b[38;5;124m\"\u001b[39m\u001b[38;5;124mutf-8\u001b[39m\u001b[38;5;124m\"\u001b[39m))\u001b[38;5;241m.\u001b[39mhexdigest())\n",
      "File \u001b[0;32m/opt/tljh/user/envs/bw25/lib/python3.10/site-packages/bw2io/utils.py:43\u001b[0m, in \u001b[0;36mactivity_hash.<locals>.get_value\u001b[0;34m(obj, field)\u001b[0m\n\u001b[1;32m     41\u001b[0m     \u001b[38;5;28;01mreturn\u001b[39;00m lower(\u001b[38;5;124m\"\u001b[39m\u001b[38;5;124m\"\u001b[39m\u001b[38;5;241m.\u001b[39mjoin(data\u001b[38;5;241m.\u001b[39mget(field) \u001b[38;5;129;01mor\u001b[39;00m []))\n\u001b[1;32m     42\u001b[0m \u001b[38;5;28;01melse\u001b[39;00m:\n\u001b[0;32m---> 43\u001b[0m     \u001b[38;5;28;01mreturn\u001b[39;00m lower(\u001b[43mdata\u001b[49m\u001b[38;5;241;43m.\u001b[39;49m\u001b[43mget\u001b[49m\u001b[43m(\u001b[49m\u001b[43mfield\u001b[49m\u001b[43m)\u001b[49m \u001b[38;5;129;01mor\u001b[39;00m \u001b[38;5;124m\"\u001b[39m\u001b[38;5;124m\"\u001b[39m)\n",
      "File \u001b[0;32m/opt/tljh/user/envs/bw25/lib/python3.10/_collections_abc.py:819\u001b[0m, in \u001b[0;36mMapping.get\u001b[0;34m(self, key, default)\u001b[0m\n\u001b[1;32m    817\u001b[0m \u001b[38;5;124m'\u001b[39m\u001b[38;5;124mD.get(k[,d]) -> D[k] if k in D, else d.  d defaults to None.\u001b[39m\u001b[38;5;124m'\u001b[39m\n\u001b[1;32m    818\u001b[0m \u001b[38;5;28;01mtry\u001b[39;00m:\n\u001b[0;32m--> 819\u001b[0m     \u001b[38;5;28;01mreturn\u001b[39;00m \u001b[38;5;28;43mself\u001b[39;49m\u001b[43m[\u001b[49m\u001b[43mkey\u001b[49m\u001b[43m]\u001b[49m\n\u001b[1;32m    820\u001b[0m \u001b[38;5;28;01mexcept\u001b[39;00m \u001b[38;5;167;01mKeyError\u001b[39;00m:\n\u001b[1;32m    821\u001b[0m     \u001b[38;5;28;01mreturn\u001b[39;00m default\n",
      "File \u001b[0;32m/opt/tljh/user/envs/bw25/lib/python3.10/site-packages/bw2data/backends/proxies.py:217\u001b[0m, in \u001b[0;36mActivity.__getitem__\u001b[0;34m(self, key)\u001b[0m\n\u001b[1;32m    214\u001b[0m             \u001b[38;5;28;01mreturn\u001b[39;00m \u001b[38;5;28mself\u001b[39m\u001b[38;5;241m.\u001b[39m_data[section][key]\n\u001b[1;32m    216\u001b[0m \u001b[38;5;28;01mtry\u001b[39;00m:\n\u001b[0;32m--> 217\u001b[0m     rp \u001b[38;5;241m=\u001b[39m \u001b[38;5;28;43mself\u001b[39;49m\u001b[38;5;241;43m.\u001b[39;49m\u001b[43mrp_exchange\u001b[49m\u001b[43m(\u001b[49m\u001b[43m)\u001b[49m\n\u001b[1;32m    218\u001b[0m \u001b[38;5;28;01mexcept\u001b[39;00m \u001b[38;5;167;01mValueError\u001b[39;00m:\n\u001b[1;32m    219\u001b[0m     \u001b[38;5;28;01mraise\u001b[39;00m \u001b[38;5;167;01mKeyError\u001b[39;00m\n",
      "File \u001b[0;32m/opt/tljh/user/envs/bw25/lib/python3.10/site-packages/bw2data/backends/proxies.py:395\u001b[0m, in \u001b[0;36mActivity.rp_exchange\u001b[0;34m(self)\u001b[0m\n\u001b[1;32m    388\u001b[0m \u001b[38;5;28;01mdef\u001b[39;00m \u001b[38;5;21mrp_exchange\u001b[39m(\u001b[38;5;28mself\u001b[39m):\n\u001b[1;32m    389\u001b[0m     \u001b[38;5;124;03m\"\"\"Return an ``Exchange`` object corresponding to the reference production. Uses the following in order:\u001b[39;00m\n\u001b[1;32m    390\u001b[0m \n\u001b[1;32m    391\u001b[0m \u001b[38;5;124;03m    * The ``production`` exchange, if only one is present\u001b[39;00m\n\u001b[1;32m    392\u001b[0m \u001b[38;5;124;03m    * The ``production`` exchange with the same name as the activity ``reference product``.\u001b[39;00m\n\u001b[1;32m    393\u001b[0m \n\u001b[1;32m    394\u001b[0m \u001b[38;5;124;03m    Raises ``ValueError`` if no suitable exchange is found.\"\"\"\u001b[39;00m\n\u001b[0;32m--> 395\u001b[0m     candidates \u001b[38;5;241m=\u001b[39m \u001b[38;5;28;43mlist\u001b[39;49m\u001b[43m(\u001b[49m\u001b[38;5;28;43mself\u001b[39;49m\u001b[38;5;241;43m.\u001b[39;49m\u001b[43mproduction\u001b[49m\u001b[43m(\u001b[49m\u001b[43m)\u001b[49m\u001b[43m)\u001b[49m\n\u001b[1;32m    396\u001b[0m     \u001b[38;5;28;01mif\u001b[39;00m \u001b[38;5;28mlen\u001b[39m(candidates) \u001b[38;5;241m==\u001b[39m \u001b[38;5;241m1\u001b[39m:\n\u001b[1;32m    397\u001b[0m         \u001b[38;5;28;01mreturn\u001b[39;00m candidates[\u001b[38;5;241m0\u001b[39m]\n",
      "File \u001b[0;32m/opt/tljh/user/envs/bw25/lib/python3.10/site-packages/bw2data/backends/proxies.py:79\u001b[0m, in \u001b[0;36mExchanges.__len__\u001b[0;34m(self)\u001b[0m\n\u001b[1;32m     78\u001b[0m \u001b[38;5;28;01mdef\u001b[39;00m \u001b[38;5;21m__len__\u001b[39m(\u001b[38;5;28mself\u001b[39m):\n\u001b[0;32m---> 79\u001b[0m     \u001b[38;5;28;01mreturn\u001b[39;00m \u001b[38;5;28;43mself\u001b[39;49m\u001b[38;5;241;43m.\u001b[39;49m\u001b[43m_get_queryset\u001b[49m\u001b[43m(\u001b[49m\u001b[43m)\u001b[49m\u001b[38;5;241;43m.\u001b[39;49m\u001b[43mcount\u001b[49m\u001b[43m(\u001b[49m\u001b[43m)\u001b[49m\n",
      "File \u001b[0;32m/opt/tljh/user/envs/bw25/lib/python3.10/site-packages/peewee.py:1946\u001b[0m, in \u001b[0;36mdatabase_required.<locals>.inner\u001b[0;34m(self, database, *args, **kwargs)\u001b[0m\n\u001b[1;32m   1943\u001b[0m \u001b[38;5;28;01mif\u001b[39;00m \u001b[38;5;129;01mnot\u001b[39;00m database:\n\u001b[1;32m   1944\u001b[0m     \u001b[38;5;28;01mraise\u001b[39;00m InterfaceError(\u001b[38;5;124m'\u001b[39m\u001b[38;5;124mQuery must be bound to a database in order \u001b[39m\u001b[38;5;124m'\u001b[39m\n\u001b[1;32m   1945\u001b[0m                          \u001b[38;5;124m'\u001b[39m\u001b[38;5;124mto call \u001b[39m\u001b[38;5;124m\"\u001b[39m\u001b[38;5;132;01m%s\u001b[39;00m\u001b[38;5;124m\"\u001b[39m\u001b[38;5;124m.\u001b[39m\u001b[38;5;124m'\u001b[39m \u001b[38;5;241m%\u001b[39m method\u001b[38;5;241m.\u001b[39m\u001b[38;5;18m__name__\u001b[39m)\n\u001b[0;32m-> 1946\u001b[0m \u001b[38;5;28;01mreturn\u001b[39;00m \u001b[43mmethod\u001b[49m\u001b[43m(\u001b[49m\u001b[38;5;28;43mself\u001b[39;49m\u001b[43m,\u001b[49m\u001b[43m \u001b[49m\u001b[43mdatabase\u001b[49m\u001b[43m,\u001b[49m\u001b[43m \u001b[49m\u001b[38;5;241;43m*\u001b[39;49m\u001b[43margs\u001b[49m\u001b[43m,\u001b[49m\u001b[43m \u001b[49m\u001b[38;5;241;43m*\u001b[39;49m\u001b[38;5;241;43m*\u001b[39;49m\u001b[43mkwargs\u001b[49m\u001b[43m)\u001b[49m\n",
      "File \u001b[0;32m/opt/tljh/user/envs/bw25/lib/python3.10/site-packages/peewee.py:2231\u001b[0m, in \u001b[0;36mSelectBase.count\u001b[0;34m(self, database, clear_limit)\u001b[0m\n\u001b[1;32m   2229\u001b[0m \u001b[38;5;28;01mexcept\u001b[39;00m \u001b[38;5;167;01mAttributeError\u001b[39;00m:\n\u001b[1;32m   2230\u001b[0m     \u001b[38;5;28;01mpass\u001b[39;00m\n\u001b[0;32m-> 2231\u001b[0m \u001b[38;5;28;01mreturn\u001b[39;00m \u001b[43mSelect\u001b[49m\u001b[43m(\u001b[49m\u001b[43m[\u001b[49m\u001b[43mclone\u001b[49m\u001b[43m]\u001b[49m\u001b[43m,\u001b[49m\u001b[43m \u001b[49m\u001b[43m[\u001b[49m\u001b[43mfn\u001b[49m\u001b[38;5;241;43m.\u001b[39;49m\u001b[43mCOUNT\u001b[49m\u001b[43m(\u001b[49m\u001b[43mSQL\u001b[49m\u001b[43m(\u001b[49m\u001b[38;5;124;43m'\u001b[39;49m\u001b[38;5;124;43m1\u001b[39;49m\u001b[38;5;124;43m'\u001b[39;49m\u001b[43m)\u001b[49m\u001b[43m)\u001b[49m\u001b[43m]\u001b[49m\u001b[43m)\u001b[49m\u001b[38;5;241;43m.\u001b[39;49m\u001b[43mscalar\u001b[49m\u001b[43m(\u001b[49m\u001b[43mdatabase\u001b[49m\u001b[43m)\u001b[49m\n",
      "File \u001b[0;32m/opt/tljh/user/envs/bw25/lib/python3.10/site-packages/peewee.py:1946\u001b[0m, in \u001b[0;36mdatabase_required.<locals>.inner\u001b[0;34m(self, database, *args, **kwargs)\u001b[0m\n\u001b[1;32m   1943\u001b[0m \u001b[38;5;28;01mif\u001b[39;00m \u001b[38;5;129;01mnot\u001b[39;00m database:\n\u001b[1;32m   1944\u001b[0m     \u001b[38;5;28;01mraise\u001b[39;00m InterfaceError(\u001b[38;5;124m'\u001b[39m\u001b[38;5;124mQuery must be bound to a database in order \u001b[39m\u001b[38;5;124m'\u001b[39m\n\u001b[1;32m   1945\u001b[0m                          \u001b[38;5;124m'\u001b[39m\u001b[38;5;124mto call \u001b[39m\u001b[38;5;124m\"\u001b[39m\u001b[38;5;132;01m%s\u001b[39;00m\u001b[38;5;124m\"\u001b[39m\u001b[38;5;124m.\u001b[39m\u001b[38;5;124m'\u001b[39m \u001b[38;5;241m%\u001b[39m method\u001b[38;5;241m.\u001b[39m\u001b[38;5;18m__name__\u001b[39m)\n\u001b[0;32m-> 1946\u001b[0m \u001b[38;5;28;01mreturn\u001b[39;00m \u001b[43mmethod\u001b[49m\u001b[43m(\u001b[49m\u001b[38;5;28;43mself\u001b[39;49m\u001b[43m,\u001b[49m\u001b[43m \u001b[49m\u001b[43mdatabase\u001b[49m\u001b[43m,\u001b[49m\u001b[43m \u001b[49m\u001b[38;5;241;43m*\u001b[39;49m\u001b[43margs\u001b[49m\u001b[43m,\u001b[49m\u001b[43m \u001b[49m\u001b[38;5;241;43m*\u001b[39;49m\u001b[38;5;241;43m*\u001b[39;49m\u001b[43mkwargs\u001b[49m\u001b[43m)\u001b[49m\n",
      "File \u001b[0;32m/opt/tljh/user/envs/bw25/lib/python3.10/site-packages/peewee.py:2211\u001b[0m, in \u001b[0;36mSelectBase.scalar\u001b[0;34m(self, database, as_tuple, as_dict)\u001b[0m\n\u001b[1;32m   2209\u001b[0m \u001b[38;5;28;01mif\u001b[39;00m as_dict:\n\u001b[1;32m   2210\u001b[0m     \u001b[38;5;28;01mreturn\u001b[39;00m \u001b[38;5;28mself\u001b[39m\u001b[38;5;241m.\u001b[39mdicts()\u001b[38;5;241m.\u001b[39mpeek(database)\n\u001b[0;32m-> 2211\u001b[0m row \u001b[38;5;241m=\u001b[39m \u001b[38;5;28;43mself\u001b[39;49m\u001b[38;5;241;43m.\u001b[39;49m\u001b[43mtuples\u001b[49m\u001b[43m(\u001b[49m\u001b[43m)\u001b[49m\u001b[38;5;241;43m.\u001b[39;49m\u001b[43mpeek\u001b[49m\u001b[43m(\u001b[49m\u001b[43mdatabase\u001b[49m\u001b[43m)\u001b[49m\n\u001b[1;32m   2212\u001b[0m \u001b[38;5;28;01mreturn\u001b[39;00m row[\u001b[38;5;241m0\u001b[39m] \u001b[38;5;28;01mif\u001b[39;00m row \u001b[38;5;129;01mand\u001b[39;00m \u001b[38;5;129;01mnot\u001b[39;00m as_tuple \u001b[38;5;28;01melse\u001b[39;00m row\n",
      "File \u001b[0;32m/opt/tljh/user/envs/bw25/lib/python3.10/site-packages/peewee.py:1946\u001b[0m, in \u001b[0;36mdatabase_required.<locals>.inner\u001b[0;34m(self, database, *args, **kwargs)\u001b[0m\n\u001b[1;32m   1943\u001b[0m \u001b[38;5;28;01mif\u001b[39;00m \u001b[38;5;129;01mnot\u001b[39;00m database:\n\u001b[1;32m   1944\u001b[0m     \u001b[38;5;28;01mraise\u001b[39;00m InterfaceError(\u001b[38;5;124m'\u001b[39m\u001b[38;5;124mQuery must be bound to a database in order \u001b[39m\u001b[38;5;124m'\u001b[39m\n\u001b[1;32m   1945\u001b[0m                          \u001b[38;5;124m'\u001b[39m\u001b[38;5;124mto call \u001b[39m\u001b[38;5;124m\"\u001b[39m\u001b[38;5;132;01m%s\u001b[39;00m\u001b[38;5;124m\"\u001b[39m\u001b[38;5;124m.\u001b[39m\u001b[38;5;124m'\u001b[39m \u001b[38;5;241m%\u001b[39m method\u001b[38;5;241m.\u001b[39m\u001b[38;5;18m__name__\u001b[39m)\n\u001b[0;32m-> 1946\u001b[0m \u001b[38;5;28;01mreturn\u001b[39;00m \u001b[43mmethod\u001b[49m\u001b[43m(\u001b[49m\u001b[38;5;28;43mself\u001b[39;49m\u001b[43m,\u001b[49m\u001b[43m \u001b[49m\u001b[43mdatabase\u001b[49m\u001b[43m,\u001b[49m\u001b[43m \u001b[49m\u001b[38;5;241;43m*\u001b[39;49m\u001b[43margs\u001b[49m\u001b[43m,\u001b[49m\u001b[43m \u001b[49m\u001b[38;5;241;43m*\u001b[39;49m\u001b[38;5;241;43m*\u001b[39;49m\u001b[43mkwargs\u001b[49m\u001b[43m)\u001b[49m\n",
      "File \u001b[0;32m/opt/tljh/user/envs/bw25/lib/python3.10/site-packages/peewee.py:2196\u001b[0m, in \u001b[0;36mSelectBase.peek\u001b[0;34m(self, database, n)\u001b[0m\n\u001b[1;32m   2194\u001b[0m \u001b[38;5;129m@database_required\u001b[39m\n\u001b[1;32m   2195\u001b[0m \u001b[38;5;28;01mdef\u001b[39;00m \u001b[38;5;21mpeek\u001b[39m(\u001b[38;5;28mself\u001b[39m, database, n\u001b[38;5;241m=\u001b[39m\u001b[38;5;241m1\u001b[39m):\n\u001b[0;32m-> 2196\u001b[0m     rows \u001b[38;5;241m=\u001b[39m \u001b[38;5;28;43mself\u001b[39;49m\u001b[38;5;241;43m.\u001b[39;49m\u001b[43mexecute\u001b[49m\u001b[43m(\u001b[49m\u001b[43mdatabase\u001b[49m\u001b[43m)\u001b[49m[:n]\n\u001b[1;32m   2197\u001b[0m     \u001b[38;5;28;01mif\u001b[39;00m rows:\n\u001b[1;32m   2198\u001b[0m         \u001b[38;5;28;01mreturn\u001b[39;00m rows[\u001b[38;5;241m0\u001b[39m] \u001b[38;5;28;01mif\u001b[39;00m n \u001b[38;5;241m==\u001b[39m \u001b[38;5;241m1\u001b[39m \u001b[38;5;28;01melse\u001b[39;00m rows\n",
      "File \u001b[0;32m/opt/tljh/user/envs/bw25/lib/python3.10/site-packages/peewee.py:1946\u001b[0m, in \u001b[0;36mdatabase_required.<locals>.inner\u001b[0;34m(self, database, *args, **kwargs)\u001b[0m\n\u001b[1;32m   1943\u001b[0m \u001b[38;5;28;01mif\u001b[39;00m \u001b[38;5;129;01mnot\u001b[39;00m database:\n\u001b[1;32m   1944\u001b[0m     \u001b[38;5;28;01mraise\u001b[39;00m InterfaceError(\u001b[38;5;124m'\u001b[39m\u001b[38;5;124mQuery must be bound to a database in order \u001b[39m\u001b[38;5;124m'\u001b[39m\n\u001b[1;32m   1945\u001b[0m                          \u001b[38;5;124m'\u001b[39m\u001b[38;5;124mto call \u001b[39m\u001b[38;5;124m\"\u001b[39m\u001b[38;5;132;01m%s\u001b[39;00m\u001b[38;5;124m\"\u001b[39m\u001b[38;5;124m.\u001b[39m\u001b[38;5;124m'\u001b[39m \u001b[38;5;241m%\u001b[39m method\u001b[38;5;241m.\u001b[39m\u001b[38;5;18m__name__\u001b[39m)\n\u001b[0;32m-> 1946\u001b[0m \u001b[38;5;28;01mreturn\u001b[39;00m \u001b[43mmethod\u001b[49m\u001b[43m(\u001b[49m\u001b[38;5;28;43mself\u001b[39;49m\u001b[43m,\u001b[49m\u001b[43m \u001b[49m\u001b[43mdatabase\u001b[49m\u001b[43m,\u001b[49m\u001b[43m \u001b[49m\u001b[38;5;241;43m*\u001b[39;49m\u001b[43margs\u001b[49m\u001b[43m,\u001b[49m\u001b[43m \u001b[49m\u001b[38;5;241;43m*\u001b[39;49m\u001b[38;5;241;43m*\u001b[39;49m\u001b[43mkwargs\u001b[49m\u001b[43m)\u001b[49m\n",
      "File \u001b[0;32m/opt/tljh/user/envs/bw25/lib/python3.10/site-packages/peewee.py:2017\u001b[0m, in \u001b[0;36mBaseQuery.execute\u001b[0;34m(self, database)\u001b[0m\n\u001b[1;32m   2015\u001b[0m \u001b[38;5;129m@database_required\u001b[39m\n\u001b[1;32m   2016\u001b[0m \u001b[38;5;28;01mdef\u001b[39;00m \u001b[38;5;21mexecute\u001b[39m(\u001b[38;5;28mself\u001b[39m, database):\n\u001b[0;32m-> 2017\u001b[0m     \u001b[38;5;28;01mreturn\u001b[39;00m \u001b[38;5;28;43mself\u001b[39;49m\u001b[38;5;241;43m.\u001b[39;49m\u001b[43m_execute\u001b[49m\u001b[43m(\u001b[49m\u001b[43mdatabase\u001b[49m\u001b[43m)\u001b[49m\n",
      "File \u001b[0;32m/opt/tljh/user/envs/bw25/lib/python3.10/site-packages/peewee.py:2190\u001b[0m, in \u001b[0;36mSelectBase._execute\u001b[0;34m(self, database)\u001b[0m\n\u001b[1;32m   2188\u001b[0m \u001b[38;5;28;01mdef\u001b[39;00m \u001b[38;5;21m_execute\u001b[39m(\u001b[38;5;28mself\u001b[39m, database):\n\u001b[1;32m   2189\u001b[0m     \u001b[38;5;28;01mif\u001b[39;00m \u001b[38;5;28mself\u001b[39m\u001b[38;5;241m.\u001b[39m_cursor_wrapper \u001b[38;5;129;01mis\u001b[39;00m \u001b[38;5;28;01mNone\u001b[39;00m:\n\u001b[0;32m-> 2190\u001b[0m         cursor \u001b[38;5;241m=\u001b[39m \u001b[43mdatabase\u001b[49m\u001b[38;5;241;43m.\u001b[39;49m\u001b[43mexecute\u001b[49m\u001b[43m(\u001b[49m\u001b[38;5;28;43mself\u001b[39;49m\u001b[43m)\u001b[49m\n\u001b[1;32m   2191\u001b[0m         \u001b[38;5;28mself\u001b[39m\u001b[38;5;241m.\u001b[39m_cursor_wrapper \u001b[38;5;241m=\u001b[39m \u001b[38;5;28mself\u001b[39m\u001b[38;5;241m.\u001b[39m_get_cursor_wrapper(cursor)\n\u001b[1;32m   2192\u001b[0m     \u001b[38;5;28;01mreturn\u001b[39;00m \u001b[38;5;28mself\u001b[39m\u001b[38;5;241m.\u001b[39m_cursor_wrapper\n",
      "File \u001b[0;32m/opt/tljh/user/envs/bw25/lib/python3.10/site-packages/peewee.py:3233\u001b[0m, in \u001b[0;36mDatabase.execute\u001b[0;34m(self, query, commit, **context_options)\u001b[0m\n\u001b[1;32m   3231\u001b[0m \u001b[38;5;28;01mdef\u001b[39;00m \u001b[38;5;21mexecute\u001b[39m(\u001b[38;5;28mself\u001b[39m, query, commit\u001b[38;5;241m=\u001b[39mSENTINEL, \u001b[38;5;241m*\u001b[39m\u001b[38;5;241m*\u001b[39mcontext_options):\n\u001b[1;32m   3232\u001b[0m     ctx \u001b[38;5;241m=\u001b[39m \u001b[38;5;28mself\u001b[39m\u001b[38;5;241m.\u001b[39mget_sql_context(\u001b[38;5;241m*\u001b[39m\u001b[38;5;241m*\u001b[39mcontext_options)\n\u001b[0;32m-> 3233\u001b[0m     sql, params \u001b[38;5;241m=\u001b[39m \u001b[43mctx\u001b[49m\u001b[38;5;241;43m.\u001b[39;49m\u001b[43msql\u001b[49m\u001b[43m(\u001b[49m\u001b[43mquery\u001b[49m\u001b[43m)\u001b[49m\u001b[38;5;241m.\u001b[39mquery()\n\u001b[1;32m   3234\u001b[0m     \u001b[38;5;28;01mreturn\u001b[39;00m \u001b[38;5;28mself\u001b[39m\u001b[38;5;241m.\u001b[39mexecute_sql(sql, params, commit\u001b[38;5;241m=\u001b[39mcommit)\n",
      "File \u001b[0;32m/opt/tljh/user/envs/bw25/lib/python3.10/site-packages/peewee.py:614\u001b[0m, in \u001b[0;36mContext.sql\u001b[0;34m(self, obj)\u001b[0m\n\u001b[1;32m    612\u001b[0m \u001b[38;5;28;01mdef\u001b[39;00m \u001b[38;5;21msql\u001b[39m(\u001b[38;5;28mself\u001b[39m, obj):\n\u001b[1;32m    613\u001b[0m     \u001b[38;5;28;01mif\u001b[39;00m \u001b[38;5;28misinstance\u001b[39m(obj, (Node, Context)):\n\u001b[0;32m--> 614\u001b[0m         \u001b[38;5;28;01mreturn\u001b[39;00m \u001b[43mobj\u001b[49m\u001b[38;5;241;43m.\u001b[39;49m\u001b[43m__sql__\u001b[49m\u001b[43m(\u001b[49m\u001b[38;5;28;43mself\u001b[39;49m\u001b[43m)\u001b[49m\n\u001b[1;32m    615\u001b[0m     \u001b[38;5;28;01melif\u001b[39;00m is_model(obj):\n\u001b[1;32m    616\u001b[0m         \u001b[38;5;28;01mreturn\u001b[39;00m obj\u001b[38;5;241m.\u001b[39m_meta\u001b[38;5;241m.\u001b[39mtable\u001b[38;5;241m.\u001b[39m__sql__(\u001b[38;5;28mself\u001b[39m)\n",
      "File \u001b[0;32m/opt/tljh/user/envs/bw25/lib/python3.10/site-packages/peewee.py:2436\u001b[0m, in \u001b[0;36mSelect.__sql__\u001b[0;34m(self, ctx)\u001b[0m\n\u001b[1;32m   2433\u001b[0m \u001b[38;5;28;01mdef\u001b[39;00m \u001b[38;5;21m__sql_selection__\u001b[39m(\u001b[38;5;28mself\u001b[39m, ctx, is_subquery\u001b[38;5;241m=\u001b[39m\u001b[38;5;28;01mFalse\u001b[39;00m):\n\u001b[1;32m   2434\u001b[0m     \u001b[38;5;28;01mreturn\u001b[39;00m ctx\u001b[38;5;241m.\u001b[39msql(CommaNodeList(\u001b[38;5;28mself\u001b[39m\u001b[38;5;241m.\u001b[39m_returning))\n\u001b[0;32m-> 2436\u001b[0m \u001b[38;5;28;01mdef\u001b[39;00m \u001b[38;5;21m__sql__\u001b[39m(\u001b[38;5;28mself\u001b[39m, ctx):\n\u001b[1;32m   2437\u001b[0m     \u001b[38;5;28;01mif\u001b[39;00m ctx\u001b[38;5;241m.\u001b[39mscope \u001b[38;5;241m==\u001b[39m SCOPE_COLUMN:\n\u001b[1;32m   2438\u001b[0m         \u001b[38;5;28;01mreturn\u001b[39;00m \u001b[38;5;28mself\u001b[39m\u001b[38;5;241m.\u001b[39mapply_column(ctx)\n",
      "\u001b[0;31mKeyboardInterrupt\u001b[0m: "
     ]
    }
   ],
   "source": [
    "# foreground_importer = bi.ExcelImporter(\"./data/inputs/layered oxide cathode type_HC anode SIB .xlsx\")\n",
    "# # for act in foreground_importer.data:\n",
    "# #     # print(act[\"name\"])\n",
    "# #     for exc in act[\"exchanges\"]:\n",
    "# #         if \"classifications\" in exc:\n",
    "# #             exc.pop(\"classifications\")\n",
    "# #         if \"properties\" in exc:\n",
    "# #             exc.pop(\"properties\")   \n",
    "# foreground_importer.apply_strategies()\n",
    "# foreground_importer.match_database(\"biosphere3\", fields=(\"name\", \"unit\", \"categories\"))\n",
    "# foreground_importer.match_database(\"ei 3.8 cutoff\", fields=(\"name\", \"unit\", \"location\"))\n",
    "# foreground_importer.statistics()\n",
    "# foreground_importer.write_database()"
   ]
  },
  {
   "cell_type": "code",
   "execution_count": 367,
   "id": "0803ee24-8670-424a-949e-350069d38e5c",
   "metadata": {},
   "outputs": [],
   "source": [
    "fu = {bd.get_activity(database=\"energy_moeschberg\", name = \"energy demand, operational, Hotel Moeschberg\"):1}"
   ]
  },
  {
   "cell_type": "code",
   "execution_count": 355,
   "id": "2d6a61ff-cf7d-4d05-8c67-d2ae8e9ceadf",
   "metadata": {},
   "outputs": [
    {
     "data": {
      "text/plain": [
       "'electricity production, photovoltaic, 3kWp slanted-roof installation, multi-Si, panel, mounted' (kilowatt hour, CH, None)"
      ]
     },
     "execution_count": 355,
     "metadata": {},
     "output_type": "execute_result"
    }
   ],
   "source": [
    "bd.get_activity(id=18352)"
   ]
  },
  {
   "cell_type": "code",
   "execution_count": 356,
   "id": "9ba80c61-6b12-40fd-9e83-11a77144fb56",
   "metadata": {},
   "outputs": [],
   "source": [
    "# ## Creating datapackage for each method\n",
    "# method_hint = \"IPCC\"\n",
    "# data_objs_methods = []\n",
    "# methods = [method for method in bd.methods if method_hint in method[0]]\n",
    "# for method in methods:\n",
    "#     _, objs, __ = bd.prepare_lca_inputs(method=method)\n",
    "#     data_objs_methods += objs"
   ]
  },
  {
   "cell_type": "code",
   "execution_count": 368,
   "id": "31ad6b25-ce0c-419f-8bce-2b469f9e939d",
   "metadata": {
    "tags": []
   },
   "outputs": [],
   "source": [
    "### it returns functional_unit, data_objects, and a mapping dictionary\n",
    "fu, objects, remapping_dicts = bd.prepare_lca_inputs(fu, method=('IPCC 2013', 'climate change', 'GWP 100a'))\n"
   ]
  },
  {
   "cell_type": "code",
   "execution_count": 358,
   "id": "bd56dcaf-5ecf-432d-b2a0-ab224d473715",
   "metadata": {},
   "outputs": [
    {
     "name": "stdout",
     "output_type": "stream",
     "text": [
      "biosphere3\n",
      "ei_3.8_cutoff\n",
      "energy_moeschberg\n",
      "ipcc-2013cg.bd5af3f67229a1cc291b8ecb7f316fcf.zip\n"
     ]
    }
   ],
   "source": [
    "for obj in objects:\n",
    "    print(obj.metadata[\"name\"])"
   ]
  },
  {
   "cell_type": "code",
   "execution_count": 369,
   "id": "bd08fce5-37e2-4b0d-b8df-54b86cd92628",
   "metadata": {},
   "outputs": [],
   "source": [
    "data, _ = objects[2].get_resource(\"energy_moeschberg_technosphere_matrix.data\")\n",
    "indices, _ = objects[2].get_resource(\"energy_moeschberg_technosphere_matrix.indices\")\n",
    "flip, _ = objects[2].get_resource(\"energy_moeschberg_technosphere_matrix.flip\")\n",
    "unique_indices = set([a for b in indices for a in b])\n",
    "mapping_act=dict.fromkeys(int(i) for i in unique_indices) #json accepts only int not int32\n",
    "for i in unique_indices:\n",
    "    mapping_act[i]=bd.get_activity(i)['name']\n",
    "rows = [tup[0] for tup in indices]\n",
    "cols = [tup[1] for tup in indices]"
   ]
  },
  {
   "cell_type": "code",
   "execution_count": 361,
   "id": "4b150d99-094c-4d8a-8bf5-ebfc0ce17402",
   "metadata": {},
   "outputs": [
    {
     "data": {
      "text/plain": [
       "array([( 6599, 24005), ( 6599, 24006), ( 8302, 24007), (10319, 24006),\n",
       "       (18352, 24004), (18352, 24005), (18352, 24006), (20079, 24006),\n",
       "       (23758, 24007), (24004, 24004), (24004, 24008), (24005, 24004),\n",
       "       (24005, 24005), (24006, 24005), (24006, 24006), (24007, 24007),\n",
       "       (24007, 24008), (24008, 24008)],\n",
       "      dtype=[('row', '<i4'), ('col', '<i4')])"
      ]
     },
     "execution_count": 361,
     "metadata": {},
     "output_type": "execute_result"
    }
   ],
   "source": [
    "indices"
   ]
  },
  {
   "cell_type": "code",
   "execution_count": 370,
   "id": "e9bf8ce2-f8c1-4a74-8701-795689e48e2d",
   "metadata": {
    "tags": []
   },
   "outputs": [
    {
     "data": {
      "text/html": [
       "<div>\n",
       "<style scoped>\n",
       "    .dataframe tbody tr th:only-of-type {\n",
       "        vertical-align: middle;\n",
       "    }\n",
       "\n",
       "    .dataframe tbody tr th {\n",
       "        vertical-align: top;\n",
       "    }\n",
       "\n",
       "    .dataframe thead th {\n",
       "        text-align: right;\n",
       "    }\n",
       "</style>\n",
       "<table border=\"1\" class=\"dataframe\">\n",
       "  <thead>\n",
       "    <tr style=\"text-align: right;\">\n",
       "      <th></th>\n",
       "      <th>row</th>\n",
       "      <th>col</th>\n",
       "      <th>from</th>\n",
       "      <th>to</th>\n",
       "      <th>data</th>\n",
       "    </tr>\n",
       "  </thead>\n",
       "  <tbody>\n",
       "    <tr>\n",
       "      <th>0</th>\n",
       "      <td>6599</td>\n",
       "      <td>23994</td>\n",
       "      <td>electricity production, hydro, run-of-river</td>\n",
       "      <td>electricity supply, Energie Grosshoechstetten ...</td>\n",
       "      <td>0.907000</td>\n",
       "    </tr>\n",
       "    <tr>\n",
       "      <th>1</th>\n",
       "      <td>6599</td>\n",
       "      <td>23995</td>\n",
       "      <td>electricity production, hydro, run-of-river</td>\n",
       "      <td>electricity, subsidised, 2021</td>\n",
       "      <td>0.320000</td>\n",
       "    </tr>\n",
       "    <tr>\n",
       "      <th>2</th>\n",
       "      <td>8302</td>\n",
       "      <td>23996</td>\n",
       "      <td>operation, solar collector system, Cu flat pla...</td>\n",
       "      <td>heat supply, Hotel Moeschberg, 2021</td>\n",
       "      <td>0.004668</td>\n",
       "    </tr>\n",
       "    <tr>\n",
       "      <th>3</th>\n",
       "      <td>10319</td>\n",
       "      <td>23995</td>\n",
       "      <td>electricity production, wind, 1-3MW turbine, o...</td>\n",
       "      <td>electricity, subsidised, 2021</td>\n",
       "      <td>0.020000</td>\n",
       "    </tr>\n",
       "    <tr>\n",
       "      <th>4</th>\n",
       "      <td>18352</td>\n",
       "      <td>23993</td>\n",
       "      <td>electricity production, photovoltaic, 3kWp sla...</td>\n",
       "      <td>electricity supply, Hotel Moeschberg, 2021</td>\n",
       "      <td>0.440600</td>\n",
       "    </tr>\n",
       "    <tr>\n",
       "      <th>5</th>\n",
       "      <td>18352</td>\n",
       "      <td>23994</td>\n",
       "      <td>electricity production, photovoltaic, 3kWp sla...</td>\n",
       "      <td>electricity supply, Energie Grosshoechstetten ...</td>\n",
       "      <td>0.026000</td>\n",
       "    </tr>\n",
       "    <tr>\n",
       "      <th>6</th>\n",
       "      <td>18352</td>\n",
       "      <td>23995</td>\n",
       "      <td>electricity production, photovoltaic, 3kWp sla...</td>\n",
       "      <td>electricity, subsidised, 2021</td>\n",
       "      <td>0.460000</td>\n",
       "    </tr>\n",
       "    <tr>\n",
       "      <th>7</th>\n",
       "      <td>20079</td>\n",
       "      <td>23995</td>\n",
       "      <td>heat and power co-generation, wood chips, 6667...</td>\n",
       "      <td>electricity, subsidised, 2021</td>\n",
       "      <td>0.200000</td>\n",
       "    </tr>\n",
       "    <tr>\n",
       "      <th>8</th>\n",
       "      <td>23758</td>\n",
       "      <td>23996</td>\n",
       "      <td>heat production, wood pellet, at furnace 25kW,...</td>\n",
       "      <td>heat supply, Hotel Moeschberg, 2021</td>\n",
       "      <td>0.995300</td>\n",
       "    </tr>\n",
       "    <tr>\n",
       "      <th>9</th>\n",
       "      <td>23993</td>\n",
       "      <td>23993</td>\n",
       "      <td>electricity supply, Hotel Moeschberg, 2021</td>\n",
       "      <td>electricity supply, Hotel Moeschberg, 2021</td>\n",
       "      <td>1.000000</td>\n",
       "    </tr>\n",
       "    <tr>\n",
       "      <th>10</th>\n",
       "      <td>23993</td>\n",
       "      <td>23997</td>\n",
       "      <td>electricity supply, Hotel Moeschberg, 2021</td>\n",
       "      <td>energy demand, operational, Hotel Moeschberg</td>\n",
       "      <td>32179.000000</td>\n",
       "    </tr>\n",
       "    <tr>\n",
       "      <th>11</th>\n",
       "      <td>23994</td>\n",
       "      <td>23993</td>\n",
       "      <td>electricity supply, Energie Grosshoechstetten ...</td>\n",
       "      <td>electricity supply, Hotel Moeschberg, 2021</td>\n",
       "      <td>0.559400</td>\n",
       "    </tr>\n",
       "    <tr>\n",
       "      <th>12</th>\n",
       "      <td>23994</td>\n",
       "      <td>23994</td>\n",
       "      <td>electricity supply, Energie Grosshoechstetten ...</td>\n",
       "      <td>electricity supply, Energie Grosshoechstetten ...</td>\n",
       "      <td>1.000000</td>\n",
       "    </tr>\n",
       "    <tr>\n",
       "      <th>13</th>\n",
       "      <td>23995</td>\n",
       "      <td>23994</td>\n",
       "      <td>electricity, subsidised, 2021</td>\n",
       "      <td>electricity supply, Energie Grosshoechstetten ...</td>\n",
       "      <td>0.067000</td>\n",
       "    </tr>\n",
       "    <tr>\n",
       "      <th>14</th>\n",
       "      <td>23995</td>\n",
       "      <td>23995</td>\n",
       "      <td>electricity, subsidised, 2021</td>\n",
       "      <td>electricity, subsidised, 2021</td>\n",
       "      <td>1.000000</td>\n",
       "    </tr>\n",
       "    <tr>\n",
       "      <th>15</th>\n",
       "      <td>23996</td>\n",
       "      <td>23996</td>\n",
       "      <td>heat supply, Hotel Moeschberg, 2021</td>\n",
       "      <td>heat supply, Hotel Moeschberg, 2021</td>\n",
       "      <td>1.000000</td>\n",
       "    </tr>\n",
       "    <tr>\n",
       "      <th>16</th>\n",
       "      <td>23996</td>\n",
       "      <td>23997</td>\n",
       "      <td>heat supply, Hotel Moeschberg, 2021</td>\n",
       "      <td>energy demand, operational, Hotel Moeschberg</td>\n",
       "      <td>655489.000000</td>\n",
       "    </tr>\n",
       "    <tr>\n",
       "      <th>17</th>\n",
       "      <td>23997</td>\n",
       "      <td>23997</td>\n",
       "      <td>energy demand, operational, Hotel Moeschberg</td>\n",
       "      <td>energy demand, operational, Hotel Moeschberg</td>\n",
       "      <td>1.000000</td>\n",
       "    </tr>\n",
       "  </tbody>\n",
       "</table>\n",
       "</div>"
      ],
      "text/plain": [
       "      row    col                                               from  \\\n",
       "0    6599  23994        electricity production, hydro, run-of-river   \n",
       "1    6599  23995        electricity production, hydro, run-of-river   \n",
       "2    8302  23996  operation, solar collector system, Cu flat pla...   \n",
       "3   10319  23995  electricity production, wind, 1-3MW turbine, o...   \n",
       "4   18352  23993  electricity production, photovoltaic, 3kWp sla...   \n",
       "5   18352  23994  electricity production, photovoltaic, 3kWp sla...   \n",
       "6   18352  23995  electricity production, photovoltaic, 3kWp sla...   \n",
       "7   20079  23995  heat and power co-generation, wood chips, 6667...   \n",
       "8   23758  23996  heat production, wood pellet, at furnace 25kW,...   \n",
       "9   23993  23993         electricity supply, Hotel Moeschberg, 2021   \n",
       "10  23993  23997         electricity supply, Hotel Moeschberg, 2021   \n",
       "11  23994  23993  electricity supply, Energie Grosshoechstetten ...   \n",
       "12  23994  23994  electricity supply, Energie Grosshoechstetten ...   \n",
       "13  23995  23994                      electricity, subsidised, 2021   \n",
       "14  23995  23995                      electricity, subsidised, 2021   \n",
       "15  23996  23996                heat supply, Hotel Moeschberg, 2021   \n",
       "16  23996  23997                heat supply, Hotel Moeschberg, 2021   \n",
       "17  23997  23997       energy demand, operational, Hotel Moeschberg   \n",
       "\n",
       "                                                   to           data  \n",
       "0   electricity supply, Energie Grosshoechstetten ...       0.907000  \n",
       "1                       electricity, subsidised, 2021       0.320000  \n",
       "2                 heat supply, Hotel Moeschberg, 2021       0.004668  \n",
       "3                       electricity, subsidised, 2021       0.020000  \n",
       "4          electricity supply, Hotel Moeschberg, 2021       0.440600  \n",
       "5   electricity supply, Energie Grosshoechstetten ...       0.026000  \n",
       "6                       electricity, subsidised, 2021       0.460000  \n",
       "7                       electricity, subsidised, 2021       0.200000  \n",
       "8                 heat supply, Hotel Moeschberg, 2021       0.995300  \n",
       "9          electricity supply, Hotel Moeschberg, 2021       1.000000  \n",
       "10       energy demand, operational, Hotel Moeschberg   32179.000000  \n",
       "11         electricity supply, Hotel Moeschberg, 2021       0.559400  \n",
       "12  electricity supply, Energie Grosshoechstetten ...       1.000000  \n",
       "13  electricity supply, Energie Grosshoechstetten ...       0.067000  \n",
       "14                      electricity, subsidised, 2021       1.000000  \n",
       "15                heat supply, Hotel Moeschberg, 2021       1.000000  \n",
       "16       energy demand, operational, Hotel Moeschberg  655489.000000  \n",
       "17       energy demand, operational, Hotel Moeschberg       1.000000  "
      ]
     },
     "execution_count": 370,
     "metadata": {},
     "output_type": "execute_result"
    }
   ],
   "source": [
    "import pandas as pd\n",
    "matrix_raw = pd.DataFrame({\"row\":rows, \n",
    "                           \"col\":cols, \n",
    "                           \"from\":[mapping_act[idx] for idx in rows], \n",
    "                           \"to\":[mapping_act[idx] for idx in cols],\n",
    "                           \"data\":data\n",
    "                          })\n",
    "matrix = matrix_raw.pivot(index='row',columns='col', values='data').fillna(0)\n",
    "# mapping\n",
    "matrix_raw"
   ]
  },
  {
   "cell_type": "code",
   "execution_count": null,
   "id": "c6e514ba-4e56-4a26-a994-87582a04288f",
   "metadata": {},
   "outputs": [],
   "source": []
  },
  {
   "cell_type": "code",
   "execution_count": 371,
   "id": "809397e2-f1a9-4a99-aef1-bb7e425d5e81",
   "metadata": {
    "tags": []
   },
   "outputs": [
    {
     "data": {
      "text/plain": [
       "{(6599, 23994): [0.907, True],\n",
       " (6599, 23995): [0.32, True],\n",
       " (8302, 23996): [0.004668, True],\n",
       " (10319, 23995): [0.02, True],\n",
       " (18352, 23993): [0.4406, True],\n",
       " (18352, 23994): [0.026, True],\n",
       " (18352, 23995): [0.46, True],\n",
       " (20079, 23995): [0.2, True],\n",
       " (23758, 23996): [0.9953, True],\n",
       " (23993, 23993): [1.0, False],\n",
       " (23993, 23997): [32179.0, True],\n",
       " (23994, 23993): [0.5594, True],\n",
       " (23994, 23994): [1.0, False],\n",
       " (23995, 23994): [0.067, True],\n",
       " (23995, 23995): [1.0, False],\n",
       " (23996, 23996): [1.0, False],\n",
       " (23996, 23997): [655489.0, True],\n",
       " (23997, 23997): [1.0, False]}"
      ]
     },
     "execution_count": 371,
     "metadata": {},
     "output_type": "execute_result"
    }
   ],
   "source": [
    "objects[2].metadata[\"name\"]\n",
    "# dp_dict = dict(zip(indices.astype(\"object\"),list(zip(data,flip))))\n",
    "\n",
    "dp_dict = dict(\n",
    "        zip(indices.astype(\"object\"),[[tup[0], tup[1]] for tup in zip(data,flip)])\n",
    "                )\n",
    "dp_dict\n"
   ]
  },
  {
   "cell_type": "code",
   "execution_count": 305,
   "id": "64938ed9-dc0a-4eed-bb95-c7c281297fd7",
   "metadata": {},
   "outputs": [],
   "source": [
    "new_data = np.array([val[0] for val in dp_dict.items()])"
   ]
  },
  {
   "cell_type": "code",
   "execution_count": 379,
   "id": "902f6c47-b020-49e7-bdd6-745c339d8140",
   "metadata": {},
   "outputs": [],
   "source": [
    "new_arrays = {\n",
    "    (18352,23993): [0.4406,1], #PV becomes the unique elec source\n",
    "    (23994,23993): [0.5594,0],\n",
    "    (23758,23996): [0.995300,0], #wood pellets are replaced by solar thermal\n",
    "    (8302,23996): [0.004668,1],\n",
    "            }\n",
    "def modify_w_arrays(data_object,new_arrays):\n",
    "    n = 1\n",
    "    for k,v in new_arrays.items():\n",
    "        n = len(v)        \n",
    "\n",
    "    data, _ = data_object.get_resource(f\"{data_object.metadata['name']}_technosphere_matrix.data\")\n",
    "    indices, _ = data_object.get_resource(f\"{data_object.metadata['name']}_technosphere_matrix.indices\")\n",
    "    flip, _ = data_object.get_resource(f\"{data_object.metadata['name']}_technosphere_matrix.flip\")\n",
    "    dp_dict = dict(\n",
    "        zip(indices.astype(\"object\"),[[tup[0], tup[1]] for tup in zip(data,flip)])\n",
    "                        )\n",
    "    for key, value in new_arrays.items():\n",
    "        dp_dict[key][0] = value\n",
    "    \n",
    "    new_foreground = bwp.create_datapackage(\n",
    "    fs = bwp.generic_zipfile_filesystem(dirpath=Path(\"./data/inputs\"), filename=f\"{data_object.metadata['name']}.zip\", write=True),\n",
    "    # combinatorial=True,\n",
    "    sequential=True,\n",
    "    )\n",
    "\n",
    "    for row_col, data_flip in dp_dict.items():\n",
    "        if not isinstance(data_flip[0], np.ndarray):\n",
    "            new_array = np.full((n,), fill_value = data_flip[0])\n",
    "            dp_dict[row_col][0] = new_array\n",
    "            \n",
    "    new_data = np.array([val[0] for val in dp_dict.items()])\n",
    "                   \n",
    "    new_foreground.add_persistent_array(\n",
    "    matrix=\"technosphere_matrix\",\n",
    "    data_array=new_data,\n",
    "    indices_array=indices.astype(bwp.INDICES_DTYPE),\n",
    "    flip_array=flip,\n",
    "    name=data_object.metadata['name'],\n",
    ")\n",
    "\n",
    "    # return dp_dict\n",
    "    return new_foreground"
   ]
  },
  {
   "cell_type": "code",
   "execution_count": 380,
   "id": "eb895418-84bc-4db0-a95b-3bd91531eaa9",
   "metadata": {},
   "outputs": [],
   "source": [
    "aa = modify_w_arrays(objects[2], new_arrays)"
   ]
  },
  {
   "cell_type": "code",
   "execution_count": 385,
   "id": "0ac424f6-9b20-4250-92c7-0058b800c6b8",
   "metadata": {},
   "outputs": [
    {
     "data": {
      "text/plain": [
       "[0.2469761531596589,\n",
       " 0.33116044116494214,\n",
       " 0.2469761531596589,\n",
       " 0.33116044116494214,\n",
       " 0.2469761531596589,\n",
       " 0.33116044116494214,\n",
       " 0.2469761531596589,\n",
       " 0.33116044116494214,\n",
       " 0.2469761531596589,\n",
       " 0.33116044116494214]"
      ]
     },
     "execution_count": 385,
     "metadata": {},
     "output_type": "execute_result"
    }
   ],
   "source": [
    "lca_b = bc.LCA(\n",
    "    demand=fu,\n",
    "    data_objs=objects + [aa],\n",
    "    use_distributions=False,\n",
    "    use_arrays=True,\n",
    "#     seed_override=42,  # Seed should not be used\n",
    ")\n",
    "lca_b.lci()\n",
    "lca_b.lcia()\n",
    "lca_b.keep_first_iteration()\n",
    "iterations = 10\n",
    "scores_b = [lca_b.score for _ in zip(range(iterations), lca_b)]\n",
    "scores_b"
   ]
  }
 ],
 "metadata": {
  "kernelspec": {
   "display_name": "Python [conda env:bw25]",
   "language": "python",
   "name": "conda-env-bw25-py"
  },
  "language_info": {
   "codemirror_mode": {
    "name": "ipython",
    "version": 3
   },
   "file_extension": ".py",
   "mimetype": "text/x-python",
   "name": "python",
   "nbconvert_exporter": "python",
   "pygments_lexer": "ipython3",
   "version": "3.10.6"
  }
 },
 "nbformat": 4,
 "nbformat_minor": 5
}
