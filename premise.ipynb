{
 "cells": [
  {
   "cell_type": "markdown",
   "id": "127fded4-377c-48c9-8d30-33852dfbd0ab",
   "metadata": {},
   "source": [
    "# Use examples of [premise](https://github.com/romainsacchi/premise) with user-generated scenarios\n",
    "\n",
    "Author: [romainsacchi](https://github.com/romainsacchi)\n",
    "\n",
    "This notebook shows examples on how to use `premise` to adapt the life cycle inventory database [ecoinvent](https://www.ecoinvent.org/) for prospective environmental impact assessment, using **user-generated scenarios**.\n",
    "\n",
    "User-generated scenario are scenarios built by the premise users community. They can be used on their own\n",
    "or together with a global IAM scenario.\n",
    "Public community scenarios are listed under the repository [Premise community scenario](https://github.com/premise-community-scenarios)."
   ]
  },
  {
   "cell_type": "markdown",
   "id": "a7694ff4-917d-4027-afe1-d63bf8d5b387",
   "metadata": {},
   "source": [
    "User-generated scenarios are \"packaged\" into [data packages](https://specs.frictionlessdata.io/data-package/)."
   ]
  },
  {
   "cell_type": "markdown",
   "id": "f2c96741-8a52-4d5d-b2bf-fc091ad97d43",
   "metadata": {},
   "source": [
    "Data packages ensure that the data used comes with all necessary metadata, resources (scenario data, inventories, etc.), and that the data is formatted in a correct way."
   ]
  },
  {
   "cell_type": "markdown",
   "id": "a9e4e85b-22eb-4a7e-928a-2ef7b5dd2814",
   "metadata": {},
   "source": [
    "To fetch a data packge, you can use the `datapackage` library.\n",
    "For exmaple, let's fetch the user-generated scenario about [Switzerland's future energy supply](https://github.com/premise-community-scenarios/energy-perspective-2050-switzerland)."
   ]
  },
  {
   "cell_type": "code",
   "execution_count": 3,
   "id": "90c8da09-12b1-4c35-bb36-550be70a738e",
   "metadata": {},
   "outputs": [],
   "source": [
    "from datapackage import Package"
   ]
  },
  {
   "cell_type": "code",
   "execution_count": 4,
   "id": "bda9c910-140b-4e65-9656-156158968c25",
   "metadata": {},
   "outputs": [
    {
     "name": "stdout",
     "output_type": "stream",
     "text": [
      "energy-perspective-2050-switzerland\n"
     ]
    }
   ],
   "source": [
    "# URL pointing to the raw datapackage.json file of the custom scenario \"switzerland_2050\"\n",
    "url = \"https://raw.githubusercontent.com/premise-community-scenarios/energy-perspective-2050-switzerland/main/datapackage.json\"\n",
    "switzerland_2050 = Package(url)\n",
    "\n",
    "#save the name of custom scenario for later automatic db naming\n",
    "customscenario=switzerland_2050.descriptor['name']\n",
    "print(customscenario)"
   ]
  },
  {
   "cell_type": "code",
   "execution_count": 5,
   "id": "81e5e883-a236-4dbe-a864-7837737485f7",
   "metadata": {},
   "outputs": [
    {
     "name": "stdout",
     "output_type": "stream",
     "text": [
      "PREMISE v1.3.6\n"
     ]
    }
   ],
   "source": [
    "#check version of premise. parameter can e sued for db naming\n",
    "import premise\n",
    "v=str(premise.__version__).replace(',','.')\n",
    "for character in ')( ':\n",
    "    v = v.replace(character, '')\n",
    "    \n",
    "pv=\"PREMISE v\"+v\n",
    "print(pv)"
   ]
  },
  {
   "cell_type": "code",
   "execution_count": 6,
   "id": "f15e00e7-4086-4312-8090-ad432ea368d6",
   "metadata": {},
   "outputs": [],
   "source": [
    "from premise import *\n",
    "import brightway2 as bw"
   ]
  },
  {
   "cell_type": "code",
   "execution_count": 7,
   "id": "b7c0d9c3-6feb-46fd-892e-b3470e025a42",
   "metadata": {},
   "outputs": [],
   "source": [
    "#restore ecoinvent\n",
    "if 'ei38-teaching' not in bw.projects:\n",
    "    bw.restore_project_directory(\"/srv/data/projects/ecoinvent38.tar.gz\")"
   ]
  },
  {
   "cell_type": "code",
   "execution_count": 8,
   "id": "041e5617-395b-4cc2-87aa-7c9b7deb86e3",
   "metadata": {},
   "outputs": [],
   "source": [
    "#bw.projects.copy_project(\"moeschpond1\")"
   ]
  },
  {
   "cell_type": "code",
   "execution_count": 9,
   "id": "c761a846-f506-49ac-85c9-c8919e4f3576",
   "metadata": {},
   "outputs": [],
   "source": [
    "bw.projects.set_current(\"moeschpond1\")"
   ]
  },
  {
   "cell_type": "code",
   "execution_count": 10,
   "id": "8da69160-0d0a-4ade-b647-d8a45b895d83",
   "metadata": {},
   "outputs": [
    {
     "data": {
      "text/plain": [
       "Databases dictionary with 10 object(s):\n",
       "\tEI 3.8 cutoff image SSP2-Base 2050\n",
       "\tEI 3.8 cutoff image SSP2-RCP19 2050\n",
       "\tEI 3.8 cutoff image SSP2-RCP26 2050\n",
       "\tEI 3.8 cutoff remind SSP2-Base 2050\n",
       "\tEI 3.8 cutoff remind SSP2-PkBudg1150 2050\n",
       "\tEI 3.8 cutoff remind SSP2-PkBudg500 2050\n",
       "\tbiosphere3\n",
       "\tei 3.8 cutoff\n",
       "\tsuper_db_2022-10-26\n",
       "\tsuper_db_2022-10-27"
      ]
     },
     "execution_count": 10,
     "metadata": {},
     "output_type": "execute_result"
    }
   ],
   "source": [
    "bw.databases"
   ]
  },
  {
   "cell_type": "code",
   "execution_count": 11,
   "id": "cd82b43b-71ba-4923-a433-4d129c82e34b",
   "metadata": {},
   "outputs": [],
   "source": [
    "#define scenarios to be included by premise (https://premise.readthedocs.io/en/latest/extract.html)\n",
    "scenarios = [\n",
    "    {\"model\": \"image\", \"pathway\":\"SSP2-Base\", \"year\": 2050},\n",
    "    {\"model\": \"image\", \"pathway\":\"SSP2-RCP26\", \"year\": 2050},\n",
    "    {\"model\": \"image\", \"pathway\":\"SSP2-RCP19\", \"year\": 2050},\n",
    "    {\"model\": \"remind\", \"pathway\":\"SSP2-Base\", \"year\": 2050},\n",
    "    {\"model\": \"remind\", \"pathway\":\"SSP2-PkBudg1150\", \"year\": 2050},\n",
    "    {\"model\": \"remind\", \"pathway\":\"SSP2-PkBudg500\", \"year\": 2050},\n",
    "]\n",
    "\n",
    "db_original=\"ei 3.8 cutoff\""
   ]
  },
  {
   "cell_type": "code",
   "execution_count": 25,
   "id": "b0408c8e-ce9e-4d6c-8e4b-a6a0db1ff384",
   "metadata": {},
   "outputs": [
    {
     "name": "stdout",
     "output_type": "stream",
     "text": [
      "premise v.(1, 3, 6)\n",
      "+------------------------------------------------------------------+\n",
      "| Warning                                                          |\n",
      "+------------------------------------------------------------------+\n",
      "| Because some of the scenarios can yield LCI databases            |\n",
      "| containing net negative emission technologies (NET),             |\n",
      "| it is advised to account for biogenic CO2 flows when calculating |\n",
      "| Global Warming potential indicators.                             |\n",
      "| `premise_gwp` provides characterization factors for such flows.  |\n",
      "| It also provides factors for hydrogen emissions to air.          |\n",
      "|                                                                  |\n",
      "| Within your bw2 project:                                         |\n",
      "| from premise_gwp import add_premise_gwp                          |\n",
      "| add_premise_gwp()                                                |\n",
      "+------------------------------------------------------------------+\n",
      "+--------------------------------+----------------------------------+\n",
      "| Utils functions                | Description                      |\n",
      "+--------------------------------+----------------------------------+\n",
      "| clear_cache()                  | Clears the cache folder. Useful  |\n",
      "|                                | when updating `premise`or        |\n",
      "|                                | encountering issues with         |\n",
      "|                                | inventories.                     |\n",
      "+--------------------------------+----------------------------------+\n",
      "| get_regions_definition(model)  | Retrieves the list of countries  |\n",
      "|                                | for each region of the model.    |\n",
      "+--------------------------------+----------------------------------+\n",
      "| ndb.NewDatabase(...)           | Generates a summary of the most  |\n",
      "| ndb.generate_scenario_report() | important scenarios' variables.  |\n",
      "+--------------------------------+----------------------------------+\n",
      "Keep uncertainty data?\n",
      "NewDatabase(..., keep_uncertainty_data=True)\n",
      "\n",
      "Hide these messages?\n",
      "NewDatabase(..., quiet=True)\n",
      "\n",
      "//////////////////// EXTRACTING SOURCE DATABASE ////////////////////\n",
      "Done!\n",
      "\n",
      "////////////////// IMPORTING DEFAULT INVENTORIES ///////////////////\n",
      "Done!\n",
      "\n",
      "/////////////////////// EXTRACTING IAM DATA ////////////////////////\n",
      "Done!\n",
      "CPU times: user 37.5 s, sys: 604 ms, total: 38.1 s\n",
      "Wall time: 38.7 s\n"
     ]
    }
   ],
   "source": [
    "%%time\n",
    "\n",
    "\n",
    "\n",
    "ndb = NewDatabase(\n",
    "        scenarios = scenarios,        \n",
    "        source_db=db_original,\n",
    "        source_version=\"3.8\",\n",
    "        key='tUePmX_S5B8ieZkkM7WUU2CnO8SmShwmAeWK9x2rTFo=', #encryption key for the image/remind data\n",
    "        external_scenarios=[\n",
    "            switzerland_2050,\n",
    "        ],\n",
    "        keep_uncertainty_data=True #keep uncertainty in dataset (not default)\n",
    ")\n"
   ]
  },
  {
   "cell_type": "markdown",
   "id": "560b5cc3-11c8-4499-b553-d79ec5203e3e",
   "metadata": {},
   "source": [
    "To integrate the projections of the user-generated scenario, call `update_external_scenario()`."
   ]
  },
  {
   "cell_type": "code",
   "execution_count": null,
   "id": "51dd0dd9-86bf-42f3-bded-d3da98178b7e",
   "metadata": {},
   "outputs": [],
   "source": [
    "#%%time #should take 10 minutes\n",
    "\n",
    "#ndb.update_all() #update all sectors that PREMISE can do\n",
    "\n",
    "ndb.update_electricity() #in this case we are only interested in transforming the electricity sector of the background database\n",
    "\n",
    "ndb.update_external_scenario()#also customscenarioate the external switzerland2050 scenario"
   ]
  },
  {
   "cell_type": "markdown",
   "id": "37d05dd0-e5a1-4ff5-a91c-8c9c342da322",
   "metadata": {},
   "source": [
    "You can combine the user-generated scenario with any, all or none of the projections for the IAM model.\n",
    "For example, here with the electricity projections of the IMAGE SSP2-Base scenario:"
   ]
  },
  {
   "cell_type": "markdown",
   "id": "30f6dffc-766d-442d-a93d-d53a2b127e72",
   "metadata": {},
   "source": [
    "Once the projections are integrated, you can export the database(s) back to your Brightway2 project, to\n",
    "a CSV Simapro file, or as a set of sparse amtrices (see main exmaples notebook for more details)."
   ]
  },
  {
   "cell_type": "code",
   "execution_count": 12,
   "id": "7354fd75-4f1b-46c8-a7ff-807d824dd22f",
   "metadata": {},
   "outputs": [],
   "source": [
    "\n",
    "\n",
    "#parametric db naming to be used to write db names consistenntly based on defined scenarios\n",
    "def dbName(scenario_nr:int):\n",
    "    dbname=db_original\n",
    "    for a,b in scenarios[scenario_nr].items():\n",
    "        dbname = dbname + \"_\"+str(b)\n",
    "    \n",
    "    dbname=dbname+\"_\"+pv\n",
    "    dbname=dbname+\"_\"+customscenario\n",
    "    return dbname"
   ]
  },
  {
   "cell_type": "markdown",
   "id": "a3e2bf78-aac9-479d-9176-fc889b3df338",
   "metadata": {},
   "source": [
    "The database name includes relevant metadata: EI version, as well as PREMSIE scenario and version. It does nto include external scenarios"
   ]
  },
  {
   "cell_type": "code",
   "execution_count": 14,
   "id": "9d0440be-0583-40ca-acdc-b7b00eca3186",
   "metadata": {},
   "outputs": [
    {
     "data": {
      "text/plain": [
       "'ei 3.8 cutoff_image_SSP2-Base_2050_PREMISE v1.3.6_energy-perspective-2050-switzerland'"
      ]
     },
     "execution_count": 14,
     "metadata": {},
     "output_type": "execute_result"
    }
   ],
   "source": [
    "dbName(0)"
   ]
  },
  {
   "cell_type": "code",
   "execution_count": 38,
   "id": "c71a9cd5-e547-409e-868f-03cf6fe09cbf",
   "metadata": {},
   "outputs": [
    {
     "name": "stdout",
     "output_type": "stream",
     "text": [
      "Write new database(s) to Brightway2.\n",
      "Prepare database 1.\n",
      "- check for duplicates...\n",
      "- check for values format...\n",
      "- relinking exchanges...\n",
      "Done!\n",
      "24032 datasets\n",
      "682007 exchanges\n",
      "0 unlinked exchanges\n",
      "  \n",
      "Warning: No valid output stream.\n",
      "Title: Writing activities to SQLite3 database:\n",
      "  Started: 10/27/2022 12:37:27\n",
      "  Finished: 10/27/2022 12:37:49\n",
      "  Total time elapsed: 00:00:21\n",
      "  CPU %: 94.20\n",
      "  Memory %: 2.80\n",
      "Created database: EI 3.8 cutoff image SSP2-Base 2050\n",
      "Prepare database 2.\n",
      "- check for duplicates...\n",
      "- check for values format...\n",
      "- relinking exchanges...\n",
      "Done!\n",
      "24032 datasets\n",
      "683138 exchanges\n",
      "0 unlinked exchanges\n",
      "  \n",
      "Warning: No valid output stream.\n",
      "Title: Writing activities to SQLite3 database:\n",
      "  Started: 10/27/2022 12:39:54\n",
      "  Finished: 10/27/2022 12:40:16\n",
      "  Total time elapsed: 00:00:21\n",
      "  CPU %: 94.20\n",
      "  Memory %: 2.96\n",
      "Created database: EI 3.8 cutoff image SSP2-RCP26 2050\n",
      "Prepare database 3.\n",
      "- check for duplicates...\n",
      "- check for values format...\n",
      "- relinking exchanges...\n",
      "Done!\n",
      "24032 datasets\n",
      "681352 exchanges\n",
      "0 unlinked exchanges\n",
      "  \n",
      "Warning: No valid output stream.\n",
      "Title: Writing activities to SQLite3 database:\n",
      "  Started: 10/27/2022 12:42:32\n",
      "  Finished: 10/27/2022 12:42:54\n",
      "  Total time elapsed: 00:00:22\n",
      "  CPU %: 94.20\n",
      "  Memory %: 3.15\n",
      "Created database: EI 3.8 cutoff image SSP2-RCP19 2050\n",
      "Prepare database 4.\n",
      "- check for duplicates...\n",
      "- check for values format...\n",
      "- relinking exchanges...\n",
      "Done!\n",
      "22394 datasets\n",
      "656253 exchanges\n",
      "0 unlinked exchanges\n",
      "  \n",
      "Warning: No valid output stream.\n",
      "Title: Writing activities to SQLite3 database:\n",
      "  Started: 10/27/2022 12:45:10\n",
      "  Finished: 10/27/2022 12:45:32\n",
      "  Total time elapsed: 00:00:21\n",
      "  CPU %: 91.60\n",
      "  Memory %: 3.33\n",
      "Created database: EI 3.8 cutoff remind SSP2-Base 2050\n",
      "Prepare database 5.\n",
      "- check for duplicates...\n",
      "- check for values format...\n",
      "- relinking exchanges...\n",
      "Done!\n",
      "22394 datasets\n",
      "657114 exchanges\n",
      "0 unlinked exchanges\n",
      "  \n",
      "Warning: No valid output stream.\n",
      "Title: Writing activities to SQLite3 database:\n",
      "  Started: 10/27/2022 12:47:43\n",
      "  Finished: 10/27/2022 12:48:04\n",
      "  Total time elapsed: 00:00:20\n",
      "  CPU %: 92.80\n",
      "  Memory %: 3.51\n",
      "Created database: EI 3.8 cutoff remind SSP2-PkBudg1150 2050\n",
      "Prepare database 6.\n",
      "- check for duplicates...\n",
      "- check for values format...\n",
      "- relinking exchanges...\n",
      "Done!\n",
      "22394 datasets\n",
      "657114 exchanges\n",
      "0 unlinked exchanges\n",
      "  \n",
      "Warning: No valid output stream.\n",
      "Title: Writing activities to SQLite3 database:\n",
      "  Started: 10/27/2022 12:50:16\n",
      "  Finished: 10/27/2022 12:50:37\n",
      "  Total time elapsed: 00:00:21\n",
      "  CPU %: 94.30\n",
      "  Memory %: 3.69\n",
      "Created database: EI 3.8 cutoff remind SSP2-PkBudg500 2050\n"
     ]
    }
   ],
   "source": [
    "#superstructure database does only work in activity-browser, but not for brightway 2/2.5 coding\n",
    "#so we need to export a separate DB for each scenario \n",
    "\n",
    "#write the db names to reflect the model, ssp2-rcp scenario, and year. same order as when we created the ndb\n",
    "ndb.write_db_to_brightway([\n",
    "    dbName(0),\n",
    "    dbName(1),\n",
    "    dbName(2),\n",
    "    dbName(3),\n",
    "    dbName(4),\n",
    "    dbName(5)\n",
    "])"
   ]
  },
  {
   "cell_type": "code",
   "execution_count": 39,
   "id": "a91fbc02-6fd4-45b3-a29d-515e4dcf9eaf",
   "metadata": {},
   "outputs": [
    {
     "data": {
      "text/plain": [
       "Databases dictionary with 10 object(s):\n",
       "\tEI 3.8 cutoff image SSP2-Base 2050\n",
       "\tEI 3.8 cutoff image SSP2-RCP19 2050\n",
       "\tEI 3.8 cutoff image SSP2-RCP26 2050\n",
       "\tEI 3.8 cutoff remind SSP2-Base 2050\n",
       "\tEI 3.8 cutoff remind SSP2-PkBudg1150 2050\n",
       "\tEI 3.8 cutoff remind SSP2-PkBudg500 2050\n",
       "\tbiosphere3\n",
       "\tei 3.8 cutoff\n",
       "\tsuper_db_2022-10-26\n",
       "\tsuper_db_2022-10-27"
      ]
     },
     "execution_count": 39,
     "metadata": {},
     "output_type": "execute_result"
    }
   ],
   "source": [
    "bw.databases"
   ]
  },
  {
   "cell_type": "markdown",
   "id": "7f6de737-97a1-48b8-8480-ab43a3e5aff5",
   "metadata": {},
   "source": [
    "# superstructure\n",
    "when exporting the database as sueprstructure, we need a few mroe steps to share the superstructure database with the team (because of the scenario diff file)"
   ]
  },
  {
   "cell_type": "code",
   "execution_count": 67,
   "id": "87ecc441-0ed0-4c8a-bef8-12d57a96171b",
   "metadata": {},
   "outputs": [
    {
     "name": "stderr",
     "output_type": "stream",
     "text": [
      "UsageError: Cell magic `%%databases` not found.\n"
     ]
    }
   ],
   "source": [
    "ndb.write_superstructure_db_to_brightway()"
   ]
  },
  {
   "cell_type": "code",
   "execution_count": 108,
   "id": "dbc0ada8-da02-42d6-b9e7-22db5975361b",
   "metadata": {},
   "outputs": [
    {
     "name": "stdout",
     "output_type": "stream",
     "text": [
      "super_db_2022-10-27\n"
     ]
    }
   ],
   "source": [
    "#automatisation of saving altest super_db name\n",
    "superdb_names = [key for key in bw.databases.keys() if key.startswith('super_db')]\n",
    "superdb_names.sort()#make sure they are sorted\n",
    "superdb=superdb_names[-1]#take the last one\n",
    "print(superdb)"
   ]
  },
  {
   "cell_type": "code",
   "execution_count": 106,
   "id": "5c8006b4-f2a3-4690-b5d7-f1e2c5936497",
   "metadata": {},
   "outputs": [],
   "source": [
    "#call from linux terminal to move the scenario diff file to our local github folder. The filename includes the date of generation. This is currently not automized, so remeber to change the filename according to the output from write_superstructure_db_to_brightway() \n",
    "!cp /opt/tljh/user/envs/bw/lib/python3.10/site-packages/premise/data/export/scenario\\ diff\\ files/scenario_diff_$superdb\\.xlsx /home/jupyter-simb/moeschpond/"
   ]
  },
  {
   "cell_type": "code",
   "execution_count": 40,
   "id": "8d65f7ea-1f9c-4cc2-bd5b-5ae429dd0f24",
   "metadata": {},
   "outputs": [
    {
     "name": "stdout",
     "output_type": "stream",
     "text": [
      "Creating project backup archive - this could take a few minutes...\n"
     ]
    }
   ],
   "source": [
    "bw.backup_project_directory(\"moeschpond1\")"
   ]
  },
  {
   "cell_type": "code",
   "execution_count": 120,
   "id": "bcb55219-4885-4109-98ad-3acd54a37936",
   "metadata": {},
   "outputs": [
    {
     "name": "stdout",
     "output_type": "stream",
     "text": [
      "Autumn-School-2022\n",
      "brightway2-project-moeschpond1-backup.26-October-2022-03-51PM.tar.gz\n",
      "brightway2-project-moeschpond1-backup.26-October-2022-03-59PM.tar.gz\n",
      "brightway2-project-moeschpond1-backup.27-October-2022-08-40AM.tar.gz\n",
      "brightway2-project-moeschpond1-backup.27-October-2022-09-49AM.tar.gz\n",
      "brightway2-project-moeschpond1-backup.27-October-2022-09-50AM.tar.gz\n",
      "brightway2-project-moeschpond1-backup.27-October-2022-12-53PM.tar.gz\n",
      "hybridization_data\n",
      "moeschpond\n",
      "pylcaio\n",
      "scratch\n",
      "Start-here.ipynb\n",
      "teaching-material\n"
     ]
    }
   ],
   "source": [
    "things=! ls ~/\n",
    "\n",
    "! ls ~/"
   ]
  },
  {
   "cell_type": "code",
   "execution_count": 121,
   "id": "f42500be-26d5-480d-a85b-06d20c969ff4",
   "metadata": {},
   "outputs": [
    {
     "name": "stdout",
     "output_type": "stream",
     "text": [
      "brightway2-project-moeschpond1-backup.27-October-2022-12-53PM.tar.gz\n"
     ]
    }
   ],
   "source": [
    "#automatic update the string to the msot recent backup filename from above\n",
    "backups = [key for key in things if key.startswith('brightway2-project-')]\n",
    "backups.sort()#make sure they are sorted\n",
    "backup=backups[-1]#take the last one\n",
    "print(backup)"
   ]
  },
  {
   "cell_type": "code",
   "execution_count": 122,
   "id": "19ae2af2-752b-4246-b2ac-6f49879d98a0",
   "metadata": {},
   "outputs": [],
   "source": [
    "#DO NOT PUT ECOINVENT ON PUBLIC GITHUB\n",
    "#copy the file to shared directory on server.\n",
    "!cp ~/$backup /srv/scratch/u.2/"
   ]
  },
  {
   "cell_type": "code",
   "execution_count": 37,
   "id": "9d999f30-c687-4d04-9a0e-26ff290b5067",
   "metadata": {},
   "outputs": [
    {
     "name": "stdout",
     "output_type": "stream",
     "text": [
      "Restoring project backup archive - this could take a few minutes...\n"
     ]
    },
    {
     "data": {
      "text/plain": [
       "'moeschpond1'"
      ]
     },
     "execution_count": 37,
     "metadata": {},
     "output_type": "execute_result"
    }
   ],
   "source": [
    "import brightway2 as bw\n",
    "bw.restore_project_directory(\"/srv/scratch/u.2/\"+backup)"
   ]
  },
  {
   "cell_type": "code",
   "execution_count": 123,
   "id": "f6dc850d-929d-4e4d-8fc5-cd762e210d4d",
   "metadata": {},
   "outputs": [
    {
     "data": {
      "text/plain": [
       "Databases dictionary with 10 object(s):\n",
       "\tEI 3.8 cutoff image SSP2-Base 2050\n",
       "\tEI 3.8 cutoff image SSP2-RCP19 2050\n",
       "\tEI 3.8 cutoff image SSP2-RCP26 2050\n",
       "\tEI 3.8 cutoff remind SSP2-Base 2050\n",
       "\tEI 3.8 cutoff remind SSP2-PkBudg1150 2050\n",
       "\tEI 3.8 cutoff remind SSP2-PkBudg500 2050\n",
       "\tbiosphere3\n",
       "\tei 3.8 cutoff\n",
       "\tsuper_db_2022-10-26\n",
       "\tsuper_db_2022-10-27"
      ]
     },
     "execution_count": 123,
     "metadata": {},
     "output_type": "execute_result"
    }
   ],
   "source": [
    "#check if db restored correctly\n",
    "bw.databases"
   ]
  },
  {
   "cell_type": "code",
   "execution_count": null,
   "id": "00dc4be4-6c24-41e9-8f49-e8b33b62632f",
   "metadata": {},
   "outputs": [],
   "source": [
    "\n"
   ]
  },
  {
   "cell_type": "code",
   "execution_count": null,
   "id": "b4e744b4-0619-461a-9246-df0fa3957865",
   "metadata": {},
   "outputs": [],
   "source": []
  },
  {
   "cell_type": "code",
   "execution_count": null,
   "id": "e5ee5e1d-65e0-4ec6-917e-17c645562414",
   "metadata": {},
   "outputs": [],
   "source": []
  },
  {
   "cell_type": "code",
   "execution_count": null,
   "id": "438dc0de-4226-40d2-903d-11a133770bbb",
   "metadata": {},
   "outputs": [],
   "source": []
  }
 ],
 "metadata": {
  "kernelspec": {
   "display_name": "Python [conda env:bw]",
   "language": "python",
   "name": "conda-env-bw-py"
  },
  "language_info": {
   "codemirror_mode": {
    "name": "ipython",
    "version": 3
   },
   "file_extension": ".py",
   "mimetype": "text/x-python",
   "name": "python",
   "nbconvert_exporter": "python",
   "pygments_lexer": "ipython3",
   "version": "3.10.6"
  }
 },
 "nbformat": 4,
 "nbformat_minor": 5
}
