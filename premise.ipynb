{
 "cells": [
  {
   "cell_type": "markdown",
   "id": "127fded4-377c-48c9-8d30-33852dfbd0ab",
   "metadata": {},
   "source": [
    "# Use examples of [premise](https://github.com/romainsacchi/premise) with user-generated scenarios\n",
    "\n",
    "Author: [romainsacchi](https://github.com/romainsacchi)\n",
    "\n",
    "This notebook shows examples on how to use `premise` to adapt the life cycle inventory database [ecoinvent](https://www.ecoinvent.org/) for prospective environmental impact assessment, using **user-generated scenarios**.\n",
    "\n",
    "User-generated scenario are scenarios built by the premise users community. They can be used on their own\n",
    "or together with a global IAM scenario.\n",
    "Public community scenarios are listed under the repository [Premise community scenario](https://github.com/premise-community-scenarios)."
   ]
  },
  {
   "cell_type": "markdown",
   "id": "a7694ff4-917d-4027-afe1-d63bf8d5b387",
   "metadata": {},
   "source": [
    "User-generated scenarios are \"packaged\" into [data packages](https://specs.frictionlessdata.io/data-package/)."
   ]
  },
  {
   "cell_type": "markdown",
   "id": "f2c96741-8a52-4d5d-b2bf-fc091ad97d43",
   "metadata": {},
   "source": [
    "Data packages ensure that the data used comes with all necessary metadata, resources (scenario data, inventories, etc.), and that the data is formatted in a correct way."
   ]
  },
  {
   "cell_type": "markdown",
   "id": "a9e4e85b-22eb-4a7e-928a-2ef7b5dd2814",
   "metadata": {},
   "source": [
    "To fetch a data packge, you can use the `datapackage` library.\n",
    "For exmaple, let's fetch the user-generated scenario about [Switzerland's future energy supply](https://github.com/premise-community-scenarios/energy-perspective-2050-switzerland)."
   ]
  },
  {
   "cell_type": "code",
   "execution_count": 1,
   "id": "90c8da09-12b1-4c35-bb36-550be70a738e",
   "metadata": {},
   "outputs": [],
   "source": [
    "from datapackage import Package"
   ]
  },
  {
   "cell_type": "code",
   "execution_count": 2,
   "id": "bda9c910-140b-4e65-9656-156158968c25",
   "metadata": {},
   "outputs": [],
   "source": [
    "# URL pointing to the raw datapackage.json file of the scenario\n",
    "url = \"https://raw.githubusercontent.com/premise-community-scenarios/energy-perspective-2050-switzerland/main/datapackage.json\"\n",
    "switzerland_2050 = Package(url)"
   ]
  },
  {
   "cell_type": "markdown",
   "id": "b615c6c4-6309-4b55-a375-f95f3446b8f5",
   "metadata": {},
   "source": [
    "The datapackage has 3 resources: scenario data, inventories and a configuration file."
   ]
  },
  {
   "cell_type": "code",
   "execution_count": 3,
   "id": "b88cc08c-c6c2-4890-9c39-c52f51d5b98e",
   "metadata": {},
   "outputs": [
    {
     "name": "stdout",
     "output_type": "stream",
     "text": [
      "scenario_data\n",
      "inventories\n",
      "config\n"
     ]
    }
   ],
   "source": [
    "for resource in switzerland_2050.resources:\n",
    "    print(resource.name)"
   ]
  },
  {
   "cell_type": "markdown",
   "id": "d4e664d6-19a2-4ed2-aeec-38bfa97dce8f",
   "metadata": {},
   "source": [
    "or"
   ]
  },
  {
   "cell_type": "code",
   "execution_count": 4,
   "id": "a02895f5-adb8-4b7c-a5a1-a49ed936f140",
   "metadata": {},
   "outputs": [
    {
     "data": {
      "text/plain": [
       "['scenario_data', 'inventories', 'config']"
      ]
     },
     "execution_count": 4,
     "metadata": {},
     "output_type": "execute_result"
    }
   ],
   "source": [
    "switzerland_2050.resource_names"
   ]
  },
  {
   "cell_type": "markdown",
   "id": "676f4a89-f709-46c1-8bc6-19f174ddff2f",
   "metadata": {},
   "source": [
    "And you can directly read them (or look the resources up directly from the repo):"
   ]
  },
  {
   "cell_type": "code",
   "execution_count": 5,
   "id": "c8814dca-0f42-4fb9-9169-025f1860f4b4",
   "metadata": {},
   "outputs": [
    {
     "data": {
      "text/html": [
       "<div>\n",
       "<style scoped>\n",
       "    .dataframe tbody tr th:only-of-type {\n",
       "        vertical-align: middle;\n",
       "    }\n",
       "\n",
       "    .dataframe tbody tr th {\n",
       "        vertical-align: top;\n",
       "    }\n",
       "\n",
       "    .dataframe thead th {\n",
       "        text-align: right;\n",
       "    }\n",
       "</style>\n",
       "<table border=\"1\" class=\"dataframe\">\n",
       "  <thead>\n",
       "    <tr style=\"text-align: right;\">\n",
       "      <th></th>\n",
       "      <th>0</th>\n",
       "      <th>1</th>\n",
       "      <th>2</th>\n",
       "      <th>3</th>\n",
       "      <th>4</th>\n",
       "      <th>5</th>\n",
       "      <th>6</th>\n",
       "      <th>7</th>\n",
       "      <th>8</th>\n",
       "      <th>9</th>\n",
       "      <th>10</th>\n",
       "      <th>11</th>\n",
       "      <th>12</th>\n",
       "      <th>13</th>\n",
       "      <th>14</th>\n",
       "      <th>15</th>\n",
       "      <th>16</th>\n",
       "      <th>17</th>\n",
       "    </tr>\n",
       "  </thead>\n",
       "  <tbody>\n",
       "    <tr>\n",
       "      <th>0</th>\n",
       "      <td>image</td>\n",
       "      <td>SSP2-Base</td>\n",
       "      <td>Business As Usual</td>\n",
       "      <td>CH</td>\n",
       "      <td>Production|Electricity|Run-of-river hydro</td>\n",
       "      <td>PJ/year</td>\n",
       "      <td>64.002</td>\n",
       "      <td>63.994</td>\n",
       "      <td>63.928</td>\n",
       "      <td>63.119</td>\n",
       "      <td>61.774</td>\n",
       "      <td>59.235</td>\n",
       "      <td>58.097</td>\n",
       "      <td>58.097</td>\n",
       "      <td>58.097</td>\n",
       "      <td>58.097</td>\n",
       "      <td>58.097</td>\n",
       "      <td>58.097</td>\n",
       "    </tr>\n",
       "    <tr>\n",
       "      <th>1</th>\n",
       "      <td>image</td>\n",
       "      <td>SSP2-Base</td>\n",
       "      <td>Business As Usual</td>\n",
       "      <td>CH</td>\n",
       "      <td>Production|Electricity|Reservoir</td>\n",
       "      <td>PJ/year</td>\n",
       "      <td>76.367</td>\n",
       "      <td>79.679</td>\n",
       "      <td>81.45</td>\n",
       "      <td>79.47</td>\n",
       "      <td>79.556</td>\n",
       "      <td>81.238</td>\n",
       "      <td>82.102</td>\n",
       "      <td>82.102</td>\n",
       "      <td>82.102</td>\n",
       "      <td>82.102</td>\n",
       "      <td>82.102</td>\n",
       "      <td>82.102</td>\n",
       "    </tr>\n",
       "    <tr>\n",
       "      <th>2</th>\n",
       "      <td>image</td>\n",
       "      <td>SSP2-Base</td>\n",
       "      <td>Business As Usual</td>\n",
       "      <td>CH</td>\n",
       "      <td>Production|Electricity|Nuclear|Boiling water r...</td>\n",
       "      <td>PJ/year</td>\n",
       "      <td>37.30202</td>\n",
       "      <td>28.321</td>\n",
       "      <td>15.165</td>\n",
       "      <td>0</td>\n",
       "      <td>0</td>\n",
       "      <td>0</td>\n",
       "      <td>0</td>\n",
       "      <td>0</td>\n",
       "      <td>0</td>\n",
       "      <td>0</td>\n",
       "      <td>0</td>\n",
       "      <td>0</td>\n",
       "    </tr>\n",
       "    <tr>\n",
       "      <th>3</th>\n",
       "      <td>image</td>\n",
       "      <td>SSP2-Base</td>\n",
       "      <td>Business As Usual</td>\n",
       "      <td>CH</td>\n",
       "      <td>Production|Electricity|Nuclear|Pressure water ...</td>\n",
       "      <td>PJ/year</td>\n",
       "      <td>42.06398</td>\n",
       "      <td>31.936</td>\n",
       "      <td>17.102</td>\n",
       "      <td>0</td>\n",
       "      <td>0</td>\n",
       "      <td>0</td>\n",
       "      <td>0</td>\n",
       "      <td>0</td>\n",
       "      <td>0</td>\n",
       "      <td>0</td>\n",
       "      <td>0</td>\n",
       "      <td>0</td>\n",
       "    </tr>\n",
       "    <tr>\n",
       "      <th>4</th>\n",
       "      <td>image</td>\n",
       "      <td>SSP2-Base</td>\n",
       "      <td>Business As Usual</td>\n",
       "      <td>CH</td>\n",
       "      <td>Production|Electricity|Conventional|Waste-to-E...</td>\n",
       "      <td>PJ/year</td>\n",
       "      <td>6.767</td>\n",
       "      <td>6.883</td>\n",
       "      <td>6.998</td>\n",
       "      <td>7.114</td>\n",
       "      <td>7.229</td>\n",
       "      <td>7.345</td>\n",
       "      <td>7.461</td>\n",
       "      <td>7.461</td>\n",
       "      <td>7.461</td>\n",
       "      <td>7.461</td>\n",
       "      <td>7.461</td>\n",
       "      <td>7.461</td>\n",
       "    </tr>\n",
       "  </tbody>\n",
       "</table>\n",
       "</div>"
      ],
      "text/plain": [
       "      0          1                  2   3   \\\n",
       "0  image  SSP2-Base  Business As Usual  CH   \n",
       "1  image  SSP2-Base  Business As Usual  CH   \n",
       "2  image  SSP2-Base  Business As Usual  CH   \n",
       "3  image  SSP2-Base  Business As Usual  CH   \n",
       "4  image  SSP2-Base  Business As Usual  CH   \n",
       "\n",
       "                                                  4        5         6   \\\n",
       "0          Production|Electricity|Run-of-river hydro  PJ/year    64.002   \n",
       "1                   Production|Electricity|Reservoir  PJ/year    76.367   \n",
       "2  Production|Electricity|Nuclear|Boiling water r...  PJ/year  37.30202   \n",
       "3  Production|Electricity|Nuclear|Pressure water ...  PJ/year  42.06398   \n",
       "4  Production|Electricity|Conventional|Waste-to-E...  PJ/year     6.767   \n",
       "\n",
       "       7       8       9       10      11      12      13      14      15  \\\n",
       "0  63.994  63.928  63.119  61.774  59.235  58.097  58.097  58.097  58.097   \n",
       "1  79.679   81.45   79.47  79.556  81.238  82.102  82.102  82.102  82.102   \n",
       "2  28.321  15.165       0       0       0       0       0       0       0   \n",
       "3  31.936  17.102       0       0       0       0       0       0       0   \n",
       "4   6.883   6.998   7.114   7.229   7.345   7.461   7.461   7.461   7.461   \n",
       "\n",
       "       16      17  \n",
       "0  58.097  58.097  \n",
       "1  82.102  82.102  \n",
       "2       0       0  \n",
       "3       0       0  \n",
       "4   7.461   7.461  "
      ]
     },
     "execution_count": 5,
     "metadata": {},
     "output_type": "execute_result"
    }
   ],
   "source": [
    "import pandas as pd\n",
    "data = switzerland_2050.get_resource(\"scenario_data\").read()\n",
    "pd.DataFrame(data).head()"
   ]
  },
  {
   "cell_type": "markdown",
   "id": "952e8dfe-71ee-4649-80ac-a6e3934cfa1f",
   "metadata": {},
   "source": [
    "The datapackage can also be locally stored (i.e., on your computer), in which case you only\n",
    "need to provide the filepath to the `datapackage.json` file."
   ]
  },
  {
   "cell_type": "markdown",
   "id": "09760b15-e129-46b8-85d2-80aefa5c2a0c",
   "metadata": {},
   "source": [
    "Once the datapackage is loaded, you just need to pass it (in a list) to the `NewDatabase` instance of `premise`."
   ]
  },
  {
   "cell_type": "code",
   "execution_count": 6,
   "id": "81e5e883-a236-4dbe-a864-7837737485f7",
   "metadata": {},
   "outputs": [
    {
     "name": "stdout",
     "output_type": "stream",
     "text": [
      "PREMISE v1.3.6\n"
     ]
    }
   ],
   "source": [
    "#check version of premise\n",
    "import premise\n",
    "v=str(premise.__version__).replace(',','.')\n",
    "for character in ')( ':\n",
    "    v = v.replace(character, '')\n",
    "    \n",
    "pv=\"PREMISE v\"+v\n",
    "print(pv)"
   ]
  },
  {
   "cell_type": "code",
   "execution_count": 7,
   "id": "f15e00e7-4086-4312-8090-ad432ea368d6",
   "metadata": {},
   "outputs": [],
   "source": [
    "from premise import *\n",
    "import brightway2 as bw"
   ]
  },
  {
   "cell_type": "code",
   "execution_count": 8,
   "id": "b7c0d9c3-6feb-46fd-892e-b3470e025a42",
   "metadata": {},
   "outputs": [],
   "source": [
    "if 'ei38-teaching' not in bw.projects:\n",
    "    bw.restore_project_directory(\"/srv/data/projects/ecoinvent38.tar.gz\")"
   ]
  },
  {
   "cell_type": "code",
   "execution_count": 9,
   "id": "d4c93621-3c9e-47ca-92b0-bb743abe2b23",
   "metadata": {},
   "outputs": [],
   "source": [
    "bw.projects.set_current(\"ei38-teaching\")"
   ]
  },
  {
   "cell_type": "code",
   "execution_count": 10,
   "id": "041e5617-395b-4cc2-87aa-7c9b7deb86e3",
   "metadata": {},
   "outputs": [],
   "source": [
    "#bw.projects.copy_project(\"moeschpond1\")"
   ]
  },
  {
   "cell_type": "code",
   "execution_count": 11,
   "id": "c761a846-f506-49ac-85c9-c8919e4f3576",
   "metadata": {},
   "outputs": [],
   "source": [
    "bw.projects.set_current(\"moeschpond1\")"
   ]
  },
  {
   "cell_type": "code",
   "execution_count": 12,
   "id": "8da69160-0d0a-4ade-b647-d8a45b895d83",
   "metadata": {},
   "outputs": [
    {
     "data": {
      "text/plain": [
       "Databases dictionary with 2 object(s):\n",
       "\tbiosphere3\n",
       "\tei 3.8 cutoff"
      ]
     },
     "execution_count": 12,
     "metadata": {},
     "output_type": "execute_result"
    }
   ],
   "source": [
    "bw.databases"
   ]
  },
  {
   "cell_type": "code",
   "execution_count": 13,
   "id": "b0408c8e-ce9e-4d6c-8e4b-a6a0db1ff384",
   "metadata": {},
   "outputs": [
    {
     "name": "stdout",
     "output_type": "stream",
     "text": [
      "premise v.(1, 3, 6)\n",
      "+------------------------------------------------------------------+\n",
      "| Warning                                                          |\n",
      "+------------------------------------------------------------------+\n",
      "| Because some of the scenarios can yield LCI databases            |\n",
      "| containing net negative emission technologies (NET),             |\n",
      "| it is advised to account for biogenic CO2 flows when calculating |\n",
      "| Global Warming potential indicators.                             |\n",
      "| `premise_gwp` provides characterization factors for such flows.  |\n",
      "| It also provides factors for hydrogen emissions to air.          |\n",
      "|                                                                  |\n",
      "| Within your bw2 project:                                         |\n",
      "| from premise_gwp import add_premise_gwp                          |\n",
      "| add_premise_gwp()                                                |\n",
      "+------------------------------------------------------------------+\n",
      "+--------------------------------+----------------------------------+\n",
      "| Utils functions                | Description                      |\n",
      "+--------------------------------+----------------------------------+\n",
      "| clear_cache()                  | Clears the cache folder. Useful  |\n",
      "|                                | when updating `premise`or        |\n",
      "|                                | encountering issues with         |\n",
      "|                                | inventories.                     |\n",
      "+--------------------------------+----------------------------------+\n",
      "| get_regions_definition(model)  | Retrieves the list of countries  |\n",
      "|                                | for each region of the model.    |\n",
      "+--------------------------------+----------------------------------+\n",
      "| ndb.NewDatabase(...)           | Generates a summary of the most  |\n",
      "| ndb.generate_scenario_report() | important scenarios' variables.  |\n",
      "+--------------------------------+----------------------------------+\n",
      "Keep uncertainty data?\n",
      "NewDatabase(..., keep_uncertainty_data=True)\n",
      "\n",
      "Hide these messages?\n",
      "NewDatabase(..., quiet=True)\n",
      "\n",
      "//////////////////// EXTRACTING SOURCE DATABASE ////////////////////\n",
      "Done!\n",
      "\n",
      "////////////////// IMPORTING DEFAULT INVENTORIES ///////////////////\n",
      "Done!\n",
      "\n",
      "/////////////////////// EXTRACTING IAM DATA ////////////////////////\n",
      "Done!\n",
      "CPU times: user 35.8 s, sys: 579 ms, total: 36.4 s\n",
      "Wall time: 37.1 s\n"
     ]
    }
   ],
   "source": [
    "%%time\n",
    "scenarios = [\n",
    "    {\"model\": \"image\", \"pathway\":\"SSP2-Base\", \"year\": 2050},\n",
    "    {\"model\": \"image\", \"pathway\":\"SSP2-RCP26\", \"year\": 2050},\n",
    "    {\"model\": \"image\", \"pathway\":\"SSP2-RCP19\", \"year\": 2050},\n",
    "    {\"model\": \"remind\", \"pathway\":\"SSP2-Base\", \"year\": 2050},\n",
    "    #{\"model\": \"remind\", \"pathway\":\"SSP2-NDC\", \"year\": 2050},\n",
    "    #{\"model\": \"remind\", \"pathway\":\"SSP2-NPi\", \"year\": 2050},\n",
    "    {\"model\": \"remind\", \"pathway\":\"SSP2-PkBudg1150\", \"year\": 2050},\n",
    "    {\"model\": \"remind\", \"pathway\":\"SSP2-PkBudg500\", \"year\": 2050},\n",
    "]\n",
    "\n",
    "ndb = NewDatabase(\n",
    "        scenarios = scenarios,        \n",
    "        source_db=\"ei 3.8 cutoff\",\n",
    "        source_version=\"3.8\",\n",
    "        key='tUePmX_S5B8ieZkkM7WUU2CnO8SmShwmAeWK9x2rTFo=',\n",
    "        external_scenarios=[\n",
    "            switzerland_2050,\n",
    "        ]\n",
    ")\n"
   ]
  },
  {
   "cell_type": "markdown",
   "id": "560b5cc3-11c8-4499-b553-d79ec5203e3e",
   "metadata": {},
   "source": [
    "To integrate the projections of the user-generated scenario, call `update_external_scenario()`."
   ]
  },
  {
   "cell_type": "code",
   "execution_count": 14,
   "id": "51dd0dd9-86bf-42f3-bded-d3da98178b7e",
   "metadata": {},
   "outputs": [
    {
     "name": "stdout",
     "output_type": "stream",
     "text": [
      "\n",
      "/////////////////////////// ELECTRICITY ////////////////////////////\n",
      "Update natural gas extraction datasets.\n",
      "Update efficiency of solar PV.\n",
      "Log of changes in photovoltaics efficiencies saved in /opt/tljh/user/envs/bw/lib/python3.10/site-packages/premise/data/logs\n",
      "Create biomass markets.\n",
      "Empty old electricity datasets\n",
      "Create high voltage markets.\n",
      "Create medium voltage markets.\n",
      "Create low voltage markets.\n",
      "Log of deleted electricity markets saved in /opt/tljh/user/envs/bw/lib/python3.10/site-packages/premise/data/logs\n",
      "Log of created electricity markets saved in /opt/tljh/user/envs/bw/lib/python3.10/site-packages/premise/data/logs\n",
      "Done!\n",
      "Adjust efficiency of power plants...\n",
      "Log of changes in power plants efficiencies saved in /opt/tljh/user/envs/bw/lib/python3.10/site-packages/premise/data/logs\n",
      "Rescale inventories and emissions for Biomass IGCC\n",
      "Rescale inventories and emissions for Coal IGCC CCS\n",
      "Rescale inventories and emissions for Biomass IGCC CCS\n",
      "Rescale inventories and emissions for Gas CC CCS\n",
      "Rescale inventories and emissions for Gas CHP CCS\n",
      "Rescale inventories and emissions for Gas CHP\n",
      "Rescale inventories and emissions for Oil ST\n",
      "Rescale inventories and emissions for Coal IGCC\n",
      "Rescale inventories and emissions for Oil CHP CCS\n",
      "Rescale inventories and emissions for Coal CHP\n",
      "Rescale inventories and emissions for Oil CC\n",
      "Rescale inventories and emissions for Coal CHP CCS\n",
      "Rescale inventories and emissions for Gas OC\n",
      "Rescale inventories and emissions for Coal PC\n",
      "Rescale inventories and emissions for Biomass ST\n",
      "Rescale inventories and emissions for Oil CC CCS\n",
      "Rescale inventories and emissions for Biomass CHP\n",
      "Rescale inventories and emissions for Gas CC\n",
      "Rescale inventories and emissions for Oil CHP\n",
      "Rescale inventories and emissions for Biomass CHP CCS\n",
      "Rescale inventories and emissions for Nuclear\n",
      "Update natural gas extraction datasets.\n",
      "Update efficiency of solar PV.\n",
      "Log of changes in photovoltaics efficiencies saved in /opt/tljh/user/envs/bw/lib/python3.10/site-packages/premise/data/logs\n",
      "Create biomass markets.\n",
      "Empty old electricity datasets\n",
      "Create high voltage markets.\n",
      "Create medium voltage markets.\n",
      "Create low voltage markets.\n",
      "Log of deleted electricity markets saved in /opt/tljh/user/envs/bw/lib/python3.10/site-packages/premise/data/logs\n",
      "Log of created electricity markets saved in /opt/tljh/user/envs/bw/lib/python3.10/site-packages/premise/data/logs\n",
      "Done!\n",
      "Adjust efficiency of power plants...\n",
      "Log of changes in power plants efficiencies saved in /opt/tljh/user/envs/bw/lib/python3.10/site-packages/premise/data/logs\n",
      "Rescale inventories and emissions for Biomass IGCC\n",
      "Rescale inventories and emissions for Coal IGCC CCS\n",
      "Rescale inventories and emissions for Biomass IGCC CCS\n",
      "Rescale inventories and emissions for Gas CC CCS\n",
      "Rescale inventories and emissions for Gas CHP CCS\n",
      "Rescale inventories and emissions for Gas CHP\n",
      "Rescale inventories and emissions for Oil ST\n",
      "Rescale inventories and emissions for Coal IGCC\n",
      "Rescale inventories and emissions for Oil CHP CCS\n",
      "Rescale inventories and emissions for Coal CHP\n",
      "Rescale inventories and emissions for Oil CC\n",
      "Rescale inventories and emissions for Coal CHP CCS\n",
      "Rescale inventories and emissions for Gas OC\n",
      "Rescale inventories and emissions for Coal PC\n",
      "Rescale inventories and emissions for Biomass ST\n",
      "Rescale inventories and emissions for Oil CC CCS\n",
      "Rescale inventories and emissions for Biomass CHP\n",
      "Rescale inventories and emissions for Gas CC\n",
      "Rescale inventories and emissions for Oil CHP\n",
      "Rescale inventories and emissions for Biomass CHP CCS\n",
      "Rescale inventories and emissions for Nuclear\n",
      "Update natural gas extraction datasets.\n",
      "Update efficiency of solar PV.\n",
      "Log of changes in photovoltaics efficiencies saved in /opt/tljh/user/envs/bw/lib/python3.10/site-packages/premise/data/logs\n",
      "Create biomass markets.\n",
      "Empty old electricity datasets\n",
      "Create high voltage markets.\n",
      "Create medium voltage markets.\n",
      "Create low voltage markets.\n",
      "Log of deleted electricity markets saved in /opt/tljh/user/envs/bw/lib/python3.10/site-packages/premise/data/logs\n",
      "Log of created electricity markets saved in /opt/tljh/user/envs/bw/lib/python3.10/site-packages/premise/data/logs\n",
      "Done!\n",
      "Adjust efficiency of power plants...\n",
      "Log of changes in power plants efficiencies saved in /opt/tljh/user/envs/bw/lib/python3.10/site-packages/premise/data/logs\n",
      "Rescale inventories and emissions for Biomass IGCC\n",
      "Rescale inventories and emissions for Coal IGCC CCS\n",
      "Rescale inventories and emissions for Biomass IGCC CCS\n",
      "Rescale inventories and emissions for Gas CC CCS\n",
      "Rescale inventories and emissions for Gas CHP CCS\n",
      "Rescale inventories and emissions for Gas CHP\n",
      "Rescale inventories and emissions for Oil ST\n",
      "Rescale inventories and emissions for Coal IGCC\n",
      "Rescale inventories and emissions for Oil CHP CCS\n",
      "Rescale inventories and emissions for Coal CHP\n",
      "Rescale inventories and emissions for Oil CC\n",
      "Rescale inventories and emissions for Coal CHP CCS\n",
      "Rescale inventories and emissions for Gas OC\n",
      "Rescale inventories and emissions for Coal PC\n",
      "Rescale inventories and emissions for Biomass ST\n",
      "Rescale inventories and emissions for Oil CC CCS\n",
      "Rescale inventories and emissions for Biomass CHP\n",
      "Rescale inventories and emissions for Gas CC\n",
      "Rescale inventories and emissions for Oil CHP\n",
      "Rescale inventories and emissions for Biomass CHP CCS\n",
      "Rescale inventories and emissions for Nuclear\n",
      "Update natural gas extraction datasets.\n",
      "Update efficiency of solar PV.\n",
      "Log of changes in photovoltaics efficiencies saved in /opt/tljh/user/envs/bw/lib/python3.10/site-packages/premise/data/logs\n",
      "Create biomass markets.\n",
      "Empty old electricity datasets\n",
      "Create high voltage markets.\n",
      "Create medium voltage markets.\n",
      "Create low voltage markets.\n",
      "Log of deleted electricity markets saved in /opt/tljh/user/envs/bw/lib/python3.10/site-packages/premise/data/logs\n",
      "Log of created electricity markets saved in /opt/tljh/user/envs/bw/lib/python3.10/site-packages/premise/data/logs\n",
      "Done!\n",
      "Adjust efficiency of power plants...\n",
      "Log of changes in power plants efficiencies saved in /opt/tljh/user/envs/bw/lib/python3.10/site-packages/premise/data/logs\n",
      "Rescale inventories and emissions for Coal PC\n",
      "Rescale inventories and emissions for Biomass IGCC\n",
      "Rescale inventories and emissions for Coal PC CCS\n",
      "Rescale inventories and emissions for Oil ST\n",
      "Rescale inventories and emissions for Coal IGCC CCS\n",
      "Rescale inventories and emissions for Biomass IGCC CCS\n",
      "Rescale inventories and emissions for Biomass CHP\n",
      "Rescale inventories and emissions for Gas CC CCS\n",
      "Rescale inventories and emissions for Gas CC\n",
      "Rescale inventories and emissions for Coal CHP\n",
      "Rescale inventories and emissions for Gas CHP\n",
      "Rescale inventories and emissions for Coal IGCC\n",
      "Rescale inventories and emissions for Gas OC\n",
      "Update natural gas extraction datasets.\n",
      "Update efficiency of solar PV.\n",
      "Log of changes in photovoltaics efficiencies saved in /opt/tljh/user/envs/bw/lib/python3.10/site-packages/premise/data/logs\n",
      "Create biomass markets.\n",
      "Empty old electricity datasets\n",
      "Create high voltage markets.\n",
      "Create medium voltage markets.\n",
      "Create low voltage markets.\n",
      "Log of deleted electricity markets saved in /opt/tljh/user/envs/bw/lib/python3.10/site-packages/premise/data/logs\n",
      "Log of created electricity markets saved in /opt/tljh/user/envs/bw/lib/python3.10/site-packages/premise/data/logs\n",
      "Done!\n",
      "Adjust efficiency of power plants...\n",
      "Log of changes in power plants efficiencies saved in /opt/tljh/user/envs/bw/lib/python3.10/site-packages/premise/data/logs\n",
      "Rescale inventories and emissions for Coal PC\n",
      "Rescale inventories and emissions for Biomass IGCC\n",
      "Rescale inventories and emissions for Coal PC CCS\n",
      "Rescale inventories and emissions for Oil ST\n",
      "Rescale inventories and emissions for Coal IGCC CCS\n",
      "Rescale inventories and emissions for Biomass IGCC CCS\n",
      "Rescale inventories and emissions for Biomass CHP\n",
      "Rescale inventories and emissions for Gas CC CCS\n",
      "Rescale inventories and emissions for Gas CC\n",
      "Rescale inventories and emissions for Coal CHP\n",
      "Rescale inventories and emissions for Gas CHP\n",
      "Rescale inventories and emissions for Coal IGCC\n",
      "Rescale inventories and emissions for Gas OC\n",
      "Update natural gas extraction datasets.\n",
      "Update efficiency of solar PV.\n",
      "Log of changes in photovoltaics efficiencies saved in /opt/tljh/user/envs/bw/lib/python3.10/site-packages/premise/data/logs\n",
      "Create biomass markets.\n",
      "Empty old electricity datasets\n",
      "Create high voltage markets.\n",
      "Create medium voltage markets.\n",
      "Create low voltage markets.\n",
      "Log of deleted electricity markets saved in /opt/tljh/user/envs/bw/lib/python3.10/site-packages/premise/data/logs\n",
      "Log of created electricity markets saved in /opt/tljh/user/envs/bw/lib/python3.10/site-packages/premise/data/logs\n",
      "Done!\n",
      "Adjust efficiency of power plants...\n",
      "Log of changes in power plants efficiencies saved in /opt/tljh/user/envs/bw/lib/python3.10/site-packages/premise/data/logs\n",
      "Rescale inventories and emissions for Coal PC\n",
      "Rescale inventories and emissions for Biomass IGCC\n",
      "Rescale inventories and emissions for Coal PC CCS\n",
      "Rescale inventories and emissions for Oil ST\n",
      "Rescale inventories and emissions for Coal IGCC CCS\n",
      "Rescale inventories and emissions for Biomass IGCC CCS\n",
      "Rescale inventories and emissions for Biomass CHP\n",
      "Rescale inventories and emissions for Gas CC CCS\n",
      "Rescale inventories and emissions for Gas CC\n",
      "Rescale inventories and emissions for Coal CHP\n",
      "Rescale inventories and emissions for Gas CHP\n",
      "Rescale inventories and emissions for Coal IGCC\n",
      "Rescale inventories and emissions for Gas OC\n",
      "\n",
      "//////////////// IMPORTING USER-DEFINED INVENTORIES ////////////////\n",
      "Extracted 1 worksheets in 0.00 seconds\n",
      "Create custom markets.\n",
      "\n",
      "//////////////// IMPORTING USER-DEFINED INVENTORIES ////////////////\n",
      "Extracted 1 worksheets in 0.00 seconds\n",
      "Create custom markets.\n",
      "\n",
      "//////////////// IMPORTING USER-DEFINED INVENTORIES ////////////////\n",
      "Extracted 1 worksheets in 0.00 seconds\n",
      "Create custom markets.\n",
      "\n",
      "//////////////// IMPORTING USER-DEFINED INVENTORIES ////////////////\n",
      "Extracted 1 worksheets in 0.00 seconds\n",
      "Create custom markets.\n",
      "\n",
      "//////////////// IMPORTING USER-DEFINED INVENTORIES ////////////////\n",
      "Extracted 1 worksheets in 0.00 seconds\n",
      "Create custom markets.\n",
      "\n",
      "//////////////// IMPORTING USER-DEFINED INVENTORIES ////////////////\n",
      "Extracted 1 worksheets in 0.00 seconds\n",
      "Create custom markets.\n",
      "Log file of exchanges saved under /opt/tljh/user/envs/bw/lib/python3.10/site-packages/premise/data/logs.\n",
      "CPU times: user 9min 31s, sys: 488 ms, total: 9min 31s\n",
      "Wall time: 9min 36s\n"
     ]
    }
   ],
   "source": [
    "%%time #should take 10 minutes\n",
    "ndb.update_electricity()\n",
    "#ndb.update_all()#update all sectors that PREMISE can do\n",
    "ndb.update_external_scenario()#also update the external switzerland2050 scenario"
   ]
  },
  {
   "cell_type": "markdown",
   "id": "37d05dd0-e5a1-4ff5-a91c-8c9c342da322",
   "metadata": {},
   "source": [
    "You can combine the user-generated scenario with any, all or none of the projections for the IAM model.\n",
    "For example, here with the electricity projections of the IMAGE SSP2-Base scenario:"
   ]
  },
  {
   "cell_type": "markdown",
   "id": "30f6dffc-766d-442d-a93d-d53a2b127e72",
   "metadata": {},
   "source": [
    "Once the projections are integrated, you can export the database(s) back to your Brightway2 project, to\n",
    "a CSV Simapro file, or as a set of sparse amtrices (see main exmaples notebook for more details)."
   ]
  },
  {
   "cell_type": "code",
   "execution_count": null,
   "id": "c71a9cd5-e547-409e-868f-03cf6fe09cbf",
   "metadata": {},
   "outputs": [],
   "source": []
  },
  {
   "cell_type": "code",
   "execution_count": 19,
   "id": "87ecc441-0ed0-4c8a-bef8-12d57a96171b",
   "metadata": {},
   "outputs": [
    {
     "name": "stdout",
     "output_type": "stream",
     "text": [
      "Prepare database 1.\n",
      "- check for duplicates...\n",
      "- check for values format...\n",
      "- relinking exchanges...\n",
      "Done!\n",
      "Prepare database 2.\n",
      "- check for duplicates...\n",
      "- check for values format...\n",
      "- relinking exchanges...\n",
      "Done!\n",
      "Prepare database 3.\n",
      "- check for duplicates...\n",
      "- check for values format...\n",
      "- relinking exchanges...\n",
      "Done!\n",
      "Prepare database 4.\n",
      "- check for duplicates...\n",
      "- check for values format...\n",
      "- relinking exchanges...\n",
      "Done!\n",
      "Prepare database 5.\n",
      "- check for duplicates...\n",
      "- check for values format...\n",
      "- relinking exchanges...\n",
      "Done!\n",
      "Prepare database 6.\n",
      "- check for duplicates...\n",
      "- check for values format...\n",
      "- relinking exchanges...\n",
      "Done!\n",
      "Building superstructure database...\n",
      "Dropped 0 duplicate(s).\n",
      "Scenario difference file exported to /opt/tljh/user/envs/bw/lib/python3.10/site-packages/premise/data/export/scenario diff files!\n",
      "Done!\n"
     ]
    },
    {
     "ename": "AssertionError",
     "evalue": "This database already exists",
     "output_type": "error",
     "traceback": [
      "\u001b[0;31m---------------------------------------------------------------------------\u001b[0m",
      "\u001b[0;31mAssertionError\u001b[0m                            Traceback (most recent call last)",
      "File \u001b[0;32m<timed eval>:1\u001b[0m\n",
      "File \u001b[0;32m/opt/tljh/user/envs/bw/lib/python3.10/site-packages/premise/ecoinvent_modification.py:1020\u001b[0m, in \u001b[0;36mNewDatabase.write_superstructure_db_to_brightway\u001b[0;34m(self, name, filepath)\u001b[0m\n\u001b[1;32m   1014\u001b[0m \u001b[38;5;28mself\u001b[39m\u001b[38;5;241m.\u001b[39mdatabase \u001b[38;5;241m=\u001b[39m build_superstructure_db(\n\u001b[1;32m   1015\u001b[0m     \u001b[38;5;28mself\u001b[39m\u001b[38;5;241m.\u001b[39mdatabase, \u001b[38;5;28mself\u001b[39m\u001b[38;5;241m.\u001b[39mscenarios, db_name\u001b[38;5;241m=\u001b[39mname, filepath\u001b[38;5;241m=\u001b[39mfilepath\n\u001b[1;32m   1016\u001b[0m )\n\u001b[1;32m   1018\u001b[0m \u001b[38;5;28mprint\u001b[39m(\u001b[38;5;124m\"\u001b[39m\u001b[38;5;124mDone!\u001b[39m\u001b[38;5;124m\"\u001b[39m)\n\u001b[0;32m-> 1020\u001b[0m \u001b[43mwurst\u001b[49m\u001b[38;5;241;43m.\u001b[39;49m\u001b[43mwrite_brightway2_database\u001b[49m\u001b[43m(\u001b[49m\n\u001b[1;32m   1021\u001b[0m \u001b[43m    \u001b[49m\u001b[38;5;28;43mself\u001b[39;49m\u001b[38;5;241;43m.\u001b[39;49m\u001b[43mdatabase\u001b[49m\u001b[43m,\u001b[49m\n\u001b[1;32m   1022\u001b[0m \u001b[43m    \u001b[49m\u001b[43mname\u001b[49m\u001b[43m,\u001b[49m\n\u001b[1;32m   1023\u001b[0m \u001b[43m\u001b[49m\u001b[43m)\u001b[49m\n",
      "File \u001b[0;32m/opt/tljh/user/envs/bw/lib/python3.10/site-packages/wurst/brightway/write_database.py:40\u001b[0m, in \u001b[0;36mwrite_brightway2_database\u001b[0;34m(data, name)\u001b[0m\n\u001b[1;32m     24\u001b[0m \u001b[38;5;28;01mdef\u001b[39;00m \u001b[38;5;21mwrite_brightway2_database\u001b[39m(data, name):\n\u001b[1;32m     25\u001b[0m     \u001b[38;5;124;03m\"\"\"Write a new database as a new Brightway2 database named ``name``.\u001b[39;00m\n\u001b[1;32m     26\u001b[0m \n\u001b[1;32m     27\u001b[0m \u001b[38;5;124;03m    You should be in the correct project already.\u001b[39;00m\n\u001b[0;32m   (...)\u001b[0m\n\u001b[1;32m     38\u001b[0m \n\u001b[1;32m     39\u001b[0m \u001b[38;5;124;03m    Doesn't return anything.\"\"\"\u001b[39;00m\n\u001b[0;32m---> 40\u001b[0m     \u001b[38;5;28;01massert\u001b[39;00m name \u001b[38;5;129;01mnot\u001b[39;00m \u001b[38;5;129;01min\u001b[39;00m databases, \u001b[38;5;124m\"\u001b[39m\u001b[38;5;124mThis database already exists\u001b[39m\u001b[38;5;124m\"\u001b[39m\n\u001b[1;32m     42\u001b[0m     \u001b[38;5;66;03m# Restore parameters to Brightway2 format which allows for uncertainty and comments\u001b[39;00m\n\u001b[1;32m     43\u001b[0m     \u001b[38;5;28;01mfor\u001b[39;00m ds \u001b[38;5;129;01min\u001b[39;00m data:\n",
      "\u001b[0;31mAssertionError\u001b[0m: This database already exists"
     ]
    }
   ],
   "source": [
    "%%time\n",
    "ndb.write_superstructure_db_to_brightway()"
   ]
  },
  {
   "cell_type": "code",
   "execution_count": 22,
   "id": "5c8006b4-f2a3-4690-b5d7-f1e2c5936497",
   "metadata": {},
   "outputs": [],
   "source": [
    "#call from linux terminal to move the scenario diff file to our local github folder. The filename includes the date of generation. This is currently not automized, so remeber to change the filename according to the output from write_superstructure_db_to_brightway() \n",
    "!cp /opt/tljh/user/envs/bw/lib/python3.10/site-packages/premise/data/export/scenario\\ diff\\ files/scenario_diff_super_db_2022-10-26.xlsx /home/jupyter-simb/moeschpond/"
   ]
  },
  {
   "cell_type": "code",
   "execution_count": 34,
   "id": "9b3cac21-67b8-44f3-9857-93b54e5e2ee2",
   "metadata": {},
   "outputs": [
    {
     "data": {
      "text/plain": [
       "25319"
      ]
     },
     "execution_count": 34,
     "metadata": {},
     "output_type": "execute_result"
    }
   ],
   "source": [
    "bw.databases\n",
    "len(bw.Database(\"super_db_2022-10-26\"))"
   ]
  },
  {
   "cell_type": "code",
   "execution_count": 28,
   "id": "8d65f7ea-1f9c-4cc2-bd5b-5ae429dd0f24",
   "metadata": {},
   "outputs": [
    {
     "name": "stdout",
     "output_type": "stream",
     "text": [
      "Creating project backup archive - this could take a few minutes...\n"
     ]
    }
   ],
   "source": [
    "bw.backup_project_directory(\"moeschpond1\")"
   ]
  },
  {
   "cell_type": "code",
   "execution_count": 32,
   "id": "19ae2af2-752b-4246-b2ac-6f49879d98a0",
   "metadata": {},
   "outputs": [],
   "source": [
    "#DO NOT PUT ECOINVENT ON PUBLIC GITHUB\n",
    "#copy the file to shared directory on server.\n",
    "!cp ~/brightway2-project-moeschpond1-backup.26-October-2022-03-51PM.tar.gz /srv/scratch/u.2/"
   ]
  },
  {
   "cell_type": "code",
   "execution_count": 26,
   "id": "9d999f30-c687-4d04-9a0e-26ff290b5067",
   "metadata": {},
   "outputs": [
    {
     "name": "stdout",
     "output_type": "stream",
     "text": [
      "Restoring project backup archive - this could take a few minutes...\n"
     ]
    },
    {
     "data": {
      "text/plain": [
       "'moeschpond1'"
      ]
     },
     "execution_count": 26,
     "metadata": {},
     "output_type": "execute_result"
    }
   ],
   "source": [
    "bw.restore_project_directory(\"/srv/scratch/u.2/brightway2-project-moeschpond1-backup.26-October-2022-03-51PM.tar.gz\")"
   ]
  },
  {
   "cell_type": "code",
   "execution_count": 31,
   "id": "f6dc850d-929d-4e4d-8fc5-cd762e210d4d",
   "metadata": {},
   "outputs": [],
   "source": []
  },
  {
   "cell_type": "code",
   "execution_count": null,
   "id": "749a27bf-e0ea-4e3a-a208-c8daa0ef4241",
   "metadata": {},
   "outputs": [],
   "source": []
  }
 ],
 "metadata": {
  "kernelspec": {
   "display_name": "Python [conda env:bw]",
   "language": "python",
   "name": "conda-env-bw-py"
  },
  "language_info": {
   "codemirror_mode": {
    "name": "ipython",
    "version": 3
   },
   "file_extension": ".py",
   "mimetype": "text/x-python",
   "name": "python",
   "nbconvert_exporter": "python",
   "pygments_lexer": "ipython3",
   "version": "3.10.6"
  }
 },
 "nbformat": 4,
 "nbformat_minor": 5
}
