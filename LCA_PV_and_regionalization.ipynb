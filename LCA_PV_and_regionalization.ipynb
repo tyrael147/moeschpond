{
 "cells": [
  {
   "cell_type": "markdown",
   "id": "5f128ce5-5f1a-4e5c-aa35-762e3f874046",
   "metadata": {},
   "source": [
    "# Model builder\n",
    "## Life Cycle Assessment of ``{Operational Energy Moerschberg for 1 year: 1}``\n",
    "###[CONTEXT]\n",
    "The model relies on datapackages to ensure replicability of the calculation.\n"
   ]
  },
  {
   "cell_type": "code",
   "execution_count": 365,
   "id": "7e22fc51-9461-4602-925d-dd285769602a",
   "metadata": {
    "tags": []
   },
   "outputs": [],
   "source": [
    "import bw2data as bd\n",
    "import bw2calc as bc\n",
    "import bw2io as bi\n",
    "import bw_processing as bwp\n",
    "import numpy as np\n",
    "from pathlib import Path\n",
    "import pandas as pd\n"
   ]
  },
  {
   "cell_type": "code",
   "execution_count": 366,
   "id": "55ce5735-f70d-4d4b-8f6f-e4c2d6434768",
   "metadata": {},
   "outputs": [
    {
     "data": {
      "text/plain": [
       "'default'"
      ]
     },
     "execution_count": 366,
     "metadata": {},
     "output_type": "execute_result"
    }
   ],
   "source": [
    "bd.projects.delete_project('ei38-teaching-25')"
   ]
  },
  {
   "cell_type": "code",
   "execution_count": 367,
   "id": "8244b2e9-3360-4557-85fb-3221d0fbb7d3",
   "metadata": {},
   "outputs": [
    {
     "name": "stdout",
     "output_type": "stream",
     "text": [
      "Restoring project backup archive - this could take a few minutes...\n"
     ]
    }
   ],
   "source": [
    "bi.restore_project_directory(\"/srv/data/projects/ecoinvent38-25.tar.gz\")\n",
    "bd.projects.set_current('ei38-teaching-25')\n"
   ]
  },
  {
   "cell_type": "code",
   "execution_count": 368,
   "id": "b2ac1741-1805-4f07-9820-4da126b52fe2",
   "metadata": {},
   "outputs": [
    {
     "data": {
      "text/plain": [
       "Databases dictionary with 2 object(s):\n",
       "\tbiosphere3\n",
       "\tei 3.8 cutoff"
      ]
     },
     "execution_count": 368,
     "metadata": {},
     "output_type": "execute_result"
    }
   ],
   "source": [
    "bd.databases"
   ]
  },
  {
   "cell_type": "code",
   "execution_count": 369,
   "id": "c3db0364-46b8-4ac1-8d31-dcb2f602ed25",
   "metadata": {},
   "outputs": [
    {
     "name": "stdout",
     "output_type": "stream",
     "text": [
      "Extracted 1 worksheets in 0.02 seconds\n",
      "Applying strategy: csv_restore_tuples\n",
      "Applying strategy: csv_restore_booleans\n",
      "Applying strategy: csv_numerize\n",
      "Applying strategy: csv_drop_unknown\n",
      "Applying strategy: csv_add_missing_exchanges_section\n",
      "Applying strategy: normalize_units\n",
      "Applying strategy: normalize_biosphere_categories\n",
      "Applying strategy: normalize_biosphere_names\n",
      "Applying strategy: strip_biosphere_exc_locations\n",
      "Applying strategy: set_code_by_activity_hash\n",
      "Applying strategy: link_iterable_by_fields\n",
      "Applying strategy: assign_only_product_as_production\n",
      "Applying strategy: link_technosphere_by_activity_hash\n",
      "Applying strategy: drop_falsey_uncertainty_fields_but_keep_zeros\n",
      "Applying strategy: convert_uncertainty_types_to_integers\n",
      "Applying strategy: convert_activity_parameters_to_list\n",
      "Applied 16 strategies in 6.72 seconds\n",
      "Applying strategy: link_iterable_by_fields\n",
      "Applying strategy: link_iterable_by_fields\n",
      "18 datasets\n",
      "386 exchanges\n",
      "0 unlinked exchanges\n",
      "  \n",
      "Wrote matching file to:\n",
      "/home/jupyter-teo.lavisse/.local/share/Brightway3/ei38-teaching-25.993d09bf/output/db-matching-solar_huimin-unlinked.xlsx\n",
      "Warning: No valid output stream.\n",
      "Title: Writing activities to SQLite3 database:\n",
      "  Started: 10/28/2022 10:38:42\n",
      "  Finished: 10/28/2022 10:38:42\n",
      "  Total time elapsed: 00:00:00\n",
      "  CPU %: 46.80\n",
      "  Memory %: 0.58\n",
      "Created database: solar_huimin\n"
     ]
    }
   ],
   "source": [
    "imp = bi.ExcelImporter(\"./data/inputs/lci_solarpv_huimin_masterthesis_combined.xlsx\")\n",
    "imp.apply_strategies()\n",
    "imp.match_database(\"ei 3.8 cutoff\", fields=('name','unit','location'))\n",
    "#imp.match_database(\"ecoinvent_remind_SSP2-Base_2020\", fields=('name','unit','location','reference product'))\n",
    "imp.match_database(fields=('name', 'unit', 'location'))\n",
    "imp.statistics()\n",
    "imp.write_excel(only_unlinked=True)\n",
    "list(imp.unlinked)\n",
    "\n",
    "imp.write_database()\n"
   ]
  },
  {
   "cell_type": "code",
   "execution_count": 370,
   "id": "35105b06-6eff-4bcc-b45c-ce3e0219fbdd",
   "metadata": {
    "tags": []
   },
   "outputs": [
    {
     "name": "stdout",
     "output_type": "stream",
     "text": [
      "Extracted 1 worksheets in 0.00 seconds\n",
      "Applying strategy: csv_restore_tuples\n",
      "Applying strategy: csv_restore_booleans\n",
      "Applying strategy: csv_numerize\n",
      "Applying strategy: csv_drop_unknown\n",
      "Applying strategy: csv_add_missing_exchanges_section\n",
      "Applying strategy: normalize_units\n",
      "Applying strategy: normalize_biosphere_categories\n",
      "Applying strategy: normalize_biosphere_names\n",
      "Applying strategy: strip_biosphere_exc_locations\n",
      "Applying strategy: set_code_by_activity_hash\n",
      "Applying strategy: link_iterable_by_fields\n",
      "Applying strategy: assign_only_product_as_production\n",
      "Applying strategy: link_technosphere_by_activity_hash\n",
      "Applying strategy: drop_falsey_uncertainty_fields_but_keep_zeros\n",
      "Applying strategy: convert_uncertainty_types_to_integers\n",
      "Applying strategy: convert_activity_parameters_to_list\n",
      "Applied 16 strategies in 6.82 seconds\n",
      "Applying strategy: link_iterable_by_fields\n",
      "Applying strategy: link_iterable_by_fields\n",
      "Applying strategy: link_iterable_by_fields\n",
      "6 datasets\n",
      "21 exchanges\n",
      "0 unlinked exchanges\n",
      "  \n",
      "Warning: No valid output stream.\n",
      "Title: Writing activities to SQLite3 database:\n",
      "  Started: 10/28/2022 10:38:49\n",
      "  Finished: 10/28/2022 10:38:49\n",
      "  Total time elapsed: 00:00:00\n",
      "  CPU %: 0.00\n",
      "  Memory %: 0.58\n",
      "Created database: energy_moeschberg\n"
     ]
    }
   ],
   "source": [
    "if \"foreground\" in bd.databases:\n",
    "    del bd.databases[\"lci_moeschberg\"]\n",
    "    \n",
    "foreground_importer = bi.ExcelImporter(\"./data/inputs/lci_moeschberg.xlsx\")\n",
    "foreground_importer.apply_strategies()\n",
    "foreground_importer.match_database(\"biosphere3\", fields=(\"name\", \"unit\", \"categories\"))\n",
    "foreground_importer.match_database(\"ei 3.8 cutoff\", fields=(\"name\", \"unit\", \"location\"))\n",
    "foreground_importer.match_database(\"solar_huimin\", fields=(\"name\", \"unit\", \"location\"))\n",
    "foreground_importer.statistics()\n",
    "foreground_importer.write_database()"
   ]
  },
  {
   "cell_type": "code",
   "execution_count": 371,
   "id": "23402e60-fef3-4b89-9e4f-95fb2debccdd",
   "metadata": {},
   "outputs": [
    {
     "name": "stdout",
     "output_type": "stream",
     "text": [
      "Extracted 1 worksheets in 0.01 seconds\n",
      "Applying strategy: csv_restore_tuples\n",
      "Applying strategy: csv_restore_booleans\n",
      "Applying strategy: csv_numerize\n",
      "Applying strategy: csv_drop_unknown\n",
      "Applying strategy: csv_add_missing_exchanges_section\n",
      "Applying strategy: normalize_units\n",
      "Applying strategy: normalize_biosphere_categories\n",
      "Applying strategy: normalize_biosphere_names\n",
      "Applying strategy: strip_biosphere_exc_locations\n",
      "Applying strategy: set_code_by_activity_hash\n",
      "Applying strategy: link_iterable_by_fields\n",
      "Applying strategy: assign_only_product_as_production\n",
      "Applying strategy: link_technosphere_by_activity_hash\n",
      "Applying strategy: drop_falsey_uncertainty_fields_but_keep_zeros\n",
      "Applying strategy: convert_uncertainty_types_to_integers\n",
      "Applying strategy: convert_activity_parameters_to_list\n",
      "Applied 16 strategies in 6.73 seconds\n",
      "Applying strategy: link_iterable_by_fields\n",
      "Applying strategy: link_iterable_by_fields\n",
      "5 datasets\n",
      "18 exchanges\n",
      "0 unlinked exchanges\n",
      "  \n",
      "Warning: No valid output stream.\n",
      "Title: Writing activities to SQLite3 database:\n",
      "  Started: 10/28/2022 10:39:27\n",
      "  Finished: 10/28/2022 10:39:27\n",
      "  Total time elapsed: 00:00:00\n",
      "  CPU %: 0.00\n",
      "  Memory %: 0.58\n",
      "Created database: energy_moeschberg_ref\n"
     ]
    }
   ],
   "source": [
    "  \n",
    "foreground_importer = bi.ExcelImporter(\"./data/inputs/lci_moeschberg_ref.xlsx\")\n",
    "foreground_importer.apply_strategies()\n",
    "foreground_importer.match_database(\"biosphere3\", fields=(\"name\", \"unit\", \"categories\"))\n",
    "foreground_importer.match_database(\"ei 3.8 cutoff\", fields=(\"name\", \"unit\", \"location\"))\n",
    "foreground_importer.statistics()\n",
    "foreground_importer.write_database()"
   ]
  },
  {
   "cell_type": "code",
   "execution_count": 372,
   "id": "70bf5428-1c20-4cc6-801c-fede8a3c6eca",
   "metadata": {
    "tags": []
   },
   "outputs": [
    {
     "data": {
      "text/plain": [
       "Databases dictionary with 5 object(s):\n",
       "\tbiosphere3\n",
       "\tei 3.8 cutoff\n",
       "\tenergy_moeschberg\n",
       "\tenergy_moeschberg_ref\n",
       "\tsolar_huimin"
      ]
     },
     "execution_count": 372,
     "metadata": {},
     "output_type": "execute_result"
    }
   ],
   "source": [
    "bd.databases"
   ]
  },
  {
   "cell_type": "markdown",
   "id": "bff2ec3a-6b74-4178-9ce8-caecbca5a335",
   "metadata": {},
   "source": [
    "## Reference LCA without PV without regionalization"
   ]
  },
  {
   "cell_type": "code",
   "execution_count": 375,
   "id": "a697f2e5-aeb7-46b4-9958-ac10732ddcac",
   "metadata": {},
   "outputs": [],
   "source": [
    "ipcc = ('IPCC 2013', 'climate change', 'GWP 100a')"
   ]
  },
  {
   "cell_type": "code",
   "execution_count": 376,
   "id": "0803ee24-8670-424a-949e-350069d38e5c",
   "metadata": {},
   "outputs": [
    {
     "data": {
      "text/plain": [
       "'energy demand, operational, Hotel Moeschberg' (unit, CH, None)"
      ]
     },
     "execution_count": 376,
     "metadata": {},
     "output_type": "execute_result"
    }
   ],
   "source": [
    "fu = bd.get_activity(database=\"energy_moeschberg_ref\", name = \"energy demand, operational, Hotel Moeschberg\")\n",
    "fu"
   ]
  },
  {
   "cell_type": "code",
   "execution_count": 377,
   "id": "4389df25-ac2b-4b99-b968-1b4bd70fffe7",
   "metadata": {},
   "outputs": [],
   "source": [
    "_, data_objs, _ = bd.prepare_lca_inputs({fu: 1}, ipcc)"
   ]
  },
  {
   "cell_type": "code",
   "execution_count": 378,
   "id": "c75a4fb3-f515-410e-9429-10f9924ede90",
   "metadata": {},
   "outputs": [
    {
     "data": {
      "text/plain": [
       "9310.091226880613"
      ]
     },
     "execution_count": 378,
     "metadata": {},
     "output_type": "execute_result"
    }
   ],
   "source": [
    "lca = bc.LCA({fu.id: 1}, data_objs=data_objs)\n",
    "lca.lci()\n",
    "lca.lcia()\n",
    "lca.score"
   ]
  },
  {
   "cell_type": "markdown",
   "id": "979962f4-be97-485e-bcf2-67d71617dec7",
   "metadata": {},
   "source": [
    "## Regionalization"
   ]
  },
  {
   "cell_type": "code",
   "execution_count": 344,
   "id": "56e65e0b-4401-4916-8160-a740191735c4",
   "metadata": {},
   "outputs": [],
   "source": [
    "heat = bd.get_activity(database=\"energy_moeschberg\", name = \"heat supply, Hotel Moeschberg, 2021\")"
   ]
  },
  {
   "cell_type": "code",
   "execution_count": 345,
   "id": "a5a5111f-4ed9-47ce-aef1-8a466339c1d8",
   "metadata": {},
   "outputs": [],
   "source": [
    "wood_pellets_heat = bd.get_node(database=\"ei 3.8 cutoff\", name='wood pellets, burned in stirling heat and power co-generation unit, 3kW electrical, future', unit='megajoule')"
   ]
  },
  {
   "cell_type": "code",
   "execution_count": 346,
   "id": "6743e5ce-9573-47fc-8c48-ea10c48c42b8",
   "metadata": {},
   "outputs": [],
   "source": [
    "wood_pellets_market = bd.get_node(database=\"ei 3.8 cutoff\", name = \"market for wood pellet, measured as dry mass\", location = \"RER\")"
   ]
  },
  {
   "cell_type": "code",
   "execution_count": 347,
   "id": "d9467c7b-182a-4555-a5f7-a5f1ee36af3c",
   "metadata": {},
   "outputs": [],
   "source": [
    "wood_pellets_prod_RER = bd.get_node(database=\"ei 3.8 cutoff\", name = \"wood pellet production\", location = \"RER\")"
   ]
  },
  {
   "cell_type": "code",
   "execution_count": 348,
   "id": "824044ab-6e41-4b6e-96f9-c902253efd96",
   "metadata": {},
   "outputs": [],
   "source": [
    "if \"Regionalized_db\" in bd.databases:\n",
    "    del bd.databases[\"Regionalized_db\"]"
   ]
  },
  {
   "cell_type": "code",
   "execution_count": 349,
   "id": "27364de4-be92-4f8e-8aaa-70bdb7a2793f",
   "metadata": {},
   "outputs": [],
   "source": [
    "Regionalized_db = bd.Database(\"Regionalized_db\", backend = \"iotable\") #need iotable to be able to do the regionalization"
   ]
  },
  {
   "cell_type": "code",
   "execution_count": 350,
   "id": "ef4c327c-f53e-43fc-b44a-d6fb13805114",
   "metadata": {},
   "outputs": [],
   "source": [
    "Regionalized_db.write({})"
   ]
  },
  {
   "cell_type": "code",
   "execution_count": 351,
   "id": "5e0278e6-a733-49e7-87b2-876cf2aab5bf",
   "metadata": {},
   "outputs": [
    {
     "data": {
      "text/plain": [
       "Databases dictionary with 5 object(s):\n",
       "\tRegionalized_db\n",
       "\tbiosphere3\n",
       "\tei 3.8 cutoff\n",
       "\tenergy_moeschberg\n",
       "\tsolar_huimin"
      ]
     },
     "execution_count": 351,
     "metadata": {},
     "output_type": "execute_result"
    }
   ],
   "source": [
    "bd.databases"
   ]
  },
  {
   "cell_type": "code",
   "execution_count": 352,
   "id": "db3993d7-1b5c-4cce-91d4-dc3c889a5981",
   "metadata": {},
   "outputs": [],
   "source": [
    "foreground=bd.Database('energy_moeschberg')"
   ]
  },
  {
   "cell_type": "code",
   "execution_count": 353,
   "id": "fa8c837e-2341-4d1d-a296-639fe1d8703d",
   "metadata": {},
   "outputs": [],
   "source": [
    "regionalized_fu=Regionalized_db.new_node(code=\"new-fu\", name=\"energy demand, operational, Hotel Moeschberg - regionalized\", location=\"CH\", unit=\"unit\")\n",
    "regionalized_fu.save()"
   ]
  },
  {
   "cell_type": "code",
   "execution_count": 354,
   "id": "1d76699c-d3c1-4fd7-9fa8-927791ff8e27",
   "metadata": {},
   "outputs": [],
   "source": [
    "regionalized_heat=Regionalized_db.new_node(code=\"new-heat\", name='heat supply, Hotel Moeschberg, 2021 - regionalized', location=\"CH\", unit=\"megajoule\")\n",
    "regionalized_heat.save()"
   ]
  },
  {
   "cell_type": "code",
   "execution_count": 355,
   "id": "e32bd53c-6ad9-445d-a516-22126b87d50f",
   "metadata": {},
   "outputs": [],
   "source": [
    "new_wood_pellets_heat = Regionalized_db.new_node(code=\"pellets-heat\", name=\"wood pellets, burned in stirling heat and power co-generation unit, 3kW electrical, future - regionalized\", location=\"CH\", unit=\"megajoule\")\n",
    "new_wood_pellets_heat.save()"
   ]
  },
  {
   "cell_type": "code",
   "execution_count": 356,
   "id": "c5e7fa0a-91d6-4882-be94-45f1a7e817a6",
   "metadata": {},
   "outputs": [],
   "source": [
    "new_wood_pellets_market = Regionalized_db.new_node(code=\"pellets-market\", name=\"market for wood pellet, measured as dry mass\", location=\"CH\", unit=\"kilogram\")\n",
    "new_wood_pellets_market.save()"
   ]
  },
  {
   "cell_type": "code",
   "execution_count": 357,
   "id": "4b411acf-0d13-4208-9f5f-19fe72027e47",
   "metadata": {},
   "outputs": [],
   "source": [
    "new_pellets_prod = Regionalized_db.new_node(code=\"pellets-prod\", name=\"wood pellet production\", location=\"CH\", unit=\"kilogram\")\n",
    "new_pellets_prod.save()"
   ]
  },
  {
   "cell_type": "code",
   "execution_count": 358,
   "id": "57813031-80d7-49ae-94d3-67b352fbdda5",
   "metadata": {},
   "outputs": [],
   "source": [
    "from collections import defaultdict\n",
    "\n",
    "new_pellets_tech = defaultdict(float)\n",
    "\n",
    "for exc in wood_pellets_prod_RER.technosphere():\n",
    "    new_pellets_tech[bd.get_node(\n",
    "        database = \"ei 3.8 cutoff\",\n",
    "        name = exc.input['name'],\n",
    "        location = exc.input['location']\n",
    "    )] += exc['amount']"
   ]
  },
  {
   "cell_type": "code",
   "execution_count": 359,
   "id": "c0ef5dc8-af05-4db1-946d-07947a0774c6",
   "metadata": {},
   "outputs": [],
   "source": [
    "tech_edges = [\n",
    "    {\"row\": regionalized_fu.id, \"col\": regionalized_fu.id, \"amount\":1},\n",
    "    {\"row\": fu.id, \"col\": regionalized_fu.id, \"amount\":1, \"flip\":True}, #consume the old activity to copy exchanges\n",
    "    {\"row\": heat.id, \"col\": regionalized_fu.id, \"amount\":655489 , \"flip\":False},\n",
    "    {\"row\": regionalized_heat.id, \"col\": regionalized_fu.id, \"amount\":655489, \"flip\":True},\n",
    "] + [\n",
    "    {\"row\": regionalized_heat.id, \"col\": regionalized_heat.id, \"amount\":1},\n",
    "    {\"row\": heat.id, \"col\": regionalized_heat.id, \"amount\":1, \"flip\":True}, #consume the old activity to copy exchanges\n",
    "    {\"row\": wood_pellets_heat.id, \"col\": regionalized_heat.id, \"amount\":0.9953, \"flip\":False},\n",
    "    {\"row\": new_wood_pellets_heat.id, \"col\": regionalized_heat.id, \"amount\":0.9953, \"flip\":True},\n",
    "] + [\n",
    "    {\"row\": new_wood_pellets_heat.id, \"col\": new_wood_pellets_heat.id, \"amount\":1},\n",
    "    {\"row\": wood_pellets_heat.id, \"col\": new_wood_pellets_heat.id, \"amount\":1, \"flip\":True}, #consume the old activity to copy exchanges\n",
    "    {\"row\": new_wood_pellets_market.id, \"col\": new_wood_pellets_heat.id, \"amount\":0.0229911254795743, \"flip\":True},\n",
    "    {\"row\": wood_pellets_market.id, \"col\": new_wood_pellets_heat.id, \"amount\": 0.0229911254795743},\n",
    "] + [\n",
    "    {\"row\": new_wood_pellets_market.id, \"col\": new_wood_pellets_market.id, \"amount\":1},\n",
    "    {\"row\": wood_pellets_market.id, \"col\": new_wood_pellets_market.id, \"amount\":1, \"flip\":True},\n",
    "    {\"row\": new_pellets_prod.id, \"col\": new_wood_pellets_market.id, \"amount\": 1, \"flip\":True},\n",
    "    {\"row\": wood_pellets_prod_RER.id, \"col\": new_wood_pellets_market.id, \"amount\": 1},\n",
    "] + [\n",
    "    {\"row\": new_pellets_prod.id, \"col\": new_pellets_prod.id, \"amount\": 1},\n",
    "    {\"row\": wood_pellets_prod_RER.id, \"col\": new_pellets_prod.id, \"amount\": 1, \"flip\":True},\n",
    "    {\n",
    "        \"row\": bd.get_activity(\n",
    "            database=\"ei 3.8 cutoff\", \n",
    "            name='market group for electricity, medium voltage',\n",
    "            location='RER'\n",
    "        ).id, \n",
    "        \"col\": new_pellets_prod.id, \n",
    "        \"amount\": 0.096\n",
    "    },\n",
    "] + [\n",
    "    {\"row\": key.id, \"col\": new_pellets_prod.id, \"amount\": value}\n",
    "    for key, value in new_pellets_tech.items() if key['location']==\"Europe without Switzerland\"\n",
    "] + [\n",
    "    {\n",
    "        \"row\": bd.get_activity(\n",
    "            database=\"ei 3.8 cutoff\", \n",
    "            name='market for electricity, medium voltage',\n",
    "            location='CH'\n",
    "        ).id, \n",
    "        \"col\": new_pellets_prod.id, \n",
    "        \"amount\": 0.096,\n",
    "        \"flip\":True\n",
    "    },\n",
    "] + [\n",
    "    {\"row\": bd.get_activity(database=\"ei 3.8 cutoff\", name=key['name'], location=\"CH\").id, \n",
    "      \"col\": new_pellets_prod.id, \"amount\": value, \"flip\":True}\n",
    "    for key, value in new_pellets_tech.items() if key['location']==\"Europe without Switzerland\"\n",
    "\n",
    "]"
   ]
  },
  {
   "cell_type": "code",
   "execution_count": 360,
   "id": "936571b0-7b64-441d-8e4d-78c9b1a97126",
   "metadata": {},
   "outputs": [
    {
     "name": "stdout",
     "output_type": "stream",
     "text": [
      "Starting IO table write\n",
      "Adding technosphere matrix\n",
      "Adding biosphere matrix\n",
      "Finalizing serialization\n"
     ]
    }
   ],
   "source": [
    "Regionalized_db.write_exchanges(tech_edges, [], [\"ei 3.8 cutoff\"])"
   ]
  },
  {
   "cell_type": "code",
   "execution_count": 362,
   "id": "87458f8f-d93c-415c-b627-732a84343fdb",
   "metadata": {},
   "outputs": [],
   "source": [
    "fu.new_edge(input=regionalized_fu, amount=0, type=\"technosphere\").save()"
   ]
  },
  {
   "cell_type": "code",
   "execution_count": 363,
   "id": "6dc59cfa-2b9a-4c25-8b51-dcde016ba29d",
   "metadata": {},
   "outputs": [],
   "source": [
    "_, data_objs, _ = bd.prepare_lca_inputs({fu: 1}, ipcc)"
   ]
  },
  {
   "cell_type": "code",
   "execution_count": 364,
   "id": "19d33557-5d0c-4b81-92b3-d7c155c07a25",
   "metadata": {},
   "outputs": [
    {
     "data": {
      "text/plain": [
       "8738.041192170795"
      ]
     },
     "execution_count": 364,
     "metadata": {},
     "output_type": "execute_result"
    }
   ],
   "source": [
    "lca = bc.LCA({fu.id: 1}, data_objs=data_objs)\n",
    "lca.lci()\n",
    "lca.lcia()\n",
    "lca.score"
   ]
  },
  {
   "cell_type": "code",
   "execution_count": 329,
   "id": "8f39b6ec-b31c-46a0-80e9-6d63de0a7899",
   "metadata": {},
   "outputs": [
    {
     "data": {
      "text/plain": [
       "8079.056075341808"
      ]
     },
     "execution_count": 329,
     "metadata": {},
     "output_type": "execute_result"
    }
   ],
   "source": [
    "lca.lcia({regionalized_fu.id: 1})\n",
    "lca.score"
   ]
  },
  {
   "cell_type": "code",
   "execution_count": 334,
   "id": "2422e542-497d-4899-8377-a568de549a41",
   "metadata": {},
   "outputs": [
    {
     "name": "stdout",
     "output_type": "stream",
     "text": [
      "1: 'energy demand, operational, Hotel Moeschberg' (unit, CH, None)\n",
      "  3.22e+04: 'electricity supply, Hotel Moeschberg, 2021, new PV LCI' (kilowatt hou\n",
      "    1.8e+04: 'electricity supply, Energie Grosshoechstetten AG, 2021, guarantees of\n",
      "      1.63e+04: 'electricity production, hydro, run-of-river' (kilowatt hour, CH, None\n",
      "        -0.123: 'market for waste mineral oil' (kilogram, CH, None)\n",
      "        1.32e-08: 'hydropower plant construction, run-of-river' (unit, CH, None)\n",
      "        0.123: 'market for lubricating oil' (kilogram, RER, None)\n",
      "      468: 'electricity supply, Hotel Moeschberg, 2021, new PV LCI' (kilowatt hou\n",
      "        262: 'electricity supply, Energie Grosshoechstetten AG, 2021, guarantees of\n",
      "        206: 'Electricity production, 3kWp multi-Si photovoltaic panel slanted-roof\n",
      "      1.21e+03: 'electricity, subsidised, 2021' (kilowatt hour, CH, None)\n",
      "        386: 'electricity production, hydro, run-of-river' (kilowatt hour, CH, None\n",
      "        555: 'electricity supply, Hotel Moeschberg, 2021, new PV LCI' (kilowatt hou\n",
      "        24.1: 'electricity production, wind, 1-3MW turbine, onshore' (kilowatt hour,\n",
      "        241: 'heat and power co-generation, wood chips, 6667 kW, state-of-the-art 2\n",
      "    1.42e+04: 'Electricity production, 3kWp multi-Si photovoltaic panel slanted-roof\n",
      "      0.161: 'multi-Si photovoltaic slanted-roof installation, 3kWp' (unit, CN, Non\n",
      "        0.0371: 'market for electricity mix, China 2020' (kilowatt hour, CN, None)\n",
      "        0: 'market group for electricity, low voltage' (kilowatt hour, CN, None)\n",
      "        0.388: 'market for inverter, 2.5kW' (unit, GLO, None)\n",
      "        2.32: 'market for photovoltaic mounting system, for slanted-roof installatio\n",
      "        2.4: 'multi-Si photovoltaic panel production' (square meter, CN, None)\n",
      "        0.161: 'market for photovoltaics, electric installation for 3kWp module, at b\n",
      "        5.43: 'market group for transport, freight, lorry, unspecified' (ton kilomet\n",
      "      53.8: 'market for tap water' (kilogram, RoW, None)\n",
      "        5.95e-08: 'market for water supply network' (kilometer, GLO, None)\n",
      "        0.434: 'tap water production, seawater reverse osmosis, conventional pretreat\n",
      "        0.0871: 'tap water production, seawater reverse osmosis, conventional pretreat\n",
      "        0.058: 'tap water production, seawater reverse osmosis, conventional pretreat\n",
      "        0.0431: 'tap water production, seawater reverse osmosis, ultrafiltration pretr\n",
      "        0.00862: 'tap water production, seawater reverse osmosis, ultrafiltration pretr\n",
      "        0.00574: 'tap water production, seawater reverse osmosis, ultrafiltration pretr\n",
      "        2.09: 'tap water production, underground water with disinfection' (kilogram,\n",
      "        15.3: 'tap water production, underground water without treatment' (kilogram,\n",
      "        1.67: 'tap water production, artificial recharged wells' (kilogram, RoW, Non\n",
      "        48.3: 'tap water production, conventional treatment' (kilogram, RoW, None)\n",
      "        18.6: 'tap water production, conventional with biological treatment' (kilogr\n",
      "        5.75: 'tap water production, direct filtration treatment' (kilogram, RoW, No\n",
      "        2.43: 'tap water production, microstrainer treatment' (kilogram, RoW, None)\n",
      "        2.73: 'tap water production, ultrafiltration treatment' (kilogram, RoW, None\n",
      "        19.1: 'tap water production, underground water with chemical treatment' (kil\n",
      "      -0.0484: 'market for wastewater, from residence' (cubic meter, RoW, None)\n",
      "        -0.0484: 'treatment of wastewater, from residence, capacity 1.1E10l/year' (cubi\n",
      "  6.55e+05: 'heat supply, Hotel Moeschberg, 2021' (megajoule, CH, None)\n",
      "    3.06e+03: 'operation, solar collector system, Cu flat plate collector, one-famil\n",
      "      51.1: 'market for electricity, low voltage' (kilowatt hour, CH, None)\n",
      "        1.57e-07: 'market for sulfur hexafluoride, liquid' (kilogram, RER, None)\n",
      "        4.6e-06: 'distribution network construction, electricity, low voltage' (kilomet\n",
      "        0.0177: 'electricity, low voltage, photovoltaic, import from Germany' (kilowat\n",
      "        0.6: 'electricity production, photovoltaic, 3kWp slanted-roof installation,\n",
      "        0.0773: 'electricity production, photovoltaic, 3kWp facade installation, multi\n",
      "        0.0773: 'electricity production, photovoltaic, 3kWp facade installation, multi\n",
      "        0.0513: 'electricity production, photovoltaic, 3kWp facade installation, singl\n",
      "        0.0513: 'electricity production, photovoltaic, 3kWp facade installation, singl\n",
      "        0.235: 'electricity production, photovoltaic, 3kWp flat-roof installation, mu\n",
      "        0.155: 'electricity production, photovoltaic, 3kWp flat-roof installation, si\n",
      "        0.0178: 'electricity production, photovoltaic, 3kWp slanted-roof installation,\n",
      "        0.143: 'electricity production, photovoltaic, 3kWp slanted-roof installation,\n",
      "        0.00892: 'electricity production, photovoltaic, 3kWp slanted-roof installation,\n",
      "        0.131: 'electricity production, photovoltaic, 3kWp slanted-roof installation,\n",
      "        0.0773: 'electricity production, photovoltaic, 3kWp slanted-roof installation,\n",
      "        0.00595: 'electricity production, photovoltaic, 3kWp slanted-roof installation,\n",
      "        0.0832: 'electricity production, photovoltaic, 3kWp slanted-roof installation,\n",
      "        0.0505: 'electricity production, photovoltaic, 3kWp slanted-roof installation,\n",
      "        0.306: 'electricity production, photovoltaic, 3kWp slanted-roof installation,\n",
      "        50.5: 'electricity voltage transformation from medium to low voltage' (kilow\n",
      "      0.0158: 'solar collector system installation, Cu flat plate collector, one-fam\n",
      "        0.126: 'drawing of pipe, steel' (kilogram, RER, None)\n",
      "        0.284: 'market for water, completely softened' (kilogram, RER, None)\n",
      "        0.063: 'market for tube insulation, elastomere' (kilogram, GLO, None)\n",
      "        0.126: 'market for copper, cathode' (kilogram, GLO, None)\n",
      "        0.0151: 'market for hot water tank, 600l' (unit, GLO, None)\n",
      "        0.206: 'market for propylene glycol, liquid' (kilogram, RER, None)\n",
      "        0.0158: 'expansion vessel production, 25l' (unit, CH, None)\n",
      "        0.063: 'market for flat plate solar collector, Cu absorber' (square meter, GL\n",
      "        0.0394: 'pump production, 40W' (unit, CH, None)\n",
      "        -0.00049: 'market for heat carrier liquid, 40% C3H8O2' (cubic meter, CH, None)\n",
      "    6.52e+05: 'heat production, wood pellet, at furnace 25kW, state-of-the-art 2014'\n",
      "      -194: 'market for wood ash mixture, pure' (kilogram, CH, None)\n",
      "        3.75: 'market for transport, freight, lorry, unspecified' (ton kilometer, RE\n",
      "        2.17: 'market for transport, freight train' (ton kilometer, CH, None)\n",
      "        -96.6: 'treatment of wood ash mixture, pure, landfarming' (kilogram, CH, None\n",
      "        -96.1: 'treatment of wood ash mixture, pure, municipal incineration with fly \n",
      "        -1.33: 'treatment of wood ash mixture, pure, sanitary landfill' (kilogram, CH\n",
      "      4.35e+04: 'market for wood pellet, measured as dry mass' (kilogram, RER, None)\n",
      "        4.79e+03: 'market for transport, freight, lorry, unspecified' (ton kilometer, RE\n",
      "        1.81e-05: 'window frame production, wood, U=1.5 W/m2K' (kilogram, RER, None)\n",
      "        1.81e-05: 'window frame production, wood-metal, U=1.6 W/m2K' (kilogram, RER, Non\n",
      "        4.35e+04: 'wood pellet production' (kilogram, RER, None)\n",
      "      3.4e+03: 'market for electricity, low voltage' (kilowatt hour, CH, None)\n",
      "        1.05e-05: 'market for sulfur hexafluoride, liquid' (kilogram, RER, None)\n",
      "        0.000306: 'distribution network construction, electricity, low voltage' (kilomet\n",
      "        1.18: 'electricity, low voltage, photovoltaic, import from Germany' (kilowat\n",
      "        39.9: 'electricity production, photovoltaic, 3kWp slanted-roof installation,\n",
      "        5.14: 'electricity production, photovoltaic, 3kWp facade installation, multi\n",
      "        5.14: 'electricity production, photovoltaic, 3kWp facade installation, multi\n",
      "        3.41: 'electricity production, photovoltaic, 3kWp facade installation, singl\n",
      "        3.41: 'electricity production, photovoltaic, 3kWp facade installation, singl\n",
      "        15.6: 'electricity production, photovoltaic, 3kWp flat-roof installation, mu\n",
      "        10.3: 'electricity production, photovoltaic, 3kWp flat-roof installation, si\n",
      "        1.19: 'electricity production, photovoltaic, 3kWp slanted-roof installation,\n",
      "        9.49: 'electricity production, photovoltaic, 3kWp slanted-roof installation,\n",
      "        0.593: 'electricity production, photovoltaic, 3kWp slanted-roof installation,\n",
      "        8.7: 'electricity production, photovoltaic, 3kWp slanted-roof installation,\n",
      "        5.14: 'electricity production, photovoltaic, 3kWp slanted-roof installation,\n",
      "        0.395: 'electricity production, photovoltaic, 3kWp slanted-roof installation,\n",
      "        5.54: 'electricity production, photovoltaic, 3kWp slanted-roof installation,\n",
      "        3.36: 'electricity production, photovoltaic, 3kWp slanted-roof installation,\n",
      "        20.4: 'electricity production, photovoltaic, 3kWp slanted-roof installation,\n",
      "        3.36e+03: 'electricity voltage transformation from medium to low voltage' (kilow\n",
      "      0.227: 'furnace production, pellets, 25kW' (unit, CH, None)\n",
      "        -1.02: 'market for electronics scrap from control units' (kilogram, GLO, None\n",
      "        0.0453: 'market for copper, cathode' (kilogram, GLO, None)\n",
      "        -1.25: 'market for waste polyethylene' (kilogram, CH, None)\n",
      "        6.8: 'market for steel, chromium steel 18/8, hot rolled' (kilogram, GLO, No\n",
      "        0.159: 'market for lubricating oil' (kilogram, RER, None)\n",
      "        120: 'market for electricity, low voltage' (kilowatt hour, CH, None)\n",
      "        0.00906: 'market for concrete, normal' (cubic meter, CH, None)\n",
      "        12: 'market for stone wool' (kilogram, GLO, None)\n",
      "        -4.08: 'market for waste polystyrene isolation, flame-retardant' (kilogram, C\n",
      "        8.61: 'sheet rolling, steel' (kilogram, RER, None)\n",
      "        -12: 'market for waste mineral wool, for final disposal' (kilogram, CH, Non\n",
      "        1.02: 'market for electronics, for control units' (kilogram, GLO, None)\n",
      "        -0.0453: 'market for scrap copper' (kilogram, CH, None)\n",
      "        4.08: 'market for polystyrene foam slab' (kilogram, GLO, None)\n",
      "        105: 'market for steel, low-alloyed, hot rolled' (kilogram, GLO, None)\n",
      "        -21.3: 'market for waste concrete' (kilogram, CH, None)\n",
      "        0.181: 'market for alkyd paint, white, without solvent, in 60% solution state\n",
      "        362: 'market for heat, central or small-scale, other than natural gas' (meg\n",
      "        1.25: 'market for polyethylene, high density, granulate' (kilogram, GLO, Non\n",
      "        -112: 'market for scrap steel' (kilogram, CH, None)\n",
      "        -0.159: 'market for waste mineral oil' (kilogram, CH, None)\n",
      "  0: 'energy demand, operational, Hotel Moeschberg - regionalized' (unit, C\n"
     ]
    }
   ],
   "source": [
    "ba.print_recursive_supply_chain(fu,max_level=4)"
   ]
  },
  {
   "cell_type": "code",
   "execution_count": 304,
   "id": "d2e8cb13-5423-4fa4-8459-6537b6c17195",
   "metadata": {},
   "outputs": [
    {
     "data": {
      "text/plain": [
       "'Electricity production, 3kWp multi-Si photovoltaic panel slanted-roof installation' (kilowatt hour, CN, None)"
      ]
     },
     "execution_count": 304,
     "metadata": {},
     "output_type": "execute_result"
    }
   ],
   "source": [
    "PV_new=[act for act in solar if 'Electricity production, 3kWp multi-Si' in act['name']][0]\n",
    "PV_new"
   ]
  },
  {
   "cell_type": "code",
   "execution_count": null,
   "id": "e4d5e106-3d42-486a-b2dd-5fb15d2aee44",
   "metadata": {},
   "outputs": [],
   "source": [
    "b"
   ]
  }
 ],
 "metadata": {
  "kernelspec": {
   "display_name": "Python [conda env:bw25]",
   "language": "python",
   "name": "conda-env-bw25-py"
  },
  "language_info": {
   "codemirror_mode": {
    "name": "ipython",
    "version": 3
   },
   "file_extension": ".py",
   "mimetype": "text/x-python",
   "name": "python",
   "nbconvert_exporter": "python",
   "pygments_lexer": "ipython3",
   "version": "3.10.6"
  }
 },
 "nbformat": 4,
 "nbformat_minor": 5
}
