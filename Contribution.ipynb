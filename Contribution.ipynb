{
 "cells": [
  {
   "cell_type": "code",
   "execution_count": 82,
   "id": "3a1cbb80-ed70-4eec-bcca-87afd2374083",
   "metadata": {},
   "outputs": [],
   "source": [
    "import brightway2 as bw\n",
    "import bw2calc as bc\n",
    "import bw2io as bi\n",
    "import numpy as np\n",
    "import pandas as pd\n",
    "import bw2analyzer as ba\n",
    "import plotly.express as px\n"
   ]
  },
  {
   "cell_type": "code",
   "execution_count": 83,
   "id": "744d40a4-384c-47f1-828b-20df122079e0",
   "metadata": {},
   "outputs": [
    {
     "name": "stdout",
     "output_type": "stream",
     "text": [
      "Restoring project backup archive - this could take a few minutes...\n"
     ]
    }
   ],
   "source": [
    "# if 'ei38-teaching' not in bw.projects:\n",
    "bi.restore_project_directory(\"/srv/data/projects/ecoinvent38.tar.gz\")\n",
    "    \n",
    "bw.projects.set_current('ei38-teaching')"
   ]
  },
  {
   "cell_type": "code",
   "execution_count": 84,
   "id": "84fbf9ca-831a-4894-8295-efcf31a79c53",
   "metadata": {},
   "outputs": [
    {
     "data": {
      "text/plain": [
       "Databases dictionary with 2 object(s):\n",
       "\tbiosphere3\n",
       "\tei 3.8 cutoff"
      ]
     },
     "execution_count": 84,
     "metadata": {},
     "output_type": "execute_result"
    }
   ],
   "source": [
    "bw.databases"
   ]
  },
  {
   "cell_type": "code",
   "execution_count": 85,
   "id": "e0ec20ad-9e3b-4d03-b381-939b62c74b04",
   "metadata": {},
   "outputs": [
    {
     "name": "stdout",
     "output_type": "stream",
     "text": [
      "Extracted 1 worksheets in 0.02 seconds\n",
      "Applying strategy: csv_restore_tuples\n",
      "Applying strategy: csv_restore_booleans\n",
      "Applying strategy: csv_numerize\n",
      "Applying strategy: csv_drop_unknown\n",
      "Applying strategy: csv_add_missing_exchanges_section\n",
      "Applying strategy: normalize_units\n",
      "Applying strategy: normalize_biosphere_categories\n",
      "Applying strategy: normalize_biosphere_names\n",
      "Applying strategy: strip_biosphere_exc_locations\n",
      "Applying strategy: set_code_by_activity_hash\n",
      "Applying strategy: link_iterable_by_fields\n",
      "Applying strategy: assign_only_product_as_production\n",
      "Applying strategy: link_technosphere_by_activity_hash\n",
      "Applying strategy: drop_falsey_uncertainty_fields_but_keep_zeros\n",
      "Applying strategy: convert_uncertainty_types_to_integers\n",
      "Applying strategy: convert_activity_parameters_to_list\n",
      "Applied 16 strategies in 6.83 seconds\n",
      "Applying strategy: link_iterable_by_fields\n",
      "Applying strategy: link_iterable_by_fields\n",
      "18 datasets\n",
      "386 exchanges\n",
      "0 unlinked exchanges\n",
      "  \n",
      "Wrote matching file to:\n",
      "/home/jupyter-teo.lavisse/.local/share/Brightway3/ei38-teaching.9d24c3b84b374fda3985a161a6e71437/output/db-matching-solar_huimin-unlinked.xlsx\n",
      "Warning: No valid output stream.\n",
      "Title: Writing activities to SQLite3 database:\n",
      "  Started: 10/28/2022 10:45:46\n",
      "  Finished: 10/28/2022 10:45:46\n",
      "  Total time elapsed: 00:00:00\n",
      "  CPU %: 105.70\n",
      "  Memory %: 0.61\n",
      "Created database: solar_huimin\n"
     ]
    }
   ],
   "source": [
    "imp = bi.ExcelImporter(\"./data/inputs/lci_solarpv_huimin_masterthesis_combined.xlsx\")\n",
    "imp.apply_strategies()\n",
    "imp.match_database(\"ei 3.8 cutoff\", fields=('name','unit','location'))\n",
    "#imp.match_database(\"ecoinvent_remind_SSP2-Base_2020\", fields=('name','unit','location','reference product'))\n",
    "imp.match_database(fields=('name', 'unit', 'location'))\n",
    "imp.statistics()\n",
    "imp.write_excel(only_unlinked=True)\n",
    "list(imp.unlinked)\n",
    "\n",
    "imp.write_database()\n"
   ]
  },
  {
   "cell_type": "code",
   "execution_count": 88,
   "id": "d5c1cd94-1875-4fd2-bc72-9f362aa2f405",
   "metadata": {},
   "outputs": [
    {
     "data": {
      "text/plain": [
       "Databases dictionary with 4 object(s):\n",
       "\tbiosphere3\n",
       "\tei 3.8 cutoff\n",
       "\tenergy_moeschberg_ref\n",
       "\tsolar_huimin"
      ]
     },
     "execution_count": 88,
     "metadata": {},
     "output_type": "execute_result"
    }
   ],
   "source": [
    "bw.databases"
   ]
  },
  {
   "cell_type": "code",
   "execution_count": 86,
   "id": "0b9f8846-69de-46e3-adb6-9e801e9b9d63",
   "metadata": {},
   "outputs": [
    {
     "name": "stdout",
     "output_type": "stream",
     "text": [
      "Extracted 1 worksheets in 0.00 seconds\n",
      "Applying strategy: csv_restore_tuples\n",
      "Applying strategy: csv_restore_booleans\n",
      "Applying strategy: csv_numerize\n",
      "Applying strategy: csv_drop_unknown\n",
      "Applying strategy: csv_add_missing_exchanges_section\n",
      "Applying strategy: normalize_units\n",
      "Applying strategy: normalize_biosphere_categories\n",
      "Applying strategy: normalize_biosphere_names\n",
      "Applying strategy: strip_biosphere_exc_locations\n",
      "Applying strategy: set_code_by_activity_hash\n",
      "Applying strategy: link_iterable_by_fields\n",
      "Applying strategy: assign_only_product_as_production\n",
      "Applying strategy: link_technosphere_by_activity_hash\n",
      "Applying strategy: drop_falsey_uncertainty_fields_but_keep_zeros\n",
      "Applying strategy: convert_uncertainty_types_to_integers\n",
      "Applying strategy: convert_activity_parameters_to_list\n",
      "Applied 16 strategies in 6.92 seconds\n",
      "Applying strategy: link_iterable_by_fields\n",
      "Applying strategy: link_iterable_by_fields\n",
      "5 datasets\n",
      "18 exchanges\n",
      "0 unlinked exchanges\n",
      "  \n",
      "Warning: No valid output stream.\n",
      "Title: Writing activities to SQLite3 database:\n",
      "  Started: 10/28/2022 10:45:53\n",
      "  Finished: 10/28/2022 10:45:53\n",
      "  Total time elapsed: 00:00:00\n",
      "  CPU %: 0.00\n",
      "  Memory %: 0.61\n",
      "Created database: energy_moeschberg_ref\n"
     ]
    }
   ],
   "source": [
    "if \"foreground\" in bw.databases:\n",
    "    del bd.databases[\"foreground\"]\n",
    "    \n",
    "foreground_importer = bw.ExcelImporter(\"./data/inputs/lci_moeschberg_ref.xlsx\")\n",
    "foreground_importer.apply_strategies()\n",
    "foreground_importer.match_database(\"biosphere3\", fields=(\"name\", \"unit\", \"categories\"))\n",
    "foreground_importer.match_database(\"ei 3.8 cutoff\", fields=(\"name\", \"unit\", \"location\"))\n",
    "foreground_importer.statistics()\n",
    "foreground_importer.write_database()"
   ]
  },
  {
   "cell_type": "code",
   "execution_count": 68,
   "id": "2210b616-5d8f-45e8-8a4b-8e4cb17a167f",
   "metadata": {},
   "outputs": [],
   "source": [
    "foreground=bw.Database('energy_moeschberg_ref')"
   ]
  },
  {
   "cell_type": "code",
   "execution_count": 87,
   "id": "7cafbd6a-5dfa-4f94-8441-2da3f2857206",
   "metadata": {},
   "outputs": [],
   "source": [
    "ei = bw.Database(\"ei 3.8 cutoff\")"
   ]
  },
  {
   "cell_type": "code",
   "execution_count": 89,
   "id": "b7d2d0e3-6096-4897-9eae-0dfd9548e886",
   "metadata": {},
   "outputs": [
    {
     "data": {
      "text/plain": [
       "'energy demand, operational, Hotel Moeschberg' (unit, CH, None)"
      ]
     },
     "execution_count": 89,
     "metadata": {},
     "output_type": "execute_result"
    }
   ],
   "source": [
    "fu=[act for act in foreground if 'opera' in act['name']][0]\n",
    "fu"
   ]
  },
  {
   "cell_type": "code",
   "execution_count": 90,
   "id": "d366d5a7-25f5-4976-8c8d-a0c9fa3422b8",
   "metadata": {},
   "outputs": [],
   "source": [
    "ipcc=('IPCC 2013', 'climate change', 'GWP 100a')"
   ]
  },
  {
   "cell_type": "code",
   "execution_count": 91,
   "id": "35a525c3-49a4-4a9c-819e-196d289c2974",
   "metadata": {},
   "outputs": [],
   "source": [
    "adp = ('EF v3.0', 'material resources: metals/minerals', 'abiotic depletion potential (ADP): elements (ultimate reserves)')"
   ]
  },
  {
   "cell_type": "code",
   "execution_count": 92,
   "id": "82569bd7-2a3e-464e-818a-88c164c8eee5",
   "metadata": {},
   "outputs": [
    {
     "data": {
      "text/plain": [
       "9310.091231235312"
      ]
     },
     "execution_count": 92,
     "metadata": {},
     "output_type": "execute_result"
    }
   ],
   "source": [
    "lca=bw.LCA({fu:1},ipcc)\n",
    "lca.lci()\n",
    "lca.lcia()\n",
    "lca.score"
   ]
  },
  {
   "cell_type": "code",
   "execution_count": 79,
   "id": "a994276a-48ec-4d18-b2d9-3bbc7b529384",
   "metadata": {},
   "outputs": [],
   "source": [
    "def parent(df):\n",
    "    parent=[]\n",
    "    for i in df.index:    \n",
    "        if df.at[i,'Niveau']==0:\n",
    "            parent.append('')\n",
    "        elif df.at[i,'Niveau']==1:\n",
    "            y=i\n",
    "            while df.at[y,'Niveau']!=0:\n",
    "                y=y-1\n",
    "            parent.append(df.at[y,'Activities'])\n",
    "        elif df.at[i,'Niveau']==3:\n",
    "            y=i\n",
    "            while df.at[y,'Niveau']!=2:\n",
    "                y=y-1\n",
    "            parent.append(df.at[y,'Activities'])\n",
    "        elif df.at[i,'Niveau']==2:\n",
    "            y=i\n",
    "            while df.at[y,'Niveau']!=1:\n",
    "                y=y-1\n",
    "            parent.append(df.at[y,'Activities'])\n",
    "    df['Parent']=parent\n",
    "    return df\n",
    "\n",
    "def LCA_treemap(names, values, niveau, activity, lcia_method, lca_obj=None, total_score=None, amount=1, level=0, max_level=3, cutoff=1e-2):\n",
    "    \n",
    "    if lca_obj is None:\n",
    "        lca_obj = bc.LCA({activity: amount}, lcia_method)\n",
    "        lca_obj.lci()\n",
    "        lca_obj.lcia()\n",
    "        total_score = lca_obj.score\n",
    "    elif total_score is None:\n",
    "        raise ValueError\n",
    "    else:\n",
    "        lca_obj.redo_lcia({activity: amount})\n",
    "        if abs(lca_obj.score) >= abs(total_score * cutoff):\n",
    "            names.append(activity[\"name\"])    \n",
    "            values.append(lca_obj.score/total_score*100)\n",
    "            niveau.append(level)\n",
    "    if level < max_level:\n",
    "        for exc in activity.technosphere(): \n",
    "            LCA_treemap(\n",
    "                names=names,\n",
    "                values=values,\n",
    "                niveau=niveau,\n",
    "                activity=exc.input, \n",
    "                lcia_method=lcia_method, \n",
    "                lca_obj=lca_obj, \n",
    "                total_score=total_score, \n",
    "                amount=amount * exc['amount'], \n",
    "                level=level + 1, \n",
    "                max_level=max_level, \n",
    "                cutoff=cutoff\n",
    "            )      \n",
    "   \n",
    "    return  parent(pd.DataFrame({'Activities':names,'Niveau':niveau,'Values':values}))\n",
    "\n",
    "def LCA_plot_treemap(df):\n",
    "    composants=[]\n",
    "    ss_composants=[]\n",
    "    ss_ss_composants=[]\n",
    "    values=[]\n",
    "    for i in df.index:\n",
    "        if df.at[i,\"Niveau\"]==3:\n",
    "            values.append(df.at[i,'Values'])\n",
    "            ss_ss_composants.append(df.at[i,'Activities'])\n",
    "            ss_composants.append(df.at[i,'Parent'])\n",
    "            y=i\n",
    "            while df.at[y,'Activities']!=df.at[i,'Parent']:\n",
    "                y=y-1\n",
    "            composants.append(df.at[y,'Parent'])\n",
    "    return pd.DataFrame({'Composants':composants,'Sous composants':ss_composants,'Sous sous composants':ss_ss_composants,'Values':values})"
   ]
  },
  {
   "cell_type": "code",
   "execution_count": 80,
   "id": "b15ec6ae-c331-4f40-b5d4-68e169d4b331",
   "metadata": {},
   "outputs": [],
   "source": [
    "if True:\n",
    "    names,values,niveau=['Eng demand'], [100], [0]\n",
    "    df_Treemap=LCA_treemap(names,values,niveau,fu,ipcc,amount=1, level=0, max_level=3,cutoff=.0001)\n",
    "    Treemap=LCA_plot_treemap(df_Treemap)\n",
    "    fig = px.treemap(Treemap, path=[px.Constant('Eng demand'),'Composants', 'Sous composants', 'Sous sous composants'],values='Values',width=1000, height=600,\n",
    "                  color='Values',\n",
    "                  color_continuous_scale='reds')\n",
    "    fig.update_layout(margin = dict(t=50, l=25, r=25, b=25))\n",
    "    fig.update_traces(hovertemplate=None, hoverinfo='value')\n",
    "    fig.write_html(\"./data/outputs/LCA_Contribution_Treemap.htm\")"
   ]
  },
  {
   "cell_type": "code",
   "execution_count": 93,
   "id": "dfc6a70a-d2a3-4927-8833-1513e3de92d1",
   "metadata": {},
   "outputs": [],
   "source": [
    "import pandas as pd\n",
    "def fraction_scoreLCA(name_activity, share_of_activity, activity, lcia_method, lca_obj=None, total_score=None, amount=1, level=0, max_level=3, cutoff=1e-2):\n",
    "    \n",
    "    if lca_obj is None:\n",
    "        lca_obj = bc.LCA({activity: amount}, lcia_method)\n",
    "        lca_obj.lci()\n",
    "        lca_obj.lcia()\n",
    "        total_score = lca_obj.score\n",
    "    elif total_score is None:\n",
    "        raise ValueError\n",
    "    else:\n",
    "        lca_obj.redo_lcia({activity: amount})\n",
    "        if abs(lca_obj.score) >= abs(total_score * cutoff):\n",
    "            name_activity.append(activity[\"name\"])    \n",
    "            share_of_activity.append(lca_obj.score/total_score*100)    \n",
    "    \n",
    "    if level < max_level:\n",
    "        for exc in activity.technosphere(): \n",
    "            fraction_scoreLCA(\n",
    "                name_activity=name_activity,\n",
    "                share_of_activity=share_of_activity,\n",
    "                activity=exc.input, \n",
    "                lcia_method=lcia_method, \n",
    "                lca_obj=lca_obj, \n",
    "                total_score=total_score, \n",
    "                amount=amount * exc['amount'], \n",
    "                level=level + 1, \n",
    "                max_level=max_level, \n",
    "                cutoff=cutoff\n",
    "            )      \n",
    "    return name_activity, share_of_activity\n"
   ]
  },
  {
   "cell_type": "code",
   "execution_count": null,
   "id": "3c749098-e692-4927-8c1b-3ed8404122bb",
   "metadata": {},
   "outputs": [],
   "source": []
  },
  {
   "cell_type": "code",
   "execution_count": 103,
   "id": "68f8a108-8f27-431f-8597-5ed37514df2f",
   "metadata": {},
   "outputs": [
    {
     "data": {
      "image/png": "[encoded data removed]",
      "text/plain": [
       "<Figure size 600x600 with 1 Axes>"
      ]
     },
     "metadata": {},
     "output_type": "display_data"
    }
   ],
   "source": [
    "import matplotlib.pyplot as plt\n",
    "\n",
    "\n",
    "name_CC, share_CC =[], []\n",
    "name_CC,share_CC=fraction_scoreLCA(name_CC, share_CC,fu,adp,amount=1, level=0, max_level=1,cutoff=.01)\n",
    "\n",
    "res_CC=pd.DataFrame(index=['CC'],columns=name_CC,data=np.array(share_CC)[np.newaxis]).sort_index(axis=1) #newaxis oermet de transformer un vecteur ligne en colonne\n",
    "figure,axes=plt.subplots(figsize=(6,6))\n",
    "\n",
    "patches, texts, pcts =axes.pie(res_CC.T['CC'],autopct='%1.0f%%', labels = res_CC.T.index,startangle = 90,\n",
    "                                  textprops={'size': 'x-large'})\n",
    "for i, patch in enumerate(patches):\n",
    "    texts[i].set_color(patch.get_facecolor())\n",
    "plt.setp(pcts, color='white',weight='bold', fontsize=15)\n",
    "plt.setp(texts, fontweight=800)\n",
    "plt.axis('equal')\n",
    "figure.patch.set_facecolor('white')\n",
    "# res_CC.T.plot(kind='pie',ax=axes,subplots=True,autopct='%1.0f%%',startangle = 90,legend=True)\n",
    "plt.axis('equal')\n",
    "figure.patch.set_facecolor('white')\n",
    "plt.savefig('./data/outputs/ContributionPhase_ADP.png', dpi=300, bbox_inches='tight')"
   ]
  },
  {
   "cell_type": "code",
   "execution_count": 40,
   "id": "3091ce89-82d7-448d-900d-fa52097951f5",
   "metadata": {},
   "outputs": [
    {
     "data": {
      "text/plain": [
       "Databases dictionary with 3 object(s):\n",
       "\tbiosphere3\n",
       "\tei 3.8 cutoff\n",
       "\tenergy_moeschberg"
      ]
     },
     "execution_count": 40,
     "metadata": {},
     "output_type": "execute_result"
    }
   ],
   "source": [
    "bw.databases"
   ]
  },
  {
   "cell_type": "code",
   "execution_count": 99,
   "id": "277729e3-b4a3-4986-abaf-6436ecf90c4f",
   "metadata": {},
   "outputs": [
    {
     "data": {
      "text/plain": [
       "'electricity supply, Hotel Moeschberg, 2021' (kilowatt hour, CH, None)"
      ]
     },
     "execution_count": 99,
     "metadata": {},
     "output_type": "execute_result"
    }
   ],
   "source": [
    "elec = [act for act in bw.Database('energy_moeschberg_ref') if 'electricity supply' in act['name']][0]\n",
    "elec"
   ]
  },
  {
   "cell_type": "code",
   "execution_count": 100,
   "id": "33bc1647-f8bd-4223-8099-a501d7028463",
   "metadata": {},
   "outputs": [
    {
     "data": {
      "text/html": [
       "<div>\n",
       "<style scoped>\n",
       "    .dataframe tbody tr th:only-of-type {\n",
       "        vertical-align: middle;\n",
       "    }\n",
       "\n",
       "    .dataframe tbody tr th {\n",
       "        vertical-align: top;\n",
       "    }\n",
       "\n",
       "    .dataframe thead th {\n",
       "        text-align: right;\n",
       "    }\n",
       "</style>\n",
       "<table border=\"1\" class=\"dataframe\">\n",
       "  <thead>\n",
       "    <tr style=\"text-align: right;\">\n",
       "      <th></th>\n",
       "      <th>electricity production, photovoltaic, 3kWp slanted-roof installation, multi-Si, panel, mounted</th>\n",
       "      <th>electricity supply, Energie Grosshoechstetten AG, 2021, guarantees of origin</th>\n",
       "    </tr>\n",
       "  </thead>\n",
       "  <tbody>\n",
       "    <tr>\n",
       "      <th>CC</th>\n",
       "      <td>92.930577</td>\n",
       "      <td>7.069421</td>\n",
       "    </tr>\n",
       "  </tbody>\n",
       "</table>\n",
       "</div>"
      ],
      "text/plain": [
       "    electricity production, photovoltaic, 3kWp slanted-roof installation, multi-Si, panel, mounted  \\\n",
       "CC                                          92.930577                                                \n",
       "\n",
       "    electricity supply, Energie Grosshoechstetten AG, 2021, guarantees of origin  \n",
       "CC                                           7.069421                             "
      ]
     },
     "execution_count": 100,
     "metadata": {},
     "output_type": "execute_result"
    }
   ],
   "source": [
    "name_CC, share_CC =[], []\n",
    "name_CC,share_CC=fraction_scoreLCA(name_CC, share_CC,elec,adp,amount=1, level=0, max_level=1,cutoff=.01)\n",
    "\n",
    "res_CC=pd.DataFrame(index=['CC'],columns=name_CC,data=np.array(share_CC)[np.newaxis]).sort_index(axis=1) #newaxis oermet de transformer un vecteur ligne en colonne\n",
    "res_CC\n",
    "# figure,axes=plt.subplots(figsize=(6,6))\n",
    "\n",
    "\n",
    "# res_CC.T.plot(kind='pie',ax=axes,subplots=True,autopct='%1.0f%%',startangle = 90, labeldistance=None,legend=True)\n",
    "# plt.axis('equal')\n",
    "# figure.patch.set_facecolor('white')\n",
    "# plt.savefig('./data/outputs/ContributionPhase_heatSupply.png', dpi=300, bbox_inches='tight')"
   ]
  },
  {
   "cell_type": "code",
   "execution_count": null,
   "id": "f6c8e4e6-7f0f-42c3-8962-747e319c2dc9",
   "metadata": {},
   "outputs": [],
   "source": []
  }
 ],
 "metadata": {
  "kernelspec": {
   "display_name": "Python [conda env:bw]",
   "language": "python",
   "name": "conda-env-bw-py"
  },
  "language_info": {
   "codemirror_mode": {
    "name": "ipython",
    "version": 3
   },
   "file_extension": ".py",
   "mimetype": "text/x-python",
   "name": "python",
   "nbconvert_exporter": "python",
   "pygments_lexer": "ipython3",
   "version": "3.10.6"
  }
 },
 "nbformat": 4,
 "nbformat_minor": 5
}
