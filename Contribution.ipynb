{
 "cells": [
  {
   "cell_type": "code",
   "execution_count": 1,
   "id": "3a1cbb80-ed70-4eec-bcca-87afd2374083",
   "metadata": {},
   "outputs": [],
   "source": [
    "import brightway2 as bw\n",
    "import bw2calc as bc\n",
    "import bw2io as bi\n",
    "import numpy as np\n",
    "import pandas as pd\n",
    "import bw2analyzer as ba\n",
    "import plotly.express as px\n"
   ]
  },
  {
   "cell_type": "code",
   "execution_count": 7,
   "id": "744d40a4-384c-47f1-828b-20df122079e0",
   "metadata": {},
   "outputs": [
    {
     "name": "stdout",
     "output_type": "stream",
     "text": [
      "Restoring project backup archive - this could take a few minutes...\n"
     ]
    }
   ],
   "source": [
    "# if 'ei38-teaching' not in bw.projects:\n",
    "bi.restore_project_directory(\"/srv/data/projects/ecoinvent38.tar.gz\")\n",
    "    \n",
    "bw.projects.set_current('ei38-teaching')"
   ]
  },
  {
   "cell_type": "code",
   "execution_count": 8,
   "id": "84fbf9ca-831a-4894-8295-efcf31a79c53",
   "metadata": {},
   "outputs": [
    {
     "data": {
      "text/plain": [
       "Databases dictionary with 2 object(s):\n",
       "\tbiosphere3\n",
       "\tei 3.8 cutoff"
      ]
     },
     "execution_count": 8,
     "metadata": {},
     "output_type": "execute_result"
    }
   ],
   "source": [
    "bw.databases"
   ]
  },
  {
   "cell_type": "code",
   "execution_count": 12,
   "id": "0b9f8846-69de-46e3-adb6-9e801e9b9d63",
   "metadata": {},
   "outputs": [
    {
     "name": "stdout",
     "output_type": "stream",
     "text": [
      "Extracted 1 worksheets in 0.01 seconds\n",
      "Applying strategy: csv_restore_tuples\n",
      "Applying strategy: csv_restore_booleans\n",
      "Applying strategy: csv_numerize\n",
      "Applying strategy: csv_drop_unknown\n",
      "Applying strategy: csv_add_missing_exchanges_section\n",
      "Applying strategy: normalize_units\n",
      "Applying strategy: normalize_biosphere_categories\n",
      "Applying strategy: normalize_biosphere_names\n",
      "Applying strategy: strip_biosphere_exc_locations\n",
      "Applying strategy: set_code_by_activity_hash\n",
      "Applying strategy: link_iterable_by_fields\n",
      "Applying strategy: assign_only_product_as_production\n",
      "Applying strategy: link_technosphere_by_activity_hash\n",
      "Applying strategy: drop_falsey_uncertainty_fields_but_keep_zeros\n",
      "Applying strategy: convert_uncertainty_types_to_integers\n",
      "Applying strategy: convert_activity_parameters_to_list\n",
      "Applied 16 strategies in 6.80 seconds\n",
      "Applying strategy: link_iterable_by_fields\n",
      "Applying strategy: link_iterable_by_fields\n",
      "5 datasets\n",
      "18 exchanges\n",
      "0 unlinked exchanges\n",
      "  \n",
      "Warning: No valid output stream.\n",
      "Title: Writing activities to SQLite3 database:\n",
      "  Started: 10/28/2022 09:48:25\n",
      "  Finished: 10/28/2022 09:48:25\n",
      "  Total time elapsed: 00:00:00\n",
      "  CPU %: 0.00\n",
      "  Memory %: 0.30\n",
      "Created database: energy_moeschberg\n"
     ]
    }
   ],
   "source": [
    "if \"foreground\" in bw.databases:\n",
    "    del bd.databases[\"foreground\"]\n",
    "    \n",
    "foreground_importer = bw.ExcelImporter(\"./data/inputs/lci_moeschberg.xlsx\")\n",
    "foreground_importer.apply_strategies()\n",
    "foreground_importer.match_database(\"biosphere3\", fields=(\"name\", \"unit\", \"categories\"))\n",
    "foreground_importer.match_database(\"ei 3.8 cutoff\", fields=(\"name\", \"unit\", \"location\"))\n",
    "foreground_importer.statistics()\n",
    "foreground_importer.write_database()"
   ]
  },
  {
   "cell_type": "code",
   "execution_count": 13,
   "id": "7cafbd6a-5dfa-4f94-8441-2da3f2857206",
   "metadata": {},
   "outputs": [],
   "source": [
    "ei = bw.Database(\"ei 3.8 cutoff\")"
   ]
  },
  {
   "cell_type": "code",
   "execution_count": 14,
   "id": "d5c1cd94-1875-4fd2-bc72-9f362aa2f405",
   "metadata": {},
   "outputs": [
    {
     "data": {
      "text/plain": [
       "Databases dictionary with 3 object(s):\n",
       "\tbiosphere3\n",
       "\tei 3.8 cutoff\n",
       "\tenergy_moeschberg"
      ]
     },
     "execution_count": 14,
     "metadata": {},
     "output_type": "execute_result"
    }
   ],
   "source": [
    "bw.databases"
   ]
  },
  {
   "cell_type": "code",
   "execution_count": 15,
   "id": "2210b616-5d8f-45e8-8a4b-8e4cb17a167f",
   "metadata": {},
   "outputs": [],
   "source": [
    "foreground=bw.Database('energy_moeschberg')"
   ]
  },
  {
   "cell_type": "code",
   "execution_count": 16,
   "id": "b7d2d0e3-6096-4897-9eae-0dfd9548e886",
   "metadata": {},
   "outputs": [
    {
     "data": {
      "text/plain": [
       "'energy demand, operational, Hotel Moeschberg' (unit, CH, None)"
      ]
     },
     "execution_count": 16,
     "metadata": {},
     "output_type": "execute_result"
    }
   ],
   "source": [
    "fu=[act for act in foreground if 'opera' in act['name']][0]\n",
    "fu"
   ]
  },
  {
   "cell_type": "code",
   "execution_count": 17,
   "id": "034935f2-ef1a-43f4-a881-8313a2665181",
   "metadata": {},
   "outputs": [
    {
     "data": {
      "text/plain": [
       "['heat supply, Hotel Moeschberg, 2021' (megajoule, CH, None),\n",
       " 'electricity, subsidised, 2021' (kilowatt hour, CH, None),\n",
       " 'electricity supply, Hotel Moeschberg, 2021' (kilowatt hour, CH, None),\n",
       " 'electricity supply, Energie Grosshoechstetten AG, 2021, guarantees of origin' (kilowatt hour, CH, None),\n",
       " 'energy demand, operational, Hotel Moeschberg' (unit, CH, None)]"
      ]
     },
     "execution_count": 17,
     "metadata": {},
     "output_type": "execute_result"
    }
   ],
   "source": [
    "[act for act in foreground if '' in act['name']]"
   ]
  },
  {
   "cell_type": "code",
   "execution_count": 35,
   "id": "d366d5a7-25f5-4976-8c8d-a0c9fa3422b8",
   "metadata": {},
   "outputs": [],
   "source": [
    "ipcc=('IPCC 2013', 'climate change', 'GWP 100a')"
   ]
  },
  {
   "cell_type": "code",
   "execution_count": 36,
   "id": "ecc8b11e-116f-4179-ab8f-e9288b383c2e",
   "metadata": {},
   "outputs": [
    {
     "data": {
      "text/plain": [
       "Methods dictionary with 975 objects, including:\n",
       "\t('CML 2001 (superseded)', 'acidification potential', 'average European')\n",
       "\t('CML 2001 (superseded)', 'acidification potential', 'generic')\n",
       "\t('CML 2001 (superseded)', 'climate change', 'GWP 100a')\n",
       "\t('CML 2001 (superseded)', 'climate change', 'GWP 20a')\n",
       "\t('CML 2001 (superseded)', 'climate change', 'GWP 500a')\n",
       "\t('CML 2001 (superseded)', 'climate change', 'lower limit of net GWP')\n",
       "\t('CML 2001 (superseded)', 'climate change', 'upper limit of net GWP')\n",
       "\t('CML 2001 (superseded)', 'eutrophication potential', 'average European')\n",
       "\t('CML 2001 (superseded)', 'eutrophication potential', 'generic')\n",
       "\t('CML 2001 (superseded)', 'freshwater aquatic ecotoxicity', 'FAETP 100a')\n",
       "Use `list(this object)` to get the complete list."
      ]
     },
     "execution_count": 36,
     "metadata": {},
     "output_type": "execute_result"
    }
   ],
   "source": [
    "for m in bw.methods:\n",
    "    print(m"
   ]
  },
  {
   "cell_type": "code",
   "execution_count": 34,
   "id": "35a525c3-49a4-4a9c-819e-196d289c2974",
   "metadata": {},
   "outputs": [
    {
     "data": {
      "text/plain": [
       "[]"
      ]
     },
     "execution_count": 34,
     "metadata": {},
     "output_type": "execute_result"
    }
   ],
   "source": [
    "[m for m in bw.methods if 'EF' in m]"
   ]
  },
  {
   "cell_type": "code",
   "execution_count": 19,
   "id": "82569bd7-2a3e-464e-818a-88c164c8eee5",
   "metadata": {},
   "outputs": [
    {
     "data": {
      "text/plain": [
       "4288.388562137479"
      ]
     },
     "execution_count": 19,
     "metadata": {},
     "output_type": "execute_result"
    }
   ],
   "source": [
    "lca=bw.LCA({fu:1},ipcc)\n",
    "lca.lci()\n",
    "lca.lcia()\n",
    "lca.score"
   ]
  },
  {
   "cell_type": "code",
   "execution_count": 20,
   "id": "0b2ef76c-621b-4229-9fc1-837d7b34fd99",
   "metadata": {},
   "outputs": [
    {
     "name": "stdout",
     "output_type": "stream",
     "text": [
      "Fraction of score | Absolute score | Amount | Activity\n",
      "0001 |  4288 |     1 | 'energy demand, operational, Hotel Moeschberg' (unit, CH, None)\n",
      "  0.286 |  1225 | 3.218e+04 | 'electricity supply, Hotel Moeschberg, 2021' (kilowatt hour, CH, None)\n",
      "    0.0353 | 151.5 | 1.8e+04 | 'electricity supply, Energie Grosshoechstetten AG, 2021, guarantees of\n",
      "      0.0136 | 58.36 | 1.633e+04 | 'electricity production, hydro, run-of-river' (kilowatt hour, CH, None\n",
      "      0.00826 | 35.43 |   468 | 'electricity production, photovoltaic, 3kWp slanted-roof installation,\n",
      "      0.0135 | 57.73 |  1206 | 'electricity, subsidised, 2021' (kilowatt hour, CH, None)\n",
      "    0.25 |  1073 | 1.418e+04 | 'electricity production, photovoltaic, 3kWp slanted-roof installation,\n",
      "      0.25 |  1073 | 0.1642 | 'photovoltaic slanted-roof installation, 3kWp, multi-Si, panel, mounte\n",
      "  0.714 |  3064 | 6.555e+05 | 'heat supply, Hotel Moeschberg, 2021' (megajoule, CH, None)\n",
      "    0.00614 | 26.33 |  3060 | 'operation, solar collector system, Cu flat plate collector, one-famil\n",
      "      0.000537 | 2.301 | 51.14 | 'market for electricity, low voltage' (kilowatt hour, CH, None)\n",
      "      0.0056 | 24.03 | 0.01576 | 'solar collector system installation, Cu flat plate collector, one-fam\n",
      "    0.708 |  3037 | 6.524e+05 | 'wood pellets, burned in stirling heat and power co-generation unit, 3\n",
      "      0.00395 | 16.95 | 376.6 | 'market for electricity, low voltage' (kilowatt hour, CH, None)\n",
      "      0.000196 | 0.8388 | -74.77 | 'market for wood ash mixture, pure' (kilogram, CH, None)\n",
      "      0.529 |  2268 | 1.5e+04 | 'market for wood pellet, measured as dry mass' (kilogram, RER, None)\n",
      "      0.0273 | 117.1 | 1.563 | 'maintenance, stirling heat and power co-generation unit, 3kW electric\n",
      "      0.047 | 201.6 | 0.1107 | 'storage production, 650 l mini CHP plant' (unit, CH, None)\n",
      "      0.0429 | 184.2 | 0.1116 | 'stirling heat and power co-generation unit construction, 3kW electric\n"
     ]
    }
   ],
   "source": [
    "ba.print_recursive_calculation(fu,ipcc,cutoff=1e-5,max_level=3)"
   ]
  },
  {
   "cell_type": "code",
   "execution_count": 21,
   "id": "a994276a-48ec-4d18-b2d9-3bbc7b529384",
   "metadata": {},
   "outputs": [],
   "source": [
    "def parent(df):\n",
    "    parent=[]\n",
    "    for i in df.index:    \n",
    "        if df.at[i,'Niveau']==0:\n",
    "            parent.append('')\n",
    "        elif df.at[i,'Niveau']==1:\n",
    "            y=i\n",
    "            while df.at[y,'Niveau']!=0:\n",
    "                y=y-1\n",
    "            parent.append(df.at[y,'Activities'])\n",
    "        elif df.at[i,'Niveau']==3:\n",
    "            y=i\n",
    "            while df.at[y,'Niveau']!=2:\n",
    "                y=y-1\n",
    "            parent.append(df.at[y,'Activities'])\n",
    "        elif df.at[i,'Niveau']==2:\n",
    "            y=i\n",
    "            while df.at[y,'Niveau']!=1:\n",
    "                y=y-1\n",
    "            parent.append(df.at[y,'Activities'])\n",
    "    df['Parent']=parent\n",
    "    return df\n",
    "\n",
    "def LCA_treemap(names, values, niveau, activity, lcia_method, lca_obj=None, total_score=None, amount=1, level=0, max_level=3, cutoff=1e-2):\n",
    "    \n",
    "    if lca_obj is None:\n",
    "        lca_obj = bc.LCA({activity: amount}, lcia_method)\n",
    "        lca_obj.lci()\n",
    "        lca_obj.lcia()\n",
    "        total_score = lca_obj.score\n",
    "    elif total_score is None:\n",
    "        raise ValueError\n",
    "    else:\n",
    "        lca_obj.redo_lcia({activity: amount})\n",
    "        if abs(lca_obj.score) >= abs(total_score * cutoff):\n",
    "            names.append(activity[\"name\"])    \n",
    "            values.append(lca_obj.score/total_score*100)\n",
    "            niveau.append(level)\n",
    "    if level < max_level:\n",
    "        for exc in activity.technosphere(): \n",
    "            LCA_treemap(\n",
    "                names=names,\n",
    "                values=values,\n",
    "                niveau=niveau,\n",
    "                activity=exc.input, \n",
    "                lcia_method=lcia_method, \n",
    "                lca_obj=lca_obj, \n",
    "                total_score=total_score, \n",
    "                amount=amount * exc['amount'], \n",
    "                level=level + 1, \n",
    "                max_level=max_level, \n",
    "                cutoff=cutoff\n",
    "            )      \n",
    "   \n",
    "    return  parent(pd.DataFrame({'Activities':names,'Niveau':niveau,'Values':values}))\n",
    "\n",
    "def LCA_plot_treemap(df):\n",
    "    composants=[]\n",
    "    ss_composants=[]\n",
    "    ss_ss_composants=[]\n",
    "    values=[]\n",
    "    for i in df.index:\n",
    "        if df.at[i,\"Niveau\"]==3:\n",
    "            values.append(df.at[i,'Values'])\n",
    "            ss_ss_composants.append(df.at[i,'Activities'])\n",
    "            ss_composants.append(df.at[i,'Parent'])\n",
    "            y=i\n",
    "            while df.at[y,'Activities']!=df.at[i,'Parent']:\n",
    "                y=y-1\n",
    "            composants.append(df.at[y,'Parent'])\n",
    "    return pd.DataFrame({'Composants':composants,'Sous composants':ss_composants,'Sous sous composants':ss_ss_composants,'Values':values})"
   ]
  },
  {
   "cell_type": "code",
   "execution_count": 49,
   "id": "b15ec6ae-c331-4f40-b5d4-68e169d4b331",
   "metadata": {},
   "outputs": [],
   "source": [
    "if True:\n",
    "    names,values,niveau=['Eng demand'], [100], [0]\n",
    "    df_Treemap=LCA_treemap(names,values,niveau,fu,ipcc,amount=1, level=0, max_level=3,cutoff=.0001)\n",
    "    Treemap=LCA_plot_treemap(df_Treemap)\n",
    "    fig = px.treemap(Treemap, path=[px.Constant('Eng demand'),'Composants', 'Sous composants', 'Sous sous composants'],values='Values',width=1000, height=600,\n",
    "                  color='Values',\n",
    "                  color_continuous_scale='reds')\n",
    "    fig.update_layout(margin = dict(t=50, l=25, r=25, b=25))\n",
    "    fig.update_traces(hovertemplate=None, hoverinfo='value')\n",
    "    fig.write_html(\"./data/outputs/LCA_Contribution_Treemap.htm\")"
   ]
  },
  {
   "cell_type": "code",
   "execution_count": 26,
   "id": "7ffa971f-c4f7-4a7d-8cee-813f0d3dde52",
   "metadata": {},
   "outputs": [
    {
     "data": {
      "text/html": [
       "<div>\n",
       "<style scoped>\n",
       "    .dataframe tbody tr th:only-of-type {\n",
       "        vertical-align: middle;\n",
       "    }\n",
       "\n",
       "    .dataframe tbody tr th {\n",
       "        vertical-align: top;\n",
       "    }\n",
       "\n",
       "    .dataframe thead th {\n",
       "        text-align: right;\n",
       "    }\n",
       "</style>\n",
       "<table border=\"1\" class=\"dataframe\">\n",
       "  <thead>\n",
       "    <tr style=\"text-align: right;\">\n",
       "      <th></th>\n",
       "      <th>electricity production, photovoltaic, 3kWp slanted-roof installation, multi-Si, panel, mounted</th>\n",
       "      <th>electricity supply, Energie Grosshoechstetten AG, 2021, guarantees of origin</th>\n",
       "      <th>electricity supply, Hotel Moeschberg, 2021</th>\n",
       "      <th>furnace production, pellets, 25kW</th>\n",
       "      <th>heat production, wood pellet, at furnace 25kW, state-of-the-art 2014</th>\n",
       "      <th>heat supply, Hotel Moeschberg, 2021</th>\n",
       "      <th>market for electricity, low voltage</th>\n",
       "      <th>market for wood pellet, measured as dry mass</th>\n",
       "      <th>photovoltaic slanted-roof installation, 3kWp, multi-Si, panel, mounted, on roof</th>\n",
       "    </tr>\n",
       "  </thead>\n",
       "  <tbody>\n",
       "    <tr>\n",
       "      <th>CC</th>\n",
       "      <td>11.526974</td>\n",
       "      <td>1.62744</td>\n",
       "      <td>13.154414</td>\n",
       "      <td>4.176149</td>\n",
       "      <td>86.562799</td>\n",
       "      <td>86.845586</td>\n",
       "      <td>1.643383</td>\n",
       "      <td>70.674576</td>\n",
       "      <td>11.526599</td>\n",
       "    </tr>\n",
       "  </tbody>\n",
       "</table>\n",
       "</div>"
      ],
      "text/plain": [
       "    electricity production, photovoltaic, 3kWp slanted-roof installation, multi-Si, panel, mounted  \\\n",
       "CC                                          11.526974                                                \n",
       "\n",
       "    electricity supply, Energie Grosshoechstetten AG, 2021, guarantees of origin  \\\n",
       "CC                                            1.62744                              \n",
       "\n",
       "    electricity supply, Hotel Moeschberg, 2021  \\\n",
       "CC                                   13.154414   \n",
       "\n",
       "    furnace production, pellets, 25kW  \\\n",
       "CC                           4.176149   \n",
       "\n",
       "    heat production, wood pellet, at furnace 25kW, state-of-the-art 2014  \\\n",
       "CC                                          86.562799                      \n",
       "\n",
       "    heat supply, Hotel Moeschberg, 2021  market for electricity, low voltage  \\\n",
       "CC                            86.845586                             1.643383   \n",
       "\n",
       "    market for wood pellet, measured as dry mass  \\\n",
       "CC                                     70.674576   \n",
       "\n",
       "    photovoltaic slanted-roof installation, 3kWp, multi-Si, panel, mounted, on roof  \n",
       "CC                                          11.526599                                "
      ]
     },
     "execution_count": 26,
     "metadata": {},
     "output_type": "execute_result"
    }
   ],
   "source": [
    "res_CC"
   ]
  },
  {
   "cell_type": "code",
   "execution_count": 22,
   "id": "dfc6a70a-d2a3-4927-8833-1513e3de92d1",
   "metadata": {},
   "outputs": [],
   "source": [
    "import pandas as pd\n",
    "def fraction_scoreLCA(name_activity, share_of_activity, activity, lcia_method, lca_obj=None, total_score=None, amount=1, level=0, max_level=3, cutoff=1e-2):\n",
    "    \n",
    "    if lca_obj is None:\n",
    "        lca_obj = bc.LCA({activity: amount}, lcia_method)\n",
    "        lca_obj.lci()\n",
    "        lca_obj.lcia()\n",
    "        total_score = lca_obj.score\n",
    "    elif total_score is None:\n",
    "        raise ValueError\n",
    "    else:\n",
    "        lca_obj.redo_lcia({activity: amount})\n",
    "        if abs(lca_obj.score) >= abs(total_score * cutoff):\n",
    "            name_activity.append(activity[\"name\"])    \n",
    "            share_of_activity.append(lca_obj.score/total_score*100)    \n",
    "    \n",
    "    if level < max_level:\n",
    "        for exc in activity.technosphere(): \n",
    "            fraction_scoreLCA(\n",
    "                name_activity=name_activity,\n",
    "                share_of_activity=share_of_activity,\n",
    "                activity=exc.input, \n",
    "                lcia_method=lcia_method, \n",
    "                lca_obj=lca_obj, \n",
    "                total_score=total_score, \n",
    "                amount=amount * exc['amount'], \n",
    "                level=level + 1, \n",
    "                max_level=max_level, \n",
    "                cutoff=cutoff\n",
    "            )      \n",
    "    return name_activity, share_of_activity\n"
   ]
  },
  {
   "cell_type": "code",
   "execution_count": 25,
   "id": "f50a093e-e3dc-4b65-bcde-b478174fb0fd",
   "metadata": {},
   "outputs": [
    {
     "data": {
      "text/html": [
       "<div>\n",
       "<style scoped>\n",
       "    .dataframe tbody tr th:only-of-type {\n",
       "        vertical-align: middle;\n",
       "    }\n",
       "\n",
       "    .dataframe tbody tr th {\n",
       "        vertical-align: top;\n",
       "    }\n",
       "\n",
       "    .dataframe thead th {\n",
       "        text-align: right;\n",
       "    }\n",
       "</style>\n",
       "<table border=\"1\" class=\"dataframe\">\n",
       "  <thead>\n",
       "    <tr style=\"text-align: right;\">\n",
       "      <th></th>\n",
       "      <th>electricity supply, Hotel Moeschberg, 2021</th>\n",
       "      <th>heat supply, Hotel Moeschberg, 2021</th>\n",
       "    </tr>\n",
       "  </thead>\n",
       "  <tbody>\n",
       "    <tr>\n",
       "      <th>CC</th>\n",
       "      <td>28.558231</td>\n",
       "      <td>71.441769</td>\n",
       "    </tr>\n",
       "  </tbody>\n",
       "</table>\n",
       "</div>"
      ],
      "text/plain": [
       "    electricity supply, Hotel Moeschberg, 2021  \\\n",
       "CC                                   28.558231   \n",
       "\n",
       "    heat supply, Hotel Moeschberg, 2021  \n",
       "CC                            71.441769  "
      ]
     },
     "execution_count": 25,
     "metadata": {},
     "output_type": "execute_result"
    }
   ],
   "source": [
    "res_CC"
   ]
  },
  {
   "cell_type": "code",
   "execution_count": null,
   "id": "3c749098-e692-4927-8c1b-3ed8404122bb",
   "metadata": {},
   "outputs": [],
   "source": []
  },
  {
   "cell_type": "code",
   "execution_count": 24,
   "id": "68f8a108-8f27-431f-8597-5ed37514df2f",
   "metadata": {},
   "outputs": [
    {
     "data": {
      "image/png": "[encoded data removed]",
      "text/plain": [
       "<Figure size 600x600 with 1 Axes>"
      ]
     },
     "metadata": {},
     "output_type": "display_data"
    }
   ],
   "source": [
    "import matplotlib.pyplot as plt\n",
    "\n",
    "\n",
    "name_CC, share_CC =[], []\n",
    "name_CC,share_CC=fraction_scoreLCA(name_CC, share_CC,fu,ipcc,amount=1, level=0, max_level=1,cutoff=.01)\n",
    "\n",
    "res_CC=pd.DataFrame(index=['CC'],columns=name_CC,data=np.array(share_CC)[np.newaxis]).sort_index(axis=1) #newaxis oermet de transformer un vecteur ligne en colonne\n",
    "figure,axes=plt.subplots(figsize=(6,6))\n",
    "\n",
    "patches, texts, pcts =axes.pie(res_CC.T['CC'],autopct='%1.0f%%', labels = res_CC.T.index,startangle = 90,\n",
    "                                  textprops={'size': 'x-large'})\n",
    "for i, patch in enumerate(patches):\n",
    "    texts[i].set_color(patch.get_facecolor())\n",
    "plt.setp(pcts, color='white',weight='bold', fontsize=15)\n",
    "plt.setp(texts, fontweight=800)\n",
    "plt.axis('equal')\n",
    "figure.patch.set_facecolor('white')\n",
    "# res_CC.T.plot(kind='pie',ax=axes,subplots=True,autopct='%1.0f%%',startangle = 90,legend=True)\n",
    "plt.axis('equal')\n",
    "figure.patch.set_facecolor('white')\n",
    "plt.savefig('./data/outputs/ContributionPhase.png', dpi=300, bbox_inches='tight')"
   ]
  },
  {
   "cell_type": "code",
   "execution_count": 69,
   "id": "33bc1647-f8bd-4223-8099-a501d7028463",
   "metadata": {},
   "outputs": [
    {
     "data": {
      "text/html": [
       "<div>\n",
       "<style scoped>\n",
       "    .dataframe tbody tr th:only-of-type {\n",
       "        vertical-align: middle;\n",
       "    }\n",
       "\n",
       "    .dataframe tbody tr th {\n",
       "        vertical-align: top;\n",
       "    }\n",
       "\n",
       "    .dataframe thead th {\n",
       "        text-align: right;\n",
       "    }\n",
       "</style>\n",
       "<table border=\"1\" class=\"dataframe\">\n",
       "  <thead>\n",
       "    <tr style=\"text-align: right;\">\n",
       "      <th></th>\n",
       "      <th>heat production, wood pellet, at furnace 25kW, state-of-the-art 2014</th>\n",
       "    </tr>\n",
       "  </thead>\n",
       "  <tbody>\n",
       "    <tr>\n",
       "      <th>CC</th>\n",
       "      <td>99.67438</td>\n",
       "    </tr>\n",
       "  </tbody>\n",
       "</table>\n",
       "</div>"
      ],
      "text/plain": [
       "    heat production, wood pellet, at furnace 25kW, state-of-the-art 2014\n",
       "CC                                           99.67438                   "
      ]
     },
     "execution_count": 69,
     "metadata": {},
     "output_type": "execute_result"
    }
   ],
   "source": [
    "name_CC, share_CC =[], []\n",
    "name_CC,share_CC=fraction_scoreLCA(name_CC, share_CC,heat,ipcc,amount=1, level=0, max_level=1,cutoff=.01)\n",
    "\n",
    "res_CC=pd.DataFrame(index=['CC'],columns=name_CC,data=np.array(share_CC)[np.newaxis]).sort_index(axis=1) #newaxis oermet de transformer un vecteur ligne en colonne\n",
    "res_CC\n",
    "# figure,axes=plt.subplots(figsize=(6,6))\n",
    "\n",
    "\n",
    "# res_CC.T.plot(kind='pie',ax=axes,subplots=True,autopct='%1.0f%%',startangle = 90, labeldistance=None,legend=True)\n",
    "# plt.axis('equal')\n",
    "# figure.patch.set_facecolor('white')\n",
    "# plt.savefig('./data/outputs/ContributionPhase_heatSupply.png', dpi=300, bbox_inches='tight')"
   ]
  },
  {
   "cell_type": "code",
   "execution_count": null,
   "id": "f6c8e4e6-7f0f-42c3-8962-747e319c2dc9",
   "metadata": {},
   "outputs": [],
   "source": []
  }
 ],
 "metadata": {
  "kernelspec": {
   "display_name": "Python [conda env:bw]",
   "language": "python",
   "name": "conda-env-bw-py"
  },
  "language_info": {
   "codemirror_mode": {
    "name": "ipython",
    "version": 3
   },
   "file_extension": ".py",
   "mimetype": "text/x-python",
   "name": "python",
   "nbconvert_exporter": "python",
   "pygments_lexer": "ipython3",
   "version": "3.10.6"
  }
 },
 "nbformat": 4,
 "nbformat_minor": 5
}
