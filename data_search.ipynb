{
 "cells": [
  {
   "cell_type": "markdown",
   "id": "3e67c94d-ecdf-419a-8e36-25bad5043ded",
   "metadata": {},
   "source": [
    "# Data search"
   ]
  },
  {
   "cell_type": "markdown",
   "id": "1bd46885-0d1d-4f1d-be09-5856ec438d55",
   "metadata": {},
   "source": [
    "<div class=\"alert alert-block alert-info\">\n",
    "<b> purpose </b> = get ids from the activities that we will need in the foreground database\n",
    "    <div>"
   ]
  },
  {
   "cell_type": "markdown",
   "id": "d772adcd-b55c-45ea-9cb5-ce89c3a2fe72",
   "metadata": {},
   "source": [
    "for the foreground, we need the following activites :\n",
    "- wood pellets, burned in stirling heat and power co-generation unit, 3kW electrical, future\n",
    "- operation, solar collector system, Cu flat plate collector, one-family house, for hot water\n",
    "- electricity production, photovoltaic, 3kWp slanted-roof \n",
    "- electricity production, wind, 1-3MW turbine, onshore\n",
    "- electricity production, hydro, run-of-river\n",
    "- heat and power co-generation, wood chips, 6667 kW, state-of-the-art 2014"
   ]
  },
  {
   "cell_type": "code",
   "execution_count": 5,
   "id": "d04ecde6-e65d-41a9-9f12-ed07abbe168a",
   "metadata": {},
   "outputs": [
    {
     "name": "stdout",
     "output_type": "stream",
     "text": [
      "Restoring project backup archive - this could take a few minutes...\n"
     ]
    }
   ],
   "source": [
    "import bw2data as bd\n",
    "import bw2calc as bc\n",
    "import bw2io as bi\n",
    "import bw_processing as bwp\n",
    "import numpy as np\n",
    "\n",
    "if 'ei38-teaching-25' not in bd.projects:\n",
    "    bi.restore_project_directory(\"/srv/data/projects/ecoinvent38-25.tar.gz\")\n",
    "    \n",
    "bd.projects.set_current('ei38-teaching-25')"
   ]
  },
  {
   "cell_type": "code",
   "execution_count": 6,
   "id": "c5041354-ec7c-41cb-8ca5-9d03022d5104",
   "metadata": {},
   "outputs": [
    {
     "data": {
      "text/plain": [
       "Databases dictionary with 2 object(s):\n",
       "\tbiosphere3\n",
       "\tei 3.8 cutoff"
      ]
     },
     "execution_count": 6,
     "metadata": {},
     "output_type": "execute_result"
    }
   ],
   "source": [
    "bd.databases"
   ]
  },
  {
   "cell_type": "code",
   "execution_count": 7,
   "id": "0b94ac7a-81e0-4907-b1cb-00199073f5cb",
   "metadata": {},
   "outputs": [],
   "source": [
    "db = bd.Database(\"ei 3.8 cutoff\")"
   ]
  },
  {
   "cell_type": "markdown",
   "id": "e6fdda61-47a6-40a9-85d8-8767da70febc",
   "metadata": {
    "jp-MarkdownHeadingCollapsed": true,
    "tags": []
   },
   "source": [
    "## heating activites"
   ]
  },
  {
   "cell_type": "markdown",
   "id": "0c0a52eb-4f30-45d0-b705-8c3c6b2dd170",
   "metadata": {},
   "source": [
    "Basically we reach in the ecoinvent database the activity we want"
   ]
  },
  {
   "cell_type": "code",
   "execution_count": 5,
   "id": "d27aeaf0-335f-4548-a0f7-347decda0a2e",
   "metadata": {},
   "outputs": [],
   "source": [
    "database_name = \"ei 3.8 cutoff\"\n",
    "wood_pellet = bd.get_activity(\n",
    "    database=database_name, \n",
    "    name='wood pellets, burned in stirling heat and power co-generation unit, 3kW electrical, future', \n",
    "    unit = \"megajoule\"\n",
    "    )"
   ]
  },
  {
   "cell_type": "markdown",
   "id": "8824263f-650e-4674-8fdd-f7ca6647b982",
   "metadata": {},
   "source": [
    "Thus, we have the id by doing this"
   ]
  },
  {
   "cell_type": "code",
   "execution_count": 6,
   "id": "354a93e5-6387-41b8-9b6b-868f57cd6a20",
   "metadata": {},
   "outputs": [
    {
     "data": {
      "text/plain": [
       "19364"
      ]
     },
     "execution_count": 6,
     "metadata": {},
     "output_type": "execute_result"
    }
   ],
   "source": [
    "wood_pellet.id"
   ]
  },
  {
   "cell_type": "code",
   "execution_count": 9,
   "id": "ea46ee39-eb85-4103-b212-2f95e5e9c683",
   "metadata": {},
   "outputs": [
    {
     "data": {
      "text/plain": [
       "['operation, solar collector system, Cu flat plate collector, one-family house, for hot water' (megajoule, RoW, None),\n",
       " 'operation, solar collector system, Cu flat plate collector, one-family house, for hot water' (megajoule, CH, None),\n",
       " 'operation, solar collector system, Cu flat plate collector, one-family house, for hot water' (megajoule, CA-QC, None)]"
      ]
     },
     "execution_count": 9,
     "metadata": {},
     "output_type": "execute_result"
    }
   ],
   "source": [
    "db.search('operation, solar collector system, Cu flat plate collector, one-family house, for hot water')"
   ]
  },
  {
   "cell_type": "code",
   "execution_count": 10,
   "id": "2a8e948a-512b-4eba-8951-c70e0f2f625e",
   "metadata": {},
   "outputs": [],
   "source": [
    "solar_panels = bd.get_activity(\n",
    "    database=database_name, \n",
    "    name='operation, solar collector system, Cu flat plate collector, one-family house, for hot water', \n",
    "    location='CH',\n",
    "    )"
   ]
  },
  {
   "cell_type": "code",
   "execution_count": 11,
   "id": "c0060aba-f9f0-4fb4-9a46-0e1321b14b0a",
   "metadata": {},
   "outputs": [
    {
     "data": {
      "text/plain": [
       "8302"
      ]
     },
     "execution_count": 11,
     "metadata": {},
     "output_type": "execute_result"
    }
   ],
   "source": [
    "solar_panels.id"
   ]
  },
  {
   "cell_type": "markdown",
   "id": "4d9aa0e8-f855-4140-9187-df3a4037e455",
   "metadata": {
    "jp-MarkdownHeadingCollapsed": true,
    "tags": []
   },
   "source": [
    "## electricity activities"
   ]
  },
  {
   "cell_type": "markdown",
   "id": "a046b62a-5a00-4252-bbf5-7d3273e863b0",
   "metadata": {},
   "source": [
    "I can get the code directly from Activity Browser which is more practicale"
   ]
  },
  {
   "cell_type": "code",
   "execution_count": 52,
   "id": "e9be6e4a-301b-44bf-82d2-2956411c7925",
   "metadata": {},
   "outputs": [
    {
     "data": {
      "text/plain": [
       "18352"
      ]
     },
     "execution_count": 52,
     "metadata": {},
     "output_type": "execute_result"
    }
   ],
   "source": [
    "PV=db.get('eefb3fb50de3c1b579b04b113644f681')\n",
    "PV.id"
   ]
  },
  {
   "cell_type": "code",
   "execution_count": 53,
   "id": "4c8ab9a9-28d7-478c-bcac-a51f05c7de6a",
   "metadata": {},
   "outputs": [
    {
     "data": {
      "text/plain": [
       "10319"
      ]
     },
     "execution_count": 53,
     "metadata": {},
     "output_type": "execute_result"
    }
   ],
   "source": [
    "Wind=db.get('db261be24b09c401a5a88b5af3243f65')\n",
    "Wind.id"
   ]
  },
  {
   "cell_type": "code",
   "execution_count": 54,
   "id": "b41f5510-83c7-4b49-bda4-741e0497dc51",
   "metadata": {},
   "outputs": [
    {
     "data": {
      "text/plain": [
       "6599"
      ]
     },
     "execution_count": 54,
     "metadata": {},
     "output_type": "execute_result"
    }
   ],
   "source": [
    "Hydro=db.get('ef7d96b8b3b9eabc22bc37d7368e5385')\n",
    "Hydro.id"
   ]
  },
  {
   "cell_type": "code",
   "execution_count": 55,
   "id": "957f4edc-8c20-483e-aeb0-da4f431ba8b2",
   "metadata": {},
   "outputs": [
    {
     "data": {
      "text/plain": [
       "20079"
      ]
     },
     "execution_count": 55,
     "metadata": {},
     "output_type": "execute_result"
    }
   ],
   "source": [
    "Biomass=db.get('bc1a68a31dbcaf326cefb48b71b2982a')\n",
    "Biomass.id"
   ]
  },
  {
   "cell_type": "markdown",
   "id": "cbd5f6dc-9f9e-4181-b015-87762b5f1847",
   "metadata": {
    "jp-MarkdownHeadingCollapsed": true,
    "tags": []
   },
   "source": [
    "## Export id"
   ]
  },
  {
   "cell_type": "code",
   "execution_count": 59,
   "id": "99e7265b-0379-4b63-be2b-86c6ac401c86",
   "metadata": {},
   "outputs": [
    {
     "data": {
      "text/plain": [
       "'wood pellets, burned in stirling heat and power co-generation unit, 3kW electrical, future'"
      ]
     },
     "execution_count": 59,
     "metadata": {},
     "output_type": "execute_result"
    }
   ],
   "source": [
    "wood_pellet['name']"
   ]
  },
  {
   "cell_type": "code",
   "execution_count": 62,
   "id": "523a8858-e141-4668-940e-69abf32007ba",
   "metadata": {},
   "outputs": [],
   "source": [
    "dict_export={\n",
    "    wood_pellet['name']:wood_pellet.id,\n",
    "    solar_panels['name']:solar_panels.id,\n",
    "    PV['name']:PV.id,\n",
    "    Wind['name']:Wind.id,\n",
    "    Hydro['name']:Hydro.id,\n",
    "    Biomass['name']:Biomass.id\n",
    "}"
   ]
  },
  {
   "cell_type": "code",
   "execution_count": 63,
   "id": "03bf8724-5b69-4a1c-b4d5-d5ab15ee1554",
   "metadata": {},
   "outputs": [],
   "source": [
    "import json\n",
    "\n",
    "with open(\"./data/inputs/dict_id.json\", \"w\") as outfile:\n",
    "    json.dump(dict_export, outfile)"
   ]
  },
  {
   "cell_type": "markdown",
   "id": "6ee110a1-8fcc-47f8-b230-2f5c5f7720b7",
   "metadata": {
    "tags": []
   },
   "source": [
    "## identify the activity name from ids of the foreground"
   ]
  },
  {
   "cell_type": "code",
   "execution_count": 8,
   "id": "bb588f2e-6705-445c-a0e4-93c503277679",
   "metadata": {
    "tags": []
   },
   "outputs": [
    {
     "name": "stdout",
     "output_type": "stream",
     "text": [
      "Extracted 1 worksheets in 0.02 seconds\n",
      "Applying strategy: csv_restore_tuples\n",
      "Applying strategy: csv_restore_booleans\n",
      "Applying strategy: csv_numerize\n",
      "Applying strategy: csv_drop_unknown\n",
      "Applying strategy: csv_add_missing_exchanges_section\n",
      "Applying strategy: normalize_units\n",
      "Applying strategy: normalize_biosphere_categories\n",
      "Applying strategy: normalize_biosphere_names\n",
      "Applying strategy: strip_biosphere_exc_locations\n",
      "Applying strategy: set_code_by_activity_hash\n",
      "Applying strategy: link_iterable_by_fields\n",
      "Applying strategy: assign_only_product_as_production\n",
      "Applying strategy: link_technosphere_by_activity_hash\n",
      "Applying strategy: drop_falsey_uncertainty_fields_but_keep_zeros\n",
      "Applying strategy: convert_uncertainty_types_to_integers\n",
      "Applying strategy: convert_activity_parameters_to_list\n",
      "Applied 16 strategies in 6.68 seconds\n",
      "Applying strategy: link_iterable_by_fields\n",
      "Applying strategy: link_iterable_by_fields\n",
      "11 datasets\n",
      "151 exchanges\n",
      "0 unlinked exchanges\n",
      "  \n",
      "Warning: No valid output stream.\n",
      "Title: Writing activities to SQLite3 database:\n",
      "  Started: 10/27/2022 13:28:05\n",
      "  Finished: 10/27/2022 13:28:05\n",
      "  Total time elapsed: 00:00:00\n",
      "  CPU %: 115.70\n",
      "  Memory %: 0.25\n",
      "Created database: foreground\n"
     ]
    }
   ],
   "source": [
    "# if \"foreground\" in bd.databases:\n",
    "#     del bd.databases[\"foreground\"]\n",
    "    \n",
    "foreground_importer = bi.ExcelImporter(\"./data/inputs/foreground.xlsx\")\n",
    "for act in foreground_importer.data:\n",
    "    # print(act[\"name\"])\n",
    "    for exc in act[\"exchanges\"]:\n",
    "        if \"classifications\" in exc:\n",
    "            exc.pop(\"classifications\")\n",
    "        if \"properties\" in exc:\n",
    "            exc.pop(\"properties\")   \n",
    "foreground_importer.apply_strategies()\n",
    "foreground_importer.match_database(\"biosphere3\", fields=(\"name\", \"unit\", \"categories\"))\n",
    "foreground_importer.match_database(\"ei 3.8 cutoff\", fields=(\"name\", \"unit\", \"location\"))\n",
    "foreground_importer.statistics()\n",
    "foreground_importer.write_database()"
   ]
  },
  {
   "cell_type": "code",
   "execution_count": 9,
   "id": "296ddde0-5f43-4d52-8edd-b11bbc880065",
   "metadata": {},
   "outputs": [],
   "source": [
    "fu = {bd.get_activity(database=\"foreground\", name = \"Operationnal energy demand\"):1}"
   ]
  },
  {
   "cell_type": "code",
   "execution_count": 10,
   "id": "bf3deddb-2ed5-4a58-97a1-942af2224f0b",
   "metadata": {
    "tags": []
   },
   "outputs": [],
   "source": [
    "### it returns functional_unit, data_objects, and a mapping dictionary\n",
    "fu, objects, remapping_dicts = bd.prepare_lca_inputs(fu, method=('IPCC 2013', 'climate change', 'GWP 100a'))\n"
   ]
  },
  {
   "cell_type": "code",
   "execution_count": 11,
   "id": "4a58ddfc-c831-428a-a7b9-0e8ca6590a1a",
   "metadata": {},
   "outputs": [
    {
     "name": "stdout",
     "output_type": "stream",
     "text": [
      "biosphere3\n",
      "ei_3.8_cutoff\n",
      "foreground\n",
      "ipcc-2013cg.bd5af3f67229a1cc291b8ecb7f316fcf.zip\n"
     ]
    }
   ],
   "source": [
    "for obj in objects:\n",
    "    print(obj.metadata[\"name\"])"
   ]
  },
  {
   "cell_type": "code",
   "execution_count": 12,
   "id": "c970fb24-a07c-444d-910f-ab7deb86f856",
   "metadata": {},
   "outputs": [],
   "source": [
    "data, _ = objects[2].get_resource(\"foreground_technosphere_matrix.data\")\n",
    "indices, _ = objects[2].get_resource(\"foreground_technosphere_matrix.indices\")\n",
    "flip, _ = objects[2].get_resource(\"foreground_technosphere_matrix.flip\")"
   ]
  },
  {
   "cell_type": "code",
   "execution_count": 13,
   "id": "9c775866-ecbb-4d8f-bfa0-ff88d8058a8e",
   "metadata": {},
   "outputs": [
    {
     "data": {
      "text/plain": [
       "array([( 4826, 24000), ( 4874, 24000), ( 5204, 24001), ( 5204, 24003),\n",
       "       ( 5393, 23999), ( 5948, 23999), ( 7851, 24000), ( 9354, 24000),\n",
       "       (10083, 23997), (10138, 24000), (11731, 24001), (12206, 24003),\n",
       "       (14388, 24003), (16440, 23998), (17686, 24000), (18298, 23999),\n",
       "       (19886, 24000), (20138, 24003), (20408, 24000), (20516, 24000),\n",
       "       (20724, 23997), (20724, 23999), (20724, 24000), (21088, 24000),\n",
       "       (21807, 23998), (22924, 24000), (23468, 24000), (23704, 23998),\n",
       "       (23739, 24003), (23904, 23997), (23904, 23999), (23904, 24000),\n",
       "       (23948, 24000), (23948, 24003), (23993, 23993), (23993, 23996),\n",
       "       (23994, 23993), (23994, 23994), (23995, 23995), (23995, 23996),\n",
       "       (23996, 23996), (23997, 23994), (23997, 23997), (23997, 24002),\n",
       "       (23998, 23993), (23998, 23994), (23998, 23998), (23998, 24002),\n",
       "       (23999, 23999), (23999, 24002), (24000, 24000), (24000, 24002),\n",
       "       (24001, 23995), (24001, 24001), (24002, 23994), (24002, 24002),\n",
       "       (24003, 23995), (24003, 24003)],\n",
       "      dtype=[('row', '<i4'), ('col', '<i4')])"
      ]
     },
     "execution_count": 13,
     "metadata": {},
     "output_type": "execute_result"
    }
   ],
   "source": [
    "indices"
   ]
  },
  {
   "cell_type": "code",
   "execution_count": 16,
   "id": "675e097c-9844-4296-882e-730f05b95ee9",
   "metadata": {},
   "outputs": [],
   "source": [
    "unique_indices = set([a for b in indices for a in b])"
   ]
  },
  {
   "cell_type": "code",
   "execution_count": 40,
   "id": "0c7d9ef1-769e-47e5-813e-613119b6aa1c",
   "metadata": {},
   "outputs": [],
   "source": [
    "dict_act=dict.fromkeys(int(i) for i in unique_indices) #json accepts only int not int32\n",
    "for i in unique_indices:\n",
    "    dict_act[i]=bd.get_activity(i)['name']"
   ]
  },
  {
   "cell_type": "code",
   "execution_count": 41,
   "id": "ad7235f4-67f4-4812-bac3-a21838acd086",
   "metadata": {},
   "outputs": [
    {
     "data": {
      "text/plain": [
       "{4874: 'market for sodium chloride, powder',\n",
       " 9354: 'market for water, decarbonised',\n",
       " 22924: 'market for chlorine, liquid',\n",
       " 23948: 'market for wood ash mixture, pure',\n",
       " 23994: 'Grosshochstetten mix',\n",
       " 5393: 'market for transport, freight, lorry 7.5-16 metric ton, EURO3',\n",
       " 17686: 'market for NOx retained, by selective catalytic reduction',\n",
       " 23704: 'photovoltaic slanted-roof installation, 3kWp, multi-Si, panel, mounted, on roof',\n",
       " 10138: 'market for dust collector, electrostatic precipitator, for industrial use',\n",
       " 20516: 'furnace production, wood chips, with silo, 5000kW',\n",
       " 20138: 'stirling heat and power co-generation unit construction, 3kW electrical, wood pellet, future',\n",
       " 7851: 'market for municipal solid waste',\n",
       " 23468: 'market for ammonia, anhydrous, liquid',\n",
       " 12206: 'market for wood pellet, measured as dry mass',\n",
       " 19886: 'market for chemical, organic',\n",
       " 21807: 'market for tap water',\n",
       " 14388: 'storage production, 650 l mini CHP plant',\n",
       " 16440: 'market for wastewater, from residence',\n",
       " 20408: 'market for wastewater, average',\n",
       " 23993: 'Electricity',\n",
       " 23739: 'maintenance, stirling heat and power co-generation unit, 3kW electrical, wood pellet, future',\n",
       " 5948: 'market for wind turbine network connection, 2MW, onshore',\n",
       " 23997: 'electricity production, hydro, run-of-river',\n",
       " 23998: 'electricity production, photovoltaic, 3kWp slanted-roof installation, multi-Si, panel, mounted',\n",
       " 23999: 'electricity production, wind, 1-3MW turbine, onshore',\n",
       " 24000: 'heat and power co-generation, wood chips, 6667 kW, state-of-the-art 2014',\n",
       " 24001: 'operation, solar collector system, Cu flat plate collector, one-family house, for hot water',\n",
       " 23996: 'Operationnal energy demand',\n",
       " 24003: 'wood pellets, burned in stirling heat and power co-generation unit, 3kW electrical, future',\n",
       " 23995: 'Heat',\n",
       " 24002: 'public-funded mix',\n",
       " 11731: 'solar collector system installation, Cu flat plate collector, one-family house, hot water',\n",
       " 5204: 'market for electricity, low voltage',\n",
       " 4826: 'market for wood chips, wet, measured as dry mass',\n",
       " 21088: 'market for heat and power co-generation unit, organic Rankine cycle, 1000kW electrical',\n",
       " 23904: 'market for lubricating oil',\n",
       " 10083: 'hydropower plant construction, run-of-river',\n",
       " 20724: 'market for waste mineral oil',\n",
       " 18298: 'market for wind turbine, 2MW, onshore'}"
      ]
     },
     "execution_count": 41,
     "metadata": {},
     "output_type": "execute_result"
    }
   ],
   "source": [
    "dict_act"
   ]
  },
  {
   "cell_type": "code",
   "execution_count": 42,
   "id": "8c3fd439-4a96-4d96-9566-1d329a9e44fd",
   "metadata": {},
   "outputs": [],
   "source": [
    "import json\n",
    "\n",
    "with open(\"./data/inputs/dict_names_foreground.json\", \"w\") as outfile:\n",
    "    json.dump(dict_act, outfile)"
   ]
  },
  {
   "cell_type": "code",
   "execution_count": null,
   "id": "11bd4337-5ac6-489e-978f-52482e4267d5",
   "metadata": {},
   "outputs": [],
   "source": []
  }
 ],
 "metadata": {
  "kernelspec": {
   "display_name": "Python [conda env:bw25]",
   "language": "python",
   "name": "conda-env-bw25-py"
  },
  "language_info": {
   "codemirror_mode": {
    "name": "ipython",
    "version": 3
   },
   "file_extension": ".py",
   "mimetype": "text/x-python",
   "name": "python",
   "nbconvert_exporter": "python",
   "pygments_lexer": "ipython3",
   "version": "3.10.6"
  }
 },
 "nbformat": 4,
 "nbformat_minor": 5
}
