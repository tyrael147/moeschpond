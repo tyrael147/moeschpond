{
 "cells": [
  {
   "cell_type": "markdown",
   "id": "3e67c94d-ecdf-419a-8e36-25bad5043ded",
   "metadata": {},
   "source": [
    "# Data search"
   ]
  },
  {
   "cell_type": "markdown",
   "id": "1bd46885-0d1d-4f1d-be09-5856ec438d55",
   "metadata": {},
   "source": [
    "<div class=\"alert alert-block alert-info\">\n",
    "<b> purpose </b> = get ids from the activities that we will need in the foreground database\n",
    "    <div>"
   ]
  },
  {
   "cell_type": "markdown",
   "id": "d772adcd-b55c-45ea-9cb5-ce89c3a2fe72",
   "metadata": {},
   "source": [
    "for the foreground, we need the following activites :\n",
    "- wood pellets, burned in stirling heat and power co-generation unit, 3kW electrical, future\n",
    "- operation, solar collector system, Cu flat plate collector, one-family house, for hot water\n",
    "- electricity production, photovoltaic, 3kWp slanted-roof \n",
    "- electricity production, wind, 1-3MW turbine, onshore\n",
    "- electricity production, hydro, run-of-river\n",
    "- heat and power co-generation, wood chips, 6667 kW, state-of-the-art 2014"
   ]
  },
  {
   "cell_type": "code",
   "execution_count": 1,
   "id": "d04ecde6-e65d-41a9-9f12-ed07abbe168a",
   "metadata": {},
   "outputs": [],
   "source": [
    "import bw2data as bd\n",
    "import bw2calc as bc\n",
    "import bw2io as bi\n",
    "import bw_processing as bwp\n",
    "import numpy as np\n",
    "\n",
    "if 'ei38-teaching-25' not in bd.projects:\n",
    "    bi.restore_project_directory(\"/srv/data/projects/ecoinvent38-25.tar.gz\")\n",
    "    \n",
    "bd.projects.set_current('ei38-teaching-25')"
   ]
  },
  {
   "cell_type": "code",
   "execution_count": 2,
   "id": "0b94ac7a-81e0-4907-b1cb-00199073f5cb",
   "metadata": {},
   "outputs": [],
   "source": [
    "db = bd.Database(\"ei 3.8 cutoff\")"
   ]
  },
  {
   "cell_type": "markdown",
   "id": "e6fdda61-47a6-40a9-85d8-8767da70febc",
   "metadata": {
    "jp-MarkdownHeadingCollapsed": true,
    "tags": []
   },
   "source": [
    "## heating activites"
   ]
  },
  {
   "cell_type": "markdown",
   "id": "0c0a52eb-4f30-45d0-b705-8c3c6b2dd170",
   "metadata": {},
   "source": [
    "Basically we reach in the ecoinvent database the activity we want"
   ]
  },
  {
   "cell_type": "code",
   "execution_count": 5,
   "id": "d27aeaf0-335f-4548-a0f7-347decda0a2e",
   "metadata": {},
   "outputs": [],
   "source": [
    "database_name = \"ei 3.8 cutoff\"\n",
    "wood_pellet = bd.get_activity(\n",
    "    database=database_name, \n",
    "    name='wood pellets, burned in stirling heat and power co-generation unit, 3kW electrical, future', \n",
    "    unit = \"megajoule\"\n",
    "    )"
   ]
  },
  {
   "cell_type": "markdown",
   "id": "8824263f-650e-4674-8fdd-f7ca6647b982",
   "metadata": {},
   "source": [
    "Thus, we have the id by doing this"
   ]
  },
  {
   "cell_type": "code",
   "execution_count": 6,
   "id": "354a93e5-6387-41b8-9b6b-868f57cd6a20",
   "metadata": {},
   "outputs": [
    {
     "data": {
      "text/plain": [
       "19364"
      ]
     },
     "execution_count": 6,
     "metadata": {},
     "output_type": "execute_result"
    }
   ],
   "source": [
    "wood_pellet.id"
   ]
  },
  {
   "cell_type": "code",
   "execution_count": 9,
   "id": "ea46ee39-eb85-4103-b212-2f95e5e9c683",
   "metadata": {},
   "outputs": [
    {
     "data": {
      "text/plain": [
       "['operation, solar collector system, Cu flat plate collector, one-family house, for hot water' (megajoule, RoW, None),\n",
       " 'operation, solar collector system, Cu flat plate collector, one-family house, for hot water' (megajoule, CH, None),\n",
       " 'operation, solar collector system, Cu flat plate collector, one-family house, for hot water' (megajoule, CA-QC, None)]"
      ]
     },
     "execution_count": 9,
     "metadata": {},
     "output_type": "execute_result"
    }
   ],
   "source": [
    "db.search('operation, solar collector system, Cu flat plate collector, one-family house, for hot water')"
   ]
  },
  {
   "cell_type": "code",
   "execution_count": 10,
   "id": "2a8e948a-512b-4eba-8951-c70e0f2f625e",
   "metadata": {},
   "outputs": [],
   "source": [
    "solar_panels = bd.get_activity(\n",
    "    database=database_name, \n",
    "    name='operation, solar collector system, Cu flat plate collector, one-family house, for hot water', \n",
    "    location='CH',\n",
    "    )"
   ]
  },
  {
   "cell_type": "code",
   "execution_count": 11,
   "id": "c0060aba-f9f0-4fb4-9a46-0e1321b14b0a",
   "metadata": {},
   "outputs": [
    {
     "data": {
      "text/plain": [
       "8302"
      ]
     },
     "execution_count": 11,
     "metadata": {},
     "output_type": "execute_result"
    }
   ],
   "source": [
    "solar_panels.id"
   ]
  },
  {
   "cell_type": "markdown",
   "id": "4d9aa0e8-f855-4140-9187-df3a4037e455",
   "metadata": {
    "jp-MarkdownHeadingCollapsed": true,
    "tags": []
   },
   "source": [
    "## electricity activities"
   ]
  },
  {
   "cell_type": "markdown",
   "id": "a046b62a-5a00-4252-bbf5-7d3273e863b0",
   "metadata": {},
   "source": [
    "I can get the code directly from Activity Browser which is more practicale"
   ]
  },
  {
   "cell_type": "code",
   "execution_count": 52,
   "id": "e9be6e4a-301b-44bf-82d2-2956411c7925",
   "metadata": {},
   "outputs": [
    {
     "data": {
      "text/plain": [
       "18352"
      ]
     },
     "execution_count": 52,
     "metadata": {},
     "output_type": "execute_result"
    }
   ],
   "source": [
    "PV=db.get('eefb3fb50de3c1b579b04b113644f681')\n",
    "PV.id"
   ]
  },
  {
   "cell_type": "code",
   "execution_count": 53,
   "id": "4c8ab9a9-28d7-478c-bcac-a51f05c7de6a",
   "metadata": {},
   "outputs": [
    {
     "data": {
      "text/plain": [
       "10319"
      ]
     },
     "execution_count": 53,
     "metadata": {},
     "output_type": "execute_result"
    }
   ],
   "source": [
    "Wind=db.get('db261be24b09c401a5a88b5af3243f65')\n",
    "Wind.id"
   ]
  },
  {
   "cell_type": "code",
   "execution_count": 54,
   "id": "b41f5510-83c7-4b49-bda4-741e0497dc51",
   "metadata": {},
   "outputs": [
    {
     "data": {
      "text/plain": [
       "6599"
      ]
     },
     "execution_count": 54,
     "metadata": {},
     "output_type": "execute_result"
    }
   ],
   "source": [
    "Hydro=db.get('ef7d96b8b3b9eabc22bc37d7368e5385')\n",
    "Hydro.id"
   ]
  },
  {
   "cell_type": "code",
   "execution_count": 55,
   "id": "957f4edc-8c20-483e-aeb0-da4f431ba8b2",
   "metadata": {},
   "outputs": [
    {
     "data": {
      "text/plain": [
       "20079"
      ]
     },
     "execution_count": 55,
     "metadata": {},
     "output_type": "execute_result"
    }
   ],
   "source": [
    "Biomass=db.get('bc1a68a31dbcaf326cefb48b71b2982a')\n",
    "Biomass.id"
   ]
  },
  {
   "cell_type": "markdown",
   "id": "cbd5f6dc-9f9e-4181-b015-87762b5f1847",
   "metadata": {
    "jp-MarkdownHeadingCollapsed": true,
    "tags": []
   },
   "source": [
    "## Export id"
   ]
  },
  {
   "cell_type": "code",
   "execution_count": 59,
   "id": "99e7265b-0379-4b63-be2b-86c6ac401c86",
   "metadata": {},
   "outputs": [
    {
     "data": {
      "text/plain": [
       "'wood pellets, burned in stirling heat and power co-generation unit, 3kW electrical, future'"
      ]
     },
     "execution_count": 59,
     "metadata": {},
     "output_type": "execute_result"
    }
   ],
   "source": [
    "wood_pellet['name']"
   ]
  },
  {
   "cell_type": "code",
   "execution_count": 62,
   "id": "523a8858-e141-4668-940e-69abf32007ba",
   "metadata": {},
   "outputs": [],
   "source": [
    "dict_export={\n",
    "    wood_pellet['name']:wood_pellet.id,\n",
    "    solar_panels['name']:solar_panels.id,\n",
    "    PV['name']:PV.id,\n",
    "    Wind['name']:Wind.id,\n",
    "    Hydro['name']:Hydro.id,\n",
    "    Biomass['name']:Biomass.id\n",
    "}"
   ]
  },
  {
   "cell_type": "code",
   "execution_count": 63,
   "id": "03bf8724-5b69-4a1c-b4d5-d5ab15ee1554",
   "metadata": {},
   "outputs": [],
   "source": [
    "import json\n",
    "\n",
    "with open(\"./data/inputs/dict_id.json\", \"w\") as outfile:\n",
    "    json.dump(dict_export, outfile)"
   ]
  },
  {
   "cell_type": "markdown",
   "id": "6ee110a1-8fcc-47f8-b230-2f5c5f7720b7",
   "metadata": {
    "tags": []
   },
   "source": [
    "## identify the activity name from ids of the foreground"
   ]
  },
  {
   "cell_type": "code",
   "execution_count": 68,
   "id": "bb588f2e-6705-445c-a0e4-93c503277679",
   "metadata": {
    "tags": []
   },
   "outputs": [
    {
     "name": "stdout",
     "output_type": "stream",
     "text": [
      "Extracted 1 worksheets in 0.00 seconds\n",
      "Applying strategy: csv_restore_tuples\n",
      "Applying strategy: csv_restore_booleans\n",
      "Applying strategy: csv_numerize\n",
      "Applying strategy: csv_drop_unknown\n",
      "Applying strategy: csv_add_missing_exchanges_section\n",
      "Applying strategy: normalize_units\n",
      "Applying strategy: normalize_biosphere_categories\n",
      "Applying strategy: normalize_biosphere_names\n",
      "Applying strategy: strip_biosphere_exc_locations\n",
      "Applying strategy: set_code_by_activity_hash\n",
      "Applying strategy: link_iterable_by_fields\n",
      "Applying strategy: assign_only_product_as_production\n",
      "Applying strategy: link_technosphere_by_activity_hash\n",
      "Applying strategy: drop_falsey_uncertainty_fields_but_keep_zeros\n",
      "Applying strategy: convert_uncertainty_types_to_integers\n",
      "Applying strategy: convert_activity_parameters_to_list\n",
      "Applied 16 strategies in 7.03 seconds\n",
      "Applying strategy: link_iterable_by_fields\n",
      "Applying strategy: link_iterable_by_fields\n",
      "5 datasets\n",
      "18 exchanges\n",
      "0 unlinked exchanges\n",
      "  \n",
      "Warning: No valid output stream.\n",
      "Title: Writing activities to SQLite3 database:\n",
      "  Started: 10/27/2022 16:17:09\n",
      "  Finished: 10/27/2022 16:17:09\n",
      "  Total time elapsed: 00:00:00\n",
      "  CPU %: 0.00\n",
      "  Memory %: 0.32\n",
      "Created database: energy_moeschberg\n"
     ]
    }
   ],
   "source": [
    "# if \"foreground\" in bd.databases:\n",
    "#     del bd.databases[\"foreground\"]\n",
    "    \n",
    "foreground_importer = bi.ExcelImporter(\"./data/inputs/lci_moeschberg.xlsx\")\n",
    "# for act in foreground_importer.data:\n",
    "#     # print(act[\"name\"])\n",
    "#     for exc in act[\"exchanges\"]:\n",
    "#         if \"classifications\" in exc:\n",
    "#             exc.pop(\"classifications\")\n",
    "#         if \"properties\" in exc:\n",
    "#             exc.pop(\"properties\")   \n",
    "foreground_importer.apply_strategies()\n",
    "foreground_importer.match_database(\"biosphere3\", fields=(\"name\", \"unit\", \"categories\"))\n",
    "foreground_importer.match_database(\"ei 3.8 cutoff\", fields=(\"name\", \"unit\", \"location\"))\n",
    "foreground_importer.statistics()\n",
    "foreground_importer.write_database()"
   ]
  },
  {
   "cell_type": "code",
   "execution_count": 3,
   "id": "296ddde0-5f43-4d52-8edd-b11bbc880065",
   "metadata": {},
   "outputs": [],
   "source": [
    "fu = {bd.get_activity(database=\"energy_moeschberg\", name = \"energy demand, operational, Hotel Moeschberg\"):1}"
   ]
  },
  {
   "cell_type": "code",
   "execution_count": 4,
   "id": "bf3deddb-2ed5-4a58-97a1-942af2224f0b",
   "metadata": {
    "tags": []
   },
   "outputs": [],
   "source": [
    "### it returns functional_unit, data_objects, and a mapping dictionary\n",
    "fu, objects, remapping_dicts = bd.prepare_lca_inputs(fu, method=('IPCC 2013', 'climate change', 'GWP 100a'))\n"
   ]
  },
  {
   "cell_type": "code",
   "execution_count": 5,
   "id": "c970fb24-a07c-444d-910f-ab7deb86f856",
   "metadata": {},
   "outputs": [],
   "source": [
    "data, _ = objects[2].get_resource(\"energy_moeschberg_technosphere_matrix.data\")\n",
    "indices, _ = objects[2].get_resource(\"energy_moeschberg_technosphere_matrix.indices\")\n",
    "flip, _ = objects[2].get_resource(\"energy_moeschberg_technosphere_matrix.flip\")\n",
    "unique_indices = set([a for b in indices for a in b])\n",
    "mapping_act=dict.fromkeys(int(i) for i in unique_indices) #json accepts only int not int32\n",
    "for i in unique_indices:\n",
    "\tmapping_act[i]=bd.get_activity(i)['name']\n",
    "rows = [tup[0] for tup in indices]\n",
    "cols = [tup[1] for tup in indices]\n"
   ]
  },
  {
   "cell_type": "code",
   "execution_count": 6,
   "id": "0fe2019a-317b-4a39-8467-9a072b5f5789",
   "metadata": {},
   "outputs": [
    {
     "data": {
      "text/html": [
       "<div>\n",
       "<style scoped>\n",
       "    .dataframe tbody tr th:only-of-type {\n",
       "        vertical-align: middle;\n",
       "    }\n",
       "\n",
       "    .dataframe tbody tr th {\n",
       "        vertical-align: top;\n",
       "    }\n",
       "\n",
       "    .dataframe thead th {\n",
       "        text-align: right;\n",
       "    }\n",
       "</style>\n",
       "<table border=\"1\" class=\"dataframe\">\n",
       "  <thead>\n",
       "    <tr style=\"text-align: right;\">\n",
       "      <th></th>\n",
       "      <th>row</th>\n",
       "      <th>col</th>\n",
       "      <th>from</th>\n",
       "      <th>to</th>\n",
       "      <th>data</th>\n",
       "    </tr>\n",
       "  </thead>\n",
       "  <tbody>\n",
       "    <tr>\n",
       "      <th>0</th>\n",
       "      <td>6599</td>\n",
       "      <td>23994</td>\n",
       "      <td>electricity production, hydro, run-of-river</td>\n",
       "      <td>electricity supply, Energie Grosshoechstetten ...</td>\n",
       "      <td>0.907000</td>\n",
       "    </tr>\n",
       "    <tr>\n",
       "      <th>1</th>\n",
       "      <td>6599</td>\n",
       "      <td>23995</td>\n",
       "      <td>electricity production, hydro, run-of-river</td>\n",
       "      <td>electricity, subsidised, 2021</td>\n",
       "      <td>0.320000</td>\n",
       "    </tr>\n",
       "    <tr>\n",
       "      <th>2</th>\n",
       "      <td>8302</td>\n",
       "      <td>23996</td>\n",
       "      <td>operation, solar collector system, Cu flat pla...</td>\n",
       "      <td>heat supply, Hotel Moeschberg, 2021</td>\n",
       "      <td>0.004668</td>\n",
       "    </tr>\n",
       "    <tr>\n",
       "      <th>3</th>\n",
       "      <td>10319</td>\n",
       "      <td>23995</td>\n",
       "      <td>electricity production, wind, 1-3MW turbine, o...</td>\n",
       "      <td>electricity, subsidised, 2021</td>\n",
       "      <td>0.020000</td>\n",
       "    </tr>\n",
       "    <tr>\n",
       "      <th>4</th>\n",
       "      <td>18352</td>\n",
       "      <td>23993</td>\n",
       "      <td>electricity production, photovoltaic, 3kWp sla...</td>\n",
       "      <td>electricity supply, Hotel Moeschberg, 2021</td>\n",
       "      <td>0.440600</td>\n",
       "    </tr>\n",
       "    <tr>\n",
       "      <th>5</th>\n",
       "      <td>18352</td>\n",
       "      <td>23994</td>\n",
       "      <td>electricity production, photovoltaic, 3kWp sla...</td>\n",
       "      <td>electricity supply, Energie Grosshoechstetten ...</td>\n",
       "      <td>0.026000</td>\n",
       "    </tr>\n",
       "    <tr>\n",
       "      <th>6</th>\n",
       "      <td>18352</td>\n",
       "      <td>23995</td>\n",
       "      <td>electricity production, photovoltaic, 3kWp sla...</td>\n",
       "      <td>electricity, subsidised, 2021</td>\n",
       "      <td>0.460000</td>\n",
       "    </tr>\n",
       "    <tr>\n",
       "      <th>7</th>\n",
       "      <td>20079</td>\n",
       "      <td>23995</td>\n",
       "      <td>heat and power co-generation, wood chips, 6667...</td>\n",
       "      <td>electricity, subsidised, 2021</td>\n",
       "      <td>0.200000</td>\n",
       "    </tr>\n",
       "    <tr>\n",
       "      <th>8</th>\n",
       "      <td>23758</td>\n",
       "      <td>23996</td>\n",
       "      <td>heat production, wood pellet, at furnace 25kW,...</td>\n",
       "      <td>heat supply, Hotel Moeschberg, 2021</td>\n",
       "      <td>0.995300</td>\n",
       "    </tr>\n",
       "    <tr>\n",
       "      <th>9</th>\n",
       "      <td>23993</td>\n",
       "      <td>23993</td>\n",
       "      <td>electricity supply, Hotel Moeschberg, 2021</td>\n",
       "      <td>electricity supply, Hotel Moeschberg, 2021</td>\n",
       "      <td>1.000000</td>\n",
       "    </tr>\n",
       "    <tr>\n",
       "      <th>10</th>\n",
       "      <td>23993</td>\n",
       "      <td>23997</td>\n",
       "      <td>electricity supply, Hotel Moeschberg, 2021</td>\n",
       "      <td>energy demand, operational, Hotel Moeschberg</td>\n",
       "      <td>32179.000000</td>\n",
       "    </tr>\n",
       "    <tr>\n",
       "      <th>11</th>\n",
       "      <td>23994</td>\n",
       "      <td>23993</td>\n",
       "      <td>electricity supply, Energie Grosshoechstetten ...</td>\n",
       "      <td>electricity supply, Hotel Moeschberg, 2021</td>\n",
       "      <td>0.559400</td>\n",
       "    </tr>\n",
       "    <tr>\n",
       "      <th>12</th>\n",
       "      <td>23994</td>\n",
       "      <td>23994</td>\n",
       "      <td>electricity supply, Energie Grosshoechstetten ...</td>\n",
       "      <td>electricity supply, Energie Grosshoechstetten ...</td>\n",
       "      <td>1.000000</td>\n",
       "    </tr>\n",
       "    <tr>\n",
       "      <th>13</th>\n",
       "      <td>23995</td>\n",
       "      <td>23994</td>\n",
       "      <td>electricity, subsidised, 2021</td>\n",
       "      <td>electricity supply, Energie Grosshoechstetten ...</td>\n",
       "      <td>0.067000</td>\n",
       "    </tr>\n",
       "    <tr>\n",
       "      <th>14</th>\n",
       "      <td>23995</td>\n",
       "      <td>23995</td>\n",
       "      <td>electricity, subsidised, 2021</td>\n",
       "      <td>electricity, subsidised, 2021</td>\n",
       "      <td>1.000000</td>\n",
       "    </tr>\n",
       "    <tr>\n",
       "      <th>15</th>\n",
       "      <td>23996</td>\n",
       "      <td>23996</td>\n",
       "      <td>heat supply, Hotel Moeschberg, 2021</td>\n",
       "      <td>heat supply, Hotel Moeschberg, 2021</td>\n",
       "      <td>1.000000</td>\n",
       "    </tr>\n",
       "    <tr>\n",
       "      <th>16</th>\n",
       "      <td>23996</td>\n",
       "      <td>23997</td>\n",
       "      <td>heat supply, Hotel Moeschberg, 2021</td>\n",
       "      <td>energy demand, operational, Hotel Moeschberg</td>\n",
       "      <td>655489.000000</td>\n",
       "    </tr>\n",
       "    <tr>\n",
       "      <th>17</th>\n",
       "      <td>23997</td>\n",
       "      <td>23997</td>\n",
       "      <td>energy demand, operational, Hotel Moeschberg</td>\n",
       "      <td>energy demand, operational, Hotel Moeschberg</td>\n",
       "      <td>1.000000</td>\n",
       "    </tr>\n",
       "  </tbody>\n",
       "</table>\n",
       "</div>"
      ],
      "text/plain": [
       "      row    col                                               from  \\\n",
       "0    6599  23994        electricity production, hydro, run-of-river   \n",
       "1    6599  23995        electricity production, hydro, run-of-river   \n",
       "2    8302  23996  operation, solar collector system, Cu flat pla...   \n",
       "3   10319  23995  electricity production, wind, 1-3MW turbine, o...   \n",
       "4   18352  23993  electricity production, photovoltaic, 3kWp sla...   \n",
       "5   18352  23994  electricity production, photovoltaic, 3kWp sla...   \n",
       "6   18352  23995  electricity production, photovoltaic, 3kWp sla...   \n",
       "7   20079  23995  heat and power co-generation, wood chips, 6667...   \n",
       "8   23758  23996  heat production, wood pellet, at furnace 25kW,...   \n",
       "9   23993  23993         electricity supply, Hotel Moeschberg, 2021   \n",
       "10  23993  23997         electricity supply, Hotel Moeschberg, 2021   \n",
       "11  23994  23993  electricity supply, Energie Grosshoechstetten ...   \n",
       "12  23994  23994  electricity supply, Energie Grosshoechstetten ...   \n",
       "13  23995  23994                      electricity, subsidised, 2021   \n",
       "14  23995  23995                      electricity, subsidised, 2021   \n",
       "15  23996  23996                heat supply, Hotel Moeschberg, 2021   \n",
       "16  23996  23997                heat supply, Hotel Moeschberg, 2021   \n",
       "17  23997  23997       energy demand, operational, Hotel Moeschberg   \n",
       "\n",
       "                                                   to           data  \n",
       "0   electricity supply, Energie Grosshoechstetten ...       0.907000  \n",
       "1                       electricity, subsidised, 2021       0.320000  \n",
       "2                 heat supply, Hotel Moeschberg, 2021       0.004668  \n",
       "3                       electricity, subsidised, 2021       0.020000  \n",
       "4          electricity supply, Hotel Moeschberg, 2021       0.440600  \n",
       "5   electricity supply, Energie Grosshoechstetten ...       0.026000  \n",
       "6                       electricity, subsidised, 2021       0.460000  \n",
       "7                       electricity, subsidised, 2021       0.200000  \n",
       "8                 heat supply, Hotel Moeschberg, 2021       0.995300  \n",
       "9          electricity supply, Hotel Moeschberg, 2021       1.000000  \n",
       "10       energy demand, operational, Hotel Moeschberg   32179.000000  \n",
       "11         electricity supply, Hotel Moeschberg, 2021       0.559400  \n",
       "12  electricity supply, Energie Grosshoechstetten ...       1.000000  \n",
       "13  electricity supply, Energie Grosshoechstetten ...       0.067000  \n",
       "14                      electricity, subsidised, 2021       1.000000  \n",
       "15                heat supply, Hotel Moeschberg, 2021       1.000000  \n",
       "16       energy demand, operational, Hotel Moeschberg  655489.000000  \n",
       "17       energy demand, operational, Hotel Moeschberg       1.000000  "
      ]
     },
     "execution_count": 6,
     "metadata": {},
     "output_type": "execute_result"
    }
   ],
   "source": [
    "import pandas as pd\n",
    "matrix_raw = pd.DataFrame({\"row\":rows,\n",
    "                       \t\"col\":cols,\n",
    "                       \t\"from\":[mapping_act[idx] for idx in rows],\n",
    "                       \t\"to\":[mapping_act[idx] for idx in cols],\n",
    "                       \t\"data\":data\n",
    "                      \t})\n",
    "matrix = matrix_raw.pivot(index='row',columns='col', values='data').fillna(0)\n",
    "# mapping\n",
    "matrix_raw\n"
   ]
  },
  {
   "cell_type": "code",
   "execution_count": 58,
   "id": "f79713a8-0e7e-4ae6-9e3d-f96b00973656",
   "metadata": {},
   "outputs": [],
   "source": [
    "new_arrays = {\n",
    "\t(18352,23993): [0.4406,1], #PV becomes dominant\n",
    "\t(23994,23993): [0.5594,0],\n",
    "\t(23758,23996): [0.995300,0], #wood pellets are replaced by solar thermal\n",
    "\t(8302,23996): [0.004668,1],\n",
    "        \t}"
   ]
  },
  {
   "cell_type": "code",
   "execution_count": 7,
   "id": "9c775866-ecbb-4d8f-bfa0-ff88d8058a8e",
   "metadata": {},
   "outputs": [
    {
     "data": {
      "text/plain": [
       "array([( 6599, 23994), ( 6599, 23995), ( 8302, 23996), (10319, 23995),\n",
       "       (18352, 23993), (18352, 23994), (18352, 23995), (20079, 23995),\n",
       "       (23758, 23996), (23993, 23993), (23993, 23997), (23994, 23993),\n",
       "       (23994, 23994), (23995, 23994), (23995, 23995), (23996, 23996),\n",
       "       (23996, 23997), (23997, 23997)],\n",
       "      dtype=[('row', '<i4'), ('col', '<i4')])"
      ]
     },
     "execution_count": 7,
     "metadata": {},
     "output_type": "execute_result"
    }
   ],
   "source": [
    "indices"
   ]
  },
  {
   "cell_type": "code",
   "execution_count": 8,
   "id": "675e097c-9844-4296-882e-730f05b95ee9",
   "metadata": {},
   "outputs": [],
   "source": [
    "unique_indices = set([a for b in indices for a in b])"
   ]
  },
  {
   "cell_type": "code",
   "execution_count": 9,
   "id": "0c7d9ef1-769e-47e5-813e-613119b6aa1c",
   "metadata": {},
   "outputs": [],
   "source": [
    "# dict_act=dict.fromkeys(int(i) for i in unique_indices) #json accepts only int not int32\n",
    "# for i in unique_indices:\n",
    "#     dict_act[i]=bd.get_activity(i)['name']"
   ]
  },
  {
   "cell_type": "code",
   "execution_count": 15,
   "id": "b0ed3448-79e4-4f7a-ba68-e4f17563ac88",
   "metadata": {},
   "outputs": [
    {
     "data": {
      "text/plain": [
       "'electricity, high voltage'"
      ]
     },
     "execution_count": 15,
     "metadata": {},
     "output_type": "execute_result"
    }
   ],
   "source": [
    "bd.get_activity(6599)['reference product']"
   ]
  },
  {
   "cell_type": "code",
   "execution_count": 31,
   "id": "2153db4a-1ddc-4039-ac35-7ac7d64409cd",
   "metadata": {},
   "outputs": [
    {
     "data": {
      "text/html": [
       "<div>\n",
       "<style scoped>\n",
       "    .dataframe tbody tr th:only-of-type {\n",
       "        vertical-align: middle;\n",
       "    }\n",
       "\n",
       "    .dataframe tbody tr th {\n",
       "        vertical-align: top;\n",
       "    }\n",
       "\n",
       "    .dataframe thead th {\n",
       "        text-align: right;\n",
       "    }\n",
       "</style>\n",
       "<table border=\"1\" class=\"dataframe\">\n",
       "  <thead>\n",
       "    <tr style=\"text-align: right;\">\n",
       "      <th></th>\n",
       "      <th>hello</th>\n",
       "    </tr>\n",
       "  </thead>\n",
       "  <tbody>\n",
       "    <tr>\n",
       "      <th>0</th>\n",
       "      <td>1</td>\n",
       "    </tr>\n",
       "    <tr>\n",
       "      <th>1</th>\n",
       "      <td>2</td>\n",
       "    </tr>\n",
       "    <tr>\n",
       "      <th>2</th>\n",
       "      <td>3</td>\n",
       "    </tr>\n",
       "  </tbody>\n",
       "</table>\n",
       "</div>"
      ],
      "text/plain": [
       "   hello\n",
       "0      1\n",
       "1      2\n",
       "2      3"
      ]
     },
     "execution_count": 31,
     "metadata": {},
     "output_type": "execute_result"
    }
   ],
   "source": [
    "a=pd.DataFrame({'hello':[1,2,3]})\n",
    "a"
   ]
  },
  {
   "cell_type": "code",
   "execution_count": 33,
   "id": "5319ae5b-98e8-4ee7-a3f6-3257525ac0c0",
   "metadata": {},
   "outputs": [
    {
     "data": {
      "text/plain": [
       "2"
      ]
     },
     "execution_count": 33,
     "metadata": {},
     "output_type": "execute_result"
    }
   ],
   "source": [
    "a['hello'][1]"
   ]
  },
  {
   "cell_type": "code",
   "execution_count": 34,
   "id": "0141d46b-ca8f-4993-ac7e-89bd7633fc37",
   "metadata": {},
   "outputs": [],
   "source": [
    "df = pd.DataFrame(columns=['id','name','location','reference product'],index=np.arange(len(unique_indices)))\n",
    "n=0\n",
    "for i in unique_indices: \n",
    "    df['id'][n]=(i)\n",
    "    df['name'][n]=(bd.get_activity(i)['name'])\n",
    "    df['location'][n]=(bd.get_activity(i)['location'])\n",
    "    df['reference product'][n]=(bd.get_activity(i)['reference product'])\n",
    "    n += 1"
   ]
  },
  {
   "cell_type": "code",
   "execution_count": 35,
   "id": "a0c3b38e-1be0-4e46-aef4-aa71c1527bde",
   "metadata": {},
   "outputs": [
    {
     "data": {
      "text/html": [
       "<div>\n",
       "<style scoped>\n",
       "    .dataframe tbody tr th:only-of-type {\n",
       "        vertical-align: middle;\n",
       "    }\n",
       "\n",
       "    .dataframe tbody tr th {\n",
       "        vertical-align: top;\n",
       "    }\n",
       "\n",
       "    .dataframe thead th {\n",
       "        text-align: right;\n",
       "    }\n",
       "</style>\n",
       "<table border=\"1\" class=\"dataframe\">\n",
       "  <thead>\n",
       "    <tr style=\"text-align: right;\">\n",
       "      <th></th>\n",
       "      <th>id</th>\n",
       "      <th>name</th>\n",
       "      <th>location</th>\n",
       "      <th>reference product</th>\n",
       "    </tr>\n",
       "  </thead>\n",
       "  <tbody>\n",
       "    <tr>\n",
       "      <th>0</th>\n",
       "      <td>6599</td>\n",
       "      <td>electricity production, hydro, run-of-river</td>\n",
       "      <td>CH</td>\n",
       "      <td>electricity, high voltage</td>\n",
       "    </tr>\n",
       "    <tr>\n",
       "      <th>1</th>\n",
       "      <td>8302</td>\n",
       "      <td>operation, solar collector system, Cu flat pla...</td>\n",
       "      <td>CH</td>\n",
       "      <td>heat, central or small-scale, other than natur...</td>\n",
       "    </tr>\n",
       "    <tr>\n",
       "      <th>2</th>\n",
       "      <td>10319</td>\n",
       "      <td>electricity production, wind, 1-3MW turbine, o...</td>\n",
       "      <td>CH</td>\n",
       "      <td>electricity, high voltage</td>\n",
       "    </tr>\n",
       "    <tr>\n",
       "      <th>3</th>\n",
       "      <td>18352</td>\n",
       "      <td>electricity production, photovoltaic, 3kWp sla...</td>\n",
       "      <td>CH</td>\n",
       "      <td>electricity, low voltage</td>\n",
       "    </tr>\n",
       "    <tr>\n",
       "      <th>4</th>\n",
       "      <td>20079</td>\n",
       "      <td>heat and power co-generation, wood chips, 6667...</td>\n",
       "      <td>CH</td>\n",
       "      <td>electricity, high voltage</td>\n",
       "    </tr>\n",
       "    <tr>\n",
       "      <th>5</th>\n",
       "      <td>23758</td>\n",
       "      <td>heat production, wood pellet, at furnace 25kW,...</td>\n",
       "      <td>CH</td>\n",
       "      <td>heat, central or small-scale, other than natur...</td>\n",
       "    </tr>\n",
       "    <tr>\n",
       "      <th>6</th>\n",
       "      <td>23993</td>\n",
       "      <td>electricity supply, Hotel Moeschberg, 2021</td>\n",
       "      <td>CH</td>\n",
       "      <td>electricity, low voltage</td>\n",
       "    </tr>\n",
       "    <tr>\n",
       "      <th>7</th>\n",
       "      <td>23994</td>\n",
       "      <td>electricity supply, Energie Grosshoechstetten ...</td>\n",
       "      <td>CH</td>\n",
       "      <td>electricity, low voltage</td>\n",
       "    </tr>\n",
       "    <tr>\n",
       "      <th>8</th>\n",
       "      <td>23995</td>\n",
       "      <td>electricity, subsidised, 2021</td>\n",
       "      <td>CH</td>\n",
       "      <td>electricity, low voltage</td>\n",
       "    </tr>\n",
       "    <tr>\n",
       "      <th>9</th>\n",
       "      <td>23996</td>\n",
       "      <td>heat supply, Hotel Moeschberg, 2021</td>\n",
       "      <td>CH</td>\n",
       "      <td>heat, Hotel Moeschberg</td>\n",
       "    </tr>\n",
       "    <tr>\n",
       "      <th>10</th>\n",
       "      <td>23997</td>\n",
       "      <td>energy demand, operational, Hotel Moeschberg</td>\n",
       "      <td>CH</td>\n",
       "      <td>energy demand, operational, Hotel Moeschberg</td>\n",
       "    </tr>\n",
       "  </tbody>\n",
       "</table>\n",
       "</div>"
      ],
      "text/plain": [
       "       id                                               name location  \\\n",
       "0    6599        electricity production, hydro, run-of-river       CH   \n",
       "1    8302  operation, solar collector system, Cu flat pla...       CH   \n",
       "2   10319  electricity production, wind, 1-3MW turbine, o...       CH   \n",
       "3   18352  electricity production, photovoltaic, 3kWp sla...       CH   \n",
       "4   20079  heat and power co-generation, wood chips, 6667...       CH   \n",
       "5   23758  heat production, wood pellet, at furnace 25kW,...       CH   \n",
       "6   23993         electricity supply, Hotel Moeschberg, 2021       CH   \n",
       "7   23994  electricity supply, Energie Grosshoechstetten ...       CH   \n",
       "8   23995                      electricity, subsidised, 2021       CH   \n",
       "9   23996                heat supply, Hotel Moeschberg, 2021       CH   \n",
       "10  23997       energy demand, operational, Hotel Moeschberg       CH   \n",
       "\n",
       "                                    reference product  \n",
       "0                           electricity, high voltage  \n",
       "1   heat, central or small-scale, other than natur...  \n",
       "2                           electricity, high voltage  \n",
       "3                            electricity, low voltage  \n",
       "4                           electricity, high voltage  \n",
       "5   heat, central or small-scale, other than natur...  \n",
       "6                            electricity, low voltage  \n",
       "7                            electricity, low voltage  \n",
       "8                            electricity, low voltage  \n",
       "9                              heat, Hotel Moeschberg  \n",
       "10       energy demand, operational, Hotel Moeschberg  "
      ]
     },
     "execution_count": 35,
     "metadata": {},
     "output_type": "execute_result"
    }
   ],
   "source": [
    "df"
   ]
  },
  {
   "cell_type": "code",
   "execution_count": 38,
   "id": "6341c9dc-a6f7-4147-9dbc-e5499dd16d40",
   "metadata": {},
   "outputs": [
    {
     "ename": "MultipleResults",
     "evalue": "Found 4 results for the given search",
     "output_type": "error",
     "traceback": [
      "\u001b[0;31m---------------------------------------------------------------------------\u001b[0m",
      "\u001b[0;31mMultipleResults\u001b[0m                           Traceback (most recent call last)",
      "Cell \u001b[0;32mIn [38], line 1\u001b[0m\n\u001b[0;32m----> 1\u001b[0m \u001b[43mbd\u001b[49m\u001b[38;5;241;43m.\u001b[39;49m\u001b[43mget_activity\u001b[49m\u001b[43m(\u001b[49m\u001b[43mproduct\u001b[49m\u001b[38;5;241;43m=\u001b[39;49m\u001b[38;5;124;43m'\u001b[39;49m\u001b[38;5;124;43mlubricating oil\u001b[39;49m\u001b[38;5;124;43m'\u001b[39;49m\u001b[43m)\u001b[49m\n",
      "File \u001b[0;32m/opt/tljh/user/envs/bw25/lib/python3.10/site-packages/bw2data/utils.py:468\u001b[0m, in \u001b[0;36mget_activity\u001b[0;34m(key, **kwargs)\u001b[0m\n\u001b[1;32m    466\u001b[0m \u001b[38;5;28;01melif\u001b[39;00m \u001b[38;5;28misinstance\u001b[39m(key, numbers\u001b[38;5;241m.\u001b[39mIntegral):\n\u001b[1;32m    467\u001b[0m     kwargs[\u001b[38;5;124m\"\u001b[39m\u001b[38;5;124mid\u001b[39m\u001b[38;5;124m\"\u001b[39m] \u001b[38;5;241m=\u001b[39m key\n\u001b[0;32m--> 468\u001b[0m \u001b[38;5;28;01mreturn\u001b[39;00m \u001b[43mget_node\u001b[49m\u001b[43m(\u001b[49m\u001b[38;5;241;43m*\u001b[39;49m\u001b[38;5;241;43m*\u001b[39;49m\u001b[43mkwargs\u001b[49m\u001b[43m)\u001b[49m\n",
      "File \u001b[0;32m/opt/tljh/user/envs/bw25/lib/python3.10/site-packages/bw2data/utils.py:446\u001b[0m, in \u001b[0;36mget_node\u001b[0;34m(**kwargs)\u001b[0m\n\u001b[1;32m    436\u001b[0m     candidates \u001b[38;5;241m=\u001b[39m [\n\u001b[1;32m    437\u001b[0m         obj\n\u001b[1;32m    438\u001b[0m         \u001b[38;5;28;01mfor\u001b[39;00m obj \u001b[38;5;129;01min\u001b[39;00m candidates\n\u001b[0;32m   (...)\u001b[0m\n\u001b[1;32m    443\u001b[0m         )\n\u001b[1;32m    444\u001b[0m     ]\n\u001b[1;32m    445\u001b[0m \u001b[38;5;28;01mif\u001b[39;00m \u001b[38;5;28mlen\u001b[39m(candidates) \u001b[38;5;241m>\u001b[39m \u001b[38;5;241m1\u001b[39m:\n\u001b[0;32m--> 446\u001b[0m     \u001b[38;5;28;01mraise\u001b[39;00m MultipleResults(\n\u001b[1;32m    447\u001b[0m         \u001b[38;5;124m\"\u001b[39m\u001b[38;5;124mFound \u001b[39m\u001b[38;5;132;01m{}\u001b[39;00m\u001b[38;5;124m results for the given search\u001b[39m\u001b[38;5;124m\"\u001b[39m\u001b[38;5;241m.\u001b[39mformat(\u001b[38;5;28mlen\u001b[39m(candidates))\n\u001b[1;32m    448\u001b[0m     )\n\u001b[1;32m    449\u001b[0m \u001b[38;5;28;01melif\u001b[39;00m \u001b[38;5;129;01mnot\u001b[39;00m candidates:\n\u001b[1;32m    450\u001b[0m     \u001b[38;5;28;01mraise\u001b[39;00m UnknownObject\n",
      "\u001b[0;31mMultipleResults\u001b[0m: Found 4 results for the given search"
     ]
    }
   ],
   "source": [
    "bd.get_activity(product='lubricating oil')"
   ]
  },
  {
   "cell_type": "code",
   "execution_count": null,
   "id": "a11962e8-d391-4ddc-8da7-b2e6bebaf928",
   "metadata": {},
   "outputs": [],
   "source": []
  }
 ],
 "metadata": {
  "kernelspec": {
   "display_name": "Python [conda env:bw25]",
   "language": "python",
   "name": "conda-env-bw25-py"
  },
  "language_info": {
   "codemirror_mode": {
    "name": "ipython",
    "version": 3
   },
   "file_extension": ".py",
   "mimetype": "text/x-python",
   "name": "python",
   "nbconvert_exporter": "python",
   "pygments_lexer": "ipython3",
   "version": "3.10.6"
  }
 },
 "nbformat": 4,
 "nbformat_minor": 5
}
