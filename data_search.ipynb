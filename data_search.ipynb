{
 "cells": [
  {
   "cell_type": "markdown",
   "id": "3e67c94d-ecdf-419a-8e36-25bad5043ded",
   "metadata": {},
   "source": [
    "# Data search"
   ]
  },
  {
   "cell_type": "markdown",
   "id": "1bd46885-0d1d-4f1d-be09-5856ec438d55",
   "metadata": {},
   "source": [
    "<div class=\"alert alert-block alert-info\">\n",
    "<b> purpose </b> = get ids from the activities that we will need in the foreground database\n",
    "    <div>"
   ]
  },
  {
   "cell_type": "markdown",
   "id": "d772adcd-b55c-45ea-9cb5-ce89c3a2fe72",
   "metadata": {},
   "source": [
    "for the foreground, we need the following activites :\n",
    "- wood pellets, burned in stirling heat and power co-generation unit, 3kW electrical, future\n",
    "- operation, solar collector system, Cu flat plate collector, one-family house, for hot water\n",
    "- electricity production, photovoltaic, 3kWp slanted-roof \n",
    "- electricity production, wind, 1-3MW turbine, onshore\n",
    "- electricity production, hydro, run-of-river\n",
    "- heat and power co-generation, wood chips, 6667 kW, state-of-the-art 2014"
   ]
  },
  {
   "cell_type": "code",
   "execution_count": 2,
   "id": "d04ecde6-e65d-41a9-9f12-ed07abbe168a",
   "metadata": {},
   "outputs": [],
   "source": [
    "import bw2data as bd\n",
    "import bw2calc as bc\n",
    "import bw2io as bi\n",
    "import bw_processing as bwp\n",
    "import numpy as np\n",
    "\n",
    "if 'ei38-teaching-25' not in bd.projects:\n",
    "    bi.restore_project_directory(\"/srv/data/projects/ecoinvent38-25.tar.gz\")\n",
    "    \n",
    "bd.projects.set_current('ei38-teaching-25')"
   ]
  },
  {
   "cell_type": "code",
   "execution_count": 3,
   "id": "c5041354-ec7c-41cb-8ca5-9d03022d5104",
   "metadata": {},
   "outputs": [
    {
     "data": {
      "text/plain": [
       "Databases dictionary with 4 object(s):\n",
       "\tEXIOBASE 3.8.1 2017 monetary\n",
       "\tEXIOBASE 3.8.1 2017 monetary biosphere\n",
       "\tbiosphere3\n",
       "\tei 3.8 cutoff"
      ]
     },
     "execution_count": 3,
     "metadata": {},
     "output_type": "execute_result"
    }
   ],
   "source": [
    "bd.databases"
   ]
  },
  {
   "cell_type": "code",
   "execution_count": 4,
   "id": "0b94ac7a-81e0-4907-b1cb-00199073f5cb",
   "metadata": {},
   "outputs": [],
   "source": [
    "db = bd.Database(\"ei 3.8 cutoff\")"
   ]
  },
  {
   "cell_type": "markdown",
   "id": "e6fdda61-47a6-40a9-85d8-8767da70febc",
   "metadata": {},
   "source": [
    "## heating activites"
   ]
  },
  {
   "cell_type": "markdown",
   "id": "0c0a52eb-4f30-45d0-b705-8c3c6b2dd170",
   "metadata": {},
   "source": [
    "Basically we reach in the ecoinvent database the activity we want"
   ]
  },
  {
   "cell_type": "code",
   "execution_count": 5,
   "id": "d27aeaf0-335f-4548-a0f7-347decda0a2e",
   "metadata": {},
   "outputs": [],
   "source": [
    "database_name = \"ei 3.8 cutoff\"\n",
    "wood_pellet = bd.get_activity(\n",
    "    database=database_name, \n",
    "    name='wood pellets, burned in stirling heat and power co-generation unit, 3kW electrical, future', \n",
    "    unit = \"megajoule\"\n",
    "    )"
   ]
  },
  {
   "cell_type": "markdown",
   "id": "8824263f-650e-4674-8fdd-f7ca6647b982",
   "metadata": {},
   "source": [
    "Thus, we have the id by doing this"
   ]
  },
  {
   "cell_type": "code",
   "execution_count": 6,
   "id": "354a93e5-6387-41b8-9b6b-868f57cd6a20",
   "metadata": {},
   "outputs": [
    {
     "data": {
      "text/plain": [
       "19364"
      ]
     },
     "execution_count": 6,
     "metadata": {},
     "output_type": "execute_result"
    }
   ],
   "source": [
    "wood_pellet.id"
   ]
  },
  {
   "cell_type": "code",
   "execution_count": 9,
   "id": "ea46ee39-eb85-4103-b212-2f95e5e9c683",
   "metadata": {},
   "outputs": [
    {
     "data": {
      "text/plain": [
       "['operation, solar collector system, Cu flat plate collector, one-family house, for hot water' (megajoule, RoW, None),\n",
       " 'operation, solar collector system, Cu flat plate collector, one-family house, for hot water' (megajoule, CH, None),\n",
       " 'operation, solar collector system, Cu flat plate collector, one-family house, for hot water' (megajoule, CA-QC, None)]"
      ]
     },
     "execution_count": 9,
     "metadata": {},
     "output_type": "execute_result"
    }
   ],
   "source": [
    "db.search('operation, solar collector system, Cu flat plate collector, one-family house, for hot water')"
   ]
  },
  {
   "cell_type": "code",
   "execution_count": 10,
   "id": "2a8e948a-512b-4eba-8951-c70e0f2f625e",
   "metadata": {},
   "outputs": [],
   "source": [
    "solar_panels = bd.get_activity(\n",
    "    database=database_name, \n",
    "    name='operation, solar collector system, Cu flat plate collector, one-family house, for hot water', \n",
    "    location='CH',\n",
    "    )"
   ]
  },
  {
   "cell_type": "code",
   "execution_count": 11,
   "id": "c0060aba-f9f0-4fb4-9a46-0e1321b14b0a",
   "metadata": {},
   "outputs": [
    {
     "data": {
      "text/plain": [
       "8302"
      ]
     },
     "execution_count": 11,
     "metadata": {},
     "output_type": "execute_result"
    }
   ],
   "source": [
    "solar_panels.id"
   ]
  },
  {
   "cell_type": "markdown",
   "id": "4d9aa0e8-f855-4140-9187-df3a4037e455",
   "metadata": {},
   "source": [
    "## electricity activities"
   ]
  },
  {
   "cell_type": "markdown",
   "id": "a046b62a-5a00-4252-bbf5-7d3273e863b0",
   "metadata": {},
   "source": [
    "I can get the code directly from Activity Browser which is more practicale"
   ]
  },
  {
   "cell_type": "code",
   "execution_count": 52,
   "id": "e9be6e4a-301b-44bf-82d2-2956411c7925",
   "metadata": {},
   "outputs": [
    {
     "data": {
      "text/plain": [
       "18352"
      ]
     },
     "execution_count": 52,
     "metadata": {},
     "output_type": "execute_result"
    }
   ],
   "source": [
    "PV=db.get('eefb3fb50de3c1b579b04b113644f681')\n",
    "PV.id"
   ]
  },
  {
   "cell_type": "code",
   "execution_count": 53,
   "id": "4c8ab9a9-28d7-478c-bcac-a51f05c7de6a",
   "metadata": {},
   "outputs": [
    {
     "data": {
      "text/plain": [
       "10319"
      ]
     },
     "execution_count": 53,
     "metadata": {},
     "output_type": "execute_result"
    }
   ],
   "source": [
    "Wind=db.get('db261be24b09c401a5a88b5af3243f65')\n",
    "Wind.id"
   ]
  },
  {
   "cell_type": "code",
   "execution_count": 54,
   "id": "b41f5510-83c7-4b49-bda4-741e0497dc51",
   "metadata": {},
   "outputs": [
    {
     "data": {
      "text/plain": [
       "6599"
      ]
     },
     "execution_count": 54,
     "metadata": {},
     "output_type": "execute_result"
    }
   ],
   "source": [
    "Hydro=db.get('ef7d96b8b3b9eabc22bc37d7368e5385')\n",
    "Hydro.id"
   ]
  },
  {
   "cell_type": "code",
   "execution_count": 55,
   "id": "957f4edc-8c20-483e-aeb0-da4f431ba8b2",
   "metadata": {},
   "outputs": [
    {
     "data": {
      "text/plain": [
       "20079"
      ]
     },
     "execution_count": 55,
     "metadata": {},
     "output_type": "execute_result"
    }
   ],
   "source": [
    "Biomass=db.get('bc1a68a31dbcaf326cefb48b71b2982a')\n",
    "Biomass.id"
   ]
  },
  {
   "cell_type": "markdown",
   "id": "cbd5f6dc-9f9e-4181-b015-87762b5f1847",
   "metadata": {},
   "source": [
    "## Export id"
   ]
  },
  {
   "cell_type": "code",
   "execution_count": 59,
   "id": "99e7265b-0379-4b63-be2b-86c6ac401c86",
   "metadata": {},
   "outputs": [
    {
     "data": {
      "text/plain": [
       "'wood pellets, burned in stirling heat and power co-generation unit, 3kW electrical, future'"
      ]
     },
     "execution_count": 59,
     "metadata": {},
     "output_type": "execute_result"
    }
   ],
   "source": [
    "wood_pellet['name']"
   ]
  },
  {
   "cell_type": "code",
   "execution_count": 62,
   "id": "523a8858-e141-4668-940e-69abf32007ba",
   "metadata": {},
   "outputs": [],
   "source": [
    "dict_export={\n",
    "    wood_pellet['name']:wood_pellet.id,\n",
    "    solar_panels['name']:solar_panels.id,\n",
    "    PV['name']:PV.id,\n",
    "    Wind['name']:Wind.id,\n",
    "    Hydro['name']:Hydro.id,\n",
    "    Biomass['name']:Biomass.id\n",
    "}"
   ]
  },
  {
   "cell_type": "code",
   "execution_count": 63,
   "id": "03bf8724-5b69-4a1c-b4d5-d5ab15ee1554",
   "metadata": {},
   "outputs": [],
   "source": [
    "import json\n",
    "\n",
    "with open(\"dict_id.json\", \"w\") as outfile:\n",
    "    json.dump(dict_export, outfile)"
   ]
  },
  {
   "cell_type": "code",
   "execution_count": null,
   "id": "d1306a64-980e-4355-90e7-160ecf824d10",
   "metadata": {},
   "outputs": [],
   "source": []
  }
 ],
 "metadata": {
  "kernelspec": {
   "display_name": "Python [conda env:bw25]",
   "language": "python",
   "name": "conda-env-bw25-py"
  },
  "language_info": {
   "codemirror_mode": {
    "name": "ipython",
    "version": 3
   },
   "file_extension": ".py",
   "mimetype": "text/x-python",
   "name": "python",
   "nbconvert_exporter": "python",
   "pygments_lexer": "ipython3",
   "version": "3.10.6"
  }
 },
 "nbformat": 4,
 "nbformat_minor": 5
}
