{
 "cells": [
  {
   "cell_type": "markdown",
   "id": "5f128ce5-5f1a-4e5c-aa35-762e3f874046",
   "metadata": {},
   "source": [
    "# Model builder\n",
    "## Life Cycle Assessment of ``{Operational Energy Moerschberg for 1 year: 1}``\n",
    "###[CONTEXT]\n",
    "The model relies on datapackages to ensure replicability of the calculation.\n"
   ]
  },
  {
   "cell_type": "code",
   "execution_count": 212,
   "id": "7e22fc51-9461-4602-925d-dd285769602a",
   "metadata": {
    "tags": []
   },
   "outputs": [],
   "source": [
    "import bw2data as bd\n",
    "import bw2calc as bc\n",
    "import bw2io as bi\n",
    "import bw_processing as bwp\n",
    "import numpy as np\n",
    "from pathlib import Path\n",
    "import pandas as pd\n"
   ]
  },
  {
   "cell_type": "code",
   "execution_count": 213,
   "id": "55ce5735-f70d-4d4b-8f6f-e4c2d6434768",
   "metadata": {},
   "outputs": [
    {
     "data": {
      "text/plain": [
       "'default'"
      ]
     },
     "execution_count": 213,
     "metadata": {},
     "output_type": "execute_result"
    }
   ],
   "source": [
    "bd.projects.delete_project('ei38-teaching-25')"
   ]
  },
  {
   "cell_type": "code",
   "execution_count": 214,
   "id": "8244b2e9-3360-4557-85fb-3221d0fbb7d3",
   "metadata": {},
   "outputs": [
    {
     "name": "stdout",
     "output_type": "stream",
     "text": [
      "Restoring project backup archive - this could take a few minutes...\n"
     ]
    }
   ],
   "source": [
    "bi.restore_project_directory(\"/srv/data/projects/ecoinvent38-25.tar.gz\")\n",
    "bd.projects.set_current('ei38-teaching-25')\n"
   ]
  },
  {
   "cell_type": "code",
   "execution_count": 215,
   "id": "b2ac1741-1805-4f07-9820-4da126b52fe2",
   "metadata": {},
   "outputs": [
    {
     "data": {
      "text/plain": [
       "Databases dictionary with 2 object(s):\n",
       "\tbiosphere3\n",
       "\tei 3.8 cutoff"
      ]
     },
     "execution_count": 215,
     "metadata": {},
     "output_type": "execute_result"
    }
   ],
   "source": [
    "bd.databases"
   ]
  },
  {
   "cell_type": "code",
   "execution_count": 216,
   "id": "c3db0364-46b8-4ac1-8d31-dcb2f602ed25",
   "metadata": {},
   "outputs": [],
   "source": [
    "# bd.projects.migrate_project_25()"
   ]
  },
  {
   "cell_type": "code",
   "execution_count": 217,
   "id": "35105b06-6eff-4bcc-b45c-ce3e0219fbdd",
   "metadata": {
    "tags": []
   },
   "outputs": [
    {
     "name": "stdout",
     "output_type": "stream",
     "text": [
      "Extracted 1 worksheets in 0.00 seconds\n",
      "Applying strategy: csv_restore_tuples\n",
      "Applying strategy: csv_restore_booleans\n",
      "Applying strategy: csv_numerize\n",
      "Applying strategy: csv_drop_unknown\n",
      "Applying strategy: csv_add_missing_exchanges_section\n",
      "Applying strategy: normalize_units\n",
      "Applying strategy: normalize_biosphere_categories\n",
      "Applying strategy: normalize_biosphere_names\n",
      "Applying strategy: strip_biosphere_exc_locations\n",
      "Applying strategy: set_code_by_activity_hash\n",
      "Applying strategy: link_iterable_by_fields\n",
      "Applying strategy: assign_only_product_as_production\n",
      "Applying strategy: link_technosphere_by_activity_hash\n",
      "Applying strategy: drop_falsey_uncertainty_fields_but_keep_zeros\n",
      "Applying strategy: convert_uncertainty_types_to_integers\n",
      "Applying strategy: convert_activity_parameters_to_list\n",
      "Applied 16 strategies in 6.83 seconds\n",
      "Applying strategy: link_iterable_by_fields\n",
      "Applying strategy: link_iterable_by_fields\n",
      "5 datasets\n",
      "18 exchanges\n",
      "0 unlinked exchanges\n",
      "  \n",
      "Warning: No valid output stream.\n",
      "Title: Writing activities to SQLite3 database:\n",
      "  Started: 10/28/2022 09:46:00\n",
      "  Finished: 10/28/2022 09:46:00\n",
      "  Total time elapsed: 00:00:00\n",
      "  CPU %: 0.00\n",
      "  Memory %: 0.47\n",
      "Created database: energy_moeschberg\n"
     ]
    }
   ],
   "source": [
    "if \"foreground\" in bd.databases:\n",
    "    del bd.databases[\"foreground\"]\n",
    "    \n",
    "foreground_importer = bi.ExcelImporter(\"./data/inputs/lci_moeschberg.xlsx\")\n",
    "foreground_importer.apply_strategies()\n",
    "foreground_importer.match_database(\"biosphere3\", fields=(\"name\", \"unit\", \"categories\"))\n",
    "foreground_importer.match_database(\"ei 3.8 cutoff\", fields=(\"name\", \"unit\", \"location\"))\n",
    "foreground_importer.statistics()\n",
    "foreground_importer.write_database()"
   ]
  },
  {
   "cell_type": "code",
   "execution_count": 218,
   "id": "70bf5428-1c20-4cc6-801c-fede8a3c6eca",
   "metadata": {
    "tags": []
   },
   "outputs": [
    {
     "data": {
      "text/plain": [
       "Databases dictionary with 3 object(s):\n",
       "\tbiosphere3\n",
       "\tei 3.8 cutoff\n",
       "\tenergy_moeschberg"
      ]
     },
     "execution_count": 218,
     "metadata": {},
     "output_type": "execute_result"
    }
   ],
   "source": [
    "bd.databases"
   ]
  },
  {
   "cell_type": "code",
   "execution_count": 219,
   "id": "0803ee24-8670-424a-949e-350069d38e5c",
   "metadata": {},
   "outputs": [
    {
     "data": {
      "text/plain": [
       "'energy demand, operational, Hotel Moeschberg' (unit, CH, None)"
      ]
     },
     "execution_count": 219,
     "metadata": {},
     "output_type": "execute_result"
    }
   ],
   "source": [
    "fu = bd.get_activity(database=\"energy_moeschberg\", name = \"energy demand, operational, Hotel Moeschberg\")\n",
    "fu"
   ]
  },
  {
   "cell_type": "code",
   "execution_count": 220,
   "id": "56e65e0b-4401-4916-8160-a740191735c4",
   "metadata": {},
   "outputs": [],
   "source": [
    "heat = bd.get_activity(database=\"energy_moeschberg\", name = \"heat supply, Hotel Moeschberg, 2021\")"
   ]
  },
  {
   "cell_type": "code",
   "execution_count": 221,
   "id": "a5a5111f-4ed9-47ce-aef1-8a466339c1d8",
   "metadata": {},
   "outputs": [],
   "source": [
    "wood_pellets_heat = bd.get_node(database=\"ei 3.8 cutoff\", name='wood pellets, burned in stirling heat and power co-generation unit, 3kW electrical, future', unit='megajoule')"
   ]
  },
  {
   "cell_type": "code",
   "execution_count": 222,
   "id": "6743e5ce-9573-47fc-8c48-ea10c48c42b8",
   "metadata": {},
   "outputs": [],
   "source": [
    "wood_pellets_market = bd.get_node(database=\"ei 3.8 cutoff\", name = \"market for wood pellet, measured as dry mass\", location = \"RER\")"
   ]
  },
  {
   "cell_type": "code",
   "execution_count": 223,
   "id": "d9467c7b-182a-4555-a5f7-a5f1ee36af3c",
   "metadata": {},
   "outputs": [],
   "source": [
    "wood_pellets_prod_RER = bd.get_node(database=\"ei 3.8 cutoff\", name = \"wood pellet production\", location = \"RER\")"
   ]
  },
  {
   "cell_type": "code",
   "execution_count": 224,
   "id": "824044ab-6e41-4b6e-96f9-c902253efd96",
   "metadata": {},
   "outputs": [],
   "source": [
    "if \"Regionalized_db\" in bd.databases:\n",
    "    del bd.databases[\"Regionalized_db\"]"
   ]
  },
  {
   "cell_type": "code",
   "execution_count": 225,
   "id": "27364de4-be92-4f8e-8aaa-70bdb7a2793f",
   "metadata": {},
   "outputs": [],
   "source": [
    "Regionalized_db = bd.Database(\"Regionalized_db\", backend = \"iotable\") #need iotable to be able to do the regionalization"
   ]
  },
  {
   "cell_type": "code",
   "execution_count": 226,
   "id": "ef4c327c-f53e-43fc-b44a-d6fb13805114",
   "metadata": {},
   "outputs": [],
   "source": [
    "Regionalized_db.write({})"
   ]
  },
  {
   "cell_type": "code",
   "execution_count": 227,
   "id": "5e0278e6-a733-49e7-87b2-876cf2aab5bf",
   "metadata": {},
   "outputs": [
    {
     "data": {
      "text/plain": [
       "Databases dictionary with 4 object(s):\n",
       "\tRegionalized_db\n",
       "\tbiosphere3\n",
       "\tei 3.8 cutoff\n",
       "\tenergy_moeschberg"
      ]
     },
     "execution_count": 227,
     "metadata": {},
     "output_type": "execute_result"
    }
   ],
   "source": [
    "bd.databases"
   ]
  },
  {
   "cell_type": "code",
   "execution_count": 228,
   "id": "db3993d7-1b5c-4cce-91d4-dc3c889a5981",
   "metadata": {},
   "outputs": [],
   "source": [
    "foreground=bd.Database('energy_moeschberg')"
   ]
  },
  {
   "cell_type": "code",
   "execution_count": 229,
   "id": "fa8c837e-2341-4d1d-a296-639fe1d8703d",
   "metadata": {},
   "outputs": [],
   "source": [
    "regionalized_fu=Regionalized_db.new_node(code=\"new-fu\", name=\"energy demand, operational, Hotel Moeschberg - regionalized\", location=\"CH\", unit=\"unit\")\n",
    "regionalized_fu.save()"
   ]
  },
  {
   "cell_type": "code",
   "execution_count": 230,
   "id": "1d76699c-d3c1-4fd7-9fa8-927791ff8e27",
   "metadata": {},
   "outputs": [],
   "source": [
    "regionalized_heat=Regionalized_db.new_node(code=\"new-heat\", name='heat supply, Hotel Moeschberg, 2021 - regionalized', location=\"CH\", unit=\"megajoule\")\n",
    "regionalized_heat.save()"
   ]
  },
  {
   "cell_type": "code",
   "execution_count": 231,
   "id": "e32bd53c-6ad9-445d-a516-22126b87d50f",
   "metadata": {},
   "outputs": [],
   "source": [
    "new_wood_pellets_heat = Regionalized_db.new_node(code=\"pellets-heat\", name=\"wood pellets, burned in stirling heat and power co-generation unit, 3kW electrical, future - regionalized\", location=\"CH\", unit=\"megajoule\")\n",
    "new_wood_pellets_heat.save()"
   ]
  },
  {
   "cell_type": "code",
   "execution_count": 232,
   "id": "c5e7fa0a-91d6-4882-be94-45f1a7e817a6",
   "metadata": {},
   "outputs": [],
   "source": [
    "new_wood_pellets_market = Regionalized_db.new_node(code=\"pellets-market\", name=\"market for wood pellet, measured as dry mass\", location=\"CH\", unit=\"kilogram\")\n",
    "new_wood_pellets_market.save()"
   ]
  },
  {
   "cell_type": "code",
   "execution_count": 233,
   "id": "4b411acf-0d13-4208-9f5f-19fe72027e47",
   "metadata": {},
   "outputs": [],
   "source": [
    "new_pellets_prod = Regionalized_db.new_node(code=\"pellets-prod\", name=\"wood pellet production\", location=\"CH\", unit=\"kilogram\")\n",
    "new_pellets_prod.save()"
   ]
  },
  {
   "cell_type": "code",
   "execution_count": 234,
   "id": "57813031-80d7-49ae-94d3-67b352fbdda5",
   "metadata": {},
   "outputs": [],
   "source": [
    "from collections import defaultdict\n",
    "\n",
    "new_pellets_tech = defaultdict(float)\n",
    "\n",
    "for exc in wood_pellets_prod_RER.technosphere():\n",
    "    new_pellets_tech[bd.get_node(\n",
    "        database = \"ei 3.8 cutoff\",\n",
    "        name = exc.input['name'],\n",
    "        location = exc.input['location']\n",
    "    )] += exc['amount']"
   ]
  },
  {
   "cell_type": "code",
   "execution_count": 235,
   "id": "c0ef5dc8-af05-4db1-946d-07947a0774c6",
   "metadata": {},
   "outputs": [],
   "source": [
    "tech_edges = [\n",
    "    {\"row\": regionalized_fu.id, \"col\": regionalized_fu.id, \"amount\":1},\n",
    "    {\"row\": fu.id, \"col\": regionalized_fu.id, \"amount\":1, \"flip\":True}, #consume the old activity to copy exchanges\n",
    "    {\"row\": heat.id, \"col\": regionalized_fu.id, \"amount\":655489 , \"flip\":False},\n",
    "    {\"row\": regionalized_heat.id, \"col\": regionalized_fu.id, \"amount\":655489, \"flip\":True},\n",
    "] + [\n",
    "    {\"row\": regionalized_heat.id, \"col\": regionalized_heat.id, \"amount\":1},\n",
    "    {\"row\": heat.id, \"col\": regionalized_heat.id, \"amount\":1, \"flip\":True}, #consume the old activity to copy exchanges\n",
    "    {\"row\": wood_pellets_heat.id, \"col\": regionalized_heat.id, \"amount\":0.9953, \"flip\":False},\n",
    "    {\"row\": new_wood_pellets_heat.id, \"col\": regionalized_heat.id, \"amount\":0.9953, \"flip\":True},\n",
    "] + [\n",
    "    {\"row\": new_wood_pellets_heat.id, \"col\": new_wood_pellets_heat.id, \"amount\":1},\n",
    "    {\"row\": wood_pellets_heat.id, \"col\": new_wood_pellets_heat.id, \"amount\":1, \"flip\":True}, #consume the old activity to copy exchanges\n",
    "    {\"row\": new_wood_pellets_market.id, \"col\": new_wood_pellets_heat.id, \"amount\":0.0229911254795743, \"flip\":True},\n",
    "    {\"row\": wood_pellets_market.id, \"col\": new_wood_pellets_heat.id, \"amount\": 0.0229911254795743},\n",
    "] + [\n",
    "    {\"row\": new_wood_pellets_market.id, \"col\": new_wood_pellets_market.id, \"amount\":1},\n",
    "    {\"row\": wood_pellets_market.id, \"col\": new_wood_pellets_market.id, \"amount\":1, \"flip\":True},\n",
    "    {\"row\": new_pellets_prod.id, \"col\": new_wood_pellets_market.id, \"amount\": 1, \"flip\":True},\n",
    "    {\"row\": wood_pellets_prod_RER.id, \"col\": new_wood_pellets_market.id, \"amount\": 1},\n",
    "] + [\n",
    "    {\"row\": new_pellets_prod.id, \"col\": new_pellets_prod.id, \"amount\": 1},\n",
    "    {\"row\": wood_pellets_prod_RER.id, \"col\": new_pellets_prod.id, \"amount\": 1, \"flip\":True},\n",
    "    {\n",
    "        \"row\": bd.get_activity(\n",
    "            database=\"ei 3.8 cutoff\", \n",
    "            name='market group for electricity, medium voltage',\n",
    "            location='RER'\n",
    "        ).id, \n",
    "        \"col\": new_pellets_prod.id, \n",
    "        \"amount\": 0.096\n",
    "    },\n",
    "] + [\n",
    "    {\"row\": key.id, \"col\": new_pellets_prod.id, \"amount\": value}\n",
    "    for key, value in new_pellets_tech.items() if key['location']==\"Europe without Switzerland\"\n",
    "] + [\n",
    "    {\n",
    "        \"row\": bd.get_activity(\n",
    "            database=\"ei 3.8 cutoff\", \n",
    "            name='market for electricity, medium voltage',\n",
    "            location='CH'\n",
    "        ).id, \n",
    "        \"col\": new_pellets_prod.id, \n",
    "        \"amount\": 0.096,\n",
    "        \"flip\":True\n",
    "    },\n",
    "] + [\n",
    "    {\"row\": bd.get_activity(database=\"ei 3.8 cutoff\", name=key['name'], location=\"CH\").id, \n",
    "      \"col\": new_pellets_prod.id, \"amount\": value, \"flip\":True}\n",
    "    for key, value in new_pellets_tech.items() if key['location']==\"Europe without Switzerland\"\n",
    "\n",
    "]"
   ]
  },
  {
   "cell_type": "code",
   "execution_count": 236,
   "id": "936571b0-7b64-441d-8e4d-78c9b1a97126",
   "metadata": {},
   "outputs": [
    {
     "name": "stdout",
     "output_type": "stream",
     "text": [
      "Starting IO table write\n",
      "Adding technosphere matrix\n",
      "Adding biosphere matrix\n",
      "Finalizing serialization\n"
     ]
    }
   ],
   "source": [
    "Regionalized_db.write_exchanges(tech_edges, [], [\"ei 3.8 cutoff\"])"
   ]
  },
  {
   "cell_type": "code",
   "execution_count": 237,
   "id": "a697f2e5-aeb7-46b4-9958-ac10732ddcac",
   "metadata": {},
   "outputs": [],
   "source": [
    "ipcc = ('IPCC 2013', 'climate change', 'GWP 100a')"
   ]
  },
  {
   "cell_type": "code",
   "execution_count": 238,
   "id": "87458f8f-d93c-415c-b627-732a84343fdb",
   "metadata": {},
   "outputs": [],
   "source": [
    "fu.new_edge(input=regionalized_fu, amount=0, type=\"technosphere\").save()"
   ]
  },
  {
   "cell_type": "code",
   "execution_count": 239,
   "id": "6dc59cfa-2b9a-4c25-8b51-dcde016ba29d",
   "metadata": {},
   "outputs": [],
   "source": [
    "_, data_objs, _ = bd.prepare_lca_inputs({fu: 1}, ipcc)"
   ]
  },
  {
   "cell_type": "code",
   "execution_count": 240,
   "id": "19d33557-5d0c-4b81-92b3-d7c155c07a25",
   "metadata": {},
   "outputs": [
    {
     "data": {
      "text/plain": [
       "4288.388560965337"
      ]
     },
     "execution_count": 240,
     "metadata": {},
     "output_type": "execute_result"
    }
   ],
   "source": [
    "lca = bc.LCA({fu.id: 1}, data_objs=data_objs)\n",
    "lca.lci()\n",
    "lca.lcia()\n",
    "lca.score"
   ]
  },
  {
   "cell_type": "code",
   "execution_count": 242,
   "id": "8f39b6ec-b31c-46a0-80e9-6d63de0a7899",
   "metadata": {},
   "outputs": [
    {
     "data": {
      "text/plain": [
       "3629.403444136348"
      ]
     },
     "execution_count": 242,
     "metadata": {},
     "output_type": "execute_result"
    }
   ],
   "source": [
    "lca.lcia({regionalized_fu.id: 1})\n",
    "lca.score"
   ]
  },
  {
   "cell_type": "code",
   "execution_count": 118,
   "id": "efecd32c-7467-4c94-80a9-42932a060c8f",
   "metadata": {},
   "outputs": [
    {
     "data": {
      "text/plain": [
       "Databases dictionary with 4 object(s):\n",
       "\tRegionalized_db\n",
       "\tbiosphere3\n",
       "\tei 3.8 cutoff\n",
       "\tenergy_moeschberg"
      ]
     },
     "execution_count": 118,
     "metadata": {},
     "output_type": "execute_result"
    }
   ],
   "source": [
    "bd.databases"
   ]
  },
  {
   "cell_type": "code",
   "execution_count": 122,
   "id": "7acf0e2d-adf6-4db9-9ef3-927d90fedc4c",
   "metadata": {},
   "outputs": [
    {
     "name": "stdout",
     "output_type": "stream",
     "text": [
      "Starting IO table write\n",
      "Adding technosphere matrix\n",
      "Adding biosphere matrix\n",
      "Finalizing serialization\n"
     ]
    }
   ],
   "source": [
    "Regionalized_db.write_exchanges(tech_edges, [], [\"ei 3.8 cutoff\"])"
   ]
  },
  {
   "cell_type": "code",
   "execution_count": 123,
   "id": "dbfd294e-fe99-446f-80cd-7b63f6ada1eb",
   "metadata": {},
   "outputs": [
    {
     "data": {
      "text/plain": [
       "'energy demand, operational, Hotel Moeschberg' (unit, CH, None)"
      ]
     },
     "execution_count": 123,
     "metadata": {},
     "output_type": "execute_result"
    }
   ],
   "source": [
    "Regionalized_db.datapackage"
   ]
  },
  {
   "cell_type": "code",
   "execution_count": 124,
   "id": "297a1aae-43ab-41da-b913-40b8c27d8ddc",
   "metadata": {},
   "outputs": [],
   "source": [
    "fu.new_edge(input=regionalized_fu, amount=0, type=\"technosphere\").save()"
   ]
  },
  {
   "cell_type": "code",
   "execution_count": 125,
   "id": "31ad6b25-ce0c-419f-8bce-2b469f9e939d",
   "metadata": {
    "tags": []
   },
   "outputs": [],
   "source": [
    "_, data_objs, _ = bd.prepare_lca_inputs({fu:1}, ipcc)"
   ]
  },
  {
   "cell_type": "code",
   "execution_count": 126,
   "id": "22b5987c-1831-4c7f-9840-0d5429590991",
   "metadata": {},
   "outputs": [
    {
     "ename": "NonsquareTechnosphere",
     "evalue": "Technosphere matrix is not square: 19571 activities (columns) and 19572 products (rows). Use LeastSquaresLCA to solve this system, or fix the input data",
     "output_type": "error",
     "traceback": [
      "\u001b[0;31m---------------------------------------------------------------------------\u001b[0m",
      "\u001b[0;31mNonsquareTechnosphere\u001b[0m                     Traceback (most recent call last)",
      "Cell \u001b[0;32mIn [126], line 2\u001b[0m\n\u001b[1;32m      1\u001b[0m lca \u001b[38;5;241m=\u001b[39m bc\u001b[38;5;241m.\u001b[39mLCA({fu\u001b[38;5;241m.\u001b[39mid: \u001b[38;5;241m1\u001b[39m}, data_objs\u001b[38;5;241m=\u001b[39mdata_objs)\n\u001b[0;32m----> 2\u001b[0m \u001b[43mlca\u001b[49m\u001b[38;5;241;43m.\u001b[39;49m\u001b[43mlci\u001b[49m\u001b[43m(\u001b[49m\u001b[43m)\u001b[49m\n\u001b[1;32m      3\u001b[0m lca\u001b[38;5;241m.\u001b[39mlcia()\n\u001b[1;32m      4\u001b[0m lca\u001b[38;5;241m.\u001b[39mscore\n",
      "File \u001b[0;32m/opt/tljh/user/envs/bw25/lib/python3.10/site-packages/bw2calc/lca.py:354\u001b[0m, in \u001b[0;36mLCA.lci\u001b[0;34m(self, demand, factorize)\u001b[0m\n\u001b[1;32m    339\u001b[0m \u001b[38;5;124;03m\"\"\"\u001b[39;00m\n\u001b[1;32m    340\u001b[0m \u001b[38;5;124;03mCalculate a life cycle inventory.\u001b[39;00m\n\u001b[1;32m    341\u001b[0m \n\u001b[0;32m   (...)\u001b[0m\n\u001b[1;32m    351\u001b[0m \n\u001b[1;32m    352\u001b[0m \u001b[38;5;124;03m\"\"\"\u001b[39;00m\n\u001b[1;32m    353\u001b[0m \u001b[38;5;28;01mif\u001b[39;00m \u001b[38;5;129;01mnot\u001b[39;00m \u001b[38;5;28mhasattr\u001b[39m(\u001b[38;5;28mself\u001b[39m, \u001b[38;5;124m\"\u001b[39m\u001b[38;5;124mtechnosphere_matrix\u001b[39m\u001b[38;5;124m\"\u001b[39m):\n\u001b[0;32m--> 354\u001b[0m     \u001b[38;5;28;43mself\u001b[39;49m\u001b[38;5;241;43m.\u001b[39;49m\u001b[43mload_lci_data\u001b[49m\u001b[43m(\u001b[49m\u001b[43m)\u001b[49m\n\u001b[1;32m    355\u001b[0m \u001b[38;5;28;01mif\u001b[39;00m demand \u001b[38;5;129;01mis\u001b[39;00m \u001b[38;5;129;01mnot\u001b[39;00m \u001b[38;5;28;01mNone\u001b[39;00m:\n\u001b[1;32m    356\u001b[0m     \u001b[38;5;28mself\u001b[39m\u001b[38;5;241m.\u001b[39m__check_demand(demand)\n",
      "File \u001b[0;32m/opt/tljh/user/envs/bw25/lib/python3.10/site-packages/bw2calc/lca.py:206\u001b[0m, in \u001b[0;36mLCA.load_lci_data\u001b[0;34m(self, nonsquare_ok)\u001b[0m\n\u001b[1;32m    200\u001b[0m \u001b[38;5;28mself\u001b[39m\u001b[38;5;241m.\u001b[39mdicts\u001b[38;5;241m.\u001b[39mactivity \u001b[38;5;241m=\u001b[39m partial(\u001b[38;5;28mself\u001b[39m\u001b[38;5;241m.\u001b[39mtechnosphere_mm\u001b[38;5;241m.\u001b[39mcol_mapper\u001b[38;5;241m.\u001b[39mto_dict)\n\u001b[1;32m    202\u001b[0m \u001b[38;5;28;01mif\u001b[39;00m (\n\u001b[1;32m    203\u001b[0m     \u001b[38;5;28mlen\u001b[39m(\u001b[38;5;28mself\u001b[39m\u001b[38;5;241m.\u001b[39mtechnosphere_mm\u001b[38;5;241m.\u001b[39mrow_mapper) \u001b[38;5;241m!=\u001b[39m \u001b[38;5;28mlen\u001b[39m(\u001b[38;5;28mself\u001b[39m\u001b[38;5;241m.\u001b[39mtechnosphere_mm\u001b[38;5;241m.\u001b[39mcol_mapper)\n\u001b[1;32m    204\u001b[0m     \u001b[38;5;129;01mand\u001b[39;00m \u001b[38;5;129;01mnot\u001b[39;00m nonsquare_ok\n\u001b[1;32m    205\u001b[0m ):\n\u001b[0;32m--> 206\u001b[0m     \u001b[38;5;28;01mraise\u001b[39;00m NonsquareTechnosphere(\n\u001b[1;32m    207\u001b[0m         (\n\u001b[1;32m    208\u001b[0m             \u001b[38;5;124m\"\u001b[39m\u001b[38;5;124mTechnosphere matrix is not square: \u001b[39m\u001b[38;5;132;01m{}\u001b[39;00m\u001b[38;5;124m activities (columns) and \u001b[39m\u001b[38;5;132;01m{}\u001b[39;00m\u001b[38;5;124m products (rows). \u001b[39m\u001b[38;5;124m\"\u001b[39m\n\u001b[1;32m    209\u001b[0m             \u001b[38;5;124m\"\u001b[39m\u001b[38;5;124mUse LeastSquaresLCA to solve this system, or fix the input \u001b[39m\u001b[38;5;124m\"\u001b[39m\n\u001b[1;32m    210\u001b[0m             \u001b[38;5;124m\"\u001b[39m\u001b[38;5;124mdata\u001b[39m\u001b[38;5;124m\"\u001b[39m\n\u001b[1;32m    211\u001b[0m         )\u001b[38;5;241m.\u001b[39mformat(\n\u001b[1;32m    212\u001b[0m             \u001b[38;5;28mlen\u001b[39m(\u001b[38;5;28mself\u001b[39m\u001b[38;5;241m.\u001b[39mtechnosphere_mm\u001b[38;5;241m.\u001b[39mcol_mapper),\n\u001b[1;32m    213\u001b[0m             \u001b[38;5;28mlen\u001b[39m(\u001b[38;5;28mself\u001b[39m\u001b[38;5;241m.\u001b[39mtechnosphere_mm\u001b[38;5;241m.\u001b[39mrow_mapper),\n\u001b[1;32m    214\u001b[0m         )\n\u001b[1;32m    215\u001b[0m     )\n\u001b[1;32m    217\u001b[0m \u001b[38;5;28mself\u001b[39m\u001b[38;5;241m.\u001b[39mbiosphere_mm \u001b[38;5;241m=\u001b[39m mu\u001b[38;5;241m.\u001b[39mMappedMatrix(\n\u001b[1;32m    218\u001b[0m     packages\u001b[38;5;241m=\u001b[39m\u001b[38;5;28mself\u001b[39m\u001b[38;5;241m.\u001b[39mpackages,\n\u001b[1;32m    219\u001b[0m     matrix\u001b[38;5;241m=\u001b[39m\u001b[38;5;124m\"\u001b[39m\u001b[38;5;124mbiosphere_matrix\u001b[39m\u001b[38;5;124m\"\u001b[39m,\n\u001b[0;32m   (...)\u001b[0m\n\u001b[1;32m    224\u001b[0m     empty_ok\u001b[38;5;241m=\u001b[39m\u001b[38;5;28;01mTrue\u001b[39;00m,\n\u001b[1;32m    225\u001b[0m )\n\u001b[1;32m    226\u001b[0m \u001b[38;5;28mself\u001b[39m\u001b[38;5;241m.\u001b[39mbiosphere_matrix \u001b[38;5;241m=\u001b[39m \u001b[38;5;28mself\u001b[39m\u001b[38;5;241m.\u001b[39mbiosphere_mm\u001b[38;5;241m.\u001b[39mmatrix\n",
      "\u001b[0;31mNonsquareTechnosphere\u001b[0m: Technosphere matrix is not square: 19571 activities (columns) and 19572 products (rows). Use LeastSquaresLCA to solve this system, or fix the input data"
     ]
    }
   ],
   "source": [
    "lca = bc.LCA({fu.id: 1}, data_objs=data_objs)\n",
    "lca.lci()\n",
    "lca.lcia()\n",
    "lca.score"
   ]
  },
  {
   "cell_type": "code",
   "execution_count": null,
   "id": "bd56dcaf-5ecf-432d-b2a0-ab224d473715",
   "metadata": {},
   "outputs": [],
   "source": [
    "for obj in objects:\n",
    "    print(obj.metadata[\"name\"])"
   ]
  },
  {
   "cell_type": "code",
   "execution_count": null,
   "id": "bd08fce5-37e2-4b0d-b8df-54b86cd92628",
   "metadata": {},
   "outputs": [],
   "source": [
    "data, _ = objects[2].get_resource(\"energy_moeschberg_technosphere_matrix.data\")\n",
    "indices, _ = objects[2].get_resource(\"energy_moeschberg_technosphere_matrix.indices\")\n",
    "flip, _ = objects[2].get_resource(\"energy_moeschberg_technosphere_matrix.flip\")\n",
    "unique_indices = set([a for b in indices for a in b])\n",
    "mapping_act=dict.fromkeys(int(i) for i in unique_indices) #json accepts only int not int32\n",
    "for i in unique_indices:\n",
    "    mapping_act[i]=bd.get_activity(i)['name']\n",
    "rows = [tup[0] for tup in indices]\n",
    "cols = [tup[1] for tup in indices]"
   ]
  },
  {
   "cell_type": "code",
   "execution_count": null,
   "id": "d96bf827-74e0-4e8e-9ea7-3d0bf2275726",
   "metadata": {},
   "outputs": [],
   "source": [
    "df = pd.DataFrame(columns=['id','name','location','reference product'],index=np.arange(len(unique_indices)))\n",
    "n=0\n",
    "for i in unique_indices: \n",
    "    df['id'][n]=(i)\n",
    "    df['name'][n]=(bd.get_activity(i)['name'])\n",
    "    df['location'][n]=(bd.get_activity(i)['location'])\n",
    "    df['reference product'][n]=(bd.get_activity(i)['reference product'])\n",
    "    n += 1"
   ]
  },
  {
   "cell_type": "code",
   "execution_count": null,
   "id": "8802cbdc-d978-43d7-93b1-398092d3fb65",
   "metadata": {},
   "outputs": [],
   "source": [
    "df"
   ]
  },
  {
   "cell_type": "code",
   "execution_count": null,
   "id": "b614de6c-46ce-4eb4-8e3e-4422e4788538",
   "metadata": {},
   "outputs": [],
   "source": [
    "bd.get_activity(database = bg_19,\n",
    "                name=\"electricity production, hydro, run-of-river\",\n",
    "                location=\"CH\", \n",
    "                product = \"electricity, high voltage\").id"
   ]
  },
  {
   "cell_type": "code",
   "execution_count": null,
   "id": "97a57a6b-647f-4a93-b175-a6149e33e395",
   "metadata": {},
   "outputs": [],
   "source": [
    "import pandas as pd\n",
    "\n",
    "#initialize a dataframe\n",
    "df = pd.DataFrame(\n",
    "\t[[21, 'Amol', 72, 67],\n",
    "\t[23, 'Lini', 78, 69],\n",
    "\t[32, 'Kiku', 74, 56],\n",
    "\t[52, 'Ajit', 54, 76]],\n",
    "\tcolumns=['rollno', 'name', 'physics', 'botony'])\n",
    "\n",
    "print('DataFrame with default index\\n', df)\n",
    "\n",
    "#set multiple columns as index\n",
    "df = df.set_index(['rollno','name'])\n",
    "\n",
    "print('\\nDataFrame with MultiIndex\\n',df)"
   ]
  },
  {
   "cell_type": "code",
   "execution_count": null,
   "id": "4b150d99-094c-4d8a-8bf5-ebfc0ce17402",
   "metadata": {
    "tags": []
   },
   "outputs": [],
   "source": [
    "import pandas as pd \n",
    "id_all = []\n",
    "\n",
    "\n",
    "for idx, row in df.iterrows():\n",
    "    act_name = row[\"name\"]\n",
    "    act_location = row[\"location\"]\n",
    "    act_ref = row[\"reference product\"]\n",
    "    try:\n",
    "        act_bg_base_id = bd.get_activity(database = bg_base,name=act_name,location=act_location, product = act_ref).id\n",
    "    except:\n",
    "        act_bg_base_id =row[\"id\"]\n",
    "            \n",
    "    try:\n",
    "        act_bg_19_id = bd.get_activity(database = bg_19,name=act_name,location=act_location, product = act_ref).id\n",
    "    except:\n",
    "        act_bg_19_id =row[\"id\"]\n",
    "\n",
    "            \n",
    "            \n",
    "    id_all.append({\n",
    "        \"name\": row[\"name\"],\n",
    "        \"id_ei38\":row[\"id\"],\n",
    "        \"id_pre_base\":act_bg_base_id,\n",
    "        \"id_pre_19\":act_bg_19_id,\n",
    "                  })\n",
    "scenarios_ids=pd.DataFrame(id_all)    \n",
    "scenarios_ids = scenarios_ids.set_index(\"id_ei38\", drop=False)\n",
    "scenarios_ids"
   ]
  },
  {
   "cell_type": "code",
   "execution_count": null,
   "id": "10dd54de-de6d-4010-ba81-3b4ec32331f0",
   "metadata": {},
   "outputs": [],
   "source": [
    "\n",
    "    #     for row in col[1]:\n",
    "    #         print(row)\n",
    "    #         # print(col.loc[1])"
   ]
  },
  {
   "cell_type": "code",
   "execution_count": null,
   "id": "e9bf8ce2-f8c1-4a74-8701-795689e48e2d",
   "metadata": {
    "tags": []
   },
   "outputs": [],
   "source": [
    "import pandas as pd\n",
    "matrix_raw = pd.DataFrame({\"row\":rows, \n",
    "                           \"col\":cols, \n",
    "                           \"from\":[mapping_act[idx] for idx in rows], \n",
    "                           \"to\":[mapping_act[idx] for idx in cols],\n",
    "                           \"data\":data\n",
    "                          })\n",
    "matrix = matrix_raw.pivot(index='row',columns='col', values='data').fillna(0)\n",
    "# mapping\n",
    "# matrix_raw"
   ]
  },
  {
   "cell_type": "code",
   "execution_count": null,
   "id": "809397e2-f1a9-4a99-aef1-bb7e425d5e81",
   "metadata": {
    "tags": []
   },
   "outputs": [],
   "source": [
    "# objects[2].metadata[\"name\"]\n",
    "# dp_dict = dict(\n",
    "#         zip(indices.astype(\"object\"),[[tup[0], tup[1]] for tup in zip(data,flip)])\n",
    "#                 )\n",
    "# dp_dict"
   ]
  },
  {
   "cell_type": "code",
   "execution_count": null,
   "id": "64938ed9-dc0a-4eed-bb95-c7c281297fd7",
   "metadata": {},
   "outputs": [],
   "source": [
    "new_data = np.array([val[0] for val in dp_dict.items()])"
   ]
  },
  {
   "cell_type": "code",
   "execution_count": null,
   "id": "fadb37b3-8227-4882-b1ee-3f2eb56250b3",
   "metadata": {
    "tags": []
   },
   "outputs": [],
   "source": [
    "mapping_act"
   ]
  },
  {
   "cell_type": "code",
   "execution_count": null,
   "id": "902f6c47-b020-49e7-bdd6-745c339d8140",
   "metadata": {},
   "outputs": [],
   "source": [
    "for col in scenarios_ids.iteritems():\n",
    "    scenario_name = col[0]\n",
    "    if \"name\" not in scenario_name: \n",
    "        for idx, row in scenarios_ids.iterrows():\n",
    "            original_id = idx\n",
    "            new_id = row[scenario_name]\n",
    "            new_indices = {\n",
    "                    old:new\n",
    "            }\n",
    "\n",
    "new_arrays = {\n",
    "    (213912,213913): [655489,655489*0.5], #PV becomes the unique elec source\n",
    "    (213909,213913): [32179,32179*1.5],\n",
    "            }\n",
    "\n",
    "\n",
    "def modify_w_arrays(data_object, new_arrays):\n",
    "    n = 1\n",
    "    for k,v in new_arrays.items():\n",
    "        n = len(v)        \n",
    "\n",
    "    data, _ = data_object.get_resource(f\"{data_object.metadata['name']}_technosphere_matrix.data\")\n",
    "    indices, _ = data_object.get_resource(f\"{data_object.metadata['name']}_technosphere_matrix.indices\")\n",
    "    flip, _ = data_object.get_resource(f\"{data_object.metadata['name']}_technosphere_matrix.flip\")\n",
    "    \n",
    "    \n",
    "    dp_dict = dict(\n",
    "        zip(indices.astype(\"object\"),[[tup[0], tup[1]] for tup in zip(data,flip)])\n",
    "                        )\n",
    "    for key, value in new_arrays.items():\n",
    "        dp_dict[key][0] = value\n",
    "    \n",
    "    new_foreground = bwp.create_datapackage(\n",
    "    fs = bwp.generic_zipfile_filesystem(dirpath=Path(\"./data/inputs\"), filename=f\"{data_object.metadata['name']}.zip\", write=True),\n",
    "    # combinatorial=True,\n",
    "    sequential=True,\n",
    "    )\n",
    "\n",
    "    for row_col, data_flip in dp_dict.items():\n",
    "        if not isinstance(data_flip[0], np.ndarray):\n",
    "            new_array = np.full((n,), fill_value = data_flip[0])\n",
    "            dp_dict[row_col][0] = new_array\n",
    "            \n",
    "    new_data = np.array([val[0] for val in dp_dict.items()])\n",
    "                   \n",
    "    new_foreground.add_persistent_array(\n",
    "    matrix=\"technosphere_matrix\",\n",
    "    data_array=new_data,\n",
    "    indices_array=indices.astype(bwp.INDICES_DTYPE),\n",
    "    flip_array=flip,\n",
    "    name=data_object.metadata['name'],\n",
    ")\n",
    "\n",
    "    # return dp_dict\n",
    "    return new_foreground"
   ]
  },
  {
   "cell_type": "code",
   "execution_count": null,
   "id": "eb895418-84bc-4db0-a95b-3bd91531eaa9",
   "metadata": {},
   "outputs": [],
   "source": [
    "aa = modify_w_arrays(objects[2], new_arrays)"
   ]
  },
  {
   "cell_type": "code",
   "execution_count": null,
   "id": "da5be03c-a627-4fe3-8a42-052d5c8ff143",
   "metadata": {},
   "outputs": [],
   "source": [
    "for idx, col in scenarios_ids.iteritems():\n",
    "    print(col)"
   ]
  },
  {
   "cell_type": "code",
   "execution_count": null,
   "id": "0ac424f6-9b20-4250-92c7-0058b800c6b8",
   "metadata": {},
   "outputs": [],
   "source": [
    "for idx, col in scenarios_ids.iteritems()\n",
    "\n",
    "    lca_b = bc.LCA(\n",
    "        demand=fu,\n",
    "        data_objs=objects + [aa],\n",
    "        use_distributions=False,\n",
    "        use_arrays=True,\n",
    "    #     seed_override=42,  # Seed should not be used\n",
    "    )\n",
    "    lca_b.lci()\n",
    "    lca_b.lcia()\n",
    "    lca_b.keep_first_iteration()\n",
    "    iterations = 2\n",
    "    scores_b = [lca_b.score for _ in zip(range(iterations), lca_b)]\n",
    "    print(\"SCENARIO CALC\", scores_b)"
   ]
  },
  {
   "cell_type": "code",
   "execution_count": null,
   "id": "3ae53705-0a6e-4187-a549-a539b7cb9b06",
   "metadata": {},
   "outputs": [],
   "source": []
  }
 ],
 "metadata": {
  "kernelspec": {
   "display_name": "Python [conda env:bw25]",
   "language": "python",
   "name": "conda-env-bw25-py"
  },
  "language_info": {
   "codemirror_mode": {
    "name": "ipython",
    "version": 3
   },
   "file_extension": ".py",
   "mimetype": "text/x-python",
   "name": "python",
   "nbconvert_exporter": "python",
   "pygments_lexer": "ipython3",
   "version": "3.10.6"
  }
 },
 "nbformat": 4,
 "nbformat_minor": 5
}
