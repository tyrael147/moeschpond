{
 "cells": [
  {
   "cell_type": "code",
   "execution_count": 72,
   "id": "3a1cbb80-ed70-4eec-bcca-87afd2374083",
   "metadata": {},
   "outputs": [],
   "source": [
    "import brightway2 as bw\n",
    "import bw2calc as bc\n",
    "import bw2io as bi\n",
    "import numpy as np\n",
    "import pandas as pd\n",
    "\n",
    "import plotly.express as px\n"
   ]
  },
  {
   "cell_type": "code",
   "execution_count": 73,
   "id": "744d40a4-384c-47f1-828b-20df122079e0",
   "metadata": {},
   "outputs": [],
   "source": [
    "if 'ei38-teaching' not in bw.projects:\n",
    "    bi.restore_project_directory(\"/srv/data/projects/ecoinvent38.tar.gz\")\n",
    "    \n",
    "bw.projects.set_current('ei38-teaching')"
   ]
  },
  {
   "cell_type": "code",
   "execution_count": 74,
   "id": "84fbf9ca-831a-4894-8295-efcf31a79c53",
   "metadata": {},
   "outputs": [
    {
     "data": {
      "text/plain": [
       "Databases dictionary with 5 object(s):\n",
       "\t2022\n",
       "\tbiosphere3\n",
       "\tecoinvent_image_SSP2-Base_2040\n",
       "\tei 3.8 cutoff\n",
       "\tenergy_moeschberg"
      ]
     },
     "execution_count": 74,
     "metadata": {},
     "output_type": "execute_result"
    }
   ],
   "source": [
    "bw.databases"
   ]
  },
  {
   "cell_type": "code",
   "execution_count": 75,
   "id": "7cafbd6a-5dfa-4f94-8441-2da3f2857206",
   "metadata": {},
   "outputs": [],
   "source": [
    "ei = bw.Database(\"ei 3.8 cutoff\")"
   ]
  },
  {
   "cell_type": "code",
   "execution_count": 76,
   "id": "bc03f8b0-545c-4015-8e35-8f1811b42235",
   "metadata": {},
   "outputs": [
    {
     "name": "stdout",
     "output_type": "stream",
     "text": [
      "Extracted 1 worksheets in 0.01 seconds\n",
      "Applying strategy: csv_restore_tuples\n",
      "Applying strategy: csv_restore_booleans\n",
      "Applying strategy: csv_numerize\n",
      "Applying strategy: csv_drop_unknown\n",
      "Applying strategy: csv_add_missing_exchanges_section\n",
      "Applying strategy: normalize_units\n",
      "Applying strategy: normalize_biosphere_categories\n",
      "Applying strategy: normalize_biosphere_names\n",
      "Applying strategy: strip_biosphere_exc_locations\n",
      "Applying strategy: set_code_by_activity_hash\n",
      "Applying strategy: link_iterable_by_fields\n",
      "Applying strategy: assign_only_product_as_production\n",
      "Applying strategy: link_technosphere_by_activity_hash\n",
      "Applying strategy: drop_falsey_uncertainty_fields_but_keep_zeros\n",
      "Applying strategy: convert_uncertainty_types_to_integers\n",
      "Applying strategy: convert_activity_parameters_to_list\n",
      "Applied 16 strategies in 6.78 seconds\n",
      "Applying strategy: link_iterable_by_fields\n",
      "Applying strategy: link_iterable_by_fields\n",
      "5 datasets\n",
      "18 exchanges\n",
      "0 unlinked exchanges\n",
      "  \n",
      "Warning: No valid output stream.\n",
      "Title: Writing activities to SQLite3 database:\n",
      "  Started: 10/27/2022 15:52:54\n",
      "  Finished: 10/27/2022 15:52:54\n",
      "  Total time elapsed: 00:00:00\n",
      "  CPU %: 0.00\n",
      "  Memory %: 0.49\n",
      "Created database: energy_moeschberg\n"
     ]
    }
   ],
   "source": [
    "foreground_importer = bi.ExcelImporter(\"./data/inputs/lci_moeschberg.xlsx\")\n",
    "for act in foreground_importer.data:\n",
    "    # print(act[\"name\"])\n",
    "    for exc in act[\"exchanges\"]:\n",
    "        if \"classifications\" in exc:\n",
    "            exc.pop(\"classifications\")\n",
    "        if \"properties\" in exc:\n",
    "            exc.pop(\"properties\")   \n",
    "foreground_importer.apply_strategies()\n",
    "foreground_importer.match_database(\"biosphere3\", fields=(\"name\", \"unit\", \"categories\"))\n",
    "foreground_importer.match_database(\"ei 3.8 cutoff\", fields=(\"name\", \"unit\", \"location\"))\n",
    "foreground_importer.statistics()\n",
    "foreground_importer.write_database()"
   ]
  },
  {
   "cell_type": "code",
   "execution_count": 77,
   "id": "d5c1cd94-1875-4fd2-bc72-9f362aa2f405",
   "metadata": {},
   "outputs": [
    {
     "data": {
      "text/plain": [
       "Databases dictionary with 5 object(s):\n",
       "\t2022\n",
       "\tbiosphere3\n",
       "\tecoinvent_image_SSP2-Base_2040\n",
       "\tei 3.8 cutoff\n",
       "\tenergy_moeschberg"
      ]
     },
     "execution_count": 77,
     "metadata": {},
     "output_type": "execute_result"
    }
   ],
   "source": [
    "bw.databases"
   ]
  },
  {
   "cell_type": "code",
   "execution_count": 78,
   "id": "2210b616-5d8f-45e8-8a4b-8e4cb17a167f",
   "metadata": {},
   "outputs": [],
   "source": [
    "foreground=bw.Database('energy_moeschberg')"
   ]
  },
  {
   "cell_type": "code",
   "execution_count": 79,
   "id": "b7d2d0e3-6096-4897-9eae-0dfd9548e886",
   "metadata": {},
   "outputs": [
    {
     "data": {
      "text/plain": [
       "'energy demand, operational, Hotel Moeschberg' (unit, CH, None)"
      ]
     },
     "execution_count": 79,
     "metadata": {},
     "output_type": "execute_result"
    }
   ],
   "source": [
    "fu=[act for act in foreground if 'opera' in act['name']][0]\n",
    "fu"
   ]
  },
  {
   "cell_type": "code",
   "execution_count": 80,
   "id": "034935f2-ef1a-43f4-a881-8313a2665181",
   "metadata": {},
   "outputs": [
    {
     "data": {
      "text/plain": [
       "['electricity supply, Hotel Moeschberg, 2021' (kilowatt hour, CH, None),\n",
       " 'heat supply, Hotel Moeschberg, 2021' (megajoule, CH, None),\n",
       " 'energy demand, operational, Hotel Moeschberg' (unit, CH, None),\n",
       " 'electricity supply, Energie Grosshoechstetten AG, 2021, guarantees of origin' (kilowatt hour, CH, None),\n",
       " 'electricity, subsidised, 2021' (kilowatt hour, CH, None)]"
      ]
     },
     "execution_count": 80,
     "metadata": {},
     "output_type": "execute_result"
    }
   ],
   "source": [
    "[act for act in foreground if '' in act['name']]"
   ]
  },
  {
   "cell_type": "code",
   "execution_count": 81,
   "id": "d366d5a7-25f5-4976-8c8d-a0c9fa3422b8",
   "metadata": {},
   "outputs": [],
   "source": [
    "ipcc=('IPCC 2013', 'climate change', 'GWP 100a')"
   ]
  },
  {
   "cell_type": "code",
   "execution_count": 82,
   "id": "82569bd7-2a3e-464e-818a-88c164c8eee5",
   "metadata": {},
   "outputs": [
    {
     "data": {
      "text/plain": [
       "9310.091231235312"
      ]
     },
     "execution_count": 82,
     "metadata": {},
     "output_type": "execute_result"
    }
   ],
   "source": [
    "lca=bw.LCA({fu:1},ipcc)\n",
    "lca.lci()\n",
    "lca.lcia()\n",
    "lca.score"
   ]
  },
  {
   "cell_type": "code",
   "execution_count": 83,
   "id": "93fdbf95-6f78-480b-888a-53260a01a094",
   "metadata": {},
   "outputs": [],
   "source": [
    "import bw2analyzer as ba"
   ]
  },
  {
   "cell_type": "code",
   "execution_count": 54,
   "id": "17801f5b-a444-43c4-9153-3ef932e950f9",
   "metadata": {},
   "outputs": [
    {
     "name": "stdout",
     "output_type": "stream",
     "text": [
      "1: 'energy demand, operational, Hotel Moeschberg' (unit, CH, None)\n",
      "  3.22e+04: 'electricity supply, Hotel Moeschberg, 2021' (kilowatt hour, CH, None)\n",
      "    1.8e+04: 'electricity supply, Energie Grosshoechstetten AG, 2021, guarantees of\n",
      "    1.42e+04: 'electricity production, photovoltaic, 3kWp slanted-roof installation,\n",
      "  6.55e+05: 'heat supply, Hotel Moeschberg, 2021' (megajoule, CH, None)\n",
      "    3.06e+03: 'operation, solar collector system, Cu flat plate collector, one-famil\n",
      "    6.52e+05: 'heat production, wood pellet, at furnace 25kW, state-of-the-art 2014'\n"
     ]
    }
   ],
   "source": [
    "ba.print_recursive_supply_chain(fu)"
   ]
  },
  {
   "cell_type": "code",
   "execution_count": 56,
   "id": "0b2ef76c-621b-4229-9fc1-837d7b34fd99",
   "metadata": {},
   "outputs": [
    {
     "name": "stdout",
     "output_type": "stream",
     "text": [
      "Fraction of score | Absolute score | Amount | Activity\n",
      "0001 |  9310 |     1 | 'energy demand, operational, Hotel Moeschberg' (unit, CH, None)\n",
      "  0.132 |  1225 | 3.218e+04 | 'electricity supply, Hotel Moeschberg, 2021' (kilowatt hour, CH, None)\n",
      "    0.0163 | 151.5 | 1.8e+04 | 'electricity supply, Energie Grosshoechstetten AG, 2021, guarantees of\n",
      "      0.00627 | 58.36 | 1.633e+04 | 'electricity production, hydro, run-of-river' (kilowatt hour, CH, None\n",
      "      0.00381 | 35.43 |   468 | 'electricity production, photovoltaic, 3kWp slanted-roof installation,\n",
      "      0.0062 | 57.73 |  1206 | 'electricity, subsidised, 2021' (kilowatt hour, CH, None)\n",
      "    0.115 |  1073 | 1.418e+04 | 'electricity production, photovoltaic, 3kWp slanted-roof installation,\n",
      "      0.115 |  1073 | 0.1642 | 'photovoltaic slanted-roof installation, 3kWp, multi-Si, panel, mounte\n",
      "  0.868 |  8085 | 6.555e+05 | 'heat supply, Hotel Moeschberg, 2021' (megajoule, CH, None)\n",
      "    0.00283 | 26.33 |  3060 | 'operation, solar collector system, Cu flat plate collector, one-famil\n",
      "      0.000247 | 2.301 | 51.14 | 'market for electricity, low voltage' (kilowatt hour, CH, None)\n",
      "      0.00258 | 24.03 | 0.01576 | 'solar collector system installation, Cu flat plate collector, one-fam\n",
      "    0.866 |  8059 | 6.524e+05 | 'heat production, wood pellet, at furnace 25kW, state-of-the-art 2014'\n",
      "      0.000234 | 2.177 | -194.1 | 'market for wood ash mixture, pure' (kilogram, CH, None)\n",
      "      0.707 |  6580 | 4.352e+04 | 'market for wood pellet, measured as dry mass' (kilogram, RER, None)\n",
      "      0.0164 |   153 |  3401 | 'market for electricity, low voltage' (kilowatt hour, CH, None)\n",
      "      0.0418 | 388.8 | 0.2265 | 'furnace production, pellets, 25kW' (unit, CH, None)\n"
     ]
    }
   ],
   "source": [
    "ba.print_recursive_calculation(fu,ipcc,cutoff=1e-5,max_level=3)"
   ]
  },
  {
   "cell_type": "code",
   "execution_count": 58,
   "id": "a994276a-48ec-4d18-b2d9-3bbc7b529384",
   "metadata": {},
   "outputs": [],
   "source": [
    "def parent(df):\n",
    "    parent=[]\n",
    "    for i in df.index:    \n",
    "        if df.at[i,'Niveau']==0:\n",
    "            parent.append('')\n",
    "        elif df.at[i,'Niveau']==1:\n",
    "            y=i\n",
    "            while df.at[y,'Niveau']!=0:\n",
    "                y=y-1\n",
    "            parent.append(df.at[y,'Activities'])\n",
    "        elif df.at[i,'Niveau']==3:\n",
    "            y=i\n",
    "            while df.at[y,'Niveau']!=2:\n",
    "                y=y-1\n",
    "            parent.append(df.at[y,'Activities'])\n",
    "        elif df.at[i,'Niveau']==2:\n",
    "            y=i\n",
    "            while df.at[y,'Niveau']!=1:\n",
    "                y=y-1\n",
    "            parent.append(df.at[y,'Activities'])\n",
    "    df['Parent']=parent\n",
    "    return df\n",
    "\n",
    "def LCA_treemap(names, values, niveau, activity, lcia_method, lca_obj=None, total_score=None, amount=1, level=0, max_level=3, cutoff=1e-2):\n",
    "    \n",
    "    if lca_obj is None:\n",
    "        lca_obj = bc.LCA({activity: amount}, lcia_method)\n",
    "        lca_obj.lci()\n",
    "        lca_obj.lcia()\n",
    "        total_score = lca_obj.score\n",
    "    elif total_score is None:\n",
    "        raise ValueError\n",
    "    else:\n",
    "        lca_obj.redo_lcia({activity: amount})\n",
    "        if abs(lca_obj.score) >= abs(total_score * cutoff):\n",
    "            names.append(activity[\"name\"])    \n",
    "            values.append(lca_obj.score/total_score*100)\n",
    "            niveau.append(level)\n",
    "    if level < max_level:\n",
    "        for exc in activity.technosphere(): \n",
    "            LCA_treemap(\n",
    "                names=names,\n",
    "                values=values,\n",
    "                niveau=niveau,\n",
    "                activity=exc.input, \n",
    "                lcia_method=lcia_method, \n",
    "                lca_obj=lca_obj, \n",
    "                total_score=total_score, \n",
    "                amount=amount * exc['amount'], \n",
    "                level=level + 1, \n",
    "                max_level=max_level, \n",
    "                cutoff=cutoff\n",
    "            )      \n",
    "   \n",
    "    return  parent(pd.DataFrame({'Activities':names,'Niveau':niveau,'Values':values}))\n",
    "\n",
    "def LCA_plot_treemap(df):\n",
    "    composants=[]\n",
    "    ss_composants=[]\n",
    "    ss_ss_composants=[]\n",
    "    values=[]\n",
    "    for i in df.index:\n",
    "        if df.at[i,\"Niveau\"]==3:\n",
    "            values.append(df.at[i,'Values'])\n",
    "            ss_ss_composants.append(df.at[i,'Activities'])\n",
    "            ss_composants.append(df.at[i,'Parent'])\n",
    "            y=i\n",
    "            while df.at[y,'Activities']!=df.at[i,'Parent']:\n",
    "                y=y-1\n",
    "            composants.append(df.at[y,'Parent'])\n",
    "    return pd.DataFrame({'Composants':composants,'Sous composants':ss_composants,'Sous sous composants':ss_ss_composants,'Values':values})"
   ]
  },
  {
   "cell_type": "code",
   "execution_count": null,
   "id": "b15ec6ae-c331-4f40-b5d4-68e169d4b331",
   "metadata": {},
   "outputs": [],
   "source": [
    "if True:\n",
    "    names,values,niveau=['Eng demand'], [100], [0]\n",
    "    df_Treemap=LCA_treemap(names,values,niveau,fu,ipcc,amount=1, level=0, max_level=3,cutoff=.001)\n",
    "    Treemap=LCA_plot_treemap(df_Treemap)\n",
    "    fig = px.treemap(Treemap, path=[px.Constant('Eng demand'),'Composants', 'Sous composants', 'Sous sous composants'],values='Values',width=1000, height=600,\n",
    "                  color='Values',\n",
    "                  color_continuous_scale='reds')\n",
    "    fig.update_layout(margin = dict(t=50, l=25, r=25, b=25))\n",
    "    fig.update_traces(hovertemplate=None, hoverinfo='value')\n",
    "    fig.show()\n",
    "    fig.write_html(\"./data/outputs/LCA_Contribution_Treemap.htm\")"
   ]
  },
  {
   "cell_type": "code",
   "execution_count": 84,
   "id": "dfc6a70a-d2a3-4927-8833-1513e3de92d1",
   "metadata": {},
   "outputs": [],
   "source": [
    "import pandas as pd\n",
    "def fraction_scoreLCA(name_activity, share_of_activity, activity, lcia_method, lca_obj=None, total_score=None, amount=1, level=0, max_level=3, cutoff=1e-2):\n",
    "    \n",
    "    if lca_obj is None:\n",
    "        lca_obj = bc.LCA({activity: amount}, lcia_method)\n",
    "        lca_obj.lci()\n",
    "        lca_obj.lcia()\n",
    "        total_score = lca_obj.score\n",
    "    elif total_score is None:\n",
    "        raise ValueError\n",
    "    else:\n",
    "        lca_obj.redo_lcia({activity: amount})\n",
    "        if abs(lca_obj.score) >= abs(total_score * cutoff):\n",
    "            name_activity.append(activity[\"name\"])    \n",
    "            share_of_activity.append(lca_obj.score/total_score*100)    \n",
    "    \n",
    "    if level < max_level:\n",
    "        for exc in activity.technosphere(): \n",
    "            fraction_scoreLCA(\n",
    "                name_activity=name_activity,\n",
    "                share_of_activity=share_of_activity,\n",
    "                activity=exc.input, \n",
    "                lcia_method=lcia_method, \n",
    "                lca_obj=lca_obj, \n",
    "                total_score=total_score, \n",
    "                amount=amount * exc['amount'], \n",
    "                level=level + 1, \n",
    "                max_level=max_level, \n",
    "                cutoff=cutoff\n",
    "            )      \n",
    "    return name_activity, share_of_activity\n"
   ]
  },
  {
   "cell_type": "code",
   "execution_count": 92,
   "id": "32d755c5-fb86-4079-8098-8d7e44421b9d",
   "metadata": {},
   "outputs": [],
   "source": [
    "name_CC, share_CC =[], []\n",
    "name_CC,share_CC=fraction_scoreLCA(name_CC, share_CC,fu,ipcc,amount=1, level=0, max_level=1,cutoff=.01)\n",
    "#attention si \\delta_level>1 c'est le bazar : les parts affichés dépendront des levels où se situent les process(batt cell pro > cathod prod > LiCoO prod)\n"
   ]
  },
  {
   "cell_type": "code",
   "execution_count": 117,
   "id": "2c10bac3-d8f1-4ce9-84c5-7a2e15cb74dd",
   "metadata": {},
   "outputs": [
    {
     "ename": "ValueError",
     "evalue": "Length mismatch: Expected axis has 1 elements, new values have 3 elements",
     "output_type": "error",
     "traceback": [
      "\u001b[0;31m---------------------------------------------------------------------------\u001b[0m",
      "\u001b[0;31mValueError\u001b[0m                                Traceback (most recent call last)",
      "Cell \u001b[0;32mIn [117], line 2\u001b[0m\n\u001b[1;32m      1\u001b[0m res_CC\u001b[38;5;241m=\u001b[39mpd\u001b[38;5;241m.\u001b[39mDataFrame(columns\u001b[38;5;241m=\u001b[39mname_CC,data\u001b[38;5;241m=\u001b[39mnp\u001b[38;5;241m.\u001b[39marray(share_CC)[np\u001b[38;5;241m.\u001b[39mnewaxis])\u001b[38;5;241m.\u001b[39msort_index(axis\u001b[38;5;241m=\u001b[39m\u001b[38;5;241m1\u001b[39m) \u001b[38;5;66;03m#newaxis oermet de transformer un vecteur ligne en colonne\u001b[39;00m\n\u001b[0;32m----> 2\u001b[0m res_CC\u001b[38;5;241m.\u001b[39mindex\u001b[38;5;241m=\u001b[39mipcc\n",
      "File \u001b[0;32m/opt/tljh/user/envs/bw/lib/python3.10/site-packages/pandas/core/generic.py:5920\u001b[0m, in \u001b[0;36mNDFrame.__setattr__\u001b[0;34m(self, name, value)\u001b[0m\n\u001b[1;32m   5918\u001b[0m \u001b[38;5;28;01mtry\u001b[39;00m:\n\u001b[1;32m   5919\u001b[0m     \u001b[38;5;28mobject\u001b[39m\u001b[38;5;241m.\u001b[39m\u001b[38;5;21m__getattribute__\u001b[39m(\u001b[38;5;28mself\u001b[39m, name)\n\u001b[0;32m-> 5920\u001b[0m     \u001b[38;5;28;01mreturn\u001b[39;00m \u001b[38;5;28;43mobject\u001b[39;49m\u001b[38;5;241;43m.\u001b[39;49m\u001b[38;5;21;43m__setattr__\u001b[39;49m\u001b[43m(\u001b[49m\u001b[38;5;28;43mself\u001b[39;49m\u001b[43m,\u001b[49m\u001b[43m \u001b[49m\u001b[43mname\u001b[49m\u001b[43m,\u001b[49m\u001b[43m \u001b[49m\u001b[43mvalue\u001b[49m\u001b[43m)\u001b[49m\n\u001b[1;32m   5921\u001b[0m \u001b[38;5;28;01mexcept\u001b[39;00m \u001b[38;5;167;01mAttributeError\u001b[39;00m:\n\u001b[1;32m   5922\u001b[0m     \u001b[38;5;28;01mpass\u001b[39;00m\n",
      "File \u001b[0;32m/opt/tljh/user/envs/bw/lib/python3.10/site-packages/pandas/_libs/properties.pyx:69\u001b[0m, in \u001b[0;36mpandas._libs.properties.AxisProperty.__set__\u001b[0;34m()\u001b[0m\n",
      "File \u001b[0;32m/opt/tljh/user/envs/bw/lib/python3.10/site-packages/pandas/core/generic.py:822\u001b[0m, in \u001b[0;36mNDFrame._set_axis\u001b[0;34m(self, axis, labels)\u001b[0m\n\u001b[1;32m    820\u001b[0m \u001b[38;5;28;01mdef\u001b[39;00m \u001b[38;5;21m_set_axis\u001b[39m(\u001b[38;5;28mself\u001b[39m, axis: \u001b[38;5;28mint\u001b[39m, labels: AnyArrayLike \u001b[38;5;241m|\u001b[39m \u001b[38;5;28mlist\u001b[39m) \u001b[38;5;241m-\u001b[39m\u001b[38;5;241m>\u001b[39m \u001b[38;5;28;01mNone\u001b[39;00m:\n\u001b[1;32m    821\u001b[0m     labels \u001b[38;5;241m=\u001b[39m ensure_index(labels)\n\u001b[0;32m--> 822\u001b[0m     \u001b[38;5;28;43mself\u001b[39;49m\u001b[38;5;241;43m.\u001b[39;49m\u001b[43m_mgr\u001b[49m\u001b[38;5;241;43m.\u001b[39;49m\u001b[43mset_axis\u001b[49m\u001b[43m(\u001b[49m\u001b[43maxis\u001b[49m\u001b[43m,\u001b[49m\u001b[43m \u001b[49m\u001b[43mlabels\u001b[49m\u001b[43m)\u001b[49m\n\u001b[1;32m    823\u001b[0m     \u001b[38;5;28mself\u001b[39m\u001b[38;5;241m.\u001b[39m_clear_item_cache()\n",
      "File \u001b[0;32m/opt/tljh/user/envs/bw/lib/python3.10/site-packages/pandas/core/internals/managers.py:228\u001b[0m, in \u001b[0;36mBaseBlockManager.set_axis\u001b[0;34m(self, axis, new_labels)\u001b[0m\n\u001b[1;32m    226\u001b[0m \u001b[38;5;28;01mdef\u001b[39;00m \u001b[38;5;21mset_axis\u001b[39m(\u001b[38;5;28mself\u001b[39m, axis: \u001b[38;5;28mint\u001b[39m, new_labels: Index) \u001b[38;5;241m-\u001b[39m\u001b[38;5;241m>\u001b[39m \u001b[38;5;28;01mNone\u001b[39;00m:\n\u001b[1;32m    227\u001b[0m     \u001b[38;5;66;03m# Caller is responsible for ensuring we have an Index object.\u001b[39;00m\n\u001b[0;32m--> 228\u001b[0m     \u001b[38;5;28;43mself\u001b[39;49m\u001b[38;5;241;43m.\u001b[39;49m\u001b[43m_validate_set_axis\u001b[49m\u001b[43m(\u001b[49m\u001b[43maxis\u001b[49m\u001b[43m,\u001b[49m\u001b[43m \u001b[49m\u001b[43mnew_labels\u001b[49m\u001b[43m)\u001b[49m\n\u001b[1;32m    229\u001b[0m     \u001b[38;5;28mself\u001b[39m\u001b[38;5;241m.\u001b[39maxes[axis] \u001b[38;5;241m=\u001b[39m new_labels\n",
      "File \u001b[0;32m/opt/tljh/user/envs/bw/lib/python3.10/site-packages/pandas/core/internals/base.py:70\u001b[0m, in \u001b[0;36mDataManager._validate_set_axis\u001b[0;34m(self, axis, new_labels)\u001b[0m\n\u001b[1;32m     67\u001b[0m     \u001b[38;5;28;01mpass\u001b[39;00m\n\u001b[1;32m     69\u001b[0m \u001b[38;5;28;01melif\u001b[39;00m new_len \u001b[38;5;241m!=\u001b[39m old_len:\n\u001b[0;32m---> 70\u001b[0m     \u001b[38;5;28;01mraise\u001b[39;00m \u001b[38;5;167;01mValueError\u001b[39;00m(\n\u001b[1;32m     71\u001b[0m         \u001b[38;5;124mf\u001b[39m\u001b[38;5;124m\"\u001b[39m\u001b[38;5;124mLength mismatch: Expected axis has \u001b[39m\u001b[38;5;132;01m{\u001b[39;00mold_len\u001b[38;5;132;01m}\u001b[39;00m\u001b[38;5;124m elements, new \u001b[39m\u001b[38;5;124m\"\u001b[39m\n\u001b[1;32m     72\u001b[0m         \u001b[38;5;124mf\u001b[39m\u001b[38;5;124m\"\u001b[39m\u001b[38;5;124mvalues have \u001b[39m\u001b[38;5;132;01m{\u001b[39;00mnew_len\u001b[38;5;132;01m}\u001b[39;00m\u001b[38;5;124m elements\u001b[39m\u001b[38;5;124m\"\u001b[39m\n\u001b[1;32m     73\u001b[0m     )\n",
      "\u001b[0;31mValueError\u001b[0m: Length mismatch: Expected axis has 1 elements, new values have 3 elements"
     ]
    }
   ],
   "source": [
    "res_CC=pd.DataFrame(columns=name_CC,data=np.array(share_CC)[np.newaxis]).sort_index(axis=1) #newaxis oermet de transformer un vecteur ligne en colonne\n",
    "res_CC.index=str(ipcc)"
   ]
  },
  {
   "cell_type": "code",
   "execution_count": 116,
   "id": "68f8a108-8f27-431f-8597-5ed37514df2f",
   "metadata": {},
   "outputs": [
    {
     "data": {
      "image/png": "[encoded data removed]",
      "text/plain": [
       "<Figure size 600x600 with 1 Axes>"
      ]
     },
     "metadata": {},
     "output_type": "display_data"
    }
   ],
   "source": [
    "import matplotlib.pyplot as plt\n",
    "figure,axes=plt.subplots(figsize=(6,6))\n",
    "res_CC.T.plot(kind='pie',ax=axes,subplots=True,autopct='%1.0f%%',startangle = 90, labeldistance=0,legend=True)\n",
    "plt.axis('equal')\n",
    "figure.patch.set_facecolor('white')\n"
   ]
  },
  {
   "cell_type": "code",
   "execution_count": null,
   "id": "547b8c0a-66ed-4a7e-a381-f0aecc52f78c",
   "metadata": {},
   "outputs": [],
   "source": []
  }
 ],
 "metadata": {
  "kernelspec": {
   "display_name": "Python [conda env:bw]",
   "language": "python",
   "name": "conda-env-bw-py"
  },
  "language_info": {
   "codemirror_mode": {
    "name": "ipython",
    "version": 3
   },
   "file_extension": ".py",
   "mimetype": "text/x-python",
   "name": "python",
   "nbconvert_exporter": "python",
   "pygments_lexer": "ipython3",
   "version": "3.10.6"
  }
 },
 "nbformat": 4,
 "nbformat_minor": 5
}
